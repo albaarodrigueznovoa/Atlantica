{
 "cells": [
  {
   "cell_type": "markdown",
   "id": "edd77778-565e-42b4-80cb-094ef484e508",
   "metadata": {},
   "source": [
    "## The notebook for plotting values and locations of interest on an interective map\n",
    "\n",
    "The queries that can be answered using an adapted version of the following code include but are not limited to:\n",
    "* Plot as dots on a spatial map all *'Site'* locations which have *'Provenance'* == **Africa** and are dated between **150-200**;\n",
    "* Show the summed *'Frequency'* for this period as the size/colour of the dot;\n",
    "* Determine for each *'Year'* the *'Sites'* on which there is evidence of an *'Amphora type'* with a certain *'Provenance'*;\n",
    "* Scale dot size/colour with the count of amphora types at a *'Site'*."
   ]
  },
  {
   "cell_type": "markdown",
   "id": "9ba95322-259f-4936-b358-070f6924544f",
   "metadata": {},
   "source": [
    "### 1. Import packages\n",
    "**Note**: Rememeber to always import functions from `functions.py` file\n",
    "\n",
    "If the packages from the `requirements.txt` are **absent**, they can be installed via `!pip` command\n",
    "\n",
    "One needs to do it only once. Example of installation is given below. The lines are commented with `#` symbol \n",
    "\n",
    "Run the cell where the packages are imported'. If an error of type `'no module named... is found'` occurs:\n",
    "\n",
    "1.  delete `#` before the corresponding package name; \n",
    "2.  run the cell."
   ]
  },
  {
   "cell_type": "code",
   "execution_count": null,
   "id": "a4c982af",
   "metadata": {},
   "outputs": [],
   "source": [
    "# !pip install pandas\n",
    "# !pip install seaborn\n",
    "# !pip install matplotlib\n",
    "# !pip install numpy\n",
    "# !pip install regex\n",
    "# !pip install geopandas\n",
    "# !pip install kaleido\n",
    "# !pip install plotly\n",
    "# !pip install pyproj"
   ]
  },
  {
   "cell_type": "code",
   "execution_count": 1,
   "id": "4527db31-e6df-4499-a30a-bf7b3cefb4c4",
   "metadata": {
    "execution": {
     "iopub.execute_input": "2021-12-23T13:50:40.329000Z",
     "iopub.status.busy": "2021-12-23T13:50:40.328551Z",
     "iopub.status.idle": "2021-12-23T13:50:41.384937Z",
     "shell.execute_reply": "2021-12-23T13:50:41.384335Z",
     "shell.execute_reply.started": "2021-12-23T13:50:40.328964Z"
    },
    "tags": []
   },
   "outputs": [],
   "source": [
    "import pandas as pd\n",
    "import seaborn as sns\n",
    "import matplotlib.pyplot as plt\n",
    "import numpy as np\n",
    "from matplotlib import cm\n",
    "import regex as re\n",
    "import geopandas\n",
    "import kaleido\n",
    "import plotly\n",
    "import plotly.express as px\n",
    "import plotly.io as pio\n",
    "import pyproj\n",
    "sns.set()\n",
    "import sys\n",
    "sys.path.append(\"../src\")\n",
    "from functions import preprocess, freq_per_year, propor_to_map_range   # module with all functions used for the task"
   ]
  },
  {
   "cell_type": "markdown",
   "id": "2c0c858c-0534-42e6-ac48-8efa4077f441",
   "metadata": {},
   "source": [
    "### 2. Load data into pandas dataframe\n",
    "With `usecols = []`  one specifies which columns from a csv file to load (optional)"
   ]
  },
  {
   "cell_type": "code",
   "execution_count": 2,
   "id": "7430e85c-28be-413a-9be7-3c48385495d2",
   "metadata": {
    "execution": {
     "iopub.execute_input": "2021-12-23T13:50:44.493728Z",
     "iopub.status.busy": "2021-12-23T13:50:44.493367Z",
     "iopub.status.idle": "2021-12-23T13:50:44.558831Z",
     "shell.execute_reply": "2021-12-23T13:50:44.557843Z",
     "shell.execute_reply.started": "2021-12-23T13:50:44.493710Z"
    },
    "tags": []
   },
   "outputs": [],
   "source": [
    "df = pd.read_csv('SonataDataNewNew.csv', usecols = [\n",
    "                                             'Amphora_type', \n",
    "                                             'Amphora_type_upper_date', \n",
    "                                             'Amphora_type_lower_date', \n",
    "                                             'Site', \n",
    "                                             'Provenance', \n",
    "                                             'Frequency', \n",
    "                                             'Longitude', \n",
    "                                             'Latitude'\n",
    "                                             ])"
   ]
  },
  {
   "cell_type": "markdown",
   "id": "c9c0a4bf-0218-48e1-9ffe-1f23e62e3ae0",
   "metadata": {},
   "source": [
    "### 3. Prepare data"
   ]
  },
  {
   "cell_type": "markdown",
   "id": "238c730d-06f2-439a-818c-8d74789618bc",
   "metadata": {},
   "source": [
    "#### 3.1 Check in which columns numeric values are of an object type\n",
    "#### 3.2 If found, convert objects into numeric values (float) \n",
    "This is essential for performing math operations with these variables"
   ]
  },
  {
   "cell_type": "code",
   "execution_count": 3,
   "id": "e6e71937-a038-4d07-befb-cc5084337129",
   "metadata": {
    "execution": {
     "iopub.execute_input": "2021-12-23T13:50:45.821355Z",
     "iopub.status.busy": "2021-12-23T13:50:45.820887Z",
     "iopub.status.idle": "2021-12-23T13:50:45.838282Z",
     "shell.execute_reply": "2021-12-23T13:50:45.837823Z",
     "shell.execute_reply.started": "2021-12-23T13:50:45.821321Z"
    },
    "tags": []
   },
   "outputs": [
    {
     "name": "stdout",
     "output_type": "stream",
     "text": [
      "<class 'pandas.core.frame.DataFrame'>\n",
      "RangeIndex: 1707 entries, 0 to 1706\n",
      "Data columns (total 8 columns):\n",
      " #   Column                   Non-Null Count  Dtype  \n",
      "---  ------                   --------------  -----  \n",
      " 0   Site                     1707 non-null   object \n",
      " 1   Amphora_type             1707 non-null   object \n",
      " 2   Provenance               1703 non-null   object \n",
      " 3   Frequency                1705 non-null   float64\n",
      " 4   Amphora_type_lower_date  1701 non-null   object \n",
      " 5   Amphora_type_upper_date  1696 non-null   object \n",
      " 6   Latitude                 1707 non-null   float64\n",
      " 7   Longitude                1707 non-null   object \n",
      "dtypes: float64(2), object(6)\n",
      "memory usage: 106.8+ KB\n"
     ]
    }
   ],
   "source": [
    "df.info()"
   ]
  },
  {
   "cell_type": "code",
   "execution_count": 3,
   "id": "87789971-d505-4510-92d4-2a86603a5e99",
   "metadata": {
    "execution": {
     "iopub.execute_input": "2021-12-23T13:50:46.368734Z",
     "iopub.status.busy": "2021-12-23T13:50:46.368172Z",
     "iopub.status.idle": "2021-12-23T13:50:46.383479Z",
     "shell.execute_reply": "2021-12-23T13:50:46.382830Z",
     "shell.execute_reply.started": "2021-12-23T13:50:46.368693Z"
    },
    "tags": []
   },
   "outputs": [],
   "source": [
    "# Invalid parsing will be set as NaN\n",
    "df['Amphora_type_upper_date'] = pd.to_numeric(df['Amphora_type_upper_date'], errors='coerce') \n",
    "df['Amphora_type_lower_date'] = pd.to_numeric(df['Amphora_type_lower_date'], errors='coerce') \n",
    "df['Longitude'] = pd.to_numeric(df['Longitude'], errors='coerce')"
   ]
  },
  {
   "cell_type": "markdown",
   "id": "cf5c430e-cc48-414d-ba6d-104d74b2a3c7",
   "metadata": {},
   "source": [
    "#### 3.3 Clean text data (from punctuation, double spaces) and lowercase\n",
    "This is done in order to avoid inconsistency in object names, etc. Thus, to avoid errors while counting"
   ]
  },
  {
   "cell_type": "code",
   "execution_count": 4,
   "id": "e72a8960-3595-4f7e-af92-de812d3c4752",
   "metadata": {
    "execution": {
     "iopub.execute_input": "2021-12-23T13:50:47.653168Z",
     "iopub.status.busy": "2021-12-23T13:50:47.652778Z",
     "iopub.status.idle": "2021-12-23T13:50:47.670356Z",
     "shell.execute_reply": "2021-12-23T13:50:47.669876Z",
     "shell.execute_reply.started": "2021-12-23T13:50:47.653142Z"
    },
    "tags": []
   },
   "outputs": [
    {
     "data": {
      "text/html": [
       "<div>\n",
       "<style scoped>\n",
       "    .dataframe tbody tr th:only-of-type {\n",
       "        vertical-align: middle;\n",
       "    }\n",
       "\n",
       "    .dataframe tbody tr th {\n",
       "        vertical-align: top;\n",
       "    }\n",
       "\n",
       "    .dataframe thead th {\n",
       "        text-align: right;\n",
       "    }\n",
       "</style>\n",
       "<table border=\"1\" class=\"dataframe\">\n",
       "  <thead>\n",
       "    <tr style=\"text-align: right;\">\n",
       "      <th></th>\n",
       "      <th>Site</th>\n",
       "      <th>Amphora_type</th>\n",
       "      <th>Provenance</th>\n",
       "      <th>Frequency</th>\n",
       "      <th>Amphora_type_lower_date</th>\n",
       "      <th>Amphora_type_upper_date</th>\n",
       "      <th>Latitude</th>\n",
       "      <th>Longitude</th>\n",
       "    </tr>\n",
       "  </thead>\n",
       "  <tbody>\n",
       "    <tr>\n",
       "      <th>0</th>\n",
       "      <td>acqui terme</td>\n",
       "      <td>Dr 6A</td>\n",
       "      <td>adriatic italy</td>\n",
       "      <td>3.0</td>\n",
       "      <td>-25.0</td>\n",
       "      <td>50.0</td>\n",
       "      <td>44.675532</td>\n",
       "      <td>8.470658</td>\n",
       "    </tr>\n",
       "    <tr>\n",
       "      <th>1</th>\n",
       "      <td>acqui terme</td>\n",
       "      <td>Dr 6B</td>\n",
       "      <td>adriatic italy</td>\n",
       "      <td>7.0</td>\n",
       "      <td>1.0</td>\n",
       "      <td>150.0</td>\n",
       "      <td>44.675532</td>\n",
       "      <td>8.470658</td>\n",
       "    </tr>\n",
       "    <tr>\n",
       "      <th>2</th>\n",
       "      <td>acqui terme</td>\n",
       "      <td>Dr 7-13</td>\n",
       "      <td>baetica</td>\n",
       "      <td>26.0</td>\n",
       "      <td>-30.0</td>\n",
       "      <td>150.0</td>\n",
       "      <td>44.675532</td>\n",
       "      <td>8.470658</td>\n",
       "    </tr>\n",
       "    <tr>\n",
       "      <th>3</th>\n",
       "      <td>acqui terme</td>\n",
       "      <td>Haltern 70</td>\n",
       "      <td>baetica</td>\n",
       "      <td>1.0</td>\n",
       "      <td>-80.0</td>\n",
       "      <td>192.0</td>\n",
       "      <td>44.675532</td>\n",
       "      <td>8.470658</td>\n",
       "    </tr>\n",
       "    <tr>\n",
       "      <th>4</th>\n",
       "      <td>acqui terme</td>\n",
       "      <td>Dr 2-4_5</td>\n",
       "      <td>tyrrhenian italy</td>\n",
       "      <td>4.0</td>\n",
       "      <td>-70.0</td>\n",
       "      <td>225.0</td>\n",
       "      <td>44.675532</td>\n",
       "      <td>8.470658</td>\n",
       "    </tr>\n",
       "  </tbody>\n",
       "</table>\n",
       "</div>"
      ],
      "text/plain": [
       "          Site Amphora_type        Provenance  Frequency  \\\n",
       "0  acqui terme        Dr 6A    adriatic italy        3.0   \n",
       "1  acqui terme        Dr 6B    adriatic italy        7.0   \n",
       "2  acqui terme      Dr 7-13           baetica       26.0   \n",
       "3  acqui terme   Haltern 70           baetica        1.0   \n",
       "4  acqui terme     Dr 2-4_5  tyrrhenian italy        4.0   \n",
       "\n",
       "   Amphora_type_lower_date  Amphora_type_upper_date   Latitude  Longitude  \n",
       "0                    -25.0                     50.0  44.675532   8.470658  \n",
       "1                      1.0                    150.0  44.675532   8.470658  \n",
       "2                    -30.0                    150.0  44.675532   8.470658  \n",
       "3                    -80.0                    192.0  44.675532   8.470658  \n",
       "4                    -70.0                    225.0  44.675532   8.470658  "
      ]
     },
     "execution_count": 4,
     "metadata": {},
     "output_type": "execute_result"
    }
   ],
   "source": [
    "df['Site'] = preprocess(df['Site'])\n",
    "df['Provenance'] = preprocess(df['Provenance'])\n",
    "df.head()"
   ]
  },
  {
   "cell_type": "markdown",
   "id": "62931aa8-54db-4e75-a68d-1fd219338f99",
   "metadata": {},
   "source": [
    "### 4. Create the dataframe which inlcudes *'Sites'* only for a certain *'Provenance'*"
   ]
  },
  {
   "cell_type": "code",
   "execution_count": 5,
   "id": "ca69b184-5522-4229-a16d-860457e21dc6",
   "metadata": {
    "execution": {
     "iopub.execute_input": "2021-12-23T13:50:50.033969Z",
     "iopub.status.busy": "2021-12-23T13:50:50.033585Z",
     "iopub.status.idle": "2021-12-23T13:50:50.057970Z",
     "shell.execute_reply": "2021-12-23T13:50:50.057552Z",
     "shell.execute_reply.started": "2021-12-23T13:50:50.033943Z"
    },
    "tags": []
   },
   "outputs": [
    {
     "data": {
      "text/html": [
       "<div>\n",
       "<style scoped>\n",
       "    .dataframe tbody tr th:only-of-type {\n",
       "        vertical-align: middle;\n",
       "    }\n",
       "\n",
       "    .dataframe tbody tr th {\n",
       "        vertical-align: top;\n",
       "    }\n",
       "\n",
       "    .dataframe thead th {\n",
       "        text-align: right;\n",
       "    }\n",
       "</style>\n",
       "<table border=\"1\" class=\"dataframe\">\n",
       "  <thead>\n",
       "    <tr style=\"text-align: right;\">\n",
       "      <th></th>\n",
       "      <th>Site</th>\n",
       "      <th>Amphora_type</th>\n",
       "      <th>Provenance</th>\n",
       "      <th>Frequency</th>\n",
       "      <th>Amphora_type_lower_date</th>\n",
       "      <th>Amphora_type_upper_date</th>\n",
       "      <th>Latitude</th>\n",
       "      <th>Longitude</th>\n",
       "    </tr>\n",
       "  </thead>\n",
       "  <tbody>\n",
       "    <tr>\n",
       "      <th>21</th>\n",
       "      <td>alba pompeia</td>\n",
       "      <td>AfricanaI</td>\n",
       "      <td>africa</td>\n",
       "      <td>12.0</td>\n",
       "      <td>150.0</td>\n",
       "      <td>400.0</td>\n",
       "      <td>44.700835</td>\n",
       "      <td>8.035244</td>\n",
       "    </tr>\n",
       "    <tr>\n",
       "      <th>68</th>\n",
       "      <td>altinum</td>\n",
       "      <td>Africana_3</td>\n",
       "      <td>africa</td>\n",
       "      <td>2.0</td>\n",
       "      <td>200.0</td>\n",
       "      <td>400.0</td>\n",
       "      <td>45.956108</td>\n",
       "      <td>18.683919</td>\n",
       "    </tr>\n",
       "    <tr>\n",
       "      <th>69</th>\n",
       "      <td>altinum</td>\n",
       "      <td>spatheia</td>\n",
       "      <td>africa</td>\n",
       "      <td>2.0</td>\n",
       "      <td>375.0</td>\n",
       "      <td>700.0</td>\n",
       "      <td>45.956108</td>\n",
       "      <td>18.683919</td>\n",
       "    </tr>\n",
       "    <tr>\n",
       "      <th>75</th>\n",
       "      <td>aquae statiellae, corso cavour, albergo bue rosso</td>\n",
       "      <td>AfricanaIIIB</td>\n",
       "      <td>africa</td>\n",
       "      <td>1.0</td>\n",
       "      <td>275.0</td>\n",
       "      <td>400.0</td>\n",
       "      <td>44.675532</td>\n",
       "      <td>8.470658</td>\n",
       "    </tr>\n",
       "    <tr>\n",
       "      <th>99</th>\n",
       "      <td>aquileia</td>\n",
       "      <td>Dr 2-4_1</td>\n",
       "      <td>africa</td>\n",
       "      <td>2.0</td>\n",
       "      <td>-25.0</td>\n",
       "      <td>100.0</td>\n",
       "      <td>45.768945</td>\n",
       "      <td>13.367774</td>\n",
       "    </tr>\n",
       "  </tbody>\n",
       "</table>\n",
       "</div>"
      ],
      "text/plain": [
       "                                                 Site  Amphora_type  \\\n",
       "21                                       alba pompeia     AfricanaI   \n",
       "68                                            altinum    Africana_3   \n",
       "69                                            altinum      spatheia   \n",
       "75  aquae statiellae, corso cavour, albergo bue rosso  AfricanaIIIB   \n",
       "99                                           aquileia      Dr 2-4_1   \n",
       "\n",
       "   Provenance  Frequency  Amphora_type_lower_date  Amphora_type_upper_date  \\\n",
       "21     africa       12.0                    150.0                    400.0   \n",
       "68     africa        2.0                    200.0                    400.0   \n",
       "69     africa        2.0                    375.0                    700.0   \n",
       "75     africa        1.0                    275.0                    400.0   \n",
       "99     africa        2.0                    -25.0                    100.0   \n",
       "\n",
       "     Latitude  Longitude  \n",
       "21  44.700835   8.035244  \n",
       "68  45.956108  18.683919  \n",
       "69  45.956108  18.683919  \n",
       "75  44.675532   8.470658  \n",
       "99  45.768945  13.367774  "
      ]
     },
     "execution_count": 5,
     "metadata": {},
     "output_type": "execute_result"
    }
   ],
   "source": [
    "Africa = df[df['Provenance'] == 'africa']\n",
    "Africa.head()"
   ]
  },
  {
   "cell_type": "markdown",
   "id": "11bc7b81-f980-43ba-8516-4441dc14c14e",
   "metadata": {
    "execution": {
     "iopub.execute_input": "2021-12-13T08:30:47.792170Z",
     "iopub.status.busy": "2021-12-13T08:30:47.791710Z",
     "iopub.status.idle": "2021-12-13T08:30:47.901038Z",
     "shell.execute_reply": "2021-12-13T08:30:47.899720Z",
     "shell.execute_reply.started": "2021-12-13T08:30:47.792122Z"
    },
    "tags": []
   },
   "source": [
    "### 5. Calculate *'Frequency'* per *'Year'* per *'Amphora type'*. Add the resulting values to the dataframe"
   ]
  },
  {
   "cell_type": "code",
   "execution_count": 9,
   "id": "d5bc1a72-96e5-43c7-bbcd-27ca153edc44",
   "metadata": {
    "execution": {
     "iopub.execute_input": "2021-12-23T13:50:51.317233Z",
     "iopub.status.busy": "2021-12-23T13:50:51.316799Z",
     "iopub.status.idle": "2021-12-23T13:50:51.462475Z",
     "shell.execute_reply": "2021-12-23T13:50:51.461877Z",
     "shell.execute_reply.started": "2021-12-23T13:50:51.317200Z"
    },
    "tags": []
   },
   "outputs": [
    {
     "name": "stderr",
     "output_type": "stream",
     "text": [
      "/home/kate/Documents/work/minerva/sonata/Sonata-Code/Sonata_data/../functions.py:77: SettingWithCopyWarning: \n",
      "A value is trying to be set on a copy of a slice from a DataFrame.\n",
      "Try using .loc[row_indexer,col_indexer] = value instead\n",
      "\n",
      "See the caveats in the documentation: https://pandas.pydata.org/pandas-docs/stable/user_guide/indexing.html#returning-a-view-versus-a-copy\n",
      "  data[freq_per_year] = data[freq] / (data[upper_date] - data[lower_date])\n"
     ]
    },
    {
     "data": {
      "text/html": [
       "<div>\n",
       "<style scoped>\n",
       "    .dataframe tbody tr th:only-of-type {\n",
       "        vertical-align: middle;\n",
       "    }\n",
       "\n",
       "    .dataframe tbody tr th {\n",
       "        vertical-align: top;\n",
       "    }\n",
       "\n",
       "    .dataframe thead th {\n",
       "        text-align: right;\n",
       "    }\n",
       "</style>\n",
       "<table border=\"1\" class=\"dataframe\">\n",
       "  <thead>\n",
       "    <tr style=\"text-align: right;\">\n",
       "      <th></th>\n",
       "      <th>Site</th>\n",
       "      <th>Amphora_type</th>\n",
       "      <th>Provenance</th>\n",
       "      <th>Frequency</th>\n",
       "      <th>Amphora_type_lower_date</th>\n",
       "      <th>Amphora_type_upper_date</th>\n",
       "      <th>Latitude</th>\n",
       "      <th>Longitude</th>\n",
       "      <th>Freq_per_year</th>\n",
       "    </tr>\n",
       "  </thead>\n",
       "  <tbody>\n",
       "    <tr>\n",
       "      <th>21</th>\n",
       "      <td>alba pompeia</td>\n",
       "      <td>AfricanaI</td>\n",
       "      <td>africa</td>\n",
       "      <td>12.0</td>\n",
       "      <td>150.0</td>\n",
       "      <td>400.0</td>\n",
       "      <td>44.700835</td>\n",
       "      <td>8.035244</td>\n",
       "      <td>0.048000</td>\n",
       "    </tr>\n",
       "    <tr>\n",
       "      <th>68</th>\n",
       "      <td>altinum</td>\n",
       "      <td>Africana_3</td>\n",
       "      <td>africa</td>\n",
       "      <td>2.0</td>\n",
       "      <td>200.0</td>\n",
       "      <td>400.0</td>\n",
       "      <td>45.956108</td>\n",
       "      <td>18.683919</td>\n",
       "      <td>0.010000</td>\n",
       "    </tr>\n",
       "    <tr>\n",
       "      <th>69</th>\n",
       "      <td>altinum</td>\n",
       "      <td>spatheia</td>\n",
       "      <td>africa</td>\n",
       "      <td>2.0</td>\n",
       "      <td>375.0</td>\n",
       "      <td>700.0</td>\n",
       "      <td>45.956108</td>\n",
       "      <td>18.683919</td>\n",
       "      <td>0.006154</td>\n",
       "    </tr>\n",
       "    <tr>\n",
       "      <th>75</th>\n",
       "      <td>aquae statiellae corso cavour albergo bue rosso</td>\n",
       "      <td>AfricanaIIIB</td>\n",
       "      <td>africa</td>\n",
       "      <td>1.0</td>\n",
       "      <td>275.0</td>\n",
       "      <td>400.0</td>\n",
       "      <td>44.675532</td>\n",
       "      <td>8.470658</td>\n",
       "      <td>0.008000</td>\n",
       "    </tr>\n",
       "    <tr>\n",
       "      <th>99</th>\n",
       "      <td>aquileia</td>\n",
       "      <td>Dr 2-4_1</td>\n",
       "      <td>africa</td>\n",
       "      <td>2.0</td>\n",
       "      <td>-25.0</td>\n",
       "      <td>100.0</td>\n",
       "      <td>45.768945</td>\n",
       "      <td>13.367774</td>\n",
       "      <td>0.016000</td>\n",
       "    </tr>\n",
       "  </tbody>\n",
       "</table>\n",
       "</div>"
      ],
      "text/plain": [
       "                                               Site  Amphora_type Provenance  \\\n",
       "21                                     alba pompeia     AfricanaI     africa   \n",
       "68                                          altinum    Africana_3     africa   \n",
       "69                                          altinum      spatheia     africa   \n",
       "75  aquae statiellae corso cavour albergo bue rosso  AfricanaIIIB     africa   \n",
       "99                                         aquileia      Dr 2-4_1     africa   \n",
       "\n",
       "    Frequency  Amphora_type_lower_date  Amphora_type_upper_date   Latitude  \\\n",
       "21       12.0                    150.0                    400.0  44.700835   \n",
       "68        2.0                    200.0                    400.0  45.956108   \n",
       "69        2.0                    375.0                    700.0  45.956108   \n",
       "75        1.0                    275.0                    400.0  44.675532   \n",
       "99        2.0                    -25.0                    100.0  45.768945   \n",
       "\n",
       "    Longitude  Freq_per_year  \n",
       "21   8.035244       0.048000  \n",
       "68  18.683919       0.010000  \n",
       "69  18.683919       0.006154  \n",
       "75   8.470658       0.008000  \n",
       "99  13.367774       0.016000  "
      ]
     },
     "execution_count": 9,
     "metadata": {},
     "output_type": "execute_result"
    }
   ],
   "source": [
    "Africa = freq_per_year(data = Africa,\n",
    "                       lower_date = 'Amphora_type_lower_date',\n",
    "                       upper_date = 'Amphora_type_upper_date',\n",
    "                       freq = 'Frequency')\n",
    "\n",
    "Africa.head()"
   ]
  },
  {
   "cell_type": "markdown",
   "id": "2274f722",
   "metadata": {},
   "source": [
    "### 6. Calculate the proportion of '*Frequency*' to a given map period and add the results to the dataframe"
   ]
  },
  {
   "cell_type": "code",
   "execution_count": 10,
   "id": "ddebac8c-f0a8-4cb4-9927-c59512bf14df",
   "metadata": {
    "execution": {
     "iopub.execute_input": "2021-12-23T13:51:00.306686Z",
     "iopub.status.busy": "2021-12-23T13:51:00.306172Z",
     "iopub.status.idle": "2021-12-23T13:51:00.367899Z",
     "shell.execute_reply": "2021-12-23T13:51:00.366617Z",
     "shell.execute_reply.started": "2021-12-23T13:51:00.306645Z"
    },
    "tags": []
   },
   "outputs": [
    {
     "name": "stderr",
     "output_type": "stream",
     "text": [
      "/home/kate/Documents/work/minerva/sonata/Sonata-Code/Sonata_data/../functions.py:274: SettingWithCopyWarning: \n",
      "A value is trying to be set on a copy of a slice from a DataFrame.\n",
      "Try using .loc[row_indexer,col_indexer] = value instead\n",
      "\n",
      "See the caveats in the documentation: https://pandas.pydata.org/pandas-docs/stable/user_guide/indexing.html#returning-a-view-versus-a-copy\n",
      "  data[proportion] = 0\n",
      "/home/kate/Documents/work/minerva/sonata/Sonata-Code/Sonata_data/../functions.py:283: SettingWithCopyWarning: \n",
      "A value is trying to be set on a copy of a slice from a DataFrame\n",
      "\n",
      "See the caveats in the documentation: https://pandas.pydata.org/pandas-docs/stable/user_guide/indexing.html#returning-a-view-versus-a-copy\n",
      "  data[proportion].iloc[row] = data[freq_per_year].iloc[row] * date_range\n"
     ]
    },
    {
     "data": {
      "text/html": [
       "<div>\n",
       "<style scoped>\n",
       "    .dataframe tbody tr th:only-of-type {\n",
       "        vertical-align: middle;\n",
       "    }\n",
       "\n",
       "    .dataframe tbody tr th {\n",
       "        vertical-align: top;\n",
       "    }\n",
       "\n",
       "    .dataframe thead th {\n",
       "        text-align: right;\n",
       "    }\n",
       "</style>\n",
       "<table border=\"1\" class=\"dataframe\">\n",
       "  <thead>\n",
       "    <tr style=\"text-align: right;\">\n",
       "      <th></th>\n",
       "      <th>Site</th>\n",
       "      <th>Amphora_type</th>\n",
       "      <th>Provenance</th>\n",
       "      <th>Frequency</th>\n",
       "      <th>Amphora_type_lower_date</th>\n",
       "      <th>Amphora_type_upper_date</th>\n",
       "      <th>Latitude</th>\n",
       "      <th>Longitude</th>\n",
       "      <th>Freq_per_year</th>\n",
       "      <th>Proportion</th>\n",
       "    </tr>\n",
       "  </thead>\n",
       "  <tbody>\n",
       "    <tr>\n",
       "      <th>21</th>\n",
       "      <td>alba pompeia</td>\n",
       "      <td>AfricanaI</td>\n",
       "      <td>africa</td>\n",
       "      <td>12.0</td>\n",
       "      <td>150.0</td>\n",
       "      <td>400.0</td>\n",
       "      <td>44.700835</td>\n",
       "      <td>8.035244</td>\n",
       "      <td>0.048000</td>\n",
       "      <td>2.4</td>\n",
       "    </tr>\n",
       "    <tr>\n",
       "      <th>68</th>\n",
       "      <td>altinum</td>\n",
       "      <td>Africana_3</td>\n",
       "      <td>africa</td>\n",
       "      <td>2.0</td>\n",
       "      <td>200.0</td>\n",
       "      <td>400.0</td>\n",
       "      <td>45.956108</td>\n",
       "      <td>18.683919</td>\n",
       "      <td>0.010000</td>\n",
       "      <td>0.0</td>\n",
       "    </tr>\n",
       "    <tr>\n",
       "      <th>69</th>\n",
       "      <td>altinum</td>\n",
       "      <td>spatheia</td>\n",
       "      <td>africa</td>\n",
       "      <td>2.0</td>\n",
       "      <td>375.0</td>\n",
       "      <td>700.0</td>\n",
       "      <td>45.956108</td>\n",
       "      <td>18.683919</td>\n",
       "      <td>0.006154</td>\n",
       "      <td>0.0</td>\n",
       "    </tr>\n",
       "    <tr>\n",
       "      <th>75</th>\n",
       "      <td>aquae statiellae corso cavour albergo bue rosso</td>\n",
       "      <td>AfricanaIIIB</td>\n",
       "      <td>africa</td>\n",
       "      <td>1.0</td>\n",
       "      <td>275.0</td>\n",
       "      <td>400.0</td>\n",
       "      <td>44.675532</td>\n",
       "      <td>8.470658</td>\n",
       "      <td>0.008000</td>\n",
       "      <td>0.0</td>\n",
       "    </tr>\n",
       "    <tr>\n",
       "      <th>99</th>\n",
       "      <td>aquileia</td>\n",
       "      <td>Dr 2-4_1</td>\n",
       "      <td>africa</td>\n",
       "      <td>2.0</td>\n",
       "      <td>-25.0</td>\n",
       "      <td>100.0</td>\n",
       "      <td>45.768945</td>\n",
       "      <td>13.367774</td>\n",
       "      <td>0.016000</td>\n",
       "      <td>0.0</td>\n",
       "    </tr>\n",
       "  </tbody>\n",
       "</table>\n",
       "</div>"
      ],
      "text/plain": [
       "                                               Site  Amphora_type Provenance  \\\n",
       "21                                     alba pompeia     AfricanaI     africa   \n",
       "68                                          altinum    Africana_3     africa   \n",
       "69                                          altinum      spatheia     africa   \n",
       "75  aquae statiellae corso cavour albergo bue rosso  AfricanaIIIB     africa   \n",
       "99                                         aquileia      Dr 2-4_1     africa   \n",
       "\n",
       "    Frequency  Amphora_type_lower_date  Amphora_type_upper_date   Latitude  \\\n",
       "21       12.0                    150.0                    400.0  44.700835   \n",
       "68        2.0                    200.0                    400.0  45.956108   \n",
       "69        2.0                    375.0                    700.0  45.956108   \n",
       "75        1.0                    275.0                    400.0  44.675532   \n",
       "99        2.0                    -25.0                    100.0  45.768945   \n",
       "\n",
       "    Longitude  Freq_per_year  Proportion  \n",
       "21   8.035244       0.048000         2.4  \n",
       "68  18.683919       0.010000         0.0  \n",
       "69  18.683919       0.006154         0.0  \n",
       "75   8.470658       0.008000         0.0  \n",
       "99  13.367774       0.016000         0.0  "
      ]
     },
     "execution_count": 10,
     "metadata": {},
     "output_type": "execute_result"
    }
   ],
   "source": [
    "Africa = propor_to_map_range(data = Africa, \n",
    "                             map_lower_date = 150, \n",
    "                             map_upper_date = 200,\n",
    "                             object_lower_date = 'Amphora_type_lower_date',          \n",
    "                             object_upper_date = 'Amphora_type_upper_date',\n",
    "                             freq_per_year = 'Freq_per_year')\n",
    "\n",
    "Africa.head()"
   ]
  },
  {
   "cell_type": "markdown",
   "id": "da0b5346-537b-4e67-bf85-9206757bebfd",
   "metadata": {},
   "source": [
    "### 7. Create the datarfame containing only *'Sites'* with *'Amphoras'* which fall within the map range (if proportion == 0, do not include)"
   ]
  },
  {
   "cell_type": "code",
   "execution_count": 11,
   "id": "3d6718b8-61f7-4061-ad08-8f311adb77ac",
   "metadata": {
    "execution": {
     "iopub.execute_input": "2021-12-20T09:38:27.073495Z",
     "iopub.status.busy": "2021-12-20T09:38:27.072838Z",
     "iopub.status.idle": "2021-12-20T09:38:27.104105Z",
     "shell.execute_reply": "2021-12-20T09:38:27.103583Z",
     "shell.execute_reply.started": "2021-12-20T09:38:27.073443Z"
    },
    "tags": []
   },
   "outputs": [
    {
     "data": {
      "text/html": [
       "<div>\n",
       "<style scoped>\n",
       "    .dataframe tbody tr th:only-of-type {\n",
       "        vertical-align: middle;\n",
       "    }\n",
       "\n",
       "    .dataframe tbody tr th {\n",
       "        vertical-align: top;\n",
       "    }\n",
       "\n",
       "    .dataframe thead th {\n",
       "        text-align: right;\n",
       "    }\n",
       "</style>\n",
       "<table border=\"1\" class=\"dataframe\">\n",
       "  <thead>\n",
       "    <tr style=\"text-align: right;\">\n",
       "      <th></th>\n",
       "      <th>Site</th>\n",
       "      <th>Amphora_type</th>\n",
       "      <th>Provenance</th>\n",
       "      <th>Frequency</th>\n",
       "      <th>Amphora_type_lower_date</th>\n",
       "      <th>Amphora_type_upper_date</th>\n",
       "      <th>Latitude</th>\n",
       "      <th>Longitude</th>\n",
       "      <th>Freq_per_year</th>\n",
       "      <th>Proportion</th>\n",
       "    </tr>\n",
       "  </thead>\n",
       "  <tbody>\n",
       "    <tr>\n",
       "      <th>21</th>\n",
       "      <td>alba pompeia</td>\n",
       "      <td>AfricanaI</td>\n",
       "      <td>africa</td>\n",
       "      <td>12.0</td>\n",
       "      <td>150.0</td>\n",
       "      <td>400.0</td>\n",
       "      <td>44.700835</td>\n",
       "      <td>8.035244</td>\n",
       "      <td>0.048000</td>\n",
       "      <td>2.400000</td>\n",
       "    </tr>\n",
       "    <tr>\n",
       "      <th>106</th>\n",
       "      <td>aquileia</td>\n",
       "      <td>AfricanaI</td>\n",
       "      <td>africa</td>\n",
       "      <td>11.0</td>\n",
       "      <td>150.0</td>\n",
       "      <td>400.0</td>\n",
       "      <td>45.768945</td>\n",
       "      <td>13.367774</td>\n",
       "      <td>0.044000</td>\n",
       "      <td>2.200000</td>\n",
       "    </tr>\n",
       "    <tr>\n",
       "      <th>107</th>\n",
       "      <td>aquileia</td>\n",
       "      <td>AfricanaII</td>\n",
       "      <td>africa</td>\n",
       "      <td>2.0</td>\n",
       "      <td>150.0</td>\n",
       "      <td>400.0</td>\n",
       "      <td>45.768945</td>\n",
       "      <td>13.367774</td>\n",
       "      <td>0.008000</td>\n",
       "      <td>0.400000</td>\n",
       "    </tr>\n",
       "    <tr>\n",
       "      <th>108</th>\n",
       "      <td>aquileia</td>\n",
       "      <td>AfricanaIIA</td>\n",
       "      <td>africa</td>\n",
       "      <td>8.0</td>\n",
       "      <td>150.0</td>\n",
       "      <td>300.0</td>\n",
       "      <td>45.768945</td>\n",
       "      <td>13.367774</td>\n",
       "      <td>0.053333</td>\n",
       "      <td>2.666667</td>\n",
       "    </tr>\n",
       "    <tr>\n",
       "      <th>109</th>\n",
       "      <td>aquileia</td>\n",
       "      <td>AfricanaIIB</td>\n",
       "      <td>africa</td>\n",
       "      <td>1.0</td>\n",
       "      <td>150.0</td>\n",
       "      <td>300.0</td>\n",
       "      <td>45.768945</td>\n",
       "      <td>13.367774</td>\n",
       "      <td>0.006667</td>\n",
       "      <td>0.333333</td>\n",
       "    </tr>\n",
       "  </tbody>\n",
       "</table>\n",
       "</div>"
      ],
      "text/plain": [
       "             Site Amphora_type Provenance  Frequency  Amphora_type_lower_date  \\\n",
       "21   alba pompeia    AfricanaI     africa       12.0                    150.0   \n",
       "106      aquileia    AfricanaI     africa       11.0                    150.0   \n",
       "107      aquileia   AfricanaII     africa        2.0                    150.0   \n",
       "108      aquileia  AfricanaIIA     africa        8.0                    150.0   \n",
       "109      aquileia  AfricanaIIB     africa        1.0                    150.0   \n",
       "\n",
       "     Amphora_type_upper_date   Latitude  Longitude  Freq_per_year  Proportion  \n",
       "21                     400.0  44.700835   8.035244       0.048000    2.400000  \n",
       "106                    400.0  45.768945  13.367774       0.044000    2.200000  \n",
       "107                    400.0  45.768945  13.367774       0.008000    0.400000  \n",
       "108                    300.0  45.768945  13.367774       0.053333    2.666667  \n",
       "109                    300.0  45.768945  13.367774       0.006667    0.333333  "
      ]
     },
     "execution_count": 11,
     "metadata": {},
     "output_type": "execute_result"
    }
   ],
   "source": [
    "Africa = Africa[Africa['Proportion'] > 0]\n",
    "\n",
    "Africa.head()"
   ]
  },
  {
   "cell_type": "markdown",
   "id": "f8774fe7-dd6c-4e45-9ee1-762439f255c4",
   "metadata": {},
   "source": [
    "### 8. Calculate summed amphora *'Frequency'* per *'Site'*\n",
    "To that end, one needs to specify the variables on the basis of which the data will be grouped \n",
    "\n",
    "In the cell below, *'Proportion'*  values are grouped by *'Site'*, *'Latitude'* and *'Longitude'*\n",
    "\n",
    "Then the grouped *'Proportion'* values are summed"
   ]
  },
  {
   "cell_type": "code",
   "execution_count": 12,
   "id": "4d6e3112-ecff-41e0-ac52-e6fb193ce20a",
   "metadata": {
    "execution": {
     "iopub.execute_input": "2021-12-20T09:38:29.852869Z",
     "iopub.status.busy": "2021-12-20T09:38:29.852225Z",
     "iopub.status.idle": "2021-12-20T09:38:29.874129Z",
     "shell.execute_reply": "2021-12-20T09:38:29.873528Z",
     "shell.execute_reply.started": "2021-12-20T09:38:29.852819Z"
    },
    "tags": []
   },
   "outputs": [
    {
     "data": {
      "text/html": [
       "<div>\n",
       "<style scoped>\n",
       "    .dataframe tbody tr th:only-of-type {\n",
       "        vertical-align: middle;\n",
       "    }\n",
       "\n",
       "    .dataframe tbody tr th {\n",
       "        vertical-align: top;\n",
       "    }\n",
       "\n",
       "    .dataframe thead th {\n",
       "        text-align: right;\n",
       "    }\n",
       "</style>\n",
       "<table border=\"1\" class=\"dataframe\">\n",
       "  <thead>\n",
       "    <tr style=\"text-align: right;\">\n",
       "      <th></th>\n",
       "      <th>Site</th>\n",
       "      <th>Latitude</th>\n",
       "      <th>Longitude</th>\n",
       "      <th>Summed_freq</th>\n",
       "    </tr>\n",
       "  </thead>\n",
       "  <tbody>\n",
       "    <tr>\n",
       "      <th>0</th>\n",
       "      <td>alba pompeia</td>\n",
       "      <td>44.700835</td>\n",
       "      <td>8.035244</td>\n",
       "      <td>2.400000</td>\n",
       "    </tr>\n",
       "    <tr>\n",
       "      <th>1</th>\n",
       "      <td>aquileia</td>\n",
       "      <td>45.768945</td>\n",
       "      <td>13.367774</td>\n",
       "      <td>6.575000</td>\n",
       "    </tr>\n",
       "    <tr>\n",
       "      <th>2</th>\n",
       "      <td>basilica hilariana</td>\n",
       "      <td>41.885820</td>\n",
       "      <td>12.496624</td>\n",
       "      <td>8.266667</td>\n",
       "    </tr>\n",
       "    <tr>\n",
       "      <th>3</th>\n",
       "      <td>boccone del povero</td>\n",
       "      <td>41.891775</td>\n",
       "      <td>12.486137</td>\n",
       "      <td>1.794872</td>\n",
       "    </tr>\n",
       "    <tr>\n",
       "      <th>4</th>\n",
       "      <td>caerepyrgi</td>\n",
       "      <td>42.015180</td>\n",
       "      <td>11.963719</td>\n",
       "      <td>0.256410</td>\n",
       "    </tr>\n",
       "  </tbody>\n",
       "</table>\n",
       "</div>"
      ],
      "text/plain": [
       "                 Site   Latitude  Longitude  Summed_freq\n",
       "0        alba pompeia  44.700835   8.035244     2.400000\n",
       "1            aquileia  45.768945  13.367774     6.575000\n",
       "2  basilica hilariana  41.885820  12.496624     8.266667\n",
       "3  boccone del povero  41.891775  12.486137     1.794872\n",
       "4          caerepyrgi  42.015180  11.963719     0.256410"
      ]
     },
     "execution_count": 12,
     "metadata": {},
     "output_type": "execute_result"
    }
   ],
   "source": [
    "summed_frequency = Africa.groupby(['Site', 'Latitude', 'Longitude'])['Proportion'].sum()        \n",
    "summed_frequency = summed_frequency.reset_index()\n",
    "summed_frequency = summed_frequency.rename(columns = {'Proportion':'Summed_freq'})\n",
    "summed_frequency.head()"
   ]
  },
  {
   "cell_type": "markdown",
   "id": "52daaed0-921f-46e8-ab97-a055888638c1",
   "metadata": {},
   "source": [
    "### 9. Count the number of unique *'Amphora types'* per *'Site'*\n",
    "In the cell below, *'Amphora types'* are grouped by *'Site'* and then the unique number of *'Sites'* is calculated\n"
   ]
  },
  {
   "cell_type": "code",
   "execution_count": 13,
   "id": "6e14ce3c-a996-424d-b915-5f87673f6fb1",
   "metadata": {
    "execution": {
     "iopub.execute_input": "2021-12-20T09:38:32.185679Z",
     "iopub.status.busy": "2021-12-20T09:38:32.185023Z",
     "iopub.status.idle": "2021-12-20T09:38:32.201662Z",
     "shell.execute_reply": "2021-12-20T09:38:32.200949Z",
     "shell.execute_reply.started": "2021-12-20T09:38:32.185629Z"
    },
    "tags": []
   },
   "outputs": [
    {
     "data": {
      "text/html": [
       "<div>\n",
       "<style scoped>\n",
       "    .dataframe tbody tr th:only-of-type {\n",
       "        vertical-align: middle;\n",
       "    }\n",
       "\n",
       "    .dataframe tbody tr th {\n",
       "        vertical-align: top;\n",
       "    }\n",
       "\n",
       "    .dataframe thead th {\n",
       "        text-align: right;\n",
       "    }\n",
       "</style>\n",
       "<table border=\"1\" class=\"dataframe\">\n",
       "  <thead>\n",
       "    <tr style=\"text-align: right;\">\n",
       "      <th></th>\n",
       "      <th>Site</th>\n",
       "      <th>Amphora_type_count</th>\n",
       "    </tr>\n",
       "  </thead>\n",
       "  <tbody>\n",
       "    <tr>\n",
       "      <th>0</th>\n",
       "      <td>alba pompeia</td>\n",
       "      <td>1</td>\n",
       "    </tr>\n",
       "    <tr>\n",
       "      <th>1</th>\n",
       "      <td>aquileia</td>\n",
       "      <td>7</td>\n",
       "    </tr>\n",
       "    <tr>\n",
       "      <th>2</th>\n",
       "      <td>basilica hilariana</td>\n",
       "      <td>5</td>\n",
       "    </tr>\n",
       "    <tr>\n",
       "      <th>3</th>\n",
       "      <td>boccone del povero</td>\n",
       "      <td>1</td>\n",
       "    </tr>\n",
       "    <tr>\n",
       "      <th>4</th>\n",
       "      <td>caerepyrgi</td>\n",
       "      <td>1</td>\n",
       "    </tr>\n",
       "  </tbody>\n",
       "</table>\n",
       "</div>"
      ],
      "text/plain": [
       "                 Site  Amphora_type_count\n",
       "0        alba pompeia                   1\n",
       "1            aquileia                   7\n",
       "2  basilica hilariana                   5\n",
       "3  boccone del povero                   1\n",
       "4          caerepyrgi                   1"
      ]
     },
     "execution_count": 13,
     "metadata": {},
     "output_type": "execute_result"
    }
   ],
   "source": [
    "amphora_type_count = Africa.groupby('Site')['Amphora_type'].nunique()\n",
    "amphora_type_count = amphora_type_count.reset_index()\n",
    "amphora_type_count = amphora_type_count.rename(columns={'Amphora_type': 'Amphora_type_count'})\n",
    "amphora_type_count.head()"
   ]
  },
  {
   "cell_type": "markdown",
   "id": "ac73201c-b610-41f1-a740-0b8e3777c436",
   "metadata": {},
   "source": [
    "### 10. Make a dataframe containing the data required for plotting, namely: \n",
    " - *'Sites'* \n",
    " - *'Sites'* coordinates\n",
    " - Summed frequencies\n",
    " - Unique amphora type count values"
   ]
  },
  {
   "cell_type": "code",
   "execution_count": 14,
   "id": "a07f66b1-0ed7-43af-a90f-7ad76dffc527",
   "metadata": {
    "execution": {
     "iopub.execute_input": "2021-12-20T09:38:33.973867Z",
     "iopub.status.busy": "2021-12-20T09:38:33.973217Z",
     "iopub.status.idle": "2021-12-20T09:38:33.994949Z",
     "shell.execute_reply": "2021-12-20T09:38:33.994296Z",
     "shell.execute_reply.started": "2021-12-20T09:38:33.973817Z"
    },
    "tags": []
   },
   "outputs": [
    {
     "data": {
      "text/html": [
       "<div>\n",
       "<style scoped>\n",
       "    .dataframe tbody tr th:only-of-type {\n",
       "        vertical-align: middle;\n",
       "    }\n",
       "\n",
       "    .dataframe tbody tr th {\n",
       "        vertical-align: top;\n",
       "    }\n",
       "\n",
       "    .dataframe thead th {\n",
       "        text-align: right;\n",
       "    }\n",
       "</style>\n",
       "<table border=\"1\" class=\"dataframe\">\n",
       "  <thead>\n",
       "    <tr style=\"text-align: right;\">\n",
       "      <th></th>\n",
       "      <th>Site</th>\n",
       "      <th>Latitude</th>\n",
       "      <th>Longitude</th>\n",
       "      <th>Summed_freq</th>\n",
       "      <th>Amphora_type_count</th>\n",
       "    </tr>\n",
       "  </thead>\n",
       "  <tbody>\n",
       "    <tr>\n",
       "      <th>0</th>\n",
       "      <td>alba pompeia</td>\n",
       "      <td>44.700835</td>\n",
       "      <td>8.035244</td>\n",
       "      <td>2.400000</td>\n",
       "      <td>1</td>\n",
       "    </tr>\n",
       "    <tr>\n",
       "      <th>1</th>\n",
       "      <td>aquileia</td>\n",
       "      <td>45.768945</td>\n",
       "      <td>13.367774</td>\n",
       "      <td>6.575000</td>\n",
       "      <td>7</td>\n",
       "    </tr>\n",
       "    <tr>\n",
       "      <th>2</th>\n",
       "      <td>basilica hilariana</td>\n",
       "      <td>41.885820</td>\n",
       "      <td>12.496624</td>\n",
       "      <td>8.266667</td>\n",
       "      <td>5</td>\n",
       "    </tr>\n",
       "    <tr>\n",
       "      <th>3</th>\n",
       "      <td>boccone del povero</td>\n",
       "      <td>41.891775</td>\n",
       "      <td>12.486137</td>\n",
       "      <td>1.794872</td>\n",
       "      <td>1</td>\n",
       "    </tr>\n",
       "    <tr>\n",
       "      <th>4</th>\n",
       "      <td>caerepyrgi</td>\n",
       "      <td>42.015180</td>\n",
       "      <td>11.963719</td>\n",
       "      <td>0.256410</td>\n",
       "      <td>1</td>\n",
       "    </tr>\n",
       "  </tbody>\n",
       "</table>\n",
       "</div>"
      ],
      "text/plain": [
       "                 Site   Latitude  Longitude  Summed_freq  Amphora_type_count\n",
       "0        alba pompeia  44.700835   8.035244     2.400000                   1\n",
       "1            aquileia  45.768945  13.367774     6.575000                   7\n",
       "2  basilica hilariana  41.885820  12.496624     8.266667                   5\n",
       "3  boccone del povero  41.891775  12.486137     1.794872                   1\n",
       "4          caerepyrgi  42.015180  11.963719     0.256410                   1"
      ]
     },
     "execution_count": 14,
     "metadata": {},
     "output_type": "execute_result"
    }
   ],
   "source": [
    "Africa_new = pd.merge(summed_frequency, amphora_type_count, on = 'Site')\n",
    "Africa_new.head()"
   ]
  },
  {
   "cell_type": "markdown",
   "id": "72224120-f988-41b1-9122-683fe5730add",
   "metadata": {},
   "source": [
    "### 11. Create the GeoDataFrame with geometry column (based on longitude and latitude coordinates) "
   ]
  },
  {
   "cell_type": "code",
   "execution_count": 15,
   "id": "3d209466-3b42-4b42-a12f-f233e39c4fec",
   "metadata": {
    "execution": {
     "iopub.execute_input": "2021-12-20T09:38:36.057991Z",
     "iopub.status.busy": "2021-12-20T09:38:36.057335Z",
     "iopub.status.idle": "2021-12-20T09:38:36.082315Z",
     "shell.execute_reply": "2021-12-20T09:38:36.081654Z",
     "shell.execute_reply.started": "2021-12-20T09:38:36.057942Z"
    },
    "tags": []
   },
   "outputs": [
    {
     "data": {
      "text/html": [
       "<div>\n",
       "<style scoped>\n",
       "    .dataframe tbody tr th:only-of-type {\n",
       "        vertical-align: middle;\n",
       "    }\n",
       "\n",
       "    .dataframe tbody tr th {\n",
       "        vertical-align: top;\n",
       "    }\n",
       "\n",
       "    .dataframe thead th {\n",
       "        text-align: right;\n",
       "    }\n",
       "</style>\n",
       "<table border=\"1\" class=\"dataframe\">\n",
       "  <thead>\n",
       "    <tr style=\"text-align: right;\">\n",
       "      <th></th>\n",
       "      <th>Site</th>\n",
       "      <th>Latitude</th>\n",
       "      <th>Longitude</th>\n",
       "      <th>Summed_freq</th>\n",
       "      <th>Amphora_type_count</th>\n",
       "      <th>geometry</th>\n",
       "    </tr>\n",
       "  </thead>\n",
       "  <tbody>\n",
       "    <tr>\n",
       "      <th>0</th>\n",
       "      <td>alba pompeia</td>\n",
       "      <td>44.700835</td>\n",
       "      <td>8.035244</td>\n",
       "      <td>2.400000</td>\n",
       "      <td>1</td>\n",
       "      <td>POINT (8.03524 44.70083)</td>\n",
       "    </tr>\n",
       "    <tr>\n",
       "      <th>1</th>\n",
       "      <td>aquileia</td>\n",
       "      <td>45.768945</td>\n",
       "      <td>13.367774</td>\n",
       "      <td>6.575000</td>\n",
       "      <td>7</td>\n",
       "      <td>POINT (13.36777 45.76895)</td>\n",
       "    </tr>\n",
       "    <tr>\n",
       "      <th>2</th>\n",
       "      <td>basilica hilariana</td>\n",
       "      <td>41.885820</td>\n",
       "      <td>12.496624</td>\n",
       "      <td>8.266667</td>\n",
       "      <td>5</td>\n",
       "      <td>POINT (12.49662 41.88582)</td>\n",
       "    </tr>\n",
       "    <tr>\n",
       "      <th>3</th>\n",
       "      <td>boccone del povero</td>\n",
       "      <td>41.891775</td>\n",
       "      <td>12.486137</td>\n",
       "      <td>1.794872</td>\n",
       "      <td>1</td>\n",
       "      <td>POINT (12.48614 41.89178)</td>\n",
       "    </tr>\n",
       "    <tr>\n",
       "      <th>4</th>\n",
       "      <td>caerepyrgi</td>\n",
       "      <td>42.015180</td>\n",
       "      <td>11.963719</td>\n",
       "      <td>0.256410</td>\n",
       "      <td>1</td>\n",
       "      <td>POINT (11.96372 42.01518)</td>\n",
       "    </tr>\n",
       "  </tbody>\n",
       "</table>\n",
       "</div>"
      ],
      "text/plain": [
       "                 Site   Latitude  Longitude  Summed_freq  Amphora_type_count  \\\n",
       "0        alba pompeia  44.700835   8.035244     2.400000                   1   \n",
       "1            aquileia  45.768945  13.367774     6.575000                   7   \n",
       "2  basilica hilariana  41.885820  12.496624     8.266667                   5   \n",
       "3  boccone del povero  41.891775  12.486137     1.794872                   1   \n",
       "4          caerepyrgi  42.015180  11.963719     0.256410                   1   \n",
       "\n",
       "                    geometry  \n",
       "0   POINT (8.03524 44.70083)  \n",
       "1  POINT (13.36777 45.76895)  \n",
       "2  POINT (12.49662 41.88582)  \n",
       "3  POINT (12.48614 41.89178)  \n",
       "4  POINT (11.96372 42.01518)  "
      ]
     },
     "execution_count": 15,
     "metadata": {},
     "output_type": "execute_result"
    }
   ],
   "source": [
    "Africa_map = geopandas.GeoDataFrame(\n",
    "    Africa_new, geometry = geopandas.points_from_xy(Africa_new.Longitude, Africa_new.Latitude))\n",
    "\n",
    "Africa_map.head()"
   ]
  },
  {
   "cell_type": "markdown",
   "id": "1531ee82-bc0d-4b16-b767-a54eabb22edf",
   "metadata": {},
   "source": [
    "### 12. Plot maps\n",
    "**Note:** Remember to change the title of the plot\n",
    "\n",
    "`color_continuous_scale = ['#1ed14b',  '#d63638']` <- for green to red (basically just find css for wanted colors)"
   ]
  },
  {
   "cell_type": "markdown",
   "id": "d55c8689-ca9e-49a3-8071-2ff61d8d2efd",
   "metadata": {},
   "source": [
    "#### 12.1 **All *'Site'* locations which have *'Provenance'* == Africa and are dated between 150-200** \n",
    "#### The **dot size** is scaled by the summed *'Frequency'* per group of unique *'Sites'*"
   ]
  },
  {
   "cell_type": "code",
   "execution_count": 14,
   "id": "fc0e8e95-309e-43e7-8433-c240ff77e8c0",
   "metadata": {
    "execution": {
     "iopub.execute_input": "2021-12-20T10:13:38.508403Z",
     "iopub.status.busy": "2021-12-20T10:13:38.507908Z",
     "iopub.status.idle": "2021-12-20T10:13:38.562959Z",
     "shell.execute_reply": "2021-12-20T10:13:38.562415Z",
     "shell.execute_reply.started": "2021-12-20T10:13:38.508354Z"
    },
    "tags": []
   },
   "outputs": [
    {
     "data": {
      "application/vnd.plotly.v1+json": {
       "config": {
        "plotlyServerURL": "https://plot.ly"
       },
       "data": [
        {
         "geo": "geo",
         "hovertemplate": "Summed_freq=%{marker.size}<br>lat=%{lat}<br>lon=%{lon}<extra></extra>",
         "lat": [
          44.700835,
          45.768945,
          41.8858204,
          41.891775,
          42.0151801444,
          45.594849,
          40.825838,
          40.8476741,
          41.88333,
          45.768945,
          44.065164,
          41.8953146648,
          41.754855,
          41.7527197453,
          41.754855,
          41.756389318,
          41.754855,
          41.754855,
          45.409561,
          40.839995,
          39.360882,
          39.360882,
          44.9992,
          42.0153455,
          40.820922,
          41.8893064,
          41.8925745251,
          41.890169,
          41.8893064,
          41.891775,
          41.8924123712,
          41.883333,
          41.883333,
          41.883333,
          41.8944448,
          41.8925745251,
          43.95844,
          42.72437,
          41.8893064,
          41.8893064,
          45.4421295463,
          41.8893064,
          40.6998164,
          40.7031479
         ],
         "legendgroup": "",
         "lon": [
          8.035244,
          13.3677735,
          12.4966238,
          12.486137,
          11.9637192735,
          12.8708,
          14.1217415,
          14.0562815333,
          12.46667,
          13.3677735,
          10.024166,
          12.4855481431,
          12.287656,
          12.2892267207,
          12.287656,
          12.2910075129,
          12.287656,
          12.287656,
          11.876975,
          14.25287,
          16.04056,
          16.04056,
          11.75105,
          11.963217,
          14.119851,
          12.4871093,
          12.4847567763,
          12.492269,
          12.4871093,
          12.486137,
          12.4973470428,
          12.483333,
          12.483333,
          12.483333,
          12.4784041,
          12.4847567763,
          12.73861,
          12.29078,
          12.4871093,
          12.4871093,
          10.9957360051,
          12.4871093,
          14.4917605,
          14.4991112
         ],
         "marker": {
          "color": "#636efa",
          "size": [
           2.4,
           6.575,
           8.266666666666667,
           1.7948717948717947,
           0.2564102564102564,
           0.5025125628140703,
           2.0100502512562812,
           0.2564102564102564,
           39.28590571907155,
           2,
           0.2564102564102564,
           4.102564102564103,
           0.5128205128205128,
           14.781118811744605,
           0.5025125628140703,
           2.7998969204999353,
           0.9692307692307693,
           66.82380952380952,
           0.33333333333333337,
           1.0050251256281406,
           3,
           0.2,
           1.7587939698492463,
           0.2857142857142857,
           15.933333333333334,
           9.75128205128205,
           4.09010989010989,
           48.805025125628134,
           8.68187089292617,
           4.610076021131297,
           10.466434737791522,
           9.046153846153846,
           29.6,
           4.3999999999999995,
           1.6613838422883647,
           45.37242991514348,
           1.256281407035176,
           4.420487050637805,
           0.7692307692307693,
           1.3666666666666667,
           13.239708117968988,
           58.44029304029304,
           0.8076923076923077,
           0.25125628140703515
          ],
          "sizemode": "area",
          "sizeref": 0.1670595238095238,
          "symbol": "circle"
         },
         "mode": "markers",
         "name": "",
         "showlegend": false,
         "type": "scattergeo"
        }
       ],
       "layout": {
        "geo": {
         "center": {
          "lat": 41.8719,
          "lon": 12.5674
         },
         "domain": {
          "x": [
           0,
           1
          ],
          "y": [
           0,
           1
          ]
         },
         "projection": {
          "scale": 6,
          "type": "mercator"
         },
         "scope": "europe"
        },
        "height": 1200,
        "legend": {
         "itemsizing": "constant",
         "tracegroupgap": 0
        },
        "margin": {
         "t": 60
        },
        "template": {
         "data": {
          "bar": [
           {
            "error_x": {
             "color": "#2a3f5f"
            },
            "error_y": {
             "color": "#2a3f5f"
            },
            "marker": {
             "line": {
              "color": "#E5ECF6",
              "width": 0.5
             },
             "pattern": {
              "fillmode": "overlay",
              "size": 10,
              "solidity": 0.2
             }
            },
            "type": "bar"
           }
          ],
          "barpolar": [
           {
            "marker": {
             "line": {
              "color": "#E5ECF6",
              "width": 0.5
             },
             "pattern": {
              "fillmode": "overlay",
              "size": 10,
              "solidity": 0.2
             }
            },
            "type": "barpolar"
           }
          ],
          "carpet": [
           {
            "aaxis": {
             "endlinecolor": "#2a3f5f",
             "gridcolor": "white",
             "linecolor": "white",
             "minorgridcolor": "white",
             "startlinecolor": "#2a3f5f"
            },
            "baxis": {
             "endlinecolor": "#2a3f5f",
             "gridcolor": "white",
             "linecolor": "white",
             "minorgridcolor": "white",
             "startlinecolor": "#2a3f5f"
            },
            "type": "carpet"
           }
          ],
          "choropleth": [
           {
            "colorbar": {
             "outlinewidth": 0,
             "ticks": ""
            },
            "type": "choropleth"
           }
          ],
          "contour": [
           {
            "colorbar": {
             "outlinewidth": 0,
             "ticks": ""
            },
            "colorscale": [
             [
              0,
              "#0d0887"
             ],
             [
              0.1111111111111111,
              "#46039f"
             ],
             [
              0.2222222222222222,
              "#7201a8"
             ],
             [
              0.3333333333333333,
              "#9c179e"
             ],
             [
              0.4444444444444444,
              "#bd3786"
             ],
             [
              0.5555555555555556,
              "#d8576b"
             ],
             [
              0.6666666666666666,
              "#ed7953"
             ],
             [
              0.7777777777777778,
              "#fb9f3a"
             ],
             [
              0.8888888888888888,
              "#fdca26"
             ],
             [
              1,
              "#f0f921"
             ]
            ],
            "type": "contour"
           }
          ],
          "contourcarpet": [
           {
            "colorbar": {
             "outlinewidth": 0,
             "ticks": ""
            },
            "type": "contourcarpet"
           }
          ],
          "heatmap": [
           {
            "colorbar": {
             "outlinewidth": 0,
             "ticks": ""
            },
            "colorscale": [
             [
              0,
              "#0d0887"
             ],
             [
              0.1111111111111111,
              "#46039f"
             ],
             [
              0.2222222222222222,
              "#7201a8"
             ],
             [
              0.3333333333333333,
              "#9c179e"
             ],
             [
              0.4444444444444444,
              "#bd3786"
             ],
             [
              0.5555555555555556,
              "#d8576b"
             ],
             [
              0.6666666666666666,
              "#ed7953"
             ],
             [
              0.7777777777777778,
              "#fb9f3a"
             ],
             [
              0.8888888888888888,
              "#fdca26"
             ],
             [
              1,
              "#f0f921"
             ]
            ],
            "type": "heatmap"
           }
          ],
          "heatmapgl": [
           {
            "colorbar": {
             "outlinewidth": 0,
             "ticks": ""
            },
            "colorscale": [
             [
              0,
              "#0d0887"
             ],
             [
              0.1111111111111111,
              "#46039f"
             ],
             [
              0.2222222222222222,
              "#7201a8"
             ],
             [
              0.3333333333333333,
              "#9c179e"
             ],
             [
              0.4444444444444444,
              "#bd3786"
             ],
             [
              0.5555555555555556,
              "#d8576b"
             ],
             [
              0.6666666666666666,
              "#ed7953"
             ],
             [
              0.7777777777777778,
              "#fb9f3a"
             ],
             [
              0.8888888888888888,
              "#fdca26"
             ],
             [
              1,
              "#f0f921"
             ]
            ],
            "type": "heatmapgl"
           }
          ],
          "histogram": [
           {
            "marker": {
             "pattern": {
              "fillmode": "overlay",
              "size": 10,
              "solidity": 0.2
             }
            },
            "type": "histogram"
           }
          ],
          "histogram2d": [
           {
            "colorbar": {
             "outlinewidth": 0,
             "ticks": ""
            },
            "colorscale": [
             [
              0,
              "#0d0887"
             ],
             [
              0.1111111111111111,
              "#46039f"
             ],
             [
              0.2222222222222222,
              "#7201a8"
             ],
             [
              0.3333333333333333,
              "#9c179e"
             ],
             [
              0.4444444444444444,
              "#bd3786"
             ],
             [
              0.5555555555555556,
              "#d8576b"
             ],
             [
              0.6666666666666666,
              "#ed7953"
             ],
             [
              0.7777777777777778,
              "#fb9f3a"
             ],
             [
              0.8888888888888888,
              "#fdca26"
             ],
             [
              1,
              "#f0f921"
             ]
            ],
            "type": "histogram2d"
           }
          ],
          "histogram2dcontour": [
           {
            "colorbar": {
             "outlinewidth": 0,
             "ticks": ""
            },
            "colorscale": [
             [
              0,
              "#0d0887"
             ],
             [
              0.1111111111111111,
              "#46039f"
             ],
             [
              0.2222222222222222,
              "#7201a8"
             ],
             [
              0.3333333333333333,
              "#9c179e"
             ],
             [
              0.4444444444444444,
              "#bd3786"
             ],
             [
              0.5555555555555556,
              "#d8576b"
             ],
             [
              0.6666666666666666,
              "#ed7953"
             ],
             [
              0.7777777777777778,
              "#fb9f3a"
             ],
             [
              0.8888888888888888,
              "#fdca26"
             ],
             [
              1,
              "#f0f921"
             ]
            ],
            "type": "histogram2dcontour"
           }
          ],
          "mesh3d": [
           {
            "colorbar": {
             "outlinewidth": 0,
             "ticks": ""
            },
            "type": "mesh3d"
           }
          ],
          "parcoords": [
           {
            "line": {
             "colorbar": {
              "outlinewidth": 0,
              "ticks": ""
             }
            },
            "type": "parcoords"
           }
          ],
          "pie": [
           {
            "automargin": true,
            "type": "pie"
           }
          ],
          "scatter": [
           {
            "marker": {
             "colorbar": {
              "outlinewidth": 0,
              "ticks": ""
             }
            },
            "type": "scatter"
           }
          ],
          "scatter3d": [
           {
            "line": {
             "colorbar": {
              "outlinewidth": 0,
              "ticks": ""
             }
            },
            "marker": {
             "colorbar": {
              "outlinewidth": 0,
              "ticks": ""
             }
            },
            "type": "scatter3d"
           }
          ],
          "scattercarpet": [
           {
            "marker": {
             "colorbar": {
              "outlinewidth": 0,
              "ticks": ""
             }
            },
            "type": "scattercarpet"
           }
          ],
          "scattergeo": [
           {
            "marker": {
             "colorbar": {
              "outlinewidth": 0,
              "ticks": ""
             }
            },
            "type": "scattergeo"
           }
          ],
          "scattergl": [
           {
            "marker": {
             "colorbar": {
              "outlinewidth": 0,
              "ticks": ""
             }
            },
            "type": "scattergl"
           }
          ],
          "scattermapbox": [
           {
            "marker": {
             "colorbar": {
              "outlinewidth": 0,
              "ticks": ""
             }
            },
            "type": "scattermapbox"
           }
          ],
          "scatterpolar": [
           {
            "marker": {
             "colorbar": {
              "outlinewidth": 0,
              "ticks": ""
             }
            },
            "type": "scatterpolar"
           }
          ],
          "scatterpolargl": [
           {
            "marker": {
             "colorbar": {
              "outlinewidth": 0,
              "ticks": ""
             }
            },
            "type": "scatterpolargl"
           }
          ],
          "scatterternary": [
           {
            "marker": {
             "colorbar": {
              "outlinewidth": 0,
              "ticks": ""
             }
            },
            "type": "scatterternary"
           }
          ],
          "surface": [
           {
            "colorbar": {
             "outlinewidth": 0,
             "ticks": ""
            },
            "colorscale": [
             [
              0,
              "#0d0887"
             ],
             [
              0.1111111111111111,
              "#46039f"
             ],
             [
              0.2222222222222222,
              "#7201a8"
             ],
             [
              0.3333333333333333,
              "#9c179e"
             ],
             [
              0.4444444444444444,
              "#bd3786"
             ],
             [
              0.5555555555555556,
              "#d8576b"
             ],
             [
              0.6666666666666666,
              "#ed7953"
             ],
             [
              0.7777777777777778,
              "#fb9f3a"
             ],
             [
              0.8888888888888888,
              "#fdca26"
             ],
             [
              1,
              "#f0f921"
             ]
            ],
            "type": "surface"
           }
          ],
          "table": [
           {
            "cells": {
             "fill": {
              "color": "#EBF0F8"
             },
             "line": {
              "color": "white"
             }
            },
            "header": {
             "fill": {
              "color": "#C8D4E3"
             },
             "line": {
              "color": "white"
             }
            },
            "type": "table"
           }
          ]
         },
         "layout": {
          "annotationdefaults": {
           "arrowcolor": "#2a3f5f",
           "arrowhead": 0,
           "arrowwidth": 1
          },
          "autotypenumbers": "strict",
          "coloraxis": {
           "colorbar": {
            "outlinewidth": 0,
            "ticks": ""
           }
          },
          "colorscale": {
           "diverging": [
            [
             0,
             "#8e0152"
            ],
            [
             0.1,
             "#c51b7d"
            ],
            [
             0.2,
             "#de77ae"
            ],
            [
             0.3,
             "#f1b6da"
            ],
            [
             0.4,
             "#fde0ef"
            ],
            [
             0.5,
             "#f7f7f7"
            ],
            [
             0.6,
             "#e6f5d0"
            ],
            [
             0.7,
             "#b8e186"
            ],
            [
             0.8,
             "#7fbc41"
            ],
            [
             0.9,
             "#4d9221"
            ],
            [
             1,
             "#276419"
            ]
           ],
           "sequential": [
            [
             0,
             "#0d0887"
            ],
            [
             0.1111111111111111,
             "#46039f"
            ],
            [
             0.2222222222222222,
             "#7201a8"
            ],
            [
             0.3333333333333333,
             "#9c179e"
            ],
            [
             0.4444444444444444,
             "#bd3786"
            ],
            [
             0.5555555555555556,
             "#d8576b"
            ],
            [
             0.6666666666666666,
             "#ed7953"
            ],
            [
             0.7777777777777778,
             "#fb9f3a"
            ],
            [
             0.8888888888888888,
             "#fdca26"
            ],
            [
             1,
             "#f0f921"
            ]
           ],
           "sequentialminus": [
            [
             0,
             "#0d0887"
            ],
            [
             0.1111111111111111,
             "#46039f"
            ],
            [
             0.2222222222222222,
             "#7201a8"
            ],
            [
             0.3333333333333333,
             "#9c179e"
            ],
            [
             0.4444444444444444,
             "#bd3786"
            ],
            [
             0.5555555555555556,
             "#d8576b"
            ],
            [
             0.6666666666666666,
             "#ed7953"
            ],
            [
             0.7777777777777778,
             "#fb9f3a"
            ],
            [
             0.8888888888888888,
             "#fdca26"
            ],
            [
             1,
             "#f0f921"
            ]
           ]
          },
          "colorway": [
           "#636efa",
           "#EF553B",
           "#00cc96",
           "#ab63fa",
           "#FFA15A",
           "#19d3f3",
           "#FF6692",
           "#B6E880",
           "#FF97FF",
           "#FECB52"
          ],
          "font": {
           "color": "#2a3f5f"
          },
          "geo": {
           "bgcolor": "white",
           "lakecolor": "white",
           "landcolor": "#E5ECF6",
           "showlakes": true,
           "showland": true,
           "subunitcolor": "white"
          },
          "hoverlabel": {
           "align": "left"
          },
          "hovermode": "closest",
          "mapbox": {
           "style": "light"
          },
          "paper_bgcolor": "white",
          "plot_bgcolor": "#E5ECF6",
          "polar": {
           "angularaxis": {
            "gridcolor": "white",
            "linecolor": "white",
            "ticks": ""
           },
           "bgcolor": "#E5ECF6",
           "radialaxis": {
            "gridcolor": "white",
            "linecolor": "white",
            "ticks": ""
           }
          },
          "scene": {
           "xaxis": {
            "backgroundcolor": "#E5ECF6",
            "gridcolor": "white",
            "gridwidth": 2,
            "linecolor": "white",
            "showbackground": true,
            "ticks": "",
            "zerolinecolor": "white"
           },
           "yaxis": {
            "backgroundcolor": "#E5ECF6",
            "gridcolor": "white",
            "gridwidth": 2,
            "linecolor": "white",
            "showbackground": true,
            "ticks": "",
            "zerolinecolor": "white"
           },
           "zaxis": {
            "backgroundcolor": "#E5ECF6",
            "gridcolor": "white",
            "gridwidth": 2,
            "linecolor": "white",
            "showbackground": true,
            "ticks": "",
            "zerolinecolor": "white"
           }
          },
          "shapedefaults": {
           "line": {
            "color": "#2a3f5f"
           }
          },
          "ternary": {
           "aaxis": {
            "gridcolor": "white",
            "linecolor": "white",
            "ticks": ""
           },
           "baxis": {
            "gridcolor": "white",
            "linecolor": "white",
            "ticks": ""
           },
           "bgcolor": "#E5ECF6",
           "caxis": {
            "gridcolor": "white",
            "linecolor": "white",
            "ticks": ""
           }
          },
          "title": {
           "x": 0.05
          },
          "xaxis": {
           "automargin": true,
           "gridcolor": "white",
           "linecolor": "white",
           "ticks": "",
           "title": {
            "standoff": 15
           },
           "zerolinecolor": "white",
           "zerolinewidth": 2
          },
          "yaxis": {
           "automargin": true,
           "gridcolor": "white",
           "linecolor": "white",
           "ticks": "",
           "title": {
            "standoff": 15
           },
           "zerolinecolor": "white",
           "zerolinewidth": 2
          }
         }
        },
        "title": {
         "font": {
          "size": 20
         },
         "text": "Summed Frequency per Site for Africa in Date Range 150–200",
         "x": 0.5
        }
       }
      }
     },
     "metadata": {},
     "output_type": "display_data"
    }
   ],
   "source": [
    "fig = px.scatter_geo(Africa_map,\n",
    "                     lat = Africa_map.geometry.y,          # param for latitude coordinates\n",
    "                     lon = Africa_map.geometry.x,          # param for longitude\n",
    "                     height = 1200, \n",
    "                     #text = Africa_map['Site'],           # param to add labels to dots, better do not use\n",
    "                     size = Africa_map.Summed_freq,        # param for dot size scaling\n",
    "                     scope = 'europe',                     # param for resrticting a map to a specific continent\n",
    "                     projection = 'mercator')              # param for geographic projection\n",
    "                      \n",
    "\n",
    "    \n",
    "# centre map by lat and long of a country\n",
    "# set up a 'projection_scale' to zoom into the country \n",
    "\n",
    "fig.update_geos(projection_scale = 6, center_lat = 41.8719, center_lon = 12.5674)\n",
    "\n",
    "# title of the map, its potion (title_x) and font size can be set up\n",
    "fig.update_layout(title_text = 'Summed Frequency per Site for Africa in Date Range 150–200', \n",
    "                  title_x = 0.5, \n",
    "                  title_font_size = 20)\n",
    "   \n",
    "\n",
    "fig.write_image('fig1.pdf') # to save plot (any format, .pdf, .png, etc )   \n",
    "fig.show()"
   ]
  },
  {
   "cell_type": "markdown",
   "id": "56845b93-dab3-46fe-9ef0-481a117144b6",
   "metadata": {},
   "source": [
    "#### The **dot colour** is scaled by the sum frequency per group of unique *'Sites'*"
   ]
  },
  {
   "cell_type": "code",
   "execution_count": 15,
   "id": "c5ec3f9a-7de4-4b01-8088-0116e4640ef6",
   "metadata": {
    "execution": {
     "iopub.execute_input": "2021-12-20T10:14:12.613118Z",
     "iopub.status.busy": "2021-12-20T10:14:12.612516Z",
     "iopub.status.idle": "2021-12-20T10:14:12.668567Z",
     "shell.execute_reply": "2021-12-20T10:14:12.668018Z",
     "shell.execute_reply.started": "2021-12-20T10:14:12.613066Z"
    },
    "tags": []
   },
   "outputs": [
    {
     "data": {
      "application/vnd.plotly.v1+json": {
       "config": {
        "plotlyServerURL": "https://plot.ly"
       },
       "data": [
        {
         "geo": "geo",
         "hovertemplate": "lat=%{lat}<br>lon=%{lon}<br>Summed_freq=%{marker.color}<extra></extra>",
         "lat": [
          44.700835,
          45.768945,
          41.8858204,
          41.891775,
          42.0151801444,
          45.594849,
          40.825838,
          40.8476741,
          41.88333,
          45.768945,
          44.065164,
          41.8953146648,
          41.754855,
          41.7527197453,
          41.754855,
          41.756389318,
          41.754855,
          41.754855,
          45.409561,
          40.839995,
          39.360882,
          39.360882,
          44.9992,
          42.0153455,
          40.820922,
          41.8893064,
          41.8925745251,
          41.890169,
          41.8893064,
          41.891775,
          41.8924123712,
          41.883333,
          41.883333,
          41.883333,
          41.8944448,
          41.8925745251,
          43.95844,
          42.72437,
          41.8893064,
          41.8893064,
          45.4421295463,
          41.8893064,
          40.6998164,
          40.7031479
         ],
         "legendgroup": "",
         "lon": [
          8.035244,
          13.3677735,
          12.4966238,
          12.486137,
          11.9637192735,
          12.8708,
          14.1217415,
          14.0562815333,
          12.46667,
          13.3677735,
          10.024166,
          12.4855481431,
          12.287656,
          12.2892267207,
          12.287656,
          12.2910075129,
          12.287656,
          12.287656,
          11.876975,
          14.25287,
          16.04056,
          16.04056,
          11.75105,
          11.963217,
          14.119851,
          12.4871093,
          12.4847567763,
          12.492269,
          12.4871093,
          12.486137,
          12.4973470428,
          12.483333,
          12.483333,
          12.483333,
          12.4784041,
          12.4847567763,
          12.73861,
          12.29078,
          12.4871093,
          12.4871093,
          10.9957360051,
          12.4871093,
          14.4917605,
          14.4991112
         ],
         "marker": {
          "color": [
           2.4,
           6.575,
           8.266666666666667,
           1.7948717948717947,
           0.2564102564102564,
           0.5025125628140703,
           2.0100502512562812,
           0.2564102564102564,
           39.28590571907155,
           2,
           0.2564102564102564,
           4.102564102564103,
           0.5128205128205128,
           14.781118811744605,
           0.5025125628140703,
           2.7998969204999353,
           0.9692307692307693,
           66.82380952380952,
           0.33333333333333337,
           1.0050251256281406,
           3,
           0.2,
           1.7587939698492463,
           0.2857142857142857,
           15.933333333333334,
           9.75128205128205,
           4.09010989010989,
           48.805025125628134,
           8.68187089292617,
           4.610076021131297,
           10.466434737791522,
           9.046153846153846,
           29.6,
           4.3999999999999995,
           1.6613838422883647,
           45.37242991514348,
           1.256281407035176,
           4.420487050637805,
           0.7692307692307693,
           1.3666666666666667,
           13.239708117968988,
           58.44029304029304,
           0.8076923076923077,
           0.25125628140703515
          ],
          "coloraxis": "coloraxis",
          "symbol": "circle"
         },
         "mode": "markers",
         "name": "",
         "showlegend": false,
         "type": "scattergeo"
        }
       ],
       "layout": {
        "coloraxis": {
         "colorbar": {
          "len": 0.8,
          "title": {
           "text": " "
          },
          "xanchor": "center",
          "xpad": 192,
          "y": 0.6
         },
         "colorscale": [
          [
           0,
           "#1ed14b"
          ],
          [
           1,
           "#d63638"
          ]
         ]
        },
        "geo": {
         "center": {
          "lat": 41.8719,
          "lon": 12.5674
         },
         "domain": {
          "x": [
           0,
           1
          ],
          "y": [
           0,
           1
          ]
         },
         "projection": {
          "scale": 6,
          "type": "mercator"
         },
         "scope": "europe"
        },
        "height": 1200,
        "legend": {
         "tracegroupgap": 0
        },
        "margin": {
         "t": 60
        },
        "template": {
         "data": {
          "bar": [
           {
            "error_x": {
             "color": "#2a3f5f"
            },
            "error_y": {
             "color": "#2a3f5f"
            },
            "marker": {
             "line": {
              "color": "#E5ECF6",
              "width": 0.5
             },
             "pattern": {
              "fillmode": "overlay",
              "size": 10,
              "solidity": 0.2
             }
            },
            "type": "bar"
           }
          ],
          "barpolar": [
           {
            "marker": {
             "line": {
              "color": "#E5ECF6",
              "width": 0.5
             },
             "pattern": {
              "fillmode": "overlay",
              "size": 10,
              "solidity": 0.2
             }
            },
            "type": "barpolar"
           }
          ],
          "carpet": [
           {
            "aaxis": {
             "endlinecolor": "#2a3f5f",
             "gridcolor": "white",
             "linecolor": "white",
             "minorgridcolor": "white",
             "startlinecolor": "#2a3f5f"
            },
            "baxis": {
             "endlinecolor": "#2a3f5f",
             "gridcolor": "white",
             "linecolor": "white",
             "minorgridcolor": "white",
             "startlinecolor": "#2a3f5f"
            },
            "type": "carpet"
           }
          ],
          "choropleth": [
           {
            "colorbar": {
             "outlinewidth": 0,
             "ticks": ""
            },
            "type": "choropleth"
           }
          ],
          "contour": [
           {
            "colorbar": {
             "outlinewidth": 0,
             "ticks": ""
            },
            "colorscale": [
             [
              0,
              "#0d0887"
             ],
             [
              0.1111111111111111,
              "#46039f"
             ],
             [
              0.2222222222222222,
              "#7201a8"
             ],
             [
              0.3333333333333333,
              "#9c179e"
             ],
             [
              0.4444444444444444,
              "#bd3786"
             ],
             [
              0.5555555555555556,
              "#d8576b"
             ],
             [
              0.6666666666666666,
              "#ed7953"
             ],
             [
              0.7777777777777778,
              "#fb9f3a"
             ],
             [
              0.8888888888888888,
              "#fdca26"
             ],
             [
              1,
              "#f0f921"
             ]
            ],
            "type": "contour"
           }
          ],
          "contourcarpet": [
           {
            "colorbar": {
             "outlinewidth": 0,
             "ticks": ""
            },
            "type": "contourcarpet"
           }
          ],
          "heatmap": [
           {
            "colorbar": {
             "outlinewidth": 0,
             "ticks": ""
            },
            "colorscale": [
             [
              0,
              "#0d0887"
             ],
             [
              0.1111111111111111,
              "#46039f"
             ],
             [
              0.2222222222222222,
              "#7201a8"
             ],
             [
              0.3333333333333333,
              "#9c179e"
             ],
             [
              0.4444444444444444,
              "#bd3786"
             ],
             [
              0.5555555555555556,
              "#d8576b"
             ],
             [
              0.6666666666666666,
              "#ed7953"
             ],
             [
              0.7777777777777778,
              "#fb9f3a"
             ],
             [
              0.8888888888888888,
              "#fdca26"
             ],
             [
              1,
              "#f0f921"
             ]
            ],
            "type": "heatmap"
           }
          ],
          "heatmapgl": [
           {
            "colorbar": {
             "outlinewidth": 0,
             "ticks": ""
            },
            "colorscale": [
             [
              0,
              "#0d0887"
             ],
             [
              0.1111111111111111,
              "#46039f"
             ],
             [
              0.2222222222222222,
              "#7201a8"
             ],
             [
              0.3333333333333333,
              "#9c179e"
             ],
             [
              0.4444444444444444,
              "#bd3786"
             ],
             [
              0.5555555555555556,
              "#d8576b"
             ],
             [
              0.6666666666666666,
              "#ed7953"
             ],
             [
              0.7777777777777778,
              "#fb9f3a"
             ],
             [
              0.8888888888888888,
              "#fdca26"
             ],
             [
              1,
              "#f0f921"
             ]
            ],
            "type": "heatmapgl"
           }
          ],
          "histogram": [
           {
            "marker": {
             "pattern": {
              "fillmode": "overlay",
              "size": 10,
              "solidity": 0.2
             }
            },
            "type": "histogram"
           }
          ],
          "histogram2d": [
           {
            "colorbar": {
             "outlinewidth": 0,
             "ticks": ""
            },
            "colorscale": [
             [
              0,
              "#0d0887"
             ],
             [
              0.1111111111111111,
              "#46039f"
             ],
             [
              0.2222222222222222,
              "#7201a8"
             ],
             [
              0.3333333333333333,
              "#9c179e"
             ],
             [
              0.4444444444444444,
              "#bd3786"
             ],
             [
              0.5555555555555556,
              "#d8576b"
             ],
             [
              0.6666666666666666,
              "#ed7953"
             ],
             [
              0.7777777777777778,
              "#fb9f3a"
             ],
             [
              0.8888888888888888,
              "#fdca26"
             ],
             [
              1,
              "#f0f921"
             ]
            ],
            "type": "histogram2d"
           }
          ],
          "histogram2dcontour": [
           {
            "colorbar": {
             "outlinewidth": 0,
             "ticks": ""
            },
            "colorscale": [
             [
              0,
              "#0d0887"
             ],
             [
              0.1111111111111111,
              "#46039f"
             ],
             [
              0.2222222222222222,
              "#7201a8"
             ],
             [
              0.3333333333333333,
              "#9c179e"
             ],
             [
              0.4444444444444444,
              "#bd3786"
             ],
             [
              0.5555555555555556,
              "#d8576b"
             ],
             [
              0.6666666666666666,
              "#ed7953"
             ],
             [
              0.7777777777777778,
              "#fb9f3a"
             ],
             [
              0.8888888888888888,
              "#fdca26"
             ],
             [
              1,
              "#f0f921"
             ]
            ],
            "type": "histogram2dcontour"
           }
          ],
          "mesh3d": [
           {
            "colorbar": {
             "outlinewidth": 0,
             "ticks": ""
            },
            "type": "mesh3d"
           }
          ],
          "parcoords": [
           {
            "line": {
             "colorbar": {
              "outlinewidth": 0,
              "ticks": ""
             }
            },
            "type": "parcoords"
           }
          ],
          "pie": [
           {
            "automargin": true,
            "type": "pie"
           }
          ],
          "scatter": [
           {
            "marker": {
             "colorbar": {
              "outlinewidth": 0,
              "ticks": ""
             }
            },
            "type": "scatter"
           }
          ],
          "scatter3d": [
           {
            "line": {
             "colorbar": {
              "outlinewidth": 0,
              "ticks": ""
             }
            },
            "marker": {
             "colorbar": {
              "outlinewidth": 0,
              "ticks": ""
             }
            },
            "type": "scatter3d"
           }
          ],
          "scattercarpet": [
           {
            "marker": {
             "colorbar": {
              "outlinewidth": 0,
              "ticks": ""
             }
            },
            "type": "scattercarpet"
           }
          ],
          "scattergeo": [
           {
            "marker": {
             "colorbar": {
              "outlinewidth": 0,
              "ticks": ""
             }
            },
            "type": "scattergeo"
           }
          ],
          "scattergl": [
           {
            "marker": {
             "colorbar": {
              "outlinewidth": 0,
              "ticks": ""
             }
            },
            "type": "scattergl"
           }
          ],
          "scattermapbox": [
           {
            "marker": {
             "colorbar": {
              "outlinewidth": 0,
              "ticks": ""
             }
            },
            "type": "scattermapbox"
           }
          ],
          "scatterpolar": [
           {
            "marker": {
             "colorbar": {
              "outlinewidth": 0,
              "ticks": ""
             }
            },
            "type": "scatterpolar"
           }
          ],
          "scatterpolargl": [
           {
            "marker": {
             "colorbar": {
              "outlinewidth": 0,
              "ticks": ""
             }
            },
            "type": "scatterpolargl"
           }
          ],
          "scatterternary": [
           {
            "marker": {
             "colorbar": {
              "outlinewidth": 0,
              "ticks": ""
             }
            },
            "type": "scatterternary"
           }
          ],
          "surface": [
           {
            "colorbar": {
             "outlinewidth": 0,
             "ticks": ""
            },
            "colorscale": [
             [
              0,
              "#0d0887"
             ],
             [
              0.1111111111111111,
              "#46039f"
             ],
             [
              0.2222222222222222,
              "#7201a8"
             ],
             [
              0.3333333333333333,
              "#9c179e"
             ],
             [
              0.4444444444444444,
              "#bd3786"
             ],
             [
              0.5555555555555556,
              "#d8576b"
             ],
             [
              0.6666666666666666,
              "#ed7953"
             ],
             [
              0.7777777777777778,
              "#fb9f3a"
             ],
             [
              0.8888888888888888,
              "#fdca26"
             ],
             [
              1,
              "#f0f921"
             ]
            ],
            "type": "surface"
           }
          ],
          "table": [
           {
            "cells": {
             "fill": {
              "color": "#EBF0F8"
             },
             "line": {
              "color": "white"
             }
            },
            "header": {
             "fill": {
              "color": "#C8D4E3"
             },
             "line": {
              "color": "white"
             }
            },
            "type": "table"
           }
          ]
         },
         "layout": {
          "annotationdefaults": {
           "arrowcolor": "#2a3f5f",
           "arrowhead": 0,
           "arrowwidth": 1
          },
          "autotypenumbers": "strict",
          "coloraxis": {
           "colorbar": {
            "outlinewidth": 0,
            "ticks": ""
           }
          },
          "colorscale": {
           "diverging": [
            [
             0,
             "#8e0152"
            ],
            [
             0.1,
             "#c51b7d"
            ],
            [
             0.2,
             "#de77ae"
            ],
            [
             0.3,
             "#f1b6da"
            ],
            [
             0.4,
             "#fde0ef"
            ],
            [
             0.5,
             "#f7f7f7"
            ],
            [
             0.6,
             "#e6f5d0"
            ],
            [
             0.7,
             "#b8e186"
            ],
            [
             0.8,
             "#7fbc41"
            ],
            [
             0.9,
             "#4d9221"
            ],
            [
             1,
             "#276419"
            ]
           ],
           "sequential": [
            [
             0,
             "#0d0887"
            ],
            [
             0.1111111111111111,
             "#46039f"
            ],
            [
             0.2222222222222222,
             "#7201a8"
            ],
            [
             0.3333333333333333,
             "#9c179e"
            ],
            [
             0.4444444444444444,
             "#bd3786"
            ],
            [
             0.5555555555555556,
             "#d8576b"
            ],
            [
             0.6666666666666666,
             "#ed7953"
            ],
            [
             0.7777777777777778,
             "#fb9f3a"
            ],
            [
             0.8888888888888888,
             "#fdca26"
            ],
            [
             1,
             "#f0f921"
            ]
           ],
           "sequentialminus": [
            [
             0,
             "#0d0887"
            ],
            [
             0.1111111111111111,
             "#46039f"
            ],
            [
             0.2222222222222222,
             "#7201a8"
            ],
            [
             0.3333333333333333,
             "#9c179e"
            ],
            [
             0.4444444444444444,
             "#bd3786"
            ],
            [
             0.5555555555555556,
             "#d8576b"
            ],
            [
             0.6666666666666666,
             "#ed7953"
            ],
            [
             0.7777777777777778,
             "#fb9f3a"
            ],
            [
             0.8888888888888888,
             "#fdca26"
            ],
            [
             1,
             "#f0f921"
            ]
           ]
          },
          "colorway": [
           "#636efa",
           "#EF553B",
           "#00cc96",
           "#ab63fa",
           "#FFA15A",
           "#19d3f3",
           "#FF6692",
           "#B6E880",
           "#FF97FF",
           "#FECB52"
          ],
          "font": {
           "color": "#2a3f5f"
          },
          "geo": {
           "bgcolor": "white",
           "lakecolor": "white",
           "landcolor": "#E5ECF6",
           "showlakes": true,
           "showland": true,
           "subunitcolor": "white"
          },
          "hoverlabel": {
           "align": "left"
          },
          "hovermode": "closest",
          "mapbox": {
           "style": "light"
          },
          "paper_bgcolor": "white",
          "plot_bgcolor": "#E5ECF6",
          "polar": {
           "angularaxis": {
            "gridcolor": "white",
            "linecolor": "white",
            "ticks": ""
           },
           "bgcolor": "#E5ECF6",
           "radialaxis": {
            "gridcolor": "white",
            "linecolor": "white",
            "ticks": ""
           }
          },
          "scene": {
           "xaxis": {
            "backgroundcolor": "#E5ECF6",
            "gridcolor": "white",
            "gridwidth": 2,
            "linecolor": "white",
            "showbackground": true,
            "ticks": "",
            "zerolinecolor": "white"
           },
           "yaxis": {
            "backgroundcolor": "#E5ECF6",
            "gridcolor": "white",
            "gridwidth": 2,
            "linecolor": "white",
            "showbackground": true,
            "ticks": "",
            "zerolinecolor": "white"
           },
           "zaxis": {
            "backgroundcolor": "#E5ECF6",
            "gridcolor": "white",
            "gridwidth": 2,
            "linecolor": "white",
            "showbackground": true,
            "ticks": "",
            "zerolinecolor": "white"
           }
          },
          "shapedefaults": {
           "line": {
            "color": "#2a3f5f"
           }
          },
          "ternary": {
           "aaxis": {
            "gridcolor": "white",
            "linecolor": "white",
            "ticks": ""
           },
           "baxis": {
            "gridcolor": "white",
            "linecolor": "white",
            "ticks": ""
           },
           "bgcolor": "#E5ECF6",
           "caxis": {
            "gridcolor": "white",
            "linecolor": "white",
            "ticks": ""
           }
          },
          "title": {
           "x": 0.05
          },
          "xaxis": {
           "automargin": true,
           "gridcolor": "white",
           "linecolor": "white",
           "ticks": "",
           "title": {
            "standoff": 15
           },
           "zerolinecolor": "white",
           "zerolinewidth": 2
          },
          "yaxis": {
           "automargin": true,
           "gridcolor": "white",
           "linecolor": "white",
           "ticks": "",
           "title": {
            "standoff": 15
           },
           "zerolinecolor": "white",
           "zerolinewidth": 2
          }
         }
        },
        "title": {
         "font": {
          "size": 20
         },
         "text": "Summed Frequency per Site for Africa in Date Range 150–200",
         "x": 0.43
        }
       }
      }
     },
     "metadata": {},
     "output_type": "display_data"
    }
   ],
   "source": [
    "fig = px.scatter_geo(Africa_map,\n",
    "                     lat = Africa_map.geometry.y,\n",
    "                     lon = Africa_map.geometry.x,\n",
    "                     height = 1200,\n",
    "                     color = Africa_map.Summed_freq,\n",
    "                   #  text = Africa_map['Site'],                        # param to add labels to dots  \n",
    "                     scope = 'europe',  \n",
    "                     color_continuous_scale = ['#1ed14b',  '#d63638'],  # param for colourbar palette\n",
    "                     projection = 'mercator')         \n",
    "\n",
    "\n",
    "fig.update_geos(projection_scale = 6, center_lat = 41.8719, center_lon = 12.5674)\n",
    "\n",
    "\n",
    "fig.update_layout(title_text = 'Summed Frequency per Site for Africa in Date Range 150–200', \n",
    "                  title_x = 0.43, \n",
    "                  title_font_size = 20, \n",
    "                  coloraxis_colorbar = dict(len = 0.80, y = 0.60, xanchor = 'center', xpad = 192, title = ' '))\n",
    "\n",
    "fig.write_image('fig2.pdf')\n",
    "fig.show()\n"
   ]
  },
  {
   "cell_type": "markdown",
   "id": "994977e6-735d-4fa1-aae4-eadff86f84c6",
   "metadata": {},
   "source": [
    "#### 12.2 **Show *'Sites'* at which there is evidence of *'Amphora types'* in a given *'Provenance'***\n"
   ]
  },
  {
   "cell_type": "code",
   "execution_count": 16,
   "id": "0acf494d-1e1f-4788-a7a6-0803db69a262",
   "metadata": {
    "execution": {
     "iopub.execute_input": "2021-12-20T10:07:52.085238Z",
     "iopub.status.busy": "2021-12-20T10:07:52.084557Z",
     "iopub.status.idle": "2021-12-20T10:07:52.137462Z",
     "shell.execute_reply": "2021-12-20T10:07:52.136902Z",
     "shell.execute_reply.started": "2021-12-20T10:07:52.085187Z"
    },
    "tags": []
   },
   "outputs": [
    {
     "data": {
      "application/vnd.plotly.v1+json": {
       "config": {
        "plotlyServerURL": "https://plot.ly"
       },
       "data": [
        {
         "geo": "geo",
         "hovertemplate": "lat=%{lat}<br>lon=%{lon}<extra></extra>",
         "lat": [
          44.700835,
          45.768945,
          41.8858204,
          41.891775,
          42.0151801444,
          45.594849,
          40.825838,
          40.8476741,
          41.88333,
          45.768945,
          44.065164,
          41.8953146648,
          41.754855,
          41.7527197453,
          41.754855,
          41.756389318,
          41.754855,
          41.754855,
          45.409561,
          40.839995,
          39.360882,
          39.360882,
          44.9992,
          42.0153455,
          40.820922,
          41.8893064,
          41.8925745251,
          41.890169,
          41.8893064,
          41.891775,
          41.8924123712,
          41.883333,
          41.883333,
          41.883333,
          41.8944448,
          41.8925745251,
          43.95844,
          42.72437,
          41.8893064,
          41.8893064,
          45.4421295463,
          41.8893064,
          40.6998164,
          40.7031479
         ],
         "legendgroup": "",
         "lon": [
          8.035244,
          13.3677735,
          12.4966238,
          12.486137,
          11.9637192735,
          12.8708,
          14.1217415,
          14.0562815333,
          12.46667,
          13.3677735,
          10.024166,
          12.4855481431,
          12.287656,
          12.2892267207,
          12.287656,
          12.2910075129,
          12.287656,
          12.287656,
          11.876975,
          14.25287,
          16.04056,
          16.04056,
          11.75105,
          11.963217,
          14.119851,
          12.4871093,
          12.4847567763,
          12.492269,
          12.4871093,
          12.486137,
          12.4973470428,
          12.483333,
          12.483333,
          12.483333,
          12.4784041,
          12.4847567763,
          12.73861,
          12.29078,
          12.4871093,
          12.4871093,
          10.9957360051,
          12.4871093,
          14.4917605,
          14.4991112
         ],
         "marker": {
          "color": "#636efa",
          "symbol": "circle"
         },
         "mode": "markers",
         "name": "",
         "showlegend": false,
         "type": "scattergeo"
        }
       ],
       "layout": {
        "geo": {
         "center": {
          "lat": 41.8719,
          "lon": 12.5674
         },
         "domain": {
          "x": [
           0,
           1
          ],
          "y": [
           0,
           1
          ]
         },
         "projection": {
          "scale": 6,
          "type": "mercator"
         },
         "scope": "europe"
        },
        "height": 1200,
        "legend": {
         "tracegroupgap": 0
        },
        "margin": {
         "t": 60
        },
        "template": {
         "data": {
          "bar": [
           {
            "error_x": {
             "color": "#2a3f5f"
            },
            "error_y": {
             "color": "#2a3f5f"
            },
            "marker": {
             "line": {
              "color": "#E5ECF6",
              "width": 0.5
             },
             "pattern": {
              "fillmode": "overlay",
              "size": 10,
              "solidity": 0.2
             }
            },
            "type": "bar"
           }
          ],
          "barpolar": [
           {
            "marker": {
             "line": {
              "color": "#E5ECF6",
              "width": 0.5
             },
             "pattern": {
              "fillmode": "overlay",
              "size": 10,
              "solidity": 0.2
             }
            },
            "type": "barpolar"
           }
          ],
          "carpet": [
           {
            "aaxis": {
             "endlinecolor": "#2a3f5f",
             "gridcolor": "white",
             "linecolor": "white",
             "minorgridcolor": "white",
             "startlinecolor": "#2a3f5f"
            },
            "baxis": {
             "endlinecolor": "#2a3f5f",
             "gridcolor": "white",
             "linecolor": "white",
             "minorgridcolor": "white",
             "startlinecolor": "#2a3f5f"
            },
            "type": "carpet"
           }
          ],
          "choropleth": [
           {
            "colorbar": {
             "outlinewidth": 0,
             "ticks": ""
            },
            "type": "choropleth"
           }
          ],
          "contour": [
           {
            "colorbar": {
             "outlinewidth": 0,
             "ticks": ""
            },
            "colorscale": [
             [
              0,
              "#0d0887"
             ],
             [
              0.1111111111111111,
              "#46039f"
             ],
             [
              0.2222222222222222,
              "#7201a8"
             ],
             [
              0.3333333333333333,
              "#9c179e"
             ],
             [
              0.4444444444444444,
              "#bd3786"
             ],
             [
              0.5555555555555556,
              "#d8576b"
             ],
             [
              0.6666666666666666,
              "#ed7953"
             ],
             [
              0.7777777777777778,
              "#fb9f3a"
             ],
             [
              0.8888888888888888,
              "#fdca26"
             ],
             [
              1,
              "#f0f921"
             ]
            ],
            "type": "contour"
           }
          ],
          "contourcarpet": [
           {
            "colorbar": {
             "outlinewidth": 0,
             "ticks": ""
            },
            "type": "contourcarpet"
           }
          ],
          "heatmap": [
           {
            "colorbar": {
             "outlinewidth": 0,
             "ticks": ""
            },
            "colorscale": [
             [
              0,
              "#0d0887"
             ],
             [
              0.1111111111111111,
              "#46039f"
             ],
             [
              0.2222222222222222,
              "#7201a8"
             ],
             [
              0.3333333333333333,
              "#9c179e"
             ],
             [
              0.4444444444444444,
              "#bd3786"
             ],
             [
              0.5555555555555556,
              "#d8576b"
             ],
             [
              0.6666666666666666,
              "#ed7953"
             ],
             [
              0.7777777777777778,
              "#fb9f3a"
             ],
             [
              0.8888888888888888,
              "#fdca26"
             ],
             [
              1,
              "#f0f921"
             ]
            ],
            "type": "heatmap"
           }
          ],
          "heatmapgl": [
           {
            "colorbar": {
             "outlinewidth": 0,
             "ticks": ""
            },
            "colorscale": [
             [
              0,
              "#0d0887"
             ],
             [
              0.1111111111111111,
              "#46039f"
             ],
             [
              0.2222222222222222,
              "#7201a8"
             ],
             [
              0.3333333333333333,
              "#9c179e"
             ],
             [
              0.4444444444444444,
              "#bd3786"
             ],
             [
              0.5555555555555556,
              "#d8576b"
             ],
             [
              0.6666666666666666,
              "#ed7953"
             ],
             [
              0.7777777777777778,
              "#fb9f3a"
             ],
             [
              0.8888888888888888,
              "#fdca26"
             ],
             [
              1,
              "#f0f921"
             ]
            ],
            "type": "heatmapgl"
           }
          ],
          "histogram": [
           {
            "marker": {
             "pattern": {
              "fillmode": "overlay",
              "size": 10,
              "solidity": 0.2
             }
            },
            "type": "histogram"
           }
          ],
          "histogram2d": [
           {
            "colorbar": {
             "outlinewidth": 0,
             "ticks": ""
            },
            "colorscale": [
             [
              0,
              "#0d0887"
             ],
             [
              0.1111111111111111,
              "#46039f"
             ],
             [
              0.2222222222222222,
              "#7201a8"
             ],
             [
              0.3333333333333333,
              "#9c179e"
             ],
             [
              0.4444444444444444,
              "#bd3786"
             ],
             [
              0.5555555555555556,
              "#d8576b"
             ],
             [
              0.6666666666666666,
              "#ed7953"
             ],
             [
              0.7777777777777778,
              "#fb9f3a"
             ],
             [
              0.8888888888888888,
              "#fdca26"
             ],
             [
              1,
              "#f0f921"
             ]
            ],
            "type": "histogram2d"
           }
          ],
          "histogram2dcontour": [
           {
            "colorbar": {
             "outlinewidth": 0,
             "ticks": ""
            },
            "colorscale": [
             [
              0,
              "#0d0887"
             ],
             [
              0.1111111111111111,
              "#46039f"
             ],
             [
              0.2222222222222222,
              "#7201a8"
             ],
             [
              0.3333333333333333,
              "#9c179e"
             ],
             [
              0.4444444444444444,
              "#bd3786"
             ],
             [
              0.5555555555555556,
              "#d8576b"
             ],
             [
              0.6666666666666666,
              "#ed7953"
             ],
             [
              0.7777777777777778,
              "#fb9f3a"
             ],
             [
              0.8888888888888888,
              "#fdca26"
             ],
             [
              1,
              "#f0f921"
             ]
            ],
            "type": "histogram2dcontour"
           }
          ],
          "mesh3d": [
           {
            "colorbar": {
             "outlinewidth": 0,
             "ticks": ""
            },
            "type": "mesh3d"
           }
          ],
          "parcoords": [
           {
            "line": {
             "colorbar": {
              "outlinewidth": 0,
              "ticks": ""
             }
            },
            "type": "parcoords"
           }
          ],
          "pie": [
           {
            "automargin": true,
            "type": "pie"
           }
          ],
          "scatter": [
           {
            "marker": {
             "colorbar": {
              "outlinewidth": 0,
              "ticks": ""
             }
            },
            "type": "scatter"
           }
          ],
          "scatter3d": [
           {
            "line": {
             "colorbar": {
              "outlinewidth": 0,
              "ticks": ""
             }
            },
            "marker": {
             "colorbar": {
              "outlinewidth": 0,
              "ticks": ""
             }
            },
            "type": "scatter3d"
           }
          ],
          "scattercarpet": [
           {
            "marker": {
             "colorbar": {
              "outlinewidth": 0,
              "ticks": ""
             }
            },
            "type": "scattercarpet"
           }
          ],
          "scattergeo": [
           {
            "marker": {
             "colorbar": {
              "outlinewidth": 0,
              "ticks": ""
             }
            },
            "type": "scattergeo"
           }
          ],
          "scattergl": [
           {
            "marker": {
             "colorbar": {
              "outlinewidth": 0,
              "ticks": ""
             }
            },
            "type": "scattergl"
           }
          ],
          "scattermapbox": [
           {
            "marker": {
             "colorbar": {
              "outlinewidth": 0,
              "ticks": ""
             }
            },
            "type": "scattermapbox"
           }
          ],
          "scatterpolar": [
           {
            "marker": {
             "colorbar": {
              "outlinewidth": 0,
              "ticks": ""
             }
            },
            "type": "scatterpolar"
           }
          ],
          "scatterpolargl": [
           {
            "marker": {
             "colorbar": {
              "outlinewidth": 0,
              "ticks": ""
             }
            },
            "type": "scatterpolargl"
           }
          ],
          "scatterternary": [
           {
            "marker": {
             "colorbar": {
              "outlinewidth": 0,
              "ticks": ""
             }
            },
            "type": "scatterternary"
           }
          ],
          "surface": [
           {
            "colorbar": {
             "outlinewidth": 0,
             "ticks": ""
            },
            "colorscale": [
             [
              0,
              "#0d0887"
             ],
             [
              0.1111111111111111,
              "#46039f"
             ],
             [
              0.2222222222222222,
              "#7201a8"
             ],
             [
              0.3333333333333333,
              "#9c179e"
             ],
             [
              0.4444444444444444,
              "#bd3786"
             ],
             [
              0.5555555555555556,
              "#d8576b"
             ],
             [
              0.6666666666666666,
              "#ed7953"
             ],
             [
              0.7777777777777778,
              "#fb9f3a"
             ],
             [
              0.8888888888888888,
              "#fdca26"
             ],
             [
              1,
              "#f0f921"
             ]
            ],
            "type": "surface"
           }
          ],
          "table": [
           {
            "cells": {
             "fill": {
              "color": "#EBF0F8"
             },
             "line": {
              "color": "white"
             }
            },
            "header": {
             "fill": {
              "color": "#C8D4E3"
             },
             "line": {
              "color": "white"
             }
            },
            "type": "table"
           }
          ]
         },
         "layout": {
          "annotationdefaults": {
           "arrowcolor": "#2a3f5f",
           "arrowhead": 0,
           "arrowwidth": 1
          },
          "autotypenumbers": "strict",
          "coloraxis": {
           "colorbar": {
            "outlinewidth": 0,
            "ticks": ""
           }
          },
          "colorscale": {
           "diverging": [
            [
             0,
             "#8e0152"
            ],
            [
             0.1,
             "#c51b7d"
            ],
            [
             0.2,
             "#de77ae"
            ],
            [
             0.3,
             "#f1b6da"
            ],
            [
             0.4,
             "#fde0ef"
            ],
            [
             0.5,
             "#f7f7f7"
            ],
            [
             0.6,
             "#e6f5d0"
            ],
            [
             0.7,
             "#b8e186"
            ],
            [
             0.8,
             "#7fbc41"
            ],
            [
             0.9,
             "#4d9221"
            ],
            [
             1,
             "#276419"
            ]
           ],
           "sequential": [
            [
             0,
             "#0d0887"
            ],
            [
             0.1111111111111111,
             "#46039f"
            ],
            [
             0.2222222222222222,
             "#7201a8"
            ],
            [
             0.3333333333333333,
             "#9c179e"
            ],
            [
             0.4444444444444444,
             "#bd3786"
            ],
            [
             0.5555555555555556,
             "#d8576b"
            ],
            [
             0.6666666666666666,
             "#ed7953"
            ],
            [
             0.7777777777777778,
             "#fb9f3a"
            ],
            [
             0.8888888888888888,
             "#fdca26"
            ],
            [
             1,
             "#f0f921"
            ]
           ],
           "sequentialminus": [
            [
             0,
             "#0d0887"
            ],
            [
             0.1111111111111111,
             "#46039f"
            ],
            [
             0.2222222222222222,
             "#7201a8"
            ],
            [
             0.3333333333333333,
             "#9c179e"
            ],
            [
             0.4444444444444444,
             "#bd3786"
            ],
            [
             0.5555555555555556,
             "#d8576b"
            ],
            [
             0.6666666666666666,
             "#ed7953"
            ],
            [
             0.7777777777777778,
             "#fb9f3a"
            ],
            [
             0.8888888888888888,
             "#fdca26"
            ],
            [
             1,
             "#f0f921"
            ]
           ]
          },
          "colorway": [
           "#636efa",
           "#EF553B",
           "#00cc96",
           "#ab63fa",
           "#FFA15A",
           "#19d3f3",
           "#FF6692",
           "#B6E880",
           "#FF97FF",
           "#FECB52"
          ],
          "font": {
           "color": "#2a3f5f"
          },
          "geo": {
           "bgcolor": "white",
           "lakecolor": "white",
           "landcolor": "#E5ECF6",
           "showlakes": true,
           "showland": true,
           "subunitcolor": "white"
          },
          "hoverlabel": {
           "align": "left"
          },
          "hovermode": "closest",
          "mapbox": {
           "style": "light"
          },
          "paper_bgcolor": "white",
          "plot_bgcolor": "#E5ECF6",
          "polar": {
           "angularaxis": {
            "gridcolor": "white",
            "linecolor": "white",
            "ticks": ""
           },
           "bgcolor": "#E5ECF6",
           "radialaxis": {
            "gridcolor": "white",
            "linecolor": "white",
            "ticks": ""
           }
          },
          "scene": {
           "xaxis": {
            "backgroundcolor": "#E5ECF6",
            "gridcolor": "white",
            "gridwidth": 2,
            "linecolor": "white",
            "showbackground": true,
            "ticks": "",
            "zerolinecolor": "white"
           },
           "yaxis": {
            "backgroundcolor": "#E5ECF6",
            "gridcolor": "white",
            "gridwidth": 2,
            "linecolor": "white",
            "showbackground": true,
            "ticks": "",
            "zerolinecolor": "white"
           },
           "zaxis": {
            "backgroundcolor": "#E5ECF6",
            "gridcolor": "white",
            "gridwidth": 2,
            "linecolor": "white",
            "showbackground": true,
            "ticks": "",
            "zerolinecolor": "white"
           }
          },
          "shapedefaults": {
           "line": {
            "color": "#2a3f5f"
           }
          },
          "ternary": {
           "aaxis": {
            "gridcolor": "white",
            "linecolor": "white",
            "ticks": ""
           },
           "baxis": {
            "gridcolor": "white",
            "linecolor": "white",
            "ticks": ""
           },
           "bgcolor": "#E5ECF6",
           "caxis": {
            "gridcolor": "white",
            "linecolor": "white",
            "ticks": ""
           }
          },
          "title": {
           "x": 0.05
          },
          "xaxis": {
           "automargin": true,
           "gridcolor": "white",
           "linecolor": "white",
           "ticks": "",
           "title": {
            "standoff": 15
           },
           "zerolinecolor": "white",
           "zerolinewidth": 2
          },
          "yaxis": {
           "automargin": true,
           "gridcolor": "white",
           "linecolor": "white",
           "ticks": "",
           "title": {
            "standoff": 15
           },
           "zerolinecolor": "white",
           "zerolinewidth": 2
          }
         }
        },
        "title": {
         "font": {
          "size": 20
         },
         "text": "Sites for Africa in Date Range 150–200",
         "x": 0.5
        }
       }
      }
     },
     "metadata": {},
     "output_type": "display_data"
    }
   ],
   "source": [
    "fig = px.scatter_geo(Africa_map,\n",
    "                     lat = Africa_map.geometry.y,\n",
    "                     lon = Africa_map.geometry.x,\n",
    "                     height = 1200, \n",
    "                     #text = Africa_map['Site'],           \n",
    "                     scope = 'europe',                    \n",
    "                     projection = 'mercator')      \n",
    "         \n",
    "        \n",
    "fig.update_geos(projection_scale = 6, center_lat = 41.8719, center_lon = 12.5674)\n",
    "\n",
    "fig.update_layout(title_text='Sites for Africa in Date Range 150–200', \n",
    "                  title_x = 0.5, \n",
    "                  title_font_size = 20)    \n",
    "\n",
    "fig.write('fig3.pdf')\n",
    "fig.show()\n"
   ]
  },
  {
   "cell_type": "markdown",
   "id": "210db89f-733b-4b56-a272-e04d9cf63d0f",
   "metadata": {},
   "source": [
    "#### 12.3 **Scale the dot size/colour by (unique) *'Amphora types'* per *'Site'***"
   ]
  },
  {
   "cell_type": "code",
   "execution_count": 18,
   "id": "330c5ed4-87ed-4944-9c0e-117978297dd6",
   "metadata": {
    "execution": {
     "iopub.execute_input": "2021-12-20T10:08:00.265910Z",
     "iopub.status.busy": "2021-12-20T10:08:00.265434Z",
     "iopub.status.idle": "2021-12-20T10:08:00.319840Z",
     "shell.execute_reply": "2021-12-20T10:08:00.319280Z",
     "shell.execute_reply.started": "2021-12-20T10:08:00.265860Z"
    },
    "tags": []
   },
   "outputs": [
    {
     "data": {
      "application/vnd.plotly.v1+json": {
       "config": {
        "plotlyServerURL": "https://plot.ly"
       },
       "data": [
        {
         "geo": "geo",
         "hovertemplate": "Amphora_type_count=%{marker.size}<br>lat=%{lat}<br>lon=%{lon}<extra></extra>",
         "lat": [
          44.700835,
          45.768945,
          41.8858204,
          41.891775,
          42.0151801444,
          45.594849,
          40.825838,
          40.8476741,
          41.88333,
          45.768945,
          44.065164,
          41.8953146648,
          41.754855,
          41.7527197453,
          41.754855,
          41.756389318,
          41.754855,
          41.754855,
          45.409561,
          40.839995,
          39.360882,
          39.360882,
          44.9992,
          42.0153455,
          40.820922,
          41.8893064,
          41.8925745251,
          41.890169,
          41.8893064,
          41.891775,
          41.8924123712,
          41.883333,
          41.883333,
          41.883333,
          41.8944448,
          41.8925745251,
          43.95844,
          42.72437,
          41.8893064,
          41.8893064,
          45.4421295463,
          41.8893064,
          40.6998164,
          40.7031479
         ],
         "legendgroup": "",
         "lon": [
          8.035244,
          13.3677735,
          12.4966238,
          12.486137,
          11.9637192735,
          12.8708,
          14.1217415,
          14.0562815333,
          12.46667,
          13.3677735,
          10.024166,
          12.4855481431,
          12.287656,
          12.2892267207,
          12.287656,
          12.2910075129,
          12.287656,
          12.287656,
          11.876975,
          14.25287,
          16.04056,
          16.04056,
          11.75105,
          11.963217,
          14.119851,
          12.4871093,
          12.4847567763,
          12.492269,
          12.4871093,
          12.486137,
          12.4973470428,
          12.483333,
          12.483333,
          12.483333,
          12.4784041,
          12.4847567763,
          12.73861,
          12.29078,
          12.4871093,
          12.4871093,
          10.9957360051,
          12.4871093,
          14.4917605,
          14.4991112
         ],
         "marker": {
          "color": "#636efa",
          "size": [
           1,
           7,
           5,
           1,
           1,
           1,
           1,
           1,
           8,
           1,
           1,
           1,
           1,
           4,
           1,
           2,
           2,
           8,
           1,
           1,
           2,
           1,
           1,
           1,
           7,
           9,
           5,
           3,
           2,
           6,
           2,
           2,
           5,
           3,
           2,
           5,
           1,
           7,
           1,
           4,
           4,
           9,
           2,
           1
          ],
          "sizemode": "area",
          "sizeref": 0.0225,
          "symbol": "circle"
         },
         "mode": "markers",
         "name": "",
         "showlegend": false,
         "type": "scattergeo"
        }
       ],
       "layout": {
        "geo": {
         "center": {
          "lat": 41.8719,
          "lon": 12.5674
         },
         "domain": {
          "x": [
           0,
           1
          ],
          "y": [
           0,
           1
          ]
         },
         "projection": {
          "scale": 6,
          "type": "mercator"
         },
         "scope": "europe"
        },
        "height": 1200,
        "legend": {
         "itemsizing": "constant",
         "tracegroupgap": 0
        },
        "margin": {
         "t": 60
        },
        "template": {
         "data": {
          "bar": [
           {
            "error_x": {
             "color": "#2a3f5f"
            },
            "error_y": {
             "color": "#2a3f5f"
            },
            "marker": {
             "line": {
              "color": "#E5ECF6",
              "width": 0.5
             },
             "pattern": {
              "fillmode": "overlay",
              "size": 10,
              "solidity": 0.2
             }
            },
            "type": "bar"
           }
          ],
          "barpolar": [
           {
            "marker": {
             "line": {
              "color": "#E5ECF6",
              "width": 0.5
             },
             "pattern": {
              "fillmode": "overlay",
              "size": 10,
              "solidity": 0.2
             }
            },
            "type": "barpolar"
           }
          ],
          "carpet": [
           {
            "aaxis": {
             "endlinecolor": "#2a3f5f",
             "gridcolor": "white",
             "linecolor": "white",
             "minorgridcolor": "white",
             "startlinecolor": "#2a3f5f"
            },
            "baxis": {
             "endlinecolor": "#2a3f5f",
             "gridcolor": "white",
             "linecolor": "white",
             "minorgridcolor": "white",
             "startlinecolor": "#2a3f5f"
            },
            "type": "carpet"
           }
          ],
          "choropleth": [
           {
            "colorbar": {
             "outlinewidth": 0,
             "ticks": ""
            },
            "type": "choropleth"
           }
          ],
          "contour": [
           {
            "colorbar": {
             "outlinewidth": 0,
             "ticks": ""
            },
            "colorscale": [
             [
              0,
              "#0d0887"
             ],
             [
              0.1111111111111111,
              "#46039f"
             ],
             [
              0.2222222222222222,
              "#7201a8"
             ],
             [
              0.3333333333333333,
              "#9c179e"
             ],
             [
              0.4444444444444444,
              "#bd3786"
             ],
             [
              0.5555555555555556,
              "#d8576b"
             ],
             [
              0.6666666666666666,
              "#ed7953"
             ],
             [
              0.7777777777777778,
              "#fb9f3a"
             ],
             [
              0.8888888888888888,
              "#fdca26"
             ],
             [
              1,
              "#f0f921"
             ]
            ],
            "type": "contour"
           }
          ],
          "contourcarpet": [
           {
            "colorbar": {
             "outlinewidth": 0,
             "ticks": ""
            },
            "type": "contourcarpet"
           }
          ],
          "heatmap": [
           {
            "colorbar": {
             "outlinewidth": 0,
             "ticks": ""
            },
            "colorscale": [
             [
              0,
              "#0d0887"
             ],
             [
              0.1111111111111111,
              "#46039f"
             ],
             [
              0.2222222222222222,
              "#7201a8"
             ],
             [
              0.3333333333333333,
              "#9c179e"
             ],
             [
              0.4444444444444444,
              "#bd3786"
             ],
             [
              0.5555555555555556,
              "#d8576b"
             ],
             [
              0.6666666666666666,
              "#ed7953"
             ],
             [
              0.7777777777777778,
              "#fb9f3a"
             ],
             [
              0.8888888888888888,
              "#fdca26"
             ],
             [
              1,
              "#f0f921"
             ]
            ],
            "type": "heatmap"
           }
          ],
          "heatmapgl": [
           {
            "colorbar": {
             "outlinewidth": 0,
             "ticks": ""
            },
            "colorscale": [
             [
              0,
              "#0d0887"
             ],
             [
              0.1111111111111111,
              "#46039f"
             ],
             [
              0.2222222222222222,
              "#7201a8"
             ],
             [
              0.3333333333333333,
              "#9c179e"
             ],
             [
              0.4444444444444444,
              "#bd3786"
             ],
             [
              0.5555555555555556,
              "#d8576b"
             ],
             [
              0.6666666666666666,
              "#ed7953"
             ],
             [
              0.7777777777777778,
              "#fb9f3a"
             ],
             [
              0.8888888888888888,
              "#fdca26"
             ],
             [
              1,
              "#f0f921"
             ]
            ],
            "type": "heatmapgl"
           }
          ],
          "histogram": [
           {
            "marker": {
             "pattern": {
              "fillmode": "overlay",
              "size": 10,
              "solidity": 0.2
             }
            },
            "type": "histogram"
           }
          ],
          "histogram2d": [
           {
            "colorbar": {
             "outlinewidth": 0,
             "ticks": ""
            },
            "colorscale": [
             [
              0,
              "#0d0887"
             ],
             [
              0.1111111111111111,
              "#46039f"
             ],
             [
              0.2222222222222222,
              "#7201a8"
             ],
             [
              0.3333333333333333,
              "#9c179e"
             ],
             [
              0.4444444444444444,
              "#bd3786"
             ],
             [
              0.5555555555555556,
              "#d8576b"
             ],
             [
              0.6666666666666666,
              "#ed7953"
             ],
             [
              0.7777777777777778,
              "#fb9f3a"
             ],
             [
              0.8888888888888888,
              "#fdca26"
             ],
             [
              1,
              "#f0f921"
             ]
            ],
            "type": "histogram2d"
           }
          ],
          "histogram2dcontour": [
           {
            "colorbar": {
             "outlinewidth": 0,
             "ticks": ""
            },
            "colorscale": [
             [
              0,
              "#0d0887"
             ],
             [
              0.1111111111111111,
              "#46039f"
             ],
             [
              0.2222222222222222,
              "#7201a8"
             ],
             [
              0.3333333333333333,
              "#9c179e"
             ],
             [
              0.4444444444444444,
              "#bd3786"
             ],
             [
              0.5555555555555556,
              "#d8576b"
             ],
             [
              0.6666666666666666,
              "#ed7953"
             ],
             [
              0.7777777777777778,
              "#fb9f3a"
             ],
             [
              0.8888888888888888,
              "#fdca26"
             ],
             [
              1,
              "#f0f921"
             ]
            ],
            "type": "histogram2dcontour"
           }
          ],
          "mesh3d": [
           {
            "colorbar": {
             "outlinewidth": 0,
             "ticks": ""
            },
            "type": "mesh3d"
           }
          ],
          "parcoords": [
           {
            "line": {
             "colorbar": {
              "outlinewidth": 0,
              "ticks": ""
             }
            },
            "type": "parcoords"
           }
          ],
          "pie": [
           {
            "automargin": true,
            "type": "pie"
           }
          ],
          "scatter": [
           {
            "marker": {
             "colorbar": {
              "outlinewidth": 0,
              "ticks": ""
             }
            },
            "type": "scatter"
           }
          ],
          "scatter3d": [
           {
            "line": {
             "colorbar": {
              "outlinewidth": 0,
              "ticks": ""
             }
            },
            "marker": {
             "colorbar": {
              "outlinewidth": 0,
              "ticks": ""
             }
            },
            "type": "scatter3d"
           }
          ],
          "scattercarpet": [
           {
            "marker": {
             "colorbar": {
              "outlinewidth": 0,
              "ticks": ""
             }
            },
            "type": "scattercarpet"
           }
          ],
          "scattergeo": [
           {
            "marker": {
             "colorbar": {
              "outlinewidth": 0,
              "ticks": ""
             }
            },
            "type": "scattergeo"
           }
          ],
          "scattergl": [
           {
            "marker": {
             "colorbar": {
              "outlinewidth": 0,
              "ticks": ""
             }
            },
            "type": "scattergl"
           }
          ],
          "scattermapbox": [
           {
            "marker": {
             "colorbar": {
              "outlinewidth": 0,
              "ticks": ""
             }
            },
            "type": "scattermapbox"
           }
          ],
          "scatterpolar": [
           {
            "marker": {
             "colorbar": {
              "outlinewidth": 0,
              "ticks": ""
             }
            },
            "type": "scatterpolar"
           }
          ],
          "scatterpolargl": [
           {
            "marker": {
             "colorbar": {
              "outlinewidth": 0,
              "ticks": ""
             }
            },
            "type": "scatterpolargl"
           }
          ],
          "scatterternary": [
           {
            "marker": {
             "colorbar": {
              "outlinewidth": 0,
              "ticks": ""
             }
            },
            "type": "scatterternary"
           }
          ],
          "surface": [
           {
            "colorbar": {
             "outlinewidth": 0,
             "ticks": ""
            },
            "colorscale": [
             [
              0,
              "#0d0887"
             ],
             [
              0.1111111111111111,
              "#46039f"
             ],
             [
              0.2222222222222222,
              "#7201a8"
             ],
             [
              0.3333333333333333,
              "#9c179e"
             ],
             [
              0.4444444444444444,
              "#bd3786"
             ],
             [
              0.5555555555555556,
              "#d8576b"
             ],
             [
              0.6666666666666666,
              "#ed7953"
             ],
             [
              0.7777777777777778,
              "#fb9f3a"
             ],
             [
              0.8888888888888888,
              "#fdca26"
             ],
             [
              1,
              "#f0f921"
             ]
            ],
            "type": "surface"
           }
          ],
          "table": [
           {
            "cells": {
             "fill": {
              "color": "#EBF0F8"
             },
             "line": {
              "color": "white"
             }
            },
            "header": {
             "fill": {
              "color": "#C8D4E3"
             },
             "line": {
              "color": "white"
             }
            },
            "type": "table"
           }
          ]
         },
         "layout": {
          "annotationdefaults": {
           "arrowcolor": "#2a3f5f",
           "arrowhead": 0,
           "arrowwidth": 1
          },
          "autotypenumbers": "strict",
          "coloraxis": {
           "colorbar": {
            "outlinewidth": 0,
            "ticks": ""
           }
          },
          "colorscale": {
           "diverging": [
            [
             0,
             "#8e0152"
            ],
            [
             0.1,
             "#c51b7d"
            ],
            [
             0.2,
             "#de77ae"
            ],
            [
             0.3,
             "#f1b6da"
            ],
            [
             0.4,
             "#fde0ef"
            ],
            [
             0.5,
             "#f7f7f7"
            ],
            [
             0.6,
             "#e6f5d0"
            ],
            [
             0.7,
             "#b8e186"
            ],
            [
             0.8,
             "#7fbc41"
            ],
            [
             0.9,
             "#4d9221"
            ],
            [
             1,
             "#276419"
            ]
           ],
           "sequential": [
            [
             0,
             "#0d0887"
            ],
            [
             0.1111111111111111,
             "#46039f"
            ],
            [
             0.2222222222222222,
             "#7201a8"
            ],
            [
             0.3333333333333333,
             "#9c179e"
            ],
            [
             0.4444444444444444,
             "#bd3786"
            ],
            [
             0.5555555555555556,
             "#d8576b"
            ],
            [
             0.6666666666666666,
             "#ed7953"
            ],
            [
             0.7777777777777778,
             "#fb9f3a"
            ],
            [
             0.8888888888888888,
             "#fdca26"
            ],
            [
             1,
             "#f0f921"
            ]
           ],
           "sequentialminus": [
            [
             0,
             "#0d0887"
            ],
            [
             0.1111111111111111,
             "#46039f"
            ],
            [
             0.2222222222222222,
             "#7201a8"
            ],
            [
             0.3333333333333333,
             "#9c179e"
            ],
            [
             0.4444444444444444,
             "#bd3786"
            ],
            [
             0.5555555555555556,
             "#d8576b"
            ],
            [
             0.6666666666666666,
             "#ed7953"
            ],
            [
             0.7777777777777778,
             "#fb9f3a"
            ],
            [
             0.8888888888888888,
             "#fdca26"
            ],
            [
             1,
             "#f0f921"
            ]
           ]
          },
          "colorway": [
           "#636efa",
           "#EF553B",
           "#00cc96",
           "#ab63fa",
           "#FFA15A",
           "#19d3f3",
           "#FF6692",
           "#B6E880",
           "#FF97FF",
           "#FECB52"
          ],
          "font": {
           "color": "#2a3f5f"
          },
          "geo": {
           "bgcolor": "white",
           "lakecolor": "white",
           "landcolor": "#E5ECF6",
           "showlakes": true,
           "showland": true,
           "subunitcolor": "white"
          },
          "hoverlabel": {
           "align": "left"
          },
          "hovermode": "closest",
          "mapbox": {
           "style": "light"
          },
          "paper_bgcolor": "white",
          "plot_bgcolor": "#E5ECF6",
          "polar": {
           "angularaxis": {
            "gridcolor": "white",
            "linecolor": "white",
            "ticks": ""
           },
           "bgcolor": "#E5ECF6",
           "radialaxis": {
            "gridcolor": "white",
            "linecolor": "white",
            "ticks": ""
           }
          },
          "scene": {
           "xaxis": {
            "backgroundcolor": "#E5ECF6",
            "gridcolor": "white",
            "gridwidth": 2,
            "linecolor": "white",
            "showbackground": true,
            "ticks": "",
            "zerolinecolor": "white"
           },
           "yaxis": {
            "backgroundcolor": "#E5ECF6",
            "gridcolor": "white",
            "gridwidth": 2,
            "linecolor": "white",
            "showbackground": true,
            "ticks": "",
            "zerolinecolor": "white"
           },
           "zaxis": {
            "backgroundcolor": "#E5ECF6",
            "gridcolor": "white",
            "gridwidth": 2,
            "linecolor": "white",
            "showbackground": true,
            "ticks": "",
            "zerolinecolor": "white"
           }
          },
          "shapedefaults": {
           "line": {
            "color": "#2a3f5f"
           }
          },
          "ternary": {
           "aaxis": {
            "gridcolor": "white",
            "linecolor": "white",
            "ticks": ""
           },
           "baxis": {
            "gridcolor": "white",
            "linecolor": "white",
            "ticks": ""
           },
           "bgcolor": "#E5ECF6",
           "caxis": {
            "gridcolor": "white",
            "linecolor": "white",
            "ticks": ""
           }
          },
          "title": {
           "x": 0.05
          },
          "xaxis": {
           "automargin": true,
           "gridcolor": "white",
           "linecolor": "white",
           "ticks": "",
           "title": {
            "standoff": 15
           },
           "zerolinecolor": "white",
           "zerolinewidth": 2
          },
          "yaxis": {
           "automargin": true,
           "gridcolor": "white",
           "linecolor": "white",
           "ticks": "",
           "title": {
            "standoff": 15
           },
           "zerolinecolor": "white",
           "zerolinewidth": 2
          }
         }
        },
        "title": {
         "font": {
          "size": 20
         },
         "text": "Amphora Type Count per Site for Africa in Date Range 150–200",
         "x": 0.5
        }
       }
      }
     },
     "metadata": {},
     "output_type": "display_data"
    }
   ],
   "source": [
    "fig = px.scatter_geo(Africa_map,\n",
    "                     lat = Africa_map.geometry.y,\n",
    "                     lon = Africa_map.geometry.x,\n",
    "                     height = 1200, \n",
    "                     size = Africa_map.Amphora_type_count,      \n",
    "                   #  text = Africa_map['Site'],              \n",
    "                     scope = 'europe',                           \n",
    "                     projection = 'mercator')\n",
    "                                       \n",
    "\n",
    "fig.update_geos(projection_scale = 6, center_lat = 41.8719, center_lon = 12.5674)\n",
    "\n",
    "fig.update_layout(title_text='Amphora Type Count per Site for Africa in Date Range 150–200', \n",
    "                  title_x = 0.5,\n",
    "                  title_font_size = 20)    \n",
    "\n",
    "fig.write('fig4.pdf')\n",
    "fig.show()"
   ]
  },
  {
   "cell_type": "code",
   "execution_count": 19,
   "id": "93bb9f7c-5b89-4ac4-8562-71129656b8e3",
   "metadata": {
    "execution": {
     "iopub.execute_input": "2021-12-20T10:08:05.556016Z",
     "iopub.status.busy": "2021-12-20T10:08:05.555455Z",
     "iopub.status.idle": "2021-12-20T10:08:05.749332Z",
     "shell.execute_reply": "2021-12-20T10:08:05.748756Z",
     "shell.execute_reply.started": "2021-12-20T10:08:05.555967Z"
    },
    "tags": []
   },
   "outputs": [
    {
     "data": {
      "application/vnd.plotly.v1+json": {
       "config": {
        "plotlyServerURL": "https://plot.ly"
       },
       "data": [
        {
         "geo": "geo",
         "hovertemplate": "lat=%{lat}<br>lon=%{lon}<br>Amphora_type_count=%{marker.color}<extra></extra>",
         "lat": [
          44.700835,
          45.768945,
          41.8858204,
          41.891775,
          42.0151801444,
          45.594849,
          40.825838,
          40.8476741,
          41.88333,
          45.768945,
          44.065164,
          41.8953146648,
          41.754855,
          41.7527197453,
          41.754855,
          41.756389318,
          41.754855,
          41.754855,
          45.409561,
          40.839995,
          39.360882,
          39.360882,
          44.9992,
          42.0153455,
          40.820922,
          41.8893064,
          41.8925745251,
          41.890169,
          41.8893064,
          41.891775,
          41.8924123712,
          41.883333,
          41.883333,
          41.883333,
          41.8944448,
          41.8925745251,
          43.95844,
          42.72437,
          41.8893064,
          41.8893064,
          45.4421295463,
          41.8893064,
          40.6998164,
          40.7031479
         ],
         "legendgroup": "",
         "lon": [
          8.035244,
          13.3677735,
          12.4966238,
          12.486137,
          11.9637192735,
          12.8708,
          14.1217415,
          14.0562815333,
          12.46667,
          13.3677735,
          10.024166,
          12.4855481431,
          12.287656,
          12.2892267207,
          12.287656,
          12.2910075129,
          12.287656,
          12.287656,
          11.876975,
          14.25287,
          16.04056,
          16.04056,
          11.75105,
          11.963217,
          14.119851,
          12.4871093,
          12.4847567763,
          12.492269,
          12.4871093,
          12.486137,
          12.4973470428,
          12.483333,
          12.483333,
          12.483333,
          12.4784041,
          12.4847567763,
          12.73861,
          12.29078,
          12.4871093,
          12.4871093,
          10.9957360051,
          12.4871093,
          14.4917605,
          14.4991112
         ],
         "marker": {
          "color": [
           1,
           7,
           5,
           1,
           1,
           1,
           1,
           1,
           8,
           1,
           1,
           1,
           1,
           4,
           1,
           2,
           2,
           8,
           1,
           1,
           2,
           1,
           1,
           1,
           7,
           9,
           5,
           3,
           2,
           6,
           2,
           2,
           5,
           3,
           2,
           5,
           1,
           7,
           1,
           4,
           4,
           9,
           2,
           1
          ],
          "coloraxis": "coloraxis",
          "symbol": "circle"
         },
         "mode": "markers",
         "name": "",
         "showlegend": false,
         "type": "scattergeo"
        }
       ],
       "layout": {
        "coloraxis": {
         "colorbar": {
          "len": 0.8,
          "title": {
           "text": " "
          },
          "xanchor": "center",
          "xpad": 192,
          "y": 0.6
         },
         "colorscale": [
          [
           0,
           "#1ed14b"
          ],
          [
           1,
           "#d63638"
          ]
         ]
        },
        "geo": {
         "center": {
          "lat": 41.8719,
          "lon": 12.5674
         },
         "domain": {
          "x": [
           0,
           1
          ],
          "y": [
           0,
           1
          ]
         },
         "projection": {
          "scale": 6,
          "type": "mercator"
         },
         "scope": "europe"
        },
        "height": 1200,
        "legend": {
         "tracegroupgap": 0
        },
        "margin": {
         "t": 60
        },
        "template": {
         "data": {
          "bar": [
           {
            "error_x": {
             "color": "#2a3f5f"
            },
            "error_y": {
             "color": "#2a3f5f"
            },
            "marker": {
             "line": {
              "color": "#E5ECF6",
              "width": 0.5
             },
             "pattern": {
              "fillmode": "overlay",
              "size": 10,
              "solidity": 0.2
             }
            },
            "type": "bar"
           }
          ],
          "barpolar": [
           {
            "marker": {
             "line": {
              "color": "#E5ECF6",
              "width": 0.5
             },
             "pattern": {
              "fillmode": "overlay",
              "size": 10,
              "solidity": 0.2
             }
            },
            "type": "barpolar"
           }
          ],
          "carpet": [
           {
            "aaxis": {
             "endlinecolor": "#2a3f5f",
             "gridcolor": "white",
             "linecolor": "white",
             "minorgridcolor": "white",
             "startlinecolor": "#2a3f5f"
            },
            "baxis": {
             "endlinecolor": "#2a3f5f",
             "gridcolor": "white",
             "linecolor": "white",
             "minorgridcolor": "white",
             "startlinecolor": "#2a3f5f"
            },
            "type": "carpet"
           }
          ],
          "choropleth": [
           {
            "colorbar": {
             "outlinewidth": 0,
             "ticks": ""
            },
            "type": "choropleth"
           }
          ],
          "contour": [
           {
            "colorbar": {
             "outlinewidth": 0,
             "ticks": ""
            },
            "colorscale": [
             [
              0,
              "#0d0887"
             ],
             [
              0.1111111111111111,
              "#46039f"
             ],
             [
              0.2222222222222222,
              "#7201a8"
             ],
             [
              0.3333333333333333,
              "#9c179e"
             ],
             [
              0.4444444444444444,
              "#bd3786"
             ],
             [
              0.5555555555555556,
              "#d8576b"
             ],
             [
              0.6666666666666666,
              "#ed7953"
             ],
             [
              0.7777777777777778,
              "#fb9f3a"
             ],
             [
              0.8888888888888888,
              "#fdca26"
             ],
             [
              1,
              "#f0f921"
             ]
            ],
            "type": "contour"
           }
          ],
          "contourcarpet": [
           {
            "colorbar": {
             "outlinewidth": 0,
             "ticks": ""
            },
            "type": "contourcarpet"
           }
          ],
          "heatmap": [
           {
            "colorbar": {
             "outlinewidth": 0,
             "ticks": ""
            },
            "colorscale": [
             [
              0,
              "#0d0887"
             ],
             [
              0.1111111111111111,
              "#46039f"
             ],
             [
              0.2222222222222222,
              "#7201a8"
             ],
             [
              0.3333333333333333,
              "#9c179e"
             ],
             [
              0.4444444444444444,
              "#bd3786"
             ],
             [
              0.5555555555555556,
              "#d8576b"
             ],
             [
              0.6666666666666666,
              "#ed7953"
             ],
             [
              0.7777777777777778,
              "#fb9f3a"
             ],
             [
              0.8888888888888888,
              "#fdca26"
             ],
             [
              1,
              "#f0f921"
             ]
            ],
            "type": "heatmap"
           }
          ],
          "heatmapgl": [
           {
            "colorbar": {
             "outlinewidth": 0,
             "ticks": ""
            },
            "colorscale": [
             [
              0,
              "#0d0887"
             ],
             [
              0.1111111111111111,
              "#46039f"
             ],
             [
              0.2222222222222222,
              "#7201a8"
             ],
             [
              0.3333333333333333,
              "#9c179e"
             ],
             [
              0.4444444444444444,
              "#bd3786"
             ],
             [
              0.5555555555555556,
              "#d8576b"
             ],
             [
              0.6666666666666666,
              "#ed7953"
             ],
             [
              0.7777777777777778,
              "#fb9f3a"
             ],
             [
              0.8888888888888888,
              "#fdca26"
             ],
             [
              1,
              "#f0f921"
             ]
            ],
            "type": "heatmapgl"
           }
          ],
          "histogram": [
           {
            "marker": {
             "pattern": {
              "fillmode": "overlay",
              "size": 10,
              "solidity": 0.2
             }
            },
            "type": "histogram"
           }
          ],
          "histogram2d": [
           {
            "colorbar": {
             "outlinewidth": 0,
             "ticks": ""
            },
            "colorscale": [
             [
              0,
              "#0d0887"
             ],
             [
              0.1111111111111111,
              "#46039f"
             ],
             [
              0.2222222222222222,
              "#7201a8"
             ],
             [
              0.3333333333333333,
              "#9c179e"
             ],
             [
              0.4444444444444444,
              "#bd3786"
             ],
             [
              0.5555555555555556,
              "#d8576b"
             ],
             [
              0.6666666666666666,
              "#ed7953"
             ],
             [
              0.7777777777777778,
              "#fb9f3a"
             ],
             [
              0.8888888888888888,
              "#fdca26"
             ],
             [
              1,
              "#f0f921"
             ]
            ],
            "type": "histogram2d"
           }
          ],
          "histogram2dcontour": [
           {
            "colorbar": {
             "outlinewidth": 0,
             "ticks": ""
            },
            "colorscale": [
             [
              0,
              "#0d0887"
             ],
             [
              0.1111111111111111,
              "#46039f"
             ],
             [
              0.2222222222222222,
              "#7201a8"
             ],
             [
              0.3333333333333333,
              "#9c179e"
             ],
             [
              0.4444444444444444,
              "#bd3786"
             ],
             [
              0.5555555555555556,
              "#d8576b"
             ],
             [
              0.6666666666666666,
              "#ed7953"
             ],
             [
              0.7777777777777778,
              "#fb9f3a"
             ],
             [
              0.8888888888888888,
              "#fdca26"
             ],
             [
              1,
              "#f0f921"
             ]
            ],
            "type": "histogram2dcontour"
           }
          ],
          "mesh3d": [
           {
            "colorbar": {
             "outlinewidth": 0,
             "ticks": ""
            },
            "type": "mesh3d"
           }
          ],
          "parcoords": [
           {
            "line": {
             "colorbar": {
              "outlinewidth": 0,
              "ticks": ""
             }
            },
            "type": "parcoords"
           }
          ],
          "pie": [
           {
            "automargin": true,
            "type": "pie"
           }
          ],
          "scatter": [
           {
            "marker": {
             "colorbar": {
              "outlinewidth": 0,
              "ticks": ""
             }
            },
            "type": "scatter"
           }
          ],
          "scatter3d": [
           {
            "line": {
             "colorbar": {
              "outlinewidth": 0,
              "ticks": ""
             }
            },
            "marker": {
             "colorbar": {
              "outlinewidth": 0,
              "ticks": ""
             }
            },
            "type": "scatter3d"
           }
          ],
          "scattercarpet": [
           {
            "marker": {
             "colorbar": {
              "outlinewidth": 0,
              "ticks": ""
             }
            },
            "type": "scattercarpet"
           }
          ],
          "scattergeo": [
           {
            "marker": {
             "colorbar": {
              "outlinewidth": 0,
              "ticks": ""
             }
            },
            "type": "scattergeo"
           }
          ],
          "scattergl": [
           {
            "marker": {
             "colorbar": {
              "outlinewidth": 0,
              "ticks": ""
             }
            },
            "type": "scattergl"
           }
          ],
          "scattermapbox": [
           {
            "marker": {
             "colorbar": {
              "outlinewidth": 0,
              "ticks": ""
             }
            },
            "type": "scattermapbox"
           }
          ],
          "scatterpolar": [
           {
            "marker": {
             "colorbar": {
              "outlinewidth": 0,
              "ticks": ""
             }
            },
            "type": "scatterpolar"
           }
          ],
          "scatterpolargl": [
           {
            "marker": {
             "colorbar": {
              "outlinewidth": 0,
              "ticks": ""
             }
            },
            "type": "scatterpolargl"
           }
          ],
          "scatterternary": [
           {
            "marker": {
             "colorbar": {
              "outlinewidth": 0,
              "ticks": ""
             }
            },
            "type": "scatterternary"
           }
          ],
          "surface": [
           {
            "colorbar": {
             "outlinewidth": 0,
             "ticks": ""
            },
            "colorscale": [
             [
              0,
              "#0d0887"
             ],
             [
              0.1111111111111111,
              "#46039f"
             ],
             [
              0.2222222222222222,
              "#7201a8"
             ],
             [
              0.3333333333333333,
              "#9c179e"
             ],
             [
              0.4444444444444444,
              "#bd3786"
             ],
             [
              0.5555555555555556,
              "#d8576b"
             ],
             [
              0.6666666666666666,
              "#ed7953"
             ],
             [
              0.7777777777777778,
              "#fb9f3a"
             ],
             [
              0.8888888888888888,
              "#fdca26"
             ],
             [
              1,
              "#f0f921"
             ]
            ],
            "type": "surface"
           }
          ],
          "table": [
           {
            "cells": {
             "fill": {
              "color": "#EBF0F8"
             },
             "line": {
              "color": "white"
             }
            },
            "header": {
             "fill": {
              "color": "#C8D4E3"
             },
             "line": {
              "color": "white"
             }
            },
            "type": "table"
           }
          ]
         },
         "layout": {
          "annotationdefaults": {
           "arrowcolor": "#2a3f5f",
           "arrowhead": 0,
           "arrowwidth": 1
          },
          "autotypenumbers": "strict",
          "coloraxis": {
           "colorbar": {
            "outlinewidth": 0,
            "ticks": ""
           }
          },
          "colorscale": {
           "diverging": [
            [
             0,
             "#8e0152"
            ],
            [
             0.1,
             "#c51b7d"
            ],
            [
             0.2,
             "#de77ae"
            ],
            [
             0.3,
             "#f1b6da"
            ],
            [
             0.4,
             "#fde0ef"
            ],
            [
             0.5,
             "#f7f7f7"
            ],
            [
             0.6,
             "#e6f5d0"
            ],
            [
             0.7,
             "#b8e186"
            ],
            [
             0.8,
             "#7fbc41"
            ],
            [
             0.9,
             "#4d9221"
            ],
            [
             1,
             "#276419"
            ]
           ],
           "sequential": [
            [
             0,
             "#0d0887"
            ],
            [
             0.1111111111111111,
             "#46039f"
            ],
            [
             0.2222222222222222,
             "#7201a8"
            ],
            [
             0.3333333333333333,
             "#9c179e"
            ],
            [
             0.4444444444444444,
             "#bd3786"
            ],
            [
             0.5555555555555556,
             "#d8576b"
            ],
            [
             0.6666666666666666,
             "#ed7953"
            ],
            [
             0.7777777777777778,
             "#fb9f3a"
            ],
            [
             0.8888888888888888,
             "#fdca26"
            ],
            [
             1,
             "#f0f921"
            ]
           ],
           "sequentialminus": [
            [
             0,
             "#0d0887"
            ],
            [
             0.1111111111111111,
             "#46039f"
            ],
            [
             0.2222222222222222,
             "#7201a8"
            ],
            [
             0.3333333333333333,
             "#9c179e"
            ],
            [
             0.4444444444444444,
             "#bd3786"
            ],
            [
             0.5555555555555556,
             "#d8576b"
            ],
            [
             0.6666666666666666,
             "#ed7953"
            ],
            [
             0.7777777777777778,
             "#fb9f3a"
            ],
            [
             0.8888888888888888,
             "#fdca26"
            ],
            [
             1,
             "#f0f921"
            ]
           ]
          },
          "colorway": [
           "#636efa",
           "#EF553B",
           "#00cc96",
           "#ab63fa",
           "#FFA15A",
           "#19d3f3",
           "#FF6692",
           "#B6E880",
           "#FF97FF",
           "#FECB52"
          ],
          "font": {
           "color": "#2a3f5f"
          },
          "geo": {
           "bgcolor": "white",
           "lakecolor": "white",
           "landcolor": "#E5ECF6",
           "showlakes": true,
           "showland": true,
           "subunitcolor": "white"
          },
          "hoverlabel": {
           "align": "left"
          },
          "hovermode": "closest",
          "mapbox": {
           "style": "light"
          },
          "paper_bgcolor": "white",
          "plot_bgcolor": "#E5ECF6",
          "polar": {
           "angularaxis": {
            "gridcolor": "white",
            "linecolor": "white",
            "ticks": ""
           },
           "bgcolor": "#E5ECF6",
           "radialaxis": {
            "gridcolor": "white",
            "linecolor": "white",
            "ticks": ""
           }
          },
          "scene": {
           "xaxis": {
            "backgroundcolor": "#E5ECF6",
            "gridcolor": "white",
            "gridwidth": 2,
            "linecolor": "white",
            "showbackground": true,
            "ticks": "",
            "zerolinecolor": "white"
           },
           "yaxis": {
            "backgroundcolor": "#E5ECF6",
            "gridcolor": "white",
            "gridwidth": 2,
            "linecolor": "white",
            "showbackground": true,
            "ticks": "",
            "zerolinecolor": "white"
           },
           "zaxis": {
            "backgroundcolor": "#E5ECF6",
            "gridcolor": "white",
            "gridwidth": 2,
            "linecolor": "white",
            "showbackground": true,
            "ticks": "",
            "zerolinecolor": "white"
           }
          },
          "shapedefaults": {
           "line": {
            "color": "#2a3f5f"
           }
          },
          "ternary": {
           "aaxis": {
            "gridcolor": "white",
            "linecolor": "white",
            "ticks": ""
           },
           "baxis": {
            "gridcolor": "white",
            "linecolor": "white",
            "ticks": ""
           },
           "bgcolor": "#E5ECF6",
           "caxis": {
            "gridcolor": "white",
            "linecolor": "white",
            "ticks": ""
           }
          },
          "title": {
           "x": 0.05
          },
          "xaxis": {
           "automargin": true,
           "gridcolor": "white",
           "linecolor": "white",
           "ticks": "",
           "title": {
            "standoff": 15
           },
           "zerolinecolor": "white",
           "zerolinewidth": 2
          },
          "yaxis": {
           "automargin": true,
           "gridcolor": "white",
           "linecolor": "white",
           "ticks": "",
           "title": {
            "standoff": 15
           },
           "zerolinecolor": "white",
           "zerolinewidth": 2
          }
         }
        },
        "title": {
         "font": {
          "size": 20
         },
         "text": "Amphora Type Count per Site for Africa in Date Range 150–200",
         "x": 0.5
        }
       }
      }
     },
     "metadata": {},
     "output_type": "display_data"
    }
   ],
   "source": [
    "fig = px.scatter_geo(Africa_map,\n",
    "                     lat = Africa_map.geometry.y,\n",
    "                     lon = Africa_map.geometry.x,\n",
    "                     height = 1200,\n",
    "                     color = Africa_map.Amphora_type_count,\n",
    "                    # text = Africa_map['Site'],               \n",
    "                     scope = 'europe',  \n",
    "                     color_continuous_scale = ['#1ed14b',  '#d63638'],  \n",
    "                     projection = 'mercator')         \n",
    "\n",
    "\n",
    "fig.update_geos(projection_scale = 6, center_lat = 41.8719, center_lon = 12.5674)\n",
    "\n",
    "fig.update_layout(title_text = 'Amphora Type Count per Site for Africa in Date Range 150–200', \n",
    "                  title_x = 0.5, \n",
    "                  title_font_size = 20, \n",
    "                  coloraxis_colorbar=dict(len = 0.80, y = 0.60, xanchor = 'center', xpad = 192, title = ' '))\n",
    "\n",
    "fig.write('fig5.pdf')\n",
    "fig.show()"
   ]
  }
 ],
 "metadata": {
  "kernelspec": {
   "display_name": "Python 3 ",
   "language": "python",
   "name": "python3"
  },
  "language_info": {
   "codemirror_mode": {
    "name": "ipython",
    "version": 3
   },
   "file_extension": ".py",
   "mimetype": "text/x-python",
   "name": "python",
   "nbconvert_exporter": "python",
   "pygments_lexer": "ipython3",
   "version": "3.8.10"
  }
 },
 "nbformat": 4,
 "nbformat_minor": 5
}
