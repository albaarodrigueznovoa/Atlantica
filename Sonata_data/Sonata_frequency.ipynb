{
 "cells": [
  {
   "cell_type": "markdown",
   "id": "a302052c-b89a-4146-a04f-73d340f64ecf",
   "metadata": {},
   "source": [
    "## The notebook for calculating and ploting the summed frequency of a certain variable per year\n",
    "\n",
    "The queries that can be answered using an adapted version of the following code include but are not limited to:\n",
    "* Show sum of *'Frequency'* per *'Provenance'* per *'Year'*"
   ]
  },
  {
   "cell_type": "markdown",
   "id": "e4e69bcf",
   "metadata": {},
   "source": [
    "### 1. Import packages"
   ]
  },
  {
   "cell_type": "code",
   "execution_count": 1,
   "id": "7b2c82f7-f4d9-4ba5-b706-b9377fdf380d",
   "metadata": {
    "execution": {
     "iopub.execute_input": "2021-12-27T12:59:07.370238Z",
     "iopub.status.busy": "2021-12-27T12:59:07.369713Z",
     "iopub.status.idle": "2021-12-27T12:59:15.417051Z",
     "shell.execute_reply": "2021-12-27T12:59:15.416211Z",
     "shell.execute_reply.started": "2021-12-27T12:59:07.370181Z"
    },
    "tags": []
   },
   "outputs": [],
   "source": [
    "import pandas as pd\n",
    "import seaborn as sns\n",
    "import matplotlib.pyplot as plt\n",
    "import numpy as np\n",
    "import regex as re\n",
    "sns.set()\n",
    "import sys\n",
    "sys.path.append(\"../src\")\n",
    "from matplotlib.ticker import FormatStrFormatter\n",
    "from functions import preprocess, sum_freq_per_year, year_freq_df, plot_graph, get_Y_range # module with all functions used for the task"
   ]
  },
  {
   "cell_type": "markdown",
   "id": "cad0ce6e-9d22-492d-b9cf-004e23b653d0",
   "metadata": {},
   "source": [
    "### 2. Load data into pandas dataframe\n",
    "With `usecols = []`  one specifies which columns from a csv file to load (optional)"
   ]
  },
  {
   "cell_type": "code",
   "execution_count": 2,
   "id": "1e6ce7e4-c033-4c8d-8343-072118f2e780",
   "metadata": {
    "execution": {
     "iopub.execute_input": "2021-12-27T12:59:18.291733Z",
     "iopub.status.busy": "2021-12-27T12:59:18.291370Z",
     "iopub.status.idle": "2021-12-27T12:59:18.388665Z",
     "shell.execute_reply": "2021-12-27T12:59:18.388050Z",
     "shell.execute_reply.started": "2021-12-27T12:59:18.291704Z"
    },
    "tags": []
   },
   "outputs": [],
   "source": [
    "df = pd.read_csv('SonataDataNewNew.csv', usecols = [\n",
    "                                             'Amphora_type', \n",
    "                                             'Amphora_type_upper_date', \n",
    "                                             'Amphora_type_lower_date', \n",
    "                                             'Site', \n",
    "                                             'Provenance', \n",
    "                                             'Frequency'\n",
    "                                             ]) "
   ]
  },
  {
   "cell_type": "markdown",
   "id": "237ced0f-3457-4631-a17f-2fa6a1883c92",
   "metadata": {},
   "source": [
    "### 3. Prepare data"
   ]
  },
  {
   "cell_type": "markdown",
   "id": "6bb3ff65-4481-4171-a6e3-cda633c91883",
   "metadata": {},
   "source": [
    "#### 3.1 Check in which columns numeric values are of an object type\n",
    "#### 3.2 If found, convert objects into numeric values (float) \n",
    "This is essential for performing math operations with these variables"
   ]
  },
  {
   "cell_type": "code",
   "execution_count": 3,
   "id": "e7fa4117-b21b-4399-8961-1a5d7004354e",
   "metadata": {
    "execution": {
     "iopub.execute_input": "2021-12-27T12:59:19.161294Z",
     "iopub.status.busy": "2021-12-27T12:59:19.160660Z",
     "iopub.status.idle": "2021-12-27T12:59:19.200209Z",
     "shell.execute_reply": "2021-12-27T12:59:19.199606Z",
     "shell.execute_reply.started": "2021-12-27T12:59:19.161237Z"
    },
    "tags": []
   },
   "outputs": [
    {
     "name": "stdout",
     "output_type": "stream",
     "text": [
      "<class 'pandas.core.frame.DataFrame'>\n",
      "RangeIndex: 1707 entries, 0 to 1706\n",
      "Data columns (total 6 columns):\n",
      " #   Column                   Non-Null Count  Dtype  \n",
      "---  ------                   --------------  -----  \n",
      " 0   Site                     1707 non-null   object \n",
      " 1   Amphora_type             1707 non-null   object \n",
      " 2   Provenance               1703 non-null   object \n",
      " 3   Frequency                1705 non-null   float64\n",
      " 4   Amphora_type_lower_date  1701 non-null   object \n",
      " 5   Amphora_type_upper_date  1696 non-null   object \n",
      "dtypes: float64(1), object(5)\n",
      "memory usage: 80.1+ KB\n"
     ]
    }
   ],
   "source": [
    "df.info()"
   ]
  },
  {
   "cell_type": "code",
   "execution_count": 3,
   "id": "f0a59cfb-577e-448d-97a7-bc74b2f9717a",
   "metadata": {
    "execution": {
     "iopub.execute_input": "2021-12-27T12:59:19.362812Z",
     "iopub.status.busy": "2021-12-27T12:59:19.362375Z",
     "iopub.status.idle": "2021-12-27T12:59:19.421890Z",
     "shell.execute_reply": "2021-12-27T12:59:19.421275Z",
     "shell.execute_reply.started": "2021-12-27T12:59:19.362765Z"
    },
    "tags": []
   },
   "outputs": [],
   "source": [
    "# Invalid parsing will be set as NaN\n",
    "df['Amphora_type_upper_date'] = pd.to_numeric(df['Amphora_type_upper_date'], errors='coerce') \n",
    "df['Amphora_type_lower_date'] = pd.to_numeric(df['Amphora_type_lower_date'], errors='coerce') "
   ]
  },
  {
   "cell_type": "markdown",
   "id": "2b358538-5d4b-4504-a876-5e2de2961e8d",
   "metadata": {},
   "source": [
    "#### 3.3 Clean text data (from punctuation, double spaces) and lowercase\n",
    "This is done in order to avoid inconsistency in object names, etc. Thus, to avoid errors while counting"
   ]
  },
  {
   "cell_type": "code",
   "execution_count": 4,
   "id": "f5833d06-27a0-4195-9c40-e08d1c5399c0",
   "metadata": {
    "execution": {
     "iopub.execute_input": "2021-12-27T12:59:19.635941Z",
     "iopub.status.busy": "2021-12-27T12:59:19.635713Z",
     "iopub.status.idle": "2021-12-27T12:59:19.751350Z",
     "shell.execute_reply": "2021-12-27T12:59:19.750894Z",
     "shell.execute_reply.started": "2021-12-27T12:59:19.635919Z"
    },
    "tags": []
   },
   "outputs": [
    {
     "data": {
      "text/html": [
       "<div>\n",
       "<style scoped>\n",
       "    .dataframe tbody tr th:only-of-type {\n",
       "        vertical-align: middle;\n",
       "    }\n",
       "\n",
       "    .dataframe tbody tr th {\n",
       "        vertical-align: top;\n",
       "    }\n",
       "\n",
       "    .dataframe thead th {\n",
       "        text-align: right;\n",
       "    }\n",
       "</style>\n",
       "<table border=\"1\" class=\"dataframe\">\n",
       "  <thead>\n",
       "    <tr style=\"text-align: right;\">\n",
       "      <th></th>\n",
       "      <th>Site</th>\n",
       "      <th>Amphora_type</th>\n",
       "      <th>Provenance</th>\n",
       "      <th>Frequency</th>\n",
       "      <th>Amphora_type_lower_date</th>\n",
       "      <th>Amphora_type_upper_date</th>\n",
       "    </tr>\n",
       "  </thead>\n",
       "  <tbody>\n",
       "    <tr>\n",
       "      <th>0</th>\n",
       "      <td>acqui terme</td>\n",
       "      <td>Dr 6A</td>\n",
       "      <td>adriatic italy</td>\n",
       "      <td>3.0</td>\n",
       "      <td>-25.0</td>\n",
       "      <td>50.0</td>\n",
       "    </tr>\n",
       "    <tr>\n",
       "      <th>1</th>\n",
       "      <td>acqui terme</td>\n",
       "      <td>Dr 6B</td>\n",
       "      <td>adriatic italy</td>\n",
       "      <td>7.0</td>\n",
       "      <td>1.0</td>\n",
       "      <td>150.0</td>\n",
       "    </tr>\n",
       "    <tr>\n",
       "      <th>2</th>\n",
       "      <td>acqui terme</td>\n",
       "      <td>Dr 7-13</td>\n",
       "      <td>baetica</td>\n",
       "      <td>26.0</td>\n",
       "      <td>-30.0</td>\n",
       "      <td>150.0</td>\n",
       "    </tr>\n",
       "    <tr>\n",
       "      <th>3</th>\n",
       "      <td>acqui terme</td>\n",
       "      <td>Haltern 70</td>\n",
       "      <td>baetica</td>\n",
       "      <td>1.0</td>\n",
       "      <td>-80.0</td>\n",
       "      <td>192.0</td>\n",
       "    </tr>\n",
       "    <tr>\n",
       "      <th>4</th>\n",
       "      <td>acqui terme</td>\n",
       "      <td>Dr 2-4_5</td>\n",
       "      <td>tyrrhenian italy</td>\n",
       "      <td>4.0</td>\n",
       "      <td>-70.0</td>\n",
       "      <td>225.0</td>\n",
       "    </tr>\n",
       "  </tbody>\n",
       "</table>\n",
       "</div>"
      ],
      "text/plain": [
       "          Site Amphora_type        Provenance  Frequency  \\\n",
       "0  acqui terme        Dr 6A    adriatic italy        3.0   \n",
       "1  acqui terme        Dr 6B    adriatic italy        7.0   \n",
       "2  acqui terme      Dr 7-13           baetica       26.0   \n",
       "3  acqui terme   Haltern 70           baetica        1.0   \n",
       "4  acqui terme     Dr 2-4_5  tyrrhenian italy        4.0   \n",
       "\n",
       "   Amphora_type_lower_date  Amphora_type_upper_date  \n",
       "0                    -25.0                     50.0  \n",
       "1                      1.0                    150.0  \n",
       "2                    -30.0                    150.0  \n",
       "3                    -80.0                    192.0  \n",
       "4                    -70.0                    225.0  "
      ]
     },
     "execution_count": 4,
     "metadata": {},
     "output_type": "execute_result"
    }
   ],
   "source": [
    "df['Site'] = preprocess(df['Site'])\n",
    "df['Provenance'] = preprocess(df['Provenance'])\n",
    "df.head()"
   ]
  },
  {
   "cell_type": "markdown",
   "id": "8027ab25-275b-4832-a1a1-ed8d5ae0acc2",
   "metadata": {},
   "source": [
    "### 4. Group *'Amphora types'* by *'Provenance'* and sum *'Frequencies'*\n",
    "To that end, one needs to specify the variables on the basis of which the data will be grouped\n",
    "\n",
    "In the cell below, *'Frequency'*  of each *'Site'* is grouped by  *'Provenance'*, *'Amphora type'*, *'Amphora start date'* and *'Amphora end date'*\n",
    "\n",
    "Then the grouped frequency values are summed"
   ]
  },
  {
   "cell_type": "code",
   "execution_count": 5,
   "id": "11788c41-8422-499f-8c76-e2f34fc41034",
   "metadata": {
    "execution": {
     "iopub.execute_input": "2021-12-27T12:59:20.800348Z",
     "iopub.status.busy": "2021-12-27T12:59:20.799900Z",
     "iopub.status.idle": "2021-12-27T12:59:20.863686Z",
     "shell.execute_reply": "2021-12-27T12:59:20.863001Z",
     "shell.execute_reply.started": "2021-12-27T12:59:20.800316Z"
    },
    "tags": []
   },
   "outputs": [
    {
     "data": {
      "text/html": [
       "<div>\n",
       "<style scoped>\n",
       "    .dataframe tbody tr th:only-of-type {\n",
       "        vertical-align: middle;\n",
       "    }\n",
       "\n",
       "    .dataframe tbody tr th {\n",
       "        vertical-align: top;\n",
       "    }\n",
       "\n",
       "    .dataframe thead th {\n",
       "        text-align: right;\n",
       "    }\n",
       "</style>\n",
       "<table border=\"1\" class=\"dataframe\">\n",
       "  <thead>\n",
       "    <tr style=\"text-align: right;\">\n",
       "      <th></th>\n",
       "      <th>Provenance</th>\n",
       "      <th>Amphora_type</th>\n",
       "      <th>Amphora_type_lower_date</th>\n",
       "      <th>Amphora_type_upper_date</th>\n",
       "      <th>Summed_freq</th>\n",
       "    </tr>\n",
       "  </thead>\n",
       "  <tbody>\n",
       "    <tr>\n",
       "      <th>0</th>\n",
       "      <td>adriatic italy</td>\n",
       "      <td>Adriatic</td>\n",
       "      <td>1.0</td>\n",
       "      <td>200.0</td>\n",
       "      <td>570.0</td>\n",
       "    </tr>\n",
       "    <tr>\n",
       "      <th>1</th>\n",
       "      <td>adriatic italy</td>\n",
       "      <td>Adriatic_1</td>\n",
       "      <td>100.0</td>\n",
       "      <td>200.0</td>\n",
       "      <td>62.0</td>\n",
       "    </tr>\n",
       "    <tr>\n",
       "      <th>2</th>\n",
       "      <td>adriatic italy</td>\n",
       "      <td>Apani I</td>\n",
       "      <td>-150.0</td>\n",
       "      <td>-1.0</td>\n",
       "      <td>1.0</td>\n",
       "    </tr>\n",
       "    <tr>\n",
       "      <th>3</th>\n",
       "      <td>adriatic italy</td>\n",
       "      <td>Brindisi</td>\n",
       "      <td>-125.0</td>\n",
       "      <td>-25.0</td>\n",
       "      <td>72.0</td>\n",
       "    </tr>\n",
       "    <tr>\n",
       "      <th>4</th>\n",
       "      <td>adriatic italy</td>\n",
       "      <td>Dr 1/Lamb.2</td>\n",
       "      <td>-200.0</td>\n",
       "      <td>-25.0</td>\n",
       "      <td>1.0</td>\n",
       "    </tr>\n",
       "  </tbody>\n",
       "</table>\n",
       "</div>"
      ],
      "text/plain": [
       "       Provenance Amphora_type  Amphora_type_lower_date  \\\n",
       "0  adriatic italy     Adriatic                      1.0   \n",
       "1  adriatic italy   Adriatic_1                    100.0   \n",
       "2  adriatic italy      Apani I                   -150.0   \n",
       "3  adriatic italy     Brindisi                   -125.0   \n",
       "4  adriatic italy  Dr 1/Lamb.2                   -200.0   \n",
       "\n",
       "   Amphora_type_upper_date  Summed_freq  \n",
       "0                    200.0        570.0  \n",
       "1                    200.0         62.0  \n",
       "2                     -1.0          1.0  \n",
       "3                    -25.0         72.0  \n",
       "4                    -25.0          1.0  "
      ]
     },
     "execution_count": 5,
     "metadata": {},
     "output_type": "execute_result"
    }
   ],
   "source": [
    "df_freq = df.groupby(['Provenance', 'Amphora_type', 'Amphora_type_lower_date', 'Amphora_type_upper_date'])['Frequency'].sum()\n",
    "df_freq = df_freq.reset_index()\n",
    "df_freq = df_freq.rename(columns = {'Frequency':'Summed_freq'})\n",
    "df_freq.head()"
   ]
  },
  {
   "cell_type": "markdown",
   "id": "72206a2d-6097-4b9a-873e-5684225f670e",
   "metadata": {},
   "source": [
    "### 5. Calculate summed *'Frequency'* of an *'Amphora type'* per *'Year'*"
   ]
  },
  {
   "cell_type": "code",
   "execution_count": 6,
   "id": "dbd3b802-f023-4f73-aff8-fedbe26920f7",
   "metadata": {
    "execution": {
     "iopub.execute_input": "2021-12-27T12:59:23.257048Z",
     "iopub.status.busy": "2021-12-27T12:59:23.256544Z",
     "iopub.status.idle": "2021-12-27T12:59:23.472206Z",
     "shell.execute_reply": "2021-12-27T12:59:23.465603Z",
     "shell.execute_reply.started": "2021-12-27T12:59:23.257015Z"
    },
    "tags": []
   },
   "outputs": [
    {
     "data": {
      "text/html": [
       "<div>\n",
       "<style scoped>\n",
       "    .dataframe tbody tr th:only-of-type {\n",
       "        vertical-align: middle;\n",
       "    }\n",
       "\n",
       "    .dataframe tbody tr th {\n",
       "        vertical-align: top;\n",
       "    }\n",
       "\n",
       "    .dataframe thead th {\n",
       "        text-align: right;\n",
       "    }\n",
       "</style>\n",
       "<table border=\"1\" class=\"dataframe\">\n",
       "  <thead>\n",
       "    <tr style=\"text-align: right;\">\n",
       "      <th></th>\n",
       "      <th>Provenance</th>\n",
       "      <th>Amphora_type</th>\n",
       "      <th>Amphora_type_lower_date</th>\n",
       "      <th>Amphora_type_upper_date</th>\n",
       "      <th>Summed_freq</th>\n",
       "      <th>Sum_freq_per_year</th>\n",
       "    </tr>\n",
       "  </thead>\n",
       "  <tbody>\n",
       "    <tr>\n",
       "      <th>0</th>\n",
       "      <td>adriatic italy</td>\n",
       "      <td>Adriatic</td>\n",
       "      <td>1.0</td>\n",
       "      <td>200.0</td>\n",
       "      <td>570.0</td>\n",
       "      <td>2.864322</td>\n",
       "    </tr>\n",
       "    <tr>\n",
       "      <th>1</th>\n",
       "      <td>adriatic italy</td>\n",
       "      <td>Adriatic_1</td>\n",
       "      <td>100.0</td>\n",
       "      <td>200.0</td>\n",
       "      <td>62.0</td>\n",
       "      <td>0.620000</td>\n",
       "    </tr>\n",
       "    <tr>\n",
       "      <th>2</th>\n",
       "      <td>adriatic italy</td>\n",
       "      <td>Apani I</td>\n",
       "      <td>-150.0</td>\n",
       "      <td>-1.0</td>\n",
       "      <td>1.0</td>\n",
       "      <td>0.006711</td>\n",
       "    </tr>\n",
       "    <tr>\n",
       "      <th>3</th>\n",
       "      <td>adriatic italy</td>\n",
       "      <td>Brindisi</td>\n",
       "      <td>-125.0</td>\n",
       "      <td>-25.0</td>\n",
       "      <td>72.0</td>\n",
       "      <td>0.720000</td>\n",
       "    </tr>\n",
       "    <tr>\n",
       "      <th>4</th>\n",
       "      <td>adriatic italy</td>\n",
       "      <td>Dr 1/Lamb.2</td>\n",
       "      <td>-200.0</td>\n",
       "      <td>-25.0</td>\n",
       "      <td>1.0</td>\n",
       "      <td>0.005714</td>\n",
       "    </tr>\n",
       "  </tbody>\n",
       "</table>\n",
       "</div>"
      ],
      "text/plain": [
       "       Provenance Amphora_type  Amphora_type_lower_date  \\\n",
       "0  adriatic italy     Adriatic                      1.0   \n",
       "1  adriatic italy   Adriatic_1                    100.0   \n",
       "2  adriatic italy      Apani I                   -150.0   \n",
       "3  adriatic italy     Brindisi                   -125.0   \n",
       "4  adriatic italy  Dr 1/Lamb.2                   -200.0   \n",
       "\n",
       "   Amphora_type_upper_date  Summed_freq  Sum_freq_per_year  \n",
       "0                    200.0        570.0           2.864322  \n",
       "1                    200.0         62.0           0.620000  \n",
       "2                     -1.0          1.0           0.006711  \n",
       "3                    -25.0         72.0           0.720000  \n",
       "4                    -25.0          1.0           0.005714  "
      ]
     },
     "execution_count": 6,
     "metadata": {},
     "output_type": "execute_result"
    }
   ],
   "source": [
    "df_freq_year = sum_freq_per_year(data = df_freq,\n",
    "                                 sum_freq = 'Summed_freq',\n",
    "                                 lower_date = 'Amphora_type_lower_date',\n",
    "                                 upper_date = 'Amphora_type_upper_date')\n",
    "\n",
    "df_freq_year.head()"
   ]
  },
  {
   "cell_type": "markdown",
   "id": "c8be5f7b",
   "metadata": {},
   "source": [
    "### 6. Create a two-column dataframe with *'Years'* and summed *'Frequency'* values\n",
    "With `freq_df = year_freq_df(df1[df1[' '] == ' ']` one specifies the *'Provenance'* of interest"
   ]
  },
  {
   "cell_type": "code",
   "execution_count": 7,
   "id": "871980cf",
   "metadata": {},
   "outputs": [],
   "source": [
    "freq_df_egypt = year_freq_df(data = df_freq_year[df_freq_year['Provenance'] == 'egypt'],     \n",
    "                             lower_date = 'Amphora_type_lower_date',\n",
    "                             upper_date = 'Amphora_type_upper_date',\n",
    "                             sum_freq = 'Sum_freq_per_year')   "
   ]
  },
  {
   "cell_type": "code",
   "execution_count": 8,
   "id": "e7557c90",
   "metadata": {},
   "outputs": [],
   "source": [
    "freq_df_blacksea = year_freq_df(data = df_freq_year[df_freq_year['Provenance'] == 'black sea'],   \n",
    "                                lower_date = 'Amphora_type_lower_date',\n",
    "                                upper_date = 'Amphora_type_upper_date',\n",
    "                                sum_freq = 'Sum_freq_per_year')  "
   ]
  },
  {
   "cell_type": "code",
   "execution_count": 11,
   "id": "e2f920dd",
   "metadata": {},
   "outputs": [],
   "source": [
    "freq_df_italy = year_freq_df(data = df_freq_year[df_freq_year['Provenance'] == 'adriatic italy'],   \n",
    "                                lower_date = 'Amphora_type_lower_date',\n",
    "                                upper_date = 'Amphora_type_upper_date',\n",
    "                                sum_freq = 'Sum_freq_per_year')  "
   ]
  },
  {
   "cell_type": "markdown",
   "id": "f2e11f43",
   "metadata": {},
   "source": [
    "### 7. Plot the graphs"
   ]
  },
  {
   "cell_type": "markdown",
   "id": "f1f4f47e",
   "metadata": {},
   "source": [
    "#### 7.1 Create a dictionary for plotting\n",
    "Now a dictionary containing the above dataframes is made. The keys (what is incapsulated in ' ') are going to be the labels for the plot. The variables refered to, are the dataframes created just above. "
   ]
  },
  {
   "cell_type": "code",
   "execution_count": 13,
   "id": "d2ca9204",
   "metadata": {},
   "outputs": [],
   "source": [
    "df_dictionary = {'Egypt': freq_df_egypt, 'Black Sea': freq_df_blacksea}"
   ]
  },
  {
   "cell_type": "code",
   "execution_count": 14,
   "id": "42aa2a49",
   "metadata": {},
   "outputs": [],
   "source": [
    "df_dictionary2 = {'Egypt': freq_df_egypt, 'Adriatic Italy': freq_df_italy}"
   ]
  },
  {
   "cell_type": "markdown",
   "id": "b63c79c9",
   "metadata": {},
   "source": [
    "#### 7.2 Plot and save\n",
    "Here the data from the previously created count data frames are plotted. \n",
    "\n",
    "This is done using the function `plotgraph()`. \n",
    "\n",
    "To change the colour of lines, pass a list of strings with colour names to `palette` argument. \n",
    "\n",
    "To change the default `'solid'` line, pass f.ex., `'dashed'` to `linestyle` argument.o not show \n",
    "\n",
    "To hide values on axis uncomment `ax.axes.xaxis.set_ticks([])` for X and `ax.axes.yaxis.set_ticks([])` for Y.\n",
    "\n",
    "To plot a single line graph specify only 1 axes in this line `fig, ax = plt.subplots(figsize=(20, 11))` and use this `ax` variable as an input for `ax` argument in `plotgraph()`. \n",
    "To plot 2 and more graphs side by side:\n",
    "1. specify that many axes as graphs and the respective number of rows/columns of the subplot grid. F.ex., to plot 2 lie=ne graphs `fig, (ax1, ax2) = plt.subplots(nrows=1, ncols=2,figsize=(20, 11))`\n",
    "2. call `plot_graph()` on each `dictionary` and use the respective `ax` variable as an input for `ax` argument in `plotgraph()`.  \n",
    "F.ex., in `plot_graph(dicts_of_df = provenance_count, palette=['green'], linestyle = 'dashed', ax = ax1)` the line graph for dic with provenances will be refered as `ax1` and placed on the **right** side of the graph.\n",
    "\n",
    "**Note**: Remember to set labels, background colour, etc for both axes like in the example below."
   ]
  },
  {
   "cell_type": "code",
   "execution_count": 15,
   "id": "2bbc4f8c",
   "metadata": {},
   "outputs": [
    {
     "name": "stderr",
     "output_type": "stream",
     "text": [
      "/tmp/ipykernel_38883/543999027.py:38: UserWarning: FixedFormatter should only be used together with FixedLocator\n",
      "  ax.set_xticklabels([int(i) if i != 0 else 1 for i in ax.get_xticks()])\n"
     ]
    },
    {
     "data": {
      "image/png": "[encoded data removed]",
      "text/plain": [
       "<Figure size 1440x792 with 1 Axes>"
      ]
     },
     "metadata": {},
     "output_type": "display_data"
    }
   ],
   "source": [
    "sns.set(font_scale=1.7)\n",
    "\n",
    "#Remove squeres from background\n",
    "sns.set_style(style='white')  \n",
    "\n",
    "fig, ax = plt.subplots(figsize=(20, 11))\n",
    "\n",
    "#Calculate minimum and maximum Y values to define the cuff off further\n",
    "minimum, maximum = get_Y_range(df_dictionary)\n",
    "\n",
    "plot_graph(dicts_of_df = df_dictionary,\n",
    "           palette=['yellow', 'green'],  \n",
    "           ax = ax)\n",
    "           \n",
    "\n",
    "# Cut off the range of Y value shown \n",
    "ax.set_xlim(minimum, maximum)\n",
    "\n",
    "# Remove 0 from Y axis\n",
    "ax.set_ylim(0, None)\n",
    "\n",
    "#Change background colour\n",
    "ax.set_facecolor(\"white\")  \n",
    "\n",
    "#Change Y values format \n",
    "# integers = '%.0f'\n",
    "# decimals = '%.1f', the number before 'f' defines how many values to show after dot\n",
    "ax.yaxis.set_major_formatter(FormatStrFormatter('%.0f'))  \n",
    "\n",
    "ax.set_ylabel(\"Frequency\")\n",
    "ax.set_xlabel(\"Year\")\n",
    "\n",
    "#To hide values on axis\n",
    "#ax.axes.xaxis.set_ticks([])\n",
    "#ax.axes.yaxis.set_ticks([])\n",
    "\n",
    "# Make sure that if 0 is included on the x-axis it is turned into 1 instead\n",
    "ax.set_xticklabels([int(i) if i != 0 else 1 for i in ax.get_xticks()])\n",
    "\n",
    "ax.set_title(label = 'Sum of Frequency per Provenance per Year', size=25, y=1.04, fontweight='bold')\n",
    "plt.tight_layout()\n",
    "\n",
    "\n",
    "\n",
    "# Save the graph\n",
    "plt.savefig('./freq_per_year.pdf')"
   ]
  },
  {
   "cell_type": "code",
   "execution_count": 16,
   "id": "383b3f53",
   "metadata": {},
   "outputs": [
    {
     "name": "stderr",
     "output_type": "stream",
     "text": [
      "/tmp/ipykernel_38883/900728817.py:56: UserWarning: FixedFormatter should only be used together with FixedLocator\n",
      "  ax1.set_xticklabels([int(i) if i != 0 else 1 for i in ax1.get_xticks()])\n",
      "/tmp/ipykernel_38883/900728817.py:59: UserWarning: FixedFormatter should only be used together with FixedLocator\n",
      "  ax1.set_xticklabels([int(i) if i != 0 else 1 for i in ax2.get_xticks()])\n"
     ]
    },
    {
     "data": {
      "image/png": "[encoded data removed]",
      "text/plain": [
       "<Figure size 1440x792 with 2 Axes>"
      ]
     },
     "metadata": {},
     "output_type": "display_data"
    }
   ],
   "source": [
    "sns.set(font_scale=1.7)\n",
    "\n",
    "#Remove squeres from background\n",
    "sns.set_style(style='white')  \n",
    "\n",
    "fig, (ax1, ax2)= plt.subplots(nrows=1, ncols=2, figsize=(20, 11))\n",
    "\n",
    "#Calculate minimum and maximum Y values \n",
    "minimum1, maximum1 = get_Y_range(df_dictionary)\n",
    "minimum2, maximum2 = get_Y_range(df_dictionary2)\n",
    "\n",
    "plot_graph(dicts_of_df = df_dictionary,\n",
    "           palette=['yellow', 'green'],\n",
    "           linestyle = 'dashed',\n",
    "           ax = ax1)\n",
    "           \n",
    "\n",
    "plot_graph(dicts_of_df = df_dictionary2,\n",
    "            palette=['blue', 'pink'],\n",
    "            linestyle = 'solid',\n",
    "            ax = ax2)\n",
    "\n",
    "# Cut off the range of Y value shown \n",
    "ax1.set_xlim(minimum1, maximum1)\n",
    "ax2.set_xlim(minimum2, maximum2)\n",
    "\n",
    "# Remove 0 from Y axis\n",
    "ax1.set_ylim(0, None)\n",
    "ax2.set_ylim(0, None)\n",
    "\n",
    "#Change background colour\n",
    "ax1.set_facecolor(\"white\")  \n",
    "ax2.set_facecolor(\"white\")\n",
    "\n",
    "#Change Y values format \n",
    "# integers = '%.0f'\n",
    "# decimals = '%.1f', the number before 'f' defines how many values to show after dot\n",
    "ax1.yaxis.set_major_formatter(FormatStrFormatter('%.0f'))  \n",
    "ax2.yaxis.set_major_formatter(FormatStrFormatter('%.1f'))\n",
    "\n",
    "ax1.set_ylabel(\"Frequency\")\n",
    "ax1.set_xlabel(\"Year\")\n",
    "\n",
    "ax2.set_xlabel(\"Year\")\n",
    "ax2.set_ylabel(\"Frequency\")\n",
    "\n",
    "\n",
    "#To hide values on axis\n",
    "#ax1.axes.xaxis.set_ticks([])\n",
    "#ax1.axes.yaxis.set_ticks([])\n",
    "#ax2.axes.xaxis.set_ticks([])\n",
    "#ax2.axes.yaxis.set_ticks([])\n",
    "\n",
    "\n",
    "# Make sure that if 0 is included on the x-axis it is turned into 1 instead\n",
    "ax1.set_xticklabels([int(i) if i != 0 else 1 for i in ax1.get_xticks()])\n",
    "ax1.set_title(label = 'Sum of Frequency per Provenance per Year', size=25, y=1.04, fontweight='bold')\n",
    "\n",
    "ax1.set_xticklabels([int(i) if i != 0 else 1 for i in ax2.get_xticks()])\n",
    "ax2.set_title(label = 'Sum of Frequency per Provenance per Year', size=25, y=1.04, fontweight='bold')\n",
    "plt.tight_layout()\n",
    "\n",
    "\n",
    "# Save the graph\n",
    "plt.savefig('./Frequency.pdf')"
   ]
  }
 ],
 "metadata": {
  "kernelspec": {
   "display_name": "Python 3 ",
   "language": "python",
   "name": "python3"
  },
  "language_info": {
   "codemirror_mode": {
    "name": "ipython",
    "version": 3
   },
   "file_extension": ".py",
   "mimetype": "text/x-python",
   "name": "python",
   "nbconvert_exporter": "python",
   "pygments_lexer": "ipython3",
   "version": "3.8.10"
  }
 },
 "nbformat": 4,
 "nbformat_minor": 5
}
