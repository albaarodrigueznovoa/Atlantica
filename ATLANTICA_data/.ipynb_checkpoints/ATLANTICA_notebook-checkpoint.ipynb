{
 "cells": [
  {
   "cell_type": "markdown",
   "metadata": {},
   "source": [
    "### 1. Import packages"
   ]
  },
  {
   "cell_type": "code",
   "execution_count": 2,
   "metadata": {},
   "outputs": [],
   "source": [
    "import pandas as pd\n",
    "import seaborn as sns\n",
    "import matplotlib.pyplot as plt\n",
    "import numpy as np\n",
    "import regex as re\n",
    "sns.set()\n",
    "import pathlib\n",
    "from pathlib import Path\n",
    "\n",
    "import sys\n",
    "sys.path.append(\"../src\")\n",
    "from matplotlib.ticker import FormatStrFormatter\n",
    "from functions import preprocess, sum_freq_per_year, year_freq_df, year_object_count_df, plot_graph, get_Y_range # module with all functions used for the task"
   ]
  },
  {
   "cell_type": "markdown",
   "metadata": {},
   "source": [
    "### 2. Read in data"
   ]
  },
  {
   "cell_type": "code",
   "execution_count": 2,
   "metadata": {},
   "outputs": [],
   "source": [
    "data = pd.read_excel('data/ATLANTICA_thesis_v0.2.xlsx')"
   ]
  },
  {
   "cell_type": "markdown",
   "metadata": {},
   "source": [
    "### 3. Prepare data"
   ]
  },
  {
   "cell_type": "markdown",
   "metadata": {},
   "source": [
    "#### 3.1 Check in which columns numeric values are of an object type\n",
    "#### 3.2 If found, convert objects into numeric values (float) \n",
    "This is essential for performing math operations with these variables"
   ]
  },
  {
   "cell_type": "code",
   "execution_count": 33,
   "metadata": {},
   "outputs": [
    {
     "name": "stdout",
     "output_type": "stream",
     "text": [
      "<class 'pandas.core.frame.DataFrame'>\n",
      "RangeIndex: 432 entries, 0 to 431\n",
      "Data columns (total 20 columns):\n",
      " #   Column           Non-Null Count  Dtype  \n",
      "---  ------           --------------  -----  \n",
      " 0   id               432 non-null    int64  \n",
      " 1   site             432 non-null    object \n",
      " 2   contexto         432 non-null    object \n",
      " 3   clase            432 non-null    object \n",
      " 4   produccion       432 non-null    object \n",
      " 5   origin_h1        432 non-null    object \n",
      " 6   origin_h2        432 non-null    object \n",
      " 7   forma            432 non-null    object \n",
      " 8   forma_h2         336 non-null    object \n",
      " 9   total fragmentd  432 non-null    int64  \n",
      " 10  complete         29 non-null     float64\n",
      " 11  rims             301 non-null    float64\n",
      " 12  necks            32 non-null     float64\n",
      " 13  handles          91 non-null     float64\n",
      " 14  wall             234 non-null    float64\n",
      " 15  bases            128 non-null    float64\n",
      " 16  mni              430 non-null    float64\n",
      " 17  tni              429 non-null    float64\n",
      " 18  start_date       384 non-null    float64\n",
      " 19  end_date         384 non-null    float64\n",
      "dtypes: float64(10), int64(2), object(8)\n",
      "memory usage: 67.6+ KB\n"
     ]
    }
   ],
   "source": [
    "data.info()"
   ]
  },
  {
   "cell_type": "markdown",
   "metadata": {},
   "source": [
    "#### 3.3 Clean text data (from punctuation, double spaces) and lowercase\n",
    "This is done in order to avoid inconsistency in names, etc. Thus, to avoid errors while counting"
   ]
  },
  {
   "cell_type": "code",
   "execution_count": 3,
   "metadata": {},
   "outputs": [],
   "source": [
    "cols_for_preprocessing = ['site', 'clase', 'produccion','origin_h1', 'origin_h2', 'forma','forma_h2']\n",
    "\n",
    "for i in cols_for_preprocessing:\n",
    "    data[i] = preprocess(data[i])"
   ]
  },
  {
   "cell_type": "markdown",
   "metadata": {},
   "source": [
    "#### 3.4 Filtering away certain values of data\n",
    "If for any reason, any data with a specific value in a certain column should be excluded from the analysis, the following code syntax can be used:\n",
    "\n",
    "```\n",
    "data = data[data['column_we_want_to_filter_by'] != 'value_it_should_not_have']\n",
    "```\n",
    "\n",
    "!= means not equal to. This signifies that we take all rows of the dataframe which does not have the value specified. \n"
   ]
  },
  {
   "cell_type": "code",
   "execution_count": 40,
   "metadata": {},
   "outputs": [],
   "source": [
    "# Example, filtering away all rows where forma is 'indeterminada'\n",
    "#data = data[data['forma'] != 'indeterminada'] "
   ]
  },
  {
   "cell_type": "markdown",
   "metadata": {},
   "source": [
    "### 4. Show sum of *Frequency* per *Origin* per *Year* for the least specific level of origin (e.g. EM, Gaul, Italy)"
   ]
  },
  {
   "cell_type": "markdown",
   "metadata": {},
   "source": [
    "#### 4.1 Group *RAAD form* by *origin* and sum frequencies\n",
    "Sums up both tni and mni frequencies, so both can be used. "
   ]
  },
  {
   "cell_type": "code",
   "execution_count": 4,
   "metadata": {},
   "outputs": [
    {
     "name": "stderr",
     "output_type": "stream",
     "text": [
      "/tmp/ipykernel_35878/2247969187.py:1: FutureWarning: Indexing with multiple keys (implicitly converted to a tuple of keys) will be deprecated, use a list instead.\n",
      "  df0 = data.groupby(['origin_h1', 'origin_h2', 'forma', 'start_date', 'end_date'])[\"tni\", \"mni\"].apply(lambda x : x.sum())\n"
     ]
    },
    {
     "data": {
      "text/html": [
       "<div>\n",
       "<style scoped>\n",
       "    .dataframe tbody tr th:only-of-type {\n",
       "        vertical-align: middle;\n",
       "    }\n",
       "\n",
       "    .dataframe tbody tr th {\n",
       "        vertical-align: top;\n",
       "    }\n",
       "\n",
       "    .dataframe thead th {\n",
       "        text-align: right;\n",
       "    }\n",
       "</style>\n",
       "<table border=\"1\" class=\"dataframe\">\n",
       "  <thead>\n",
       "    <tr style=\"text-align: right;\">\n",
       "      <th></th>\n",
       "      <th>origin_h1</th>\n",
       "      <th>origin_h2</th>\n",
       "      <th>forma</th>\n",
       "      <th>start_date</th>\n",
       "      <th>end_date</th>\n",
       "      <th>tni</th>\n",
       "      <th>mni</th>\n",
       "    </tr>\n",
       "  </thead>\n",
       "  <tbody>\n",
       "    <tr>\n",
       "      <th>0</th>\n",
       "      <td>gaul</td>\n",
       "      <td>lagraufesenque</td>\n",
       "      <td>drag. 15/17</td>\n",
       "      <td>30.0</td>\n",
       "      <td>100.0</td>\n",
       "      <td>4.0</td>\n",
       "      <td>3.0</td>\n",
       "    </tr>\n",
       "    <tr>\n",
       "      <th>1</th>\n",
       "      <td>gaul</td>\n",
       "      <td>lagraufesenque</td>\n",
       "      <td>drag. 18</td>\n",
       "      <td>30.0</td>\n",
       "      <td>100.0</td>\n",
       "      <td>1.0</td>\n",
       "      <td>1.0</td>\n",
       "    </tr>\n",
       "    <tr>\n",
       "      <th>2</th>\n",
       "      <td>gaul</td>\n",
       "      <td>lagraufesenque</td>\n",
       "      <td>drag. 27</td>\n",
       "      <td>30.0</td>\n",
       "      <td>100.0</td>\n",
       "      <td>9.0</td>\n",
       "      <td>8.0</td>\n",
       "    </tr>\n",
       "    <tr>\n",
       "      <th>3</th>\n",
       "      <td>gaul</td>\n",
       "      <td>lagraufesenque</td>\n",
       "      <td>drag. 29</td>\n",
       "      <td>30.0</td>\n",
       "      <td>100.0</td>\n",
       "      <td>2.0</td>\n",
       "      <td>2.0</td>\n",
       "    </tr>\n",
       "    <tr>\n",
       "      <th>4</th>\n",
       "      <td>gaul</td>\n",
       "      <td>lagraufesenque</td>\n",
       "      <td>drag. 33</td>\n",
       "      <td>30.0</td>\n",
       "      <td>100.0</td>\n",
       "      <td>1.0</td>\n",
       "      <td>1.0</td>\n",
       "    </tr>\n",
       "  </tbody>\n",
       "</table>\n",
       "</div>"
      ],
      "text/plain": [
       "  origin_h1       origin_h2        forma  start_date  end_date  tni  mni\n",
       "0      gaul  lagraufesenque  drag. 15/17        30.0     100.0  4.0  3.0\n",
       "1      gaul  lagraufesenque     drag. 18        30.0     100.0  1.0  1.0\n",
       "2      gaul  lagraufesenque     drag. 27        30.0     100.0  9.0  8.0\n",
       "3      gaul  lagraufesenque     drag. 29        30.0     100.0  2.0  2.0\n",
       "4      gaul  lagraufesenque     drag. 33        30.0     100.0  1.0  1.0"
      ]
     },
     "execution_count": 4,
     "metadata": {},
     "output_type": "execute_result"
    }
   ],
   "source": [
    "df0 = data.groupby(['origin_h1', 'origin_h2', 'forma', 'start_date', 'end_date'])[\"tni\", \"mni\"].apply(lambda x : x.sum())\n",
    "df0 = df0.reset_index()\n",
    "df0.head()"
   ]
  },
  {
   "cell_type": "markdown",
   "metadata": {},
   "source": [
    "#### 4.2 Calculate *forma* frequency per year\n",
    "The next chunks illustrate how to calculate the summed frequcy per year. One should specify frequency value in `sum_freq` argument (tni or mni).\n",
    "\n",
    "The `sum_freq_per_year` can be used for any number of frequency values. Each run creates a new column in the existing dataframe. The name of the column can be specified with parameter `freq_per_year`. \n",
    "\n",
    "See examples below. "
   ]
  },
  {
   "cell_type": "code",
   "execution_count": 6,
   "metadata": {},
   "outputs": [
    {
     "data": {
      "text/html": [
       "<div>\n",
       "<style scoped>\n",
       "    .dataframe tbody tr th:only-of-type {\n",
       "        vertical-align: middle;\n",
       "    }\n",
       "\n",
       "    .dataframe tbody tr th {\n",
       "        vertical-align: top;\n",
       "    }\n",
       "\n",
       "    .dataframe thead th {\n",
       "        text-align: right;\n",
       "    }\n",
       "</style>\n",
       "<table border=\"1\" class=\"dataframe\">\n",
       "  <thead>\n",
       "    <tr style=\"text-align: right;\">\n",
       "      <th></th>\n",
       "      <th>origin_h1</th>\n",
       "      <th>origin_h2</th>\n",
       "      <th>forma</th>\n",
       "      <th>start_date</th>\n",
       "      <th>end_date</th>\n",
       "      <th>tni</th>\n",
       "      <th>mni</th>\n",
       "      <th>sum_freq_per_year_tni</th>\n",
       "    </tr>\n",
       "  </thead>\n",
       "  <tbody>\n",
       "    <tr>\n",
       "      <th>0</th>\n",
       "      <td>gaul</td>\n",
       "      <td>lagraufesenque</td>\n",
       "      <td>drag. 15/17</td>\n",
       "      <td>30.0</td>\n",
       "      <td>100.0</td>\n",
       "      <td>4.0</td>\n",
       "      <td>3.0</td>\n",
       "      <td>0.057143</td>\n",
       "    </tr>\n",
       "    <tr>\n",
       "      <th>1</th>\n",
       "      <td>gaul</td>\n",
       "      <td>lagraufesenque</td>\n",
       "      <td>drag. 18</td>\n",
       "      <td>30.0</td>\n",
       "      <td>100.0</td>\n",
       "      <td>1.0</td>\n",
       "      <td>1.0</td>\n",
       "      <td>0.014286</td>\n",
       "    </tr>\n",
       "    <tr>\n",
       "      <th>2</th>\n",
       "      <td>gaul</td>\n",
       "      <td>lagraufesenque</td>\n",
       "      <td>drag. 27</td>\n",
       "      <td>30.0</td>\n",
       "      <td>100.0</td>\n",
       "      <td>9.0</td>\n",
       "      <td>8.0</td>\n",
       "      <td>0.128571</td>\n",
       "    </tr>\n",
       "    <tr>\n",
       "      <th>3</th>\n",
       "      <td>gaul</td>\n",
       "      <td>lagraufesenque</td>\n",
       "      <td>drag. 29</td>\n",
       "      <td>30.0</td>\n",
       "      <td>100.0</td>\n",
       "      <td>2.0</td>\n",
       "      <td>2.0</td>\n",
       "      <td>0.028571</td>\n",
       "    </tr>\n",
       "    <tr>\n",
       "      <th>4</th>\n",
       "      <td>gaul</td>\n",
       "      <td>lagraufesenque</td>\n",
       "      <td>drag. 33</td>\n",
       "      <td>30.0</td>\n",
       "      <td>100.0</td>\n",
       "      <td>1.0</td>\n",
       "      <td>1.0</td>\n",
       "      <td>0.014286</td>\n",
       "    </tr>\n",
       "  </tbody>\n",
       "</table>\n",
       "</div>"
      ],
      "text/plain": [
       "  origin_h1       origin_h2        forma  start_date  end_date  tni  mni  \\\n",
       "0      gaul  lagraufesenque  drag. 15/17        30.0     100.0  4.0  3.0   \n",
       "1      gaul  lagraufesenque     drag. 18        30.0     100.0  1.0  1.0   \n",
       "2      gaul  lagraufesenque     drag. 27        30.0     100.0  9.0  8.0   \n",
       "3      gaul  lagraufesenque     drag. 29        30.0     100.0  2.0  2.0   \n",
       "4      gaul  lagraufesenque     drag. 33        30.0     100.0  1.0  1.0   \n",
       "\n",
       "   sum_freq_per_year_tni  \n",
       "0               0.057143  \n",
       "1               0.014286  \n",
       "2               0.128571  \n",
       "3               0.028571  \n",
       "4               0.014286  "
      ]
     },
     "execution_count": 6,
     "metadata": {},
     "output_type": "execute_result"
    }
   ],
   "source": [
    "df1 = sum_freq_per_year(data = df0,\n",
    "                        sum_freq = 'tni',\n",
    "                        lower_date = 'start_date',\n",
    "                        upper_date = 'end_date',\n",
    "                        freq_per_year = 'sum_freq_per_year_tni')\n",
    "df1.head()"
   ]
  },
  {
   "cell_type": "code",
   "execution_count": 7,
   "metadata": {},
   "outputs": [
    {
     "data": {
      "text/html": [
       "<div>\n",
       "<style scoped>\n",
       "    .dataframe tbody tr th:only-of-type {\n",
       "        vertical-align: middle;\n",
       "    }\n",
       "\n",
       "    .dataframe tbody tr th {\n",
       "        vertical-align: top;\n",
       "    }\n",
       "\n",
       "    .dataframe thead th {\n",
       "        text-align: right;\n",
       "    }\n",
       "</style>\n",
       "<table border=\"1\" class=\"dataframe\">\n",
       "  <thead>\n",
       "    <tr style=\"text-align: right;\">\n",
       "      <th></th>\n",
       "      <th>origin_h1</th>\n",
       "      <th>origin_h2</th>\n",
       "      <th>forma</th>\n",
       "      <th>start_date</th>\n",
       "      <th>end_date</th>\n",
       "      <th>tni</th>\n",
       "      <th>mni</th>\n",
       "      <th>sum_freq_per_year_tni</th>\n",
       "      <th>sum_freq_per_year_mni</th>\n",
       "    </tr>\n",
       "  </thead>\n",
       "  <tbody>\n",
       "    <tr>\n",
       "      <th>0</th>\n",
       "      <td>gaul</td>\n",
       "      <td>lagraufesenque</td>\n",
       "      <td>drag. 15/17</td>\n",
       "      <td>30.0</td>\n",
       "      <td>100.0</td>\n",
       "      <td>4.0</td>\n",
       "      <td>3.0</td>\n",
       "      <td>0.057143</td>\n",
       "      <td>0.042857</td>\n",
       "    </tr>\n",
       "    <tr>\n",
       "      <th>1</th>\n",
       "      <td>gaul</td>\n",
       "      <td>lagraufesenque</td>\n",
       "      <td>drag. 18</td>\n",
       "      <td>30.0</td>\n",
       "      <td>100.0</td>\n",
       "      <td>1.0</td>\n",
       "      <td>1.0</td>\n",
       "      <td>0.014286</td>\n",
       "      <td>0.014286</td>\n",
       "    </tr>\n",
       "    <tr>\n",
       "      <th>2</th>\n",
       "      <td>gaul</td>\n",
       "      <td>lagraufesenque</td>\n",
       "      <td>drag. 27</td>\n",
       "      <td>30.0</td>\n",
       "      <td>100.0</td>\n",
       "      <td>9.0</td>\n",
       "      <td>8.0</td>\n",
       "      <td>0.128571</td>\n",
       "      <td>0.114286</td>\n",
       "    </tr>\n",
       "    <tr>\n",
       "      <th>3</th>\n",
       "      <td>gaul</td>\n",
       "      <td>lagraufesenque</td>\n",
       "      <td>drag. 29</td>\n",
       "      <td>30.0</td>\n",
       "      <td>100.0</td>\n",
       "      <td>2.0</td>\n",
       "      <td>2.0</td>\n",
       "      <td>0.028571</td>\n",
       "      <td>0.028571</td>\n",
       "    </tr>\n",
       "    <tr>\n",
       "      <th>4</th>\n",
       "      <td>gaul</td>\n",
       "      <td>lagraufesenque</td>\n",
       "      <td>drag. 33</td>\n",
       "      <td>30.0</td>\n",
       "      <td>100.0</td>\n",
       "      <td>1.0</td>\n",
       "      <td>1.0</td>\n",
       "      <td>0.014286</td>\n",
       "      <td>0.014286</td>\n",
       "    </tr>\n",
       "  </tbody>\n",
       "</table>\n",
       "</div>"
      ],
      "text/plain": [
       "  origin_h1       origin_h2        forma  start_date  end_date  tni  mni  \\\n",
       "0      gaul  lagraufesenque  drag. 15/17        30.0     100.0  4.0  3.0   \n",
       "1      gaul  lagraufesenque     drag. 18        30.0     100.0  1.0  1.0   \n",
       "2      gaul  lagraufesenque     drag. 27        30.0     100.0  9.0  8.0   \n",
       "3      gaul  lagraufesenque     drag. 29        30.0     100.0  2.0  2.0   \n",
       "4      gaul  lagraufesenque     drag. 33        30.0     100.0  1.0  1.0   \n",
       "\n",
       "   sum_freq_per_year_tni  sum_freq_per_year_mni  \n",
       "0               0.057143               0.042857  \n",
       "1               0.014286               0.014286  \n",
       "2               0.128571               0.114286  \n",
       "3               0.028571               0.028571  \n",
       "4               0.014286               0.014286  "
      ]
     },
     "execution_count": 7,
     "metadata": {},
     "output_type": "execute_result"
    }
   ],
   "source": [
    "df1 = sum_freq_per_year(data = df0,\n",
    "                        sum_freq = 'mni',\n",
    "                        lower_date = 'start_date',\n",
    "                        upper_date = 'end_date',\n",
    "                        freq_per_year = 'sum_freq_per_year_mni')\n",
    "df1.head()"
   ]
  },
  {
   "cell_type": "markdown",
   "metadata": {},
   "source": [
    "#### 4.3 Create a two-column dataframe with years and frequency values\n",
    "This needs to be done for all levels of origin that should be included in the final plot. If for example, you want three different origins (e.g. Gaul, Italy, Iberian Peninsula), three different frequency dataframes should be made. \n",
    "\n",
    "It is also possible to plot a line, which sums serveral levels of the variable. This can be done using the following syntax:\n",
    "\n",
    "`freq_df = year_freq_df(df1[(df1['origin_h1'] == 'italy') | (df1['origin_h1'] == 'gaul')]`\n",
    "\n",
    "One can (not) consider any values for the calculations. F.ex., to look into `origin_h1 == iberianpeninsula` but to exclude `origin_h2 == local`, specify\n",
    "\n",
    "`df1[(df1['origin_h1'] == 'iberianpeninsula') & (df1['origin_h2'] != 'local')]` in the first argument in the `year_freq_df` function.\n"
   ]
  },
  {
   "cell_type": "code",
   "execution_count": 8,
   "metadata": {},
   "outputs": [],
   "source": [
    "freq_italy = year_freq_df(data = df1[df1['origin_h1'] == 'italy'],     # param for specifying the origin \n",
    "                          lower_date = 'start_date',\n",
    "                          upper_date = 'end_date',\n",
    "                          sum_freq = 'sum_freq_per_year_tni')          # param for changing which frequency type to use \n",
    "\n",
    "freq_gaul = year_freq_df(data = df1[df1['origin_h1'] == 'gaul'],      \n",
    "                         lower_date = 'start_date',\n",
    "                         upper_date = 'end_date',\n",
    "                         sum_freq = 'sum_freq_per_year_mni')        "
   ]
  },
  {
   "cell_type": "markdown",
   "metadata": {},
   "source": [
    "#### 4.4 Plot the graphs"
   ]
  },
  {
   "cell_type": "markdown",
   "metadata": {},
   "source": [
    "#### 4.4.1 Create a dictionary for plotting"
   ]
  },
  {
   "cell_type": "code",
   "execution_count": 9,
   "metadata": {},
   "outputs": [],
   "source": [
    "df_dictionary = {'Italy_tni': freq_italy, 'Gaul_mni': freq_gaul}"
   ]
  },
  {
   "cell_type": "markdown",
   "metadata": {},
   "source": [
    "#### 4.4.2 Plot and save"
   ]
  },
  {
   "cell_type": "code",
   "execution_count": 10,
   "metadata": {},
   "outputs": [
    {
     "name": "stderr",
     "output_type": "stream",
     "text": [
      "/tmp/ipykernel_34905/2109853281.py:39: UserWarning: FixedFormatter should only be used together with FixedLocator\n",
      "  ax.set_xticklabels([int(i) if i != 0 else 1 for i in ax.get_xticks()])\n"
     ]
    },
    {
     "data": {
      "image/png": "[encoded data removed]",
      "text/plain": [
       "<Figure size 1440x792 with 1 Axes>"
      ]
     },
     "metadata": {},
     "output_type": "display_data"
    }
   ],
   "source": [
    "sns.set(font_scale=1.7)\n",
    "\n",
    "#Remove squeres from background\n",
    "sns.set_style(style='white')  \n",
    "\n",
    "fig, ax = plt.subplots(figsize=(20, 11))\n",
    "\n",
    "#Calculate minimum and maximum Y values to define the cuff off further\n",
    "minimum, maximum = get_Y_range(df_dictionary)\n",
    "\n",
    "plot_graph(dicts_of_df = df_dictionary,\n",
    "           palette=['green', 'yellow'],  \n",
    "           linestyle = 'dashed',\n",
    "           ax = ax)\n",
    "           \n",
    "\n",
    "# Cut off the range of Y value shown \n",
    "ax.set_xlim(minimum, maximum)\n",
    "\n",
    "# Remove 0 from Y axis\n",
    "ax.set_ylim(0, None)\n",
    "\n",
    "#Change background colour\n",
    "ax.set_facecolor(\"white\")  \n",
    "\n",
    "#Change Y values format \n",
    "# integers = '%.0f'\n",
    "# decimals = '%.1f', the number before 'f' defines how many values to show after dot\n",
    "ax.yaxis.set_major_formatter(FormatStrFormatter('%.0f'))  \n",
    "\n",
    "ax.set_ylabel(\"Frequency\")\n",
    "ax.set_xlabel(\"Year\")\n",
    "\n",
    "#To hide values on axis\n",
    "#ax.axes.xaxis.set_ticks([])\n",
    "#ax.axes.yaxis.set_ticks([])\n",
    "\n",
    "# Make sure that if 0 is included on the x-axis it is turned into 1 instead\n",
    "ax.set_xticklabels([int(i) if i != 0 else 1 for i in ax.get_xticks()])\n",
    "\n",
    "ax.set_title(label = 'Sum Frequency per Origin per Year', size=25, y=1.04, fontweight='bold')\n",
    "plt.tight_layout()\n",
    "\n",
    "\n",
    "# Save the graph\n",
    "plt.savefig('./Frequency_per_year.pdf')\n"
   ]
  },
  {
   "cell_type": "markdown",
   "metadata": {},
   "source": [
    "### 5. Show sum of *Frequency* per *Origin* per *Year* for the specific level of *Origin* (e.g., betica, campanialacio, lucusaugusti) "
   ]
  },
  {
   "cell_type": "markdown",
   "metadata": {},
   "source": [
    "#### 5.1 Group *forma* by *origin_h2* and sum frequencies\n",
    "Specify if you want the frequency mni or tni in the below chunk."
   ]
  },
  {
   "cell_type": "code",
   "execution_count": 11,
   "metadata": {},
   "outputs": [
    {
     "name": "stderr",
     "output_type": "stream",
     "text": [
      "/tmp/ipykernel_34905/1242974624.py:1: FutureWarning: Indexing with multiple keys (implicitly converted to a tuple of keys) will be deprecated, use a list instead.\n",
      "  df0 = data.groupby(['origin_h2', 'forma', 'start_date', 'end_date'])['tni', 'mni'].apply(lambda x : x.sum())\n"
     ]
    },
    {
     "data": {
      "text/html": [
       "<div>\n",
       "<style scoped>\n",
       "    .dataframe tbody tr th:only-of-type {\n",
       "        vertical-align: middle;\n",
       "    }\n",
       "\n",
       "    .dataframe tbody tr th {\n",
       "        vertical-align: top;\n",
       "    }\n",
       "\n",
       "    .dataframe thead th {\n",
       "        text-align: right;\n",
       "    }\n",
       "</style>\n",
       "<table border=\"1\" class=\"dataframe\">\n",
       "  <thead>\n",
       "    <tr style=\"text-align: right;\">\n",
       "      <th></th>\n",
       "      <th>origin_h2</th>\n",
       "      <th>forma</th>\n",
       "      <th>start_date</th>\n",
       "      <th>end_date</th>\n",
       "      <th>tni</th>\n",
       "      <th>mni</th>\n",
       "    </tr>\n",
       "  </thead>\n",
       "  <tbody>\n",
       "    <tr>\n",
       "      <th>0</th>\n",
       "      <td>arezzo</td>\n",
       "      <td>consp. 19?</td>\n",
       "      <td>-30.0</td>\n",
       "      <td>30.0</td>\n",
       "      <td>1.0</td>\n",
       "      <td>1.0</td>\n",
       "    </tr>\n",
       "    <tr>\n",
       "      <th>1</th>\n",
       "      <td>arezzo</td>\n",
       "      <td>consp. 20</td>\n",
       "      <td>-30.0</td>\n",
       "      <td>30.0</td>\n",
       "      <td>2.0</td>\n",
       "      <td>2.0</td>\n",
       "    </tr>\n",
       "    <tr>\n",
       "      <th>2</th>\n",
       "      <td>arezzo</td>\n",
       "      <td>consp. 22</td>\n",
       "      <td>-30.0</td>\n",
       "      <td>30.0</td>\n",
       "      <td>1.0</td>\n",
       "      <td>1.0</td>\n",
       "    </tr>\n",
       "    <tr>\n",
       "      <th>3</th>\n",
       "      <td>arezzo</td>\n",
       "      <td>consp. 22.1.3.</td>\n",
       "      <td>-30.0</td>\n",
       "      <td>30.0</td>\n",
       "      <td>1.0</td>\n",
       "      <td>1.0</td>\n",
       "    </tr>\n",
       "    <tr>\n",
       "      <th>4</th>\n",
       "      <td>arezzo</td>\n",
       "      <td>consp. 27?</td>\n",
       "      <td>-30.0</td>\n",
       "      <td>30.0</td>\n",
       "      <td>1.0</td>\n",
       "      <td>1.0</td>\n",
       "    </tr>\n",
       "  </tbody>\n",
       "</table>\n",
       "</div>"
      ],
      "text/plain": [
       "  origin_h2           forma  start_date  end_date  tni  mni\n",
       "0    arezzo      consp. 19?       -30.0      30.0  1.0  1.0\n",
       "1    arezzo       consp. 20       -30.0      30.0  2.0  2.0\n",
       "2    arezzo       consp. 22       -30.0      30.0  1.0  1.0\n",
       "3    arezzo  consp. 22.1.3.       -30.0      30.0  1.0  1.0\n",
       "4    arezzo      consp. 27?       -30.0      30.0  1.0  1.0"
      ]
     },
     "execution_count": 11,
     "metadata": {},
     "output_type": "execute_result"
    }
   ],
   "source": [
    "df0 = data.groupby(['origin_h2', 'forma', 'start_date', 'end_date'])['tni', 'mni'].apply(lambda x : x.sum())\n",
    "df0 = df0.reset_index()\n",
    "df0.head()"
   ]
  },
  {
   "cell_type": "markdown",
   "metadata": {},
   "source": [
    "#### 5.2 Calculate *forma* frequency per year"
   ]
  },
  {
   "cell_type": "code",
   "execution_count": 12,
   "metadata": {},
   "outputs": [
    {
     "data": {
      "text/html": [
       "<div>\n",
       "<style scoped>\n",
       "    .dataframe tbody tr th:only-of-type {\n",
       "        vertical-align: middle;\n",
       "    }\n",
       "\n",
       "    .dataframe tbody tr th {\n",
       "        vertical-align: top;\n",
       "    }\n",
       "\n",
       "    .dataframe thead th {\n",
       "        text-align: right;\n",
       "    }\n",
       "</style>\n",
       "<table border=\"1\" class=\"dataframe\">\n",
       "  <thead>\n",
       "    <tr style=\"text-align: right;\">\n",
       "      <th></th>\n",
       "      <th>origin_h2</th>\n",
       "      <th>forma</th>\n",
       "      <th>start_date</th>\n",
       "      <th>end_date</th>\n",
       "      <th>tni</th>\n",
       "      <th>mni</th>\n",
       "      <th>sum_freq_per_year_tni</th>\n",
       "    </tr>\n",
       "  </thead>\n",
       "  <tbody>\n",
       "    <tr>\n",
       "      <th>0</th>\n",
       "      <td>arezzo</td>\n",
       "      <td>consp. 19?</td>\n",
       "      <td>-30.0</td>\n",
       "      <td>30.0</td>\n",
       "      <td>1.0</td>\n",
       "      <td>1.0</td>\n",
       "      <td>0.016667</td>\n",
       "    </tr>\n",
       "    <tr>\n",
       "      <th>1</th>\n",
       "      <td>arezzo</td>\n",
       "      <td>consp. 20</td>\n",
       "      <td>-30.0</td>\n",
       "      <td>30.0</td>\n",
       "      <td>2.0</td>\n",
       "      <td>2.0</td>\n",
       "      <td>0.033333</td>\n",
       "    </tr>\n",
       "    <tr>\n",
       "      <th>2</th>\n",
       "      <td>arezzo</td>\n",
       "      <td>consp. 22</td>\n",
       "      <td>-30.0</td>\n",
       "      <td>30.0</td>\n",
       "      <td>1.0</td>\n",
       "      <td>1.0</td>\n",
       "      <td>0.016667</td>\n",
       "    </tr>\n",
       "    <tr>\n",
       "      <th>3</th>\n",
       "      <td>arezzo</td>\n",
       "      <td>consp. 22.1.3.</td>\n",
       "      <td>-30.0</td>\n",
       "      <td>30.0</td>\n",
       "      <td>1.0</td>\n",
       "      <td>1.0</td>\n",
       "      <td>0.016667</td>\n",
       "    </tr>\n",
       "    <tr>\n",
       "      <th>4</th>\n",
       "      <td>arezzo</td>\n",
       "      <td>consp. 27?</td>\n",
       "      <td>-30.0</td>\n",
       "      <td>30.0</td>\n",
       "      <td>1.0</td>\n",
       "      <td>1.0</td>\n",
       "      <td>0.016667</td>\n",
       "    </tr>\n",
       "  </tbody>\n",
       "</table>\n",
       "</div>"
      ],
      "text/plain": [
       "  origin_h2           forma  start_date  end_date  tni  mni  \\\n",
       "0    arezzo      consp. 19?       -30.0      30.0  1.0  1.0   \n",
       "1    arezzo       consp. 20       -30.0      30.0  2.0  2.0   \n",
       "2    arezzo       consp. 22       -30.0      30.0  1.0  1.0   \n",
       "3    arezzo  consp. 22.1.3.       -30.0      30.0  1.0  1.0   \n",
       "4    arezzo      consp. 27?       -30.0      30.0  1.0  1.0   \n",
       "\n",
       "   sum_freq_per_year_tni  \n",
       "0               0.016667  \n",
       "1               0.033333  \n",
       "2               0.016667  \n",
       "3               0.016667  \n",
       "4               0.016667  "
      ]
     },
     "execution_count": 12,
     "metadata": {},
     "output_type": "execute_result"
    }
   ],
   "source": [
    "df1 = sum_freq_per_year(data = df0,\n",
    "                        sum_freq = 'tni',\n",
    "                        lower_date = 'start_date',\n",
    "                        upper_date = 'end_date',\n",
    "                        freq_per_year = 'sum_freq_per_year_tni')\n",
    "df1.head()"
   ]
  },
  {
   "cell_type": "code",
   "execution_count": 13,
   "metadata": {},
   "outputs": [
    {
     "data": {
      "text/html": [
       "<div>\n",
       "<style scoped>\n",
       "    .dataframe tbody tr th:only-of-type {\n",
       "        vertical-align: middle;\n",
       "    }\n",
       "\n",
       "    .dataframe tbody tr th {\n",
       "        vertical-align: top;\n",
       "    }\n",
       "\n",
       "    .dataframe thead th {\n",
       "        text-align: right;\n",
       "    }\n",
       "</style>\n",
       "<table border=\"1\" class=\"dataframe\">\n",
       "  <thead>\n",
       "    <tr style=\"text-align: right;\">\n",
       "      <th></th>\n",
       "      <th>origin_h2</th>\n",
       "      <th>forma</th>\n",
       "      <th>start_date</th>\n",
       "      <th>end_date</th>\n",
       "      <th>tni</th>\n",
       "      <th>mni</th>\n",
       "      <th>sum_freq_per_year_tni</th>\n",
       "      <th>sum_freq_per_year_mni</th>\n",
       "    </tr>\n",
       "  </thead>\n",
       "  <tbody>\n",
       "    <tr>\n",
       "      <th>0</th>\n",
       "      <td>arezzo</td>\n",
       "      <td>consp. 19?</td>\n",
       "      <td>-30.0</td>\n",
       "      <td>30.0</td>\n",
       "      <td>1.0</td>\n",
       "      <td>1.0</td>\n",
       "      <td>0.016667</td>\n",
       "      <td>0.016667</td>\n",
       "    </tr>\n",
       "    <tr>\n",
       "      <th>1</th>\n",
       "      <td>arezzo</td>\n",
       "      <td>consp. 20</td>\n",
       "      <td>-30.0</td>\n",
       "      <td>30.0</td>\n",
       "      <td>2.0</td>\n",
       "      <td>2.0</td>\n",
       "      <td>0.033333</td>\n",
       "      <td>0.033333</td>\n",
       "    </tr>\n",
       "    <tr>\n",
       "      <th>2</th>\n",
       "      <td>arezzo</td>\n",
       "      <td>consp. 22</td>\n",
       "      <td>-30.0</td>\n",
       "      <td>30.0</td>\n",
       "      <td>1.0</td>\n",
       "      <td>1.0</td>\n",
       "      <td>0.016667</td>\n",
       "      <td>0.016667</td>\n",
       "    </tr>\n",
       "    <tr>\n",
       "      <th>3</th>\n",
       "      <td>arezzo</td>\n",
       "      <td>consp. 22.1.3.</td>\n",
       "      <td>-30.0</td>\n",
       "      <td>30.0</td>\n",
       "      <td>1.0</td>\n",
       "      <td>1.0</td>\n",
       "      <td>0.016667</td>\n",
       "      <td>0.016667</td>\n",
       "    </tr>\n",
       "    <tr>\n",
       "      <th>4</th>\n",
       "      <td>arezzo</td>\n",
       "      <td>consp. 27?</td>\n",
       "      <td>-30.0</td>\n",
       "      <td>30.0</td>\n",
       "      <td>1.0</td>\n",
       "      <td>1.0</td>\n",
       "      <td>0.016667</td>\n",
       "      <td>0.016667</td>\n",
       "    </tr>\n",
       "  </tbody>\n",
       "</table>\n",
       "</div>"
      ],
      "text/plain": [
       "  origin_h2           forma  start_date  end_date  tni  mni  \\\n",
       "0    arezzo      consp. 19?       -30.0      30.0  1.0  1.0   \n",
       "1    arezzo       consp. 20       -30.0      30.0  2.0  2.0   \n",
       "2    arezzo       consp. 22       -30.0      30.0  1.0  1.0   \n",
       "3    arezzo  consp. 22.1.3.       -30.0      30.0  1.0  1.0   \n",
       "4    arezzo      consp. 27?       -30.0      30.0  1.0  1.0   \n",
       "\n",
       "   sum_freq_per_year_tni  sum_freq_per_year_mni  \n",
       "0               0.016667               0.016667  \n",
       "1               0.033333               0.033333  \n",
       "2               0.016667               0.016667  \n",
       "3               0.016667               0.016667  \n",
       "4               0.016667               0.016667  "
      ]
     },
     "execution_count": 13,
     "metadata": {},
     "output_type": "execute_result"
    }
   ],
   "source": [
    "df1 = sum_freq_per_year(data = df0,\n",
    "                        sum_freq = 'mni',\n",
    "                        lower_date = 'start_date',\n",
    "                        upper_date = 'end_date',\n",
    "                        freq_per_year = 'sum_freq_per_year_mni')\n",
    "df1.head()"
   ]
  },
  {
   "cell_type": "markdown",
   "metadata": {},
   "source": [
    "#### 5.3 Create a two-column dataframe with years and frequency values\n",
    "This needs to be done for all levels of origin that should be included in the final plot. If for example, you want three different origins, three different frequency dataframes should be made. \n",
    "\n",
    "It is also possible to plot a line, which sums of serveral levels of the variable. This can be done using the following syntax:\n",
    "\n",
    "`freq_df = year_freq_df(df1[(df1['origin_h1'] == 'italy') | (df1['origin_h1'] == 'gaul')]`"
   ]
  },
  {
   "cell_type": "code",
   "execution_count": 14,
   "metadata": {},
   "outputs": [],
   "source": [
    "freq_betica = year_freq_df(data = df1[df1['origin_h2'] == 'betica'],   \n",
    "                           lower_date = 'start_date',\n",
    "                           upper_date = 'end_date',\n",
    "                           sum_freq = 'sum_freq_per_year_tni')           \n",
    "\n",
    "freq_campanialacio = year_freq_df(data = df1[df1['origin_h2'] == 'campanialacio'],  \n",
    "                                  lower_date = 'start_date',\n",
    "                                  upper_date = 'end_date',\n",
    "                                  sum_freq = 'sum_freq_per_year_tni')             "
   ]
  },
  {
   "cell_type": "markdown",
   "metadata": {},
   "source": [
    "#### 5.4 Plot the graphs"
   ]
  },
  {
   "cell_type": "markdown",
   "metadata": {},
   "source": [
    "#### 5.4.1 Create a dictionary for plotting"
   ]
  },
  {
   "cell_type": "code",
   "execution_count": 15,
   "metadata": {},
   "outputs": [],
   "source": [
    "df_dictionary = {'Betica': freq_betica, 'Campanialacio': freq_campanialacio}"
   ]
  },
  {
   "cell_type": "markdown",
   "metadata": {},
   "source": [
    "#### 5.4.2 Plot and save"
   ]
  },
  {
   "cell_type": "code",
   "execution_count": 16,
   "metadata": {},
   "outputs": [
    {
     "name": "stderr",
     "output_type": "stream",
     "text": [
      "/tmp/ipykernel_34905/546573719.py:39: UserWarning: FixedFormatter should only be used together with FixedLocator\n",
      "  ax.set_xticklabels([int(i) if i != 0 else 1 for i in ax.get_xticks()])\n"
     ]
    },
    {
     "data": {
      "image/png": "[encoded data removed]",
      "text/plain": [
       "<Figure size 1440x792 with 1 Axes>"
      ]
     },
     "metadata": {},
     "output_type": "display_data"
    }
   ],
   "source": [
    "sns.set(font_scale=1.7)\n",
    "\n",
    "#Remove squeres from background\n",
    "sns.set_style(style='white')  \n",
    "\n",
    "fig, ax = plt.subplots(figsize=(20, 11))\n",
    "\n",
    "#Calculate minimum and maximum Y values to define the cuff off further\n",
    "minimum, maximum = get_Y_range(df_dictionary)\n",
    "\n",
    "plot_graph(dicts_of_df = df_dictionary,\n",
    "           palette=['green', 'black'],  \n",
    "           linestyle = 'dashed',\n",
    "           ax = ax)\n",
    "           \n",
    "\n",
    "# Cut off the range of Y value shown \n",
    "ax.set_xlim(minimum, maximum)\n",
    "\n",
    "# Remove 0 from Y axis\n",
    "ax.set_ylim(0, None)\n",
    "\n",
    "#Change background colour\n",
    "ax.set_facecolor(\"white\")  \n",
    "\n",
    "#Change Y values format \n",
    "# integers = '%.0f'\n",
    "# decimals = '%.1f', the number before 'f' defines how many values to show after dot\n",
    "ax.yaxis.set_major_formatter(FormatStrFormatter('%.0f'))  \n",
    "\n",
    "ax.set_ylabel(\"Frequency\")\n",
    "ax.set_xlabel(\"Year\")\n",
    "\n",
    "#To hide values on axis\n",
    "#ax.axes.xaxis.set_ticks([])\n",
    "#ax.axes.yaxis.set_ticks([])\n",
    "\n",
    "# Make sure that if 0 is included on the x-axis it is turned into 1 instead\n",
    "ax.set_xticklabels([int(i) if i != 0 else 1 for i in ax.get_xticks()])\n",
    "\n",
    "ax.set_title(label = 'Sum Frequency per Origin per Year for a Specific Level of Origin', size=25, y=1.04, fontweight='bold')\n",
    "plt.tight_layout()\n",
    "\n",
    "\n",
    "# Save the graph\n",
    "plt.savefig('./Frequency_per_year.pdf')"
   ]
  },
  {
   "cell_type": "markdown",
   "metadata": {},
   "source": [
    "### 6. Show sum *'Frequency'* per *'Forma_h2'* per *'Year'*"
   ]
  },
  {
   "cell_type": "markdown",
   "metadata": {},
   "source": [
    "#### 6.1 To begin with the summed frequency is found"
   ]
  },
  {
   "cell_type": "code",
   "execution_count": 17,
   "metadata": {},
   "outputs": [
    {
     "name": "stderr",
     "output_type": "stream",
     "text": [
      "/tmp/ipykernel_34905/284536238.py:1: FutureWarning: Indexing with multiple keys (implicitly converted to a tuple of keys) will be deprecated, use a list instead.\n",
      "  df0 = data.groupby(['forma_h2', 'forma', 'start_date', 'end_date'])['tni', 'mni'].apply(lambda x : x.sum())\n"
     ]
    },
    {
     "data": {
      "text/html": [
       "<div>\n",
       "<style scoped>\n",
       "    .dataframe tbody tr th:only-of-type {\n",
       "        vertical-align: middle;\n",
       "    }\n",
       "\n",
       "    .dataframe tbody tr th {\n",
       "        vertical-align: top;\n",
       "    }\n",
       "\n",
       "    .dataframe thead th {\n",
       "        text-align: right;\n",
       "    }\n",
       "</style>\n",
       "<table border=\"1\" class=\"dataframe\">\n",
       "  <thead>\n",
       "    <tr style=\"text-align: right;\">\n",
       "      <th></th>\n",
       "      <th>forma_h2</th>\n",
       "      <th>forma</th>\n",
       "      <th>start_date</th>\n",
       "      <th>end_date</th>\n",
       "      <th>tni</th>\n",
       "      <th>mni</th>\n",
       "    </tr>\n",
       "  </thead>\n",
       "  <tbody>\n",
       "    <tr>\n",
       "      <th>0</th>\n",
       "      <td>bol</td>\n",
       "      <td>drag. 29</td>\n",
       "      <td>30.0</td>\n",
       "      <td>100.0</td>\n",
       "      <td>2.0</td>\n",
       "      <td>2.0</td>\n",
       "    </tr>\n",
       "    <tr>\n",
       "      <th>1</th>\n",
       "      <td>bol</td>\n",
       "      <td>drag. 35</td>\n",
       "      <td>30.0</td>\n",
       "      <td>100.0</td>\n",
       "      <td>1.0</td>\n",
       "      <td>1.0</td>\n",
       "    </tr>\n",
       "    <tr>\n",
       "      <th>2</th>\n",
       "      <td>bol</td>\n",
       "      <td>drag. 36</td>\n",
       "      <td>30.0</td>\n",
       "      <td>100.0</td>\n",
       "      <td>1.0</td>\n",
       "      <td>1.0</td>\n",
       "    </tr>\n",
       "    <tr>\n",
       "      <th>3</th>\n",
       "      <td>bol</td>\n",
       "      <td>hisp. 29</td>\n",
       "      <td>70.0</td>\n",
       "      <td>200.0</td>\n",
       "      <td>11.0</td>\n",
       "      <td>7.0</td>\n",
       "    </tr>\n",
       "    <tr>\n",
       "      <th>4</th>\n",
       "      <td>bol</td>\n",
       "      <td>hisp. 29</td>\n",
       "      <td>70.0</td>\n",
       "      <td>200.0</td>\n",
       "      <td>1.0</td>\n",
       "      <td>1.0</td>\n",
       "    </tr>\n",
       "  </tbody>\n",
       "</table>\n",
       "</div>"
      ],
      "text/plain": [
       "  forma_h2      forma  start_date  end_date   tni  mni\n",
       "0      bol   drag. 29        30.0     100.0   2.0  2.0\n",
       "1      bol   drag. 35        30.0     100.0   1.0  1.0\n",
       "2      bol   drag. 36        30.0     100.0   1.0  1.0\n",
       "3      bol   hisp. 29        70.0     200.0  11.0  7.0\n",
       "4      bol  hisp. 29         70.0     200.0   1.0  1.0"
      ]
     },
     "execution_count": 17,
     "metadata": {},
     "output_type": "execute_result"
    }
   ],
   "source": [
    "df0 = data.groupby(['forma_h2', 'forma', 'start_date', 'end_date'])['tni', 'mni'].apply(lambda x : x.sum())\n",
    "df0 = df0.reset_index()\n",
    "df0.head()"
   ]
  },
  {
   "cell_type": "markdown",
   "metadata": {},
   "source": [
    "#### 6.2 Calculate the summed frequency per year"
   ]
  },
  {
   "cell_type": "code",
   "execution_count": 18,
   "metadata": {},
   "outputs": [],
   "source": [
    "df1 = sum_freq_per_year(data = df0,\n",
    "                        sum_freq = 'tni',\n",
    "                        lower_date = 'start_date',\n",
    "                        upper_date = 'end_date',\n",
    "                        freq_per_year = 'sum_freq_per_year_tni')"
   ]
  },
  {
   "cell_type": "code",
   "execution_count": 19,
   "metadata": {},
   "outputs": [
    {
     "data": {
      "text/html": [
       "<div>\n",
       "<style scoped>\n",
       "    .dataframe tbody tr th:only-of-type {\n",
       "        vertical-align: middle;\n",
       "    }\n",
       "\n",
       "    .dataframe tbody tr th {\n",
       "        vertical-align: top;\n",
       "    }\n",
       "\n",
       "    .dataframe thead th {\n",
       "        text-align: right;\n",
       "    }\n",
       "</style>\n",
       "<table border=\"1\" class=\"dataframe\">\n",
       "  <thead>\n",
       "    <tr style=\"text-align: right;\">\n",
       "      <th></th>\n",
       "      <th>forma_h2</th>\n",
       "      <th>forma</th>\n",
       "      <th>start_date</th>\n",
       "      <th>end_date</th>\n",
       "      <th>tni</th>\n",
       "      <th>mni</th>\n",
       "      <th>sum_freq_per_year_tni</th>\n",
       "      <th>sum_freq_per_year_mni</th>\n",
       "    </tr>\n",
       "  </thead>\n",
       "  <tbody>\n",
       "    <tr>\n",
       "      <th>0</th>\n",
       "      <td>bol</td>\n",
       "      <td>drag. 29</td>\n",
       "      <td>30.0</td>\n",
       "      <td>100.0</td>\n",
       "      <td>2.0</td>\n",
       "      <td>2.0</td>\n",
       "      <td>0.028571</td>\n",
       "      <td>0.028571</td>\n",
       "    </tr>\n",
       "    <tr>\n",
       "      <th>1</th>\n",
       "      <td>bol</td>\n",
       "      <td>drag. 35</td>\n",
       "      <td>30.0</td>\n",
       "      <td>100.0</td>\n",
       "      <td>1.0</td>\n",
       "      <td>1.0</td>\n",
       "      <td>0.014286</td>\n",
       "      <td>0.014286</td>\n",
       "    </tr>\n",
       "    <tr>\n",
       "      <th>2</th>\n",
       "      <td>bol</td>\n",
       "      <td>drag. 36</td>\n",
       "      <td>30.0</td>\n",
       "      <td>100.0</td>\n",
       "      <td>1.0</td>\n",
       "      <td>1.0</td>\n",
       "      <td>0.014286</td>\n",
       "      <td>0.014286</td>\n",
       "    </tr>\n",
       "    <tr>\n",
       "      <th>3</th>\n",
       "      <td>bol</td>\n",
       "      <td>hisp. 29</td>\n",
       "      <td>70.0</td>\n",
       "      <td>200.0</td>\n",
       "      <td>11.0</td>\n",
       "      <td>7.0</td>\n",
       "      <td>0.084615</td>\n",
       "      <td>0.053846</td>\n",
       "    </tr>\n",
       "    <tr>\n",
       "      <th>4</th>\n",
       "      <td>bol</td>\n",
       "      <td>hisp. 29</td>\n",
       "      <td>70.0</td>\n",
       "      <td>200.0</td>\n",
       "      <td>1.0</td>\n",
       "      <td>1.0</td>\n",
       "      <td>0.007692</td>\n",
       "      <td>0.007692</td>\n",
       "    </tr>\n",
       "  </tbody>\n",
       "</table>\n",
       "</div>"
      ],
      "text/plain": [
       "  forma_h2      forma  start_date  end_date   tni  mni  sum_freq_per_year_tni  \\\n",
       "0      bol   drag. 29        30.0     100.0   2.0  2.0               0.028571   \n",
       "1      bol   drag. 35        30.0     100.0   1.0  1.0               0.014286   \n",
       "2      bol   drag. 36        30.0     100.0   1.0  1.0               0.014286   \n",
       "3      bol   hisp. 29        70.0     200.0  11.0  7.0               0.084615   \n",
       "4      bol  hisp. 29         70.0     200.0   1.0  1.0               0.007692   \n",
       "\n",
       "   sum_freq_per_year_mni  \n",
       "0               0.028571  \n",
       "1               0.014286  \n",
       "2               0.014286  \n",
       "3               0.053846  \n",
       "4               0.007692  "
      ]
     },
     "execution_count": 19,
     "metadata": {},
     "output_type": "execute_result"
    }
   ],
   "source": [
    "df1 = sum_freq_per_year(data = df0,\n",
    "                        sum_freq = 'mni',\n",
    "                        lower_date = 'start_date',\n",
    "                        upper_date = 'end_date',\n",
    "                        freq_per_year = 'sum_freq_per_year_mni')\n",
    "\n",
    "df1.head()"
   ]
  },
  {
   "cell_type": "markdown",
   "metadata": {},
   "source": [
    "#### 6.3 Create frequency dataframe with information about a certain forma_h2"
   ]
  },
  {
   "cell_type": "code",
   "execution_count": 20,
   "metadata": {},
   "outputs": [],
   "source": [
    "freq_ironage = year_freq_df(data = df1[df1['forma_h2'] == 'iron age'],     \n",
    "                            lower_date = 'start_date',\n",
    "                            upper_date = 'end_date',\n",
    "                            sum_freq = 'sum_freq_per_year_tni')   \n",
    "\n",
    "freq_plato = year_freq_df(data = df1[df1['forma_h2'] == 'plato'],     \n",
    "                          lower_date = 'start_date',\n",
    "                          upper_date = 'end_date',\n",
    "                          sum_freq = 'sum_freq_per_year_tni') "
   ]
  },
  {
   "cell_type": "markdown",
   "metadata": {},
   "source": [
    "#### 6.4 Plot the graphs"
   ]
  },
  {
   "cell_type": "markdown",
   "metadata": {},
   "source": [
    "#### 6.4.1 Create a dictionary for plotting"
   ]
  },
  {
   "cell_type": "code",
   "execution_count": 21,
   "metadata": {},
   "outputs": [],
   "source": [
    "df_dictionary = {'Iron Age': freq_ironage, 'Plato': freq_plato}"
   ]
  },
  {
   "cell_type": "markdown",
   "metadata": {},
   "source": [
    "#### 6.4.2 Plot and save"
   ]
  },
  {
   "cell_type": "code",
   "execution_count": 23,
   "metadata": {},
   "outputs": [
    {
     "name": "stderr",
     "output_type": "stream",
     "text": [
      "/tmp/ipykernel_34905/2504220082.py:39: UserWarning: FixedFormatter should only be used together with FixedLocator\n",
      "  ax.set_xticklabels([int(i) if i != 0 else 1 for i in ax.get_xticks()])\n"
     ]
    },
    {
     "data": {
      "image/png": "[encoded data removed]",
      "text/plain": [
       "<Figure size 1440x792 with 1 Axes>"
      ]
     },
     "metadata": {},
     "output_type": "display_data"
    }
   ],
   "source": [
    "sns.set(font_scale=1.7)\n",
    "\n",
    "#Remove squeres from background\n",
    "sns.set_style(style='white')  \n",
    "\n",
    "fig, ax = plt.subplots(figsize=(20, 11))\n",
    "\n",
    "#Calculate minimum and maximum Y values to define the cuff off further\n",
    "minimum, maximum = get_Y_range(df_dictionary)\n",
    "\n",
    "plot_graph(dicts_of_df = df_dictionary,\n",
    "           palette=['blue', 'red'],  \n",
    "           linestyle = 'dashed',\n",
    "           ax = ax)\n",
    "           \n",
    "\n",
    "# Cut off the range of Y value shown \n",
    "ax.set_xlim(minimum, maximum)\n",
    "\n",
    "# Remove 0 from Y axis\n",
    "ax.set_ylim(0, None)\n",
    "\n",
    "#Change background colour\n",
    "ax.set_facecolor(\"white\")  \n",
    "\n",
    "#Change Y values format \n",
    "# integers = '%.0f'\n",
    "# decimals = '%.1f', the number before 'f' defines how many values to show after dot\n",
    "ax.yaxis.set_major_formatter(FormatStrFormatter('%.0f'))  \n",
    "\n",
    "ax.set_ylabel(\"Frequency\")\n",
    "ax.set_xlabel(\"Year\")\n",
    "\n",
    "#To hide values on axis\n",
    "#ax.axes.xaxis.set_ticks([])\n",
    "#ax.axes.yaxis.set_ticks([])\n",
    "\n",
    "# Make sure that if 0 is included on the x-axis it is turned into 1 instead\n",
    "ax.set_xticklabels([int(i) if i != 0 else 1 for i in ax.get_xticks()])\n",
    "\n",
    "ax.set_title(label = 'Sum of Frequency per Contents per Year', size=25, y=1.04, fontweight='bold')\n",
    "plt.tight_layout()\n",
    "\n",
    "\n",
    "# Save the graph\n",
    "plt.savefig('./Frequency_per_year.pdf')"
   ]
  },
  {
   "cell_type": "markdown",
   "metadata": {},
   "source": [
    "### 7. Show count of unique *'Clase'*  per *'Origin_h1'* per *'Year'* in *'Forma'* date range"
   ]
  },
  {
   "cell_type": "markdown",
   "metadata": {},
   "source": [
    "#### 7.1 Identify the list of *clase* per *forma* and *origin_h1* in *forma* date range. Save *clase* in a list.\n",
    "\n",
    "**Note:** It is possible to modyfy the query so that *origin_h1* is not considered.  In this case, simply remove `'origin_h1'` label from the first line in the cell `data.groupby(['site', 'start_date', 'end_date'])['forma'].apply(lambda x: ','.join(x))`."
   ]
  },
  {
   "cell_type": "code",
   "execution_count": 24,
   "metadata": {},
   "outputs": [
    {
     "data": {
      "text/html": [
       "<div>\n",
       "<style scoped>\n",
       "    .dataframe tbody tr th:only-of-type {\n",
       "        vertical-align: middle;\n",
       "    }\n",
       "\n",
       "    .dataframe tbody tr th {\n",
       "        vertical-align: top;\n",
       "    }\n",
       "\n",
       "    .dataframe thead th {\n",
       "        text-align: right;\n",
       "    }\n",
       "</style>\n",
       "<table border=\"1\" class=\"dataframe\">\n",
       "  <thead>\n",
       "    <tr style=\"text-align: right;\">\n",
       "      <th></th>\n",
       "      <th>forma</th>\n",
       "      <th>start_date</th>\n",
       "      <th>end_date</th>\n",
       "      <th>origin_h1</th>\n",
       "      <th>List_of_clase</th>\n",
       "    </tr>\n",
       "  </thead>\n",
       "  <tbody>\n",
       "    <tr>\n",
       "      <th>0</th>\n",
       "      <td>anfora de fondo plano</td>\n",
       "      <td>20.0</td>\n",
       "      <td>150.0</td>\n",
       "      <td>iberianpeninsula</td>\n",
       "      <td>[anfora, anfora , anfora, anfora, anfora, anfo...</td>\n",
       "    </tr>\n",
       "    <tr>\n",
       "      <th>1</th>\n",
       "      <td>anfora de fondo plano</td>\n",
       "      <td>20.0</td>\n",
       "      <td>150.0</td>\n",
       "      <td>unknown</td>\n",
       "      <td>[anfora]</td>\n",
       "    </tr>\n",
       "    <tr>\n",
       "      <th>2</th>\n",
       "      <td>barrenho</td>\n",
       "      <td>-20.0</td>\n",
       "      <td>100.0</td>\n",
       "      <td>iberianpeninsula</td>\n",
       "      <td>[ceramica comun, ceramica comun, ceramica comu...</td>\n",
       "    </tr>\n",
       "    <tr>\n",
       "      <th>3</th>\n",
       "      <td>botella</td>\n",
       "      <td>30.0</td>\n",
       "      <td>200.0</td>\n",
       "      <td>iberianpeninsula</td>\n",
       "      <td>[ceramica comun, ceramica comun]</td>\n",
       "    </tr>\n",
       "    <tr>\n",
       "      <th>4</th>\n",
       "      <td>brac. 24/25</td>\n",
       "      <td>100.0</td>\n",
       "      <td>200.0</td>\n",
       "      <td>iberianpeninsula</td>\n",
       "      <td>[vajilla fina]</td>\n",
       "    </tr>\n",
       "  </tbody>\n",
       "</table>\n",
       "</div>"
      ],
      "text/plain": [
       "                   forma  start_date  end_date         origin_h1  \\\n",
       "0  anfora de fondo plano        20.0     150.0  iberianpeninsula   \n",
       "1  anfora de fondo plano        20.0     150.0           unknown   \n",
       "2               barrenho       -20.0     100.0  iberianpeninsula   \n",
       "3                botella        30.0     200.0  iberianpeninsula   \n",
       "4            brac. 24/25       100.0     200.0  iberianpeninsula   \n",
       "\n",
       "                                       List_of_clase  \n",
       "0  [anfora, anfora , anfora, anfora, anfora, anfo...  \n",
       "1                                           [anfora]  \n",
       "2  [ceramica comun, ceramica comun, ceramica comu...  \n",
       "3                   [ceramica comun, ceramica comun]  \n",
       "4                                     [vajilla fina]  "
      ]
     },
     "execution_count": 24,
     "metadata": {},
     "output_type": "execute_result"
    }
   ],
   "source": [
    "df0 = data.groupby(['forma', 'start_date', 'end_date', 'origin_h1'])['clase'].apply(lambda x: ','.join(x))\n",
    "df0 = df0.apply(lambda x: x.split(','))\n",
    "df0 = df0.reset_index()\n",
    "df0 = df0.rename(columns = {'clase':'List_of_clase'})\n",
    "df0.head()"
   ]
  },
  {
   "cell_type": "markdown",
   "metadata": {},
   "source": [
    "#### 7.2 Count the number of unique *clase* for a specific *origin_h1*\n",
    "\n",
    "**Note**: If *origin_h1* is not considered in the query, specify the whole dataframe (`df0`) as the first argument in the function "
   ]
  },
  {
   "cell_type": "code",
   "execution_count": 25,
   "metadata": {},
   "outputs": [],
   "source": [
    "count_gaul = year_object_count_df(data = df0[df0['origin_h1'] == 'gaul'],\n",
    "                                  lower_date = 'start_date',  \n",
    "                                  upper_date = 'end_date',\n",
    "                                  object_list = 'List_of_clase')  "
   ]
  },
  {
   "cell_type": "code",
   "execution_count": 26,
   "metadata": {},
   "outputs": [],
   "source": [
    "count_italy = year_object_count_df(data = df0[df0['origin_h1'] == 'italy'], \n",
    "                                   lower_date = 'start_date',  \n",
    "                                   upper_date = 'end_date',\n",
    "                                   object_list = 'List_of_clase')  "
   ]
  },
  {
   "cell_type": "markdown",
   "metadata": {},
   "source": [
    "#### 7.3 Plot the graphs"
   ]
  },
  {
   "cell_type": "markdown",
   "metadata": {},
   "source": [
    "#### 7.3.1 Create a dictionary for plotting"
   ]
  },
  {
   "cell_type": "code",
   "execution_count": 27,
   "metadata": {},
   "outputs": [],
   "source": [
    "df_dictionary = {'Gaul': count_gaul, 'Italy': count_italy}"
   ]
  },
  {
   "cell_type": "markdown",
   "metadata": {},
   "source": [
    "#### 7.3.2 Plot and save"
   ]
  },
  {
   "cell_type": "code",
   "execution_count": 29,
   "metadata": {},
   "outputs": [
    {
     "name": "stderr",
     "output_type": "stream",
     "text": [
      "/tmp/ipykernel_34905/442090160.py:39: UserWarning: FixedFormatter should only be used together with FixedLocator\n",
      "  ax.set_xticklabels([int(i) if i != 0 else 1 for i in ax.get_xticks()])\n"
     ]
    },
    {
     "data": {
      "image/png": "[encoded data removed]",
      "text/plain": [
       "<Figure size 1440x792 with 1 Axes>"
      ]
     },
     "metadata": {},
     "output_type": "display_data"
    }
   ],
   "source": [
    "sns.set(font_scale=1.7)\n",
    "\n",
    "#Remove squeres from background\n",
    "sns.set_style(style='white')  \n",
    "\n",
    "fig, ax = plt.subplots(figsize=(20, 11))\n",
    "\n",
    "#Calculate minimum and maximum Y values to define the cuff off further\n",
    "minimum, maximum = get_Y_range(df_dictionary)\n",
    "\n",
    "plot_graph(dicts_of_df = df_dictionary,\n",
    "           palette=['orange', 'yellow'],  \n",
    "           linestyle = 'dashed',\n",
    "           ax = ax)\n",
    "           \n",
    "\n",
    "# Cut off the range of Y value shown \n",
    "ax.set_xlim(minimum, maximum)\n",
    "\n",
    "# Remove 0 from Y axis\n",
    "ax.set_ylim(0, None)\n",
    "\n",
    "#Change background colour\n",
    "ax.set_facecolor(\"white\")  \n",
    "\n",
    "#Change Y values format \n",
    "# integers = '%.0f'\n",
    "# decimals = '%.1f', the number before 'f' defines how many values to show after dot\n",
    "ax.yaxis.set_major_formatter(FormatStrFormatter('%.0f'))  \n",
    "\n",
    "ax.set_ylabel(\"Clase Count\")\n",
    "ax.set_xlabel(\"Year\")\n",
    "\n",
    "#To hide values on axis\n",
    "#ax.axes.xaxis.set_ticks([])\n",
    "#ax.axes.yaxis.set_ticks([])\n",
    "\n",
    "# Make sure that if 0 is included on the x-axis it is turned into 1 instead\n",
    "ax.set_xticklabels([int(i) if i != 0 else 1 for i in ax.get_xticks()])\n",
    "\n",
    "ax.set_title(label = 'Count of Clase per Origin per Year', size=25, y=1.04, fontweight='bold')\n",
    "plt.tight_layout()\n",
    "\n",
    "\n",
    "# Save the graph\n",
    "plt.savefig('./clase_count.pdf')\n"
   ]
  },
  {
   "cell_type": "markdown",
   "metadata": {},
   "source": [
    "#### 7.4 The same query but ploting the results for a particular *site* or for both specific *site* and *origin_h1* "
   ]
  },
  {
   "cell_type": "markdown",
   "metadata": {},
   "source": [
    "#### 7.4.1 In order to keep the information about *sites* in a dataframe, we include this column into the grouping step. "
   ]
  },
  {
   "cell_type": "code",
   "execution_count": 31,
   "metadata": {},
   "outputs": [
    {
     "data": {
      "text/html": [
       "<div>\n",
       "<style scoped>\n",
       "    .dataframe tbody tr th:only-of-type {\n",
       "        vertical-align: middle;\n",
       "    }\n",
       "\n",
       "    .dataframe tbody tr th {\n",
       "        vertical-align: top;\n",
       "    }\n",
       "\n",
       "    .dataframe thead th {\n",
       "        text-align: right;\n",
       "    }\n",
       "</style>\n",
       "<table border=\"1\" class=\"dataframe\">\n",
       "  <thead>\n",
       "    <tr style=\"text-align: right;\">\n",
       "      <th></th>\n",
       "      <th>forma</th>\n",
       "      <th>start_date</th>\n",
       "      <th>end_date</th>\n",
       "      <th>origin_h1</th>\n",
       "      <th>site</th>\n",
       "      <th>List_of_clase</th>\n",
       "    </tr>\n",
       "  </thead>\n",
       "  <tbody>\n",
       "    <tr>\n",
       "      <th>0</th>\n",
       "      <td>anfora de fondo plano</td>\n",
       "      <td>20.0</td>\n",
       "      <td>150.0</td>\n",
       "      <td>iberianpeninsula</td>\n",
       "      <td>armea</td>\n",
       "      <td>[anfora, anfora, anfora, anfora]</td>\n",
       "    </tr>\n",
       "    <tr>\n",
       "      <th>1</th>\n",
       "      <td>anfora de fondo plano</td>\n",
       "      <td>20.0</td>\n",
       "      <td>150.0</td>\n",
       "      <td>iberianpeninsula</td>\n",
       "      <td>castromao</td>\n",
       "      <td>[anfora, anfora]</td>\n",
       "    </tr>\n",
       "    <tr>\n",
       "      <th>2</th>\n",
       "      <td>anfora de fondo plano</td>\n",
       "      <td>20.0</td>\n",
       "      <td>150.0</td>\n",
       "      <td>iberianpeninsula</td>\n",
       "      <td>laias</td>\n",
       "      <td>[anfora]</td>\n",
       "    </tr>\n",
       "    <tr>\n",
       "      <th>3</th>\n",
       "      <td>anfora de fondo plano</td>\n",
       "      <td>20.0</td>\n",
       "      <td>150.0</td>\n",
       "      <td>iberianpeninsula</td>\n",
       "      <td>san cibran de las</td>\n",
       "      <td>[anfora , anfora, anfora, anfora, anfora, anfora]</td>\n",
       "    </tr>\n",
       "    <tr>\n",
       "      <th>4</th>\n",
       "      <td>anfora de fondo plano</td>\n",
       "      <td>20.0</td>\n",
       "      <td>150.0</td>\n",
       "      <td>unknown</td>\n",
       "      <td>armea</td>\n",
       "      <td>[anfora]</td>\n",
       "    </tr>\n",
       "  </tbody>\n",
       "</table>\n",
       "</div>"
      ],
      "text/plain": [
       "                   forma  start_date  end_date         origin_h1  \\\n",
       "0  anfora de fondo plano        20.0     150.0  iberianpeninsula   \n",
       "1  anfora de fondo plano        20.0     150.0  iberianpeninsula   \n",
       "2  anfora de fondo plano        20.0     150.0  iberianpeninsula   \n",
       "3  anfora de fondo plano        20.0     150.0  iberianpeninsula   \n",
       "4  anfora de fondo plano        20.0     150.0           unknown   \n",
       "\n",
       "                site                                      List_of_clase  \n",
       "0              armea                   [anfora, anfora, anfora, anfora]  \n",
       "1          castromao                                   [anfora, anfora]  \n",
       "2              laias                                           [anfora]  \n",
       "3  san cibran de las  [anfora , anfora, anfora, anfora, anfora, anfora]  \n",
       "4              armea                                           [anfora]  "
      ]
     },
     "execution_count": 31,
     "metadata": {},
     "output_type": "execute_result"
    }
   ],
   "source": [
    "df0 = data.groupby(['forma', 'start_date', 'end_date', 'origin_h1', 'site'])['clase'].apply(lambda x: ','.join(x))\n",
    "df0 = df0.apply(lambda x: x.split(','))\n",
    "df0 = df0.reset_index()\n",
    "df0 = df0.rename(columns = {'clase':'List_of_clase'})\n",
    "df0.head()"
   ]
  },
  {
   "cell_type": "markdown",
   "metadata": {},
   "source": [
    "#### 7.4.2 Count the frequency of *clase* for a certain *site* and *origin*. The dataframe is limited to *clase* belonging to *gaul* and present at *armea*. See the first line in the cell. \n",
    "\n",
    "To consider only a specific *site* or *origin_h2* remove one of the arguments in the condition. \n",
    "\n",
    "F.ex., to narrow the data down to *gaul* specify `df0[df0['origin_h1'] == 'gaul']`. To look into armea (without limiting data to origin) use `df0[df0['site'] == 'armea']`."
   ]
  },
  {
   "cell_type": "code",
   "execution_count": 36,
   "metadata": {},
   "outputs": [],
   "source": [
    "count_gaul = year_object_count_df(data = df0[(df0['origin_h1'] == 'gaul') & (df0['site'] == 'armea')],\n",
    "                                  lower_date = 'start_date',  \n",
    "                                  upper_date = 'end_date',\n",
    "                                  object_list = 'List_of_clase')  "
   ]
  },
  {
   "cell_type": "code",
   "execution_count": 37,
   "metadata": {},
   "outputs": [],
   "source": [
    "count_italy = year_object_count_df(data = df0[(df0['origin_h1'] == 'italy') & (df0['site'] == 'castromao')], \n",
    "                                   lower_date = 'start_date',  \n",
    "                                   upper_date = 'end_date',\n",
    "                                   object_list = 'List_of_clase')  "
   ]
  },
  {
   "cell_type": "markdown",
   "metadata": {},
   "source": [
    "#### 7.4.3 Plot the graphs"
   ]
  },
  {
   "cell_type": "markdown",
   "metadata": {},
   "source": [
    "#### 7.4.4 Create a dictionary for plotting"
   ]
  },
  {
   "cell_type": "code",
   "execution_count": 38,
   "metadata": {},
   "outputs": [],
   "source": [
    "df_dictionary = {'Gaul': count_gaul, 'Italy': count_italy}"
   ]
  },
  {
   "cell_type": "markdown",
   "metadata": {},
   "source": [
    "#### 7.4.5 Plot and save"
   ]
  },
  {
   "cell_type": "code",
   "execution_count": 40,
   "metadata": {},
   "outputs": [
    {
     "name": "stderr",
     "output_type": "stream",
     "text": [
      "/tmp/ipykernel_34905/184378152.py:39: UserWarning: FixedFormatter should only be used together with FixedLocator\n",
      "  ax.set_xticklabels([int(i) if i != 0 else 1 for i in ax.get_xticks()])\n"
     ]
    },
    {
     "data": {
      "image/png": "[encoded data removed]",
      "text/plain": [
       "<Figure size 1440x792 with 1 Axes>"
      ]
     },
     "metadata": {},
     "output_type": "display_data"
    }
   ],
   "source": [
    "sns.set(font_scale=1.7)\n",
    "\n",
    "#Remove squeres from background\n",
    "sns.set_style(style='white')  \n",
    "\n",
    "fig, ax = plt.subplots(figsize=(20, 11))\n",
    "\n",
    "#Calculate minimum and maximum Y values to define the cuff off further\n",
    "minimum, maximum = get_Y_range(df_dictionary)\n",
    "\n",
    "plot_graph(dicts_of_df = df_dictionary,\n",
    "           palette=['purple', 'yellow'],  \n",
    "           linestyle = 'dashed',\n",
    "           ax = ax)\n",
    "           \n",
    "\n",
    "# Cut off the range of Y value shown \n",
    "ax.set_xlim(minimum, maximum)\n",
    "\n",
    "# Remove 0 from Y axis\n",
    "ax.set_ylim(0, None)\n",
    "\n",
    "#Change background colour\n",
    "ax.set_facecolor(\"white\")  \n",
    "\n",
    "#Change Y values format \n",
    "# integers = '%.0f'\n",
    "# decimals = '%.1f', the number before 'f' defines how many values to show after dot\n",
    "ax.yaxis.set_major_formatter(FormatStrFormatter('%.1f'))  \n",
    "\n",
    "ax.set_ylabel(\"Clase Count\")\n",
    "ax.set_xlabel(\"Year\")\n",
    "\n",
    "#To hide values on axis\n",
    "#ax.axes.xaxis.set_ticks([])\n",
    "#ax.axes.yaxis.set_ticks([])\n",
    "\n",
    "# Make sure that if 0 is included on the x-axis it is turned into 1 instead\n",
    "ax.set_xticklabels([int(i) if i != 0 else 1 for i in ax.get_xticks()])\n",
    "\n",
    "ax.set_title(label = 'Count of Clase per Origin per Year', size=25, y=1.04, fontweight='bold')\n",
    "plt.tight_layout()\n",
    "\n",
    "\n",
    "# Save the graph\n",
    "plt.savefig('./clase_count.pdf')\n"
   ]
  },
  {
   "cell_type": "markdown",
   "metadata": {},
   "source": [
    " ### 8. Show count of *Produccion*  per *Year* in *Forma* date range"
   ]
  },
  {
   "cell_type": "markdown",
   "metadata": {},
   "source": [
    "#### 8.1 Identify the list of *produccion* per *forma* and *origin_h1* in *forma* date range. Save *produccion* in a list."
   ]
  },
  {
   "cell_type": "code",
   "execution_count": 41,
   "metadata": {},
   "outputs": [
    {
     "data": {
      "text/html": [
       "<div>\n",
       "<style scoped>\n",
       "    .dataframe tbody tr th:only-of-type {\n",
       "        vertical-align: middle;\n",
       "    }\n",
       "\n",
       "    .dataframe tbody tr th {\n",
       "        vertical-align: top;\n",
       "    }\n",
       "\n",
       "    .dataframe thead th {\n",
       "        text-align: right;\n",
       "    }\n",
       "</style>\n",
       "<table border=\"1\" class=\"dataframe\">\n",
       "  <thead>\n",
       "    <tr style=\"text-align: right;\">\n",
       "      <th></th>\n",
       "      <th>forma</th>\n",
       "      <th>start_date</th>\n",
       "      <th>end_date</th>\n",
       "      <th>origin_h1</th>\n",
       "      <th>List_of_produccion</th>\n",
       "    </tr>\n",
       "  </thead>\n",
       "  <tbody>\n",
       "    <tr>\n",
       "      <th>0</th>\n",
       "      <td>anfora de fondo plano</td>\n",
       "      <td>20.0</td>\n",
       "      <td>150.0</td>\n",
       "      <td>iberianpeninsula</td>\n",
       "      <td>[local/regional, local/regional, local/regiona...</td>\n",
       "    </tr>\n",
       "    <tr>\n",
       "      <th>1</th>\n",
       "      <td>anfora de fondo plano</td>\n",
       "      <td>20.0</td>\n",
       "      <td>150.0</td>\n",
       "      <td>unknown</td>\n",
       "      <td>[importada indeterminada]</td>\n",
       "    </tr>\n",
       "    <tr>\n",
       "      <th>2</th>\n",
       "      <td>barrenho</td>\n",
       "      <td>-20.0</td>\n",
       "      <td>100.0</td>\n",
       "      <td>iberianpeninsula</td>\n",
       "      <td>[local/regional, local/regional, local/regiona...</td>\n",
       "    </tr>\n",
       "    <tr>\n",
       "      <th>3</th>\n",
       "      <td>botella</td>\n",
       "      <td>30.0</td>\n",
       "      <td>200.0</td>\n",
       "      <td>iberianpeninsula</td>\n",
       "      <td>[local/regional, local/regional]</td>\n",
       "    </tr>\n",
       "    <tr>\n",
       "      <th>4</th>\n",
       "      <td>brac. 24/25</td>\n",
       "      <td>100.0</td>\n",
       "      <td>200.0</td>\n",
       "      <td>iberianpeninsula</td>\n",
       "      <td>[ts brac]</td>\n",
       "    </tr>\n",
       "  </tbody>\n",
       "</table>\n",
       "</div>"
      ],
      "text/plain": [
       "                   forma  start_date  end_date         origin_h1  \\\n",
       "0  anfora de fondo plano        20.0     150.0  iberianpeninsula   \n",
       "1  anfora de fondo plano        20.0     150.0           unknown   \n",
       "2               barrenho       -20.0     100.0  iberianpeninsula   \n",
       "3                botella        30.0     200.0  iberianpeninsula   \n",
       "4            brac. 24/25       100.0     200.0  iberianpeninsula   \n",
       "\n",
       "                                  List_of_produccion  \n",
       "0  [local/regional, local/regional, local/regiona...  \n",
       "1                          [importada indeterminada]  \n",
       "2  [local/regional, local/regional, local/regiona...  \n",
       "3                   [local/regional, local/regional]  \n",
       "4                                          [ts brac]  "
      ]
     },
     "execution_count": 41,
     "metadata": {},
     "output_type": "execute_result"
    }
   ],
   "source": [
    "df0 = data.groupby(['forma', 'start_date', 'end_date', 'origin_h1'])['produccion'].apply(lambda x: ','.join(x))\n",
    "df0 = df0.apply(lambda x: x.split(','))\n",
    "df0 = df0.reset_index()\n",
    "df0 = df0.rename(columns = {'produccion':'List_of_produccion'})\n",
    "df0.head()"
   ]
  },
  {
   "cell_type": "markdown",
   "metadata": {},
   "source": [
    "#### 8.2 Count the number of unique *produccion* for a specific *origin_h1*"
   ]
  },
  {
   "cell_type": "code",
   "execution_count": 42,
   "metadata": {},
   "outputs": [],
   "source": [
    "count_gaul = year_object_count_df(data = df0[df0['origin_h1'] == 'gaul'],\n",
    "                                  lower_date = 'start_date',  \n",
    "                                  upper_date = 'end_date',\n",
    "                                  object_list = 'List_of_produccion')  "
   ]
  },
  {
   "cell_type": "code",
   "execution_count": 43,
   "metadata": {},
   "outputs": [],
   "source": [
    "count_italy = year_object_count_df(data = df0[df0['origin_h1'] == 'italy'], \n",
    "                                   lower_date = 'start_date',  \n",
    "                                   upper_date = 'end_date',\n",
    "                                   object_list = 'List_of_produccion') "
   ]
  },
  {
   "cell_type": "markdown",
   "metadata": {},
   "source": [
    "#### 8.3 Plot the graphs"
   ]
  },
  {
   "cell_type": "markdown",
   "metadata": {},
   "source": [
    "#### 8.3.1 Create a dictionary for plotting"
   ]
  },
  {
   "cell_type": "code",
   "execution_count": 44,
   "metadata": {},
   "outputs": [],
   "source": [
    "df_dictionary = {'Gaul': count_gaul, 'Italy': count_italy}"
   ]
  },
  {
   "cell_type": "markdown",
   "metadata": {},
   "source": [
    "#### 8.3.2 Plot and save"
   ]
  },
  {
   "cell_type": "code",
   "execution_count": 45,
   "metadata": {},
   "outputs": [
    {
     "name": "stderr",
     "output_type": "stream",
     "text": [
      "/tmp/ipykernel_34905/1080603559.py:39: UserWarning: FixedFormatter should only be used together with FixedLocator\n",
      "  ax.set_xticklabels([int(i) if i != 0 else 1 for i in ax.get_xticks()])\n"
     ]
    },
    {
     "data": {
      "image/png": "[encoded data removed]",
      "text/plain": [
       "<Figure size 1440x792 with 1 Axes>"
      ]
     },
     "metadata": {},
     "output_type": "display_data"
    }
   ],
   "source": [
    "sns.set(font_scale=1.7)\n",
    "\n",
    "#Remove squeres from background\n",
    "sns.set_style(style='white')  \n",
    "\n",
    "fig, ax = plt.subplots(figsize=(20, 11))\n",
    "\n",
    "#Calculate minimum and maximum Y values to define the cuff off further\n",
    "minimum, maximum = get_Y_range(df_dictionary)\n",
    "\n",
    "plot_graph(dicts_of_df = df_dictionary,\n",
    "           palette=['orange', 'red'],  \n",
    "           linestyle = 'dashed',\n",
    "           ax = ax)\n",
    "           \n",
    "\n",
    "# Cut off the range of Y value shown \n",
    "ax.set_xlim(minimum, maximum)\n",
    "\n",
    "# Remove 0 from Y axis\n",
    "ax.set_ylim(0, None)\n",
    "\n",
    "#Change background colour\n",
    "ax.set_facecolor(\"white\")  \n",
    "\n",
    "#Change Y values format \n",
    "# integers = '%.0f'\n",
    "# decimals = '%.1f', the number before 'f' defines how many values to show after dot\n",
    "ax.yaxis.set_major_formatter(FormatStrFormatter('%.1f'))  \n",
    "\n",
    "ax.set_ylabel(\"Produccion Count\")\n",
    "ax.set_xlabel(\"Year\")\n",
    "\n",
    "#To hide values on axis\n",
    "#ax.axes.xaxis.set_ticks([])\n",
    "#ax.axes.yaxis.set_ticks([])\n",
    "\n",
    "# Make sure that if 0 is included on the x-axis it is turned into 1 instead\n",
    "ax.set_xticklabels([int(i) if i != 0 else 1 for i in ax.get_xticks()])\n",
    "\n",
    "ax.set_title(label = 'Count of Produccion per Origin per Year', size=25, y=1.04, fontweight='bold')\n",
    "plt.tight_layout()\n",
    "\n",
    "\n",
    "# Save the graph\n",
    "plt.savefig('./produccion_count.pdf')"
   ]
  },
  {
   "cell_type": "markdown",
   "metadata": {},
   "source": [
    "### 9. Show count of unique *Forma Types*  per *Origin_h1* per *Year* in *Forma* date range"
   ]
  },
  {
   "cell_type": "markdown",
   "metadata": {},
   "source": [
    "#### 9.1 Identify the list of *forma types* per *origin_h1* in *forma* date range. Save *forms* in a list."
   ]
  },
  {
   "cell_type": "code",
   "execution_count": 41,
   "metadata": {},
   "outputs": [],
   "source": [
    "#To exclude certain forma types (f.ex., indeterminada) run the following code line before grouping (described in Sec 3.4)\n",
    "\n",
    "#data = data[data['forma'] != 'indeterminada'] "
   ]
  },
  {
   "cell_type": "code",
   "execution_count": 6,
   "metadata": {},
   "outputs": [
    {
     "data": {
      "text/html": [
       "<div>\n",
       "<style scoped>\n",
       "    .dataframe tbody tr th:only-of-type {\n",
       "        vertical-align: middle;\n",
       "    }\n",
       "\n",
       "    .dataframe tbody tr th {\n",
       "        vertical-align: top;\n",
       "    }\n",
       "\n",
       "    .dataframe thead th {\n",
       "        text-align: right;\n",
       "    }\n",
       "</style>\n",
       "<table border=\"1\" class=\"dataframe\">\n",
       "  <thead>\n",
       "    <tr style=\"text-align: right;\">\n",
       "      <th></th>\n",
       "      <th>start_date</th>\n",
       "      <th>end_date</th>\n",
       "      <th>origin_h1</th>\n",
       "      <th>List_of_formatypes</th>\n",
       "    </tr>\n",
       "  </thead>\n",
       "  <tbody>\n",
       "    <tr>\n",
       "      <th>0</th>\n",
       "      <td>-80.0</td>\n",
       "      <td>-1.0</td>\n",
       "      <td>iberianpeninsula</td>\n",
       "      <td>[ovoide 4?]</td>\n",
       "    </tr>\n",
       "    <tr>\n",
       "      <th>1</th>\n",
       "      <td>-50.0</td>\n",
       "      <td>50.0</td>\n",
       "      <td>iberianpeninsula</td>\n",
       "      <td>[fuente, fuente, fuente, fuente, fuente, fuent...</td>\n",
       "    </tr>\n",
       "    <tr>\n",
       "      <th>2</th>\n",
       "      <td>-30.0</td>\n",
       "      <td>30.0</td>\n",
       "      <td>iberianpeninsula</td>\n",
       "      <td>[quesera, quesera]</td>\n",
       "    </tr>\n",
       "    <tr>\n",
       "      <th>3</th>\n",
       "      <td>-30.0</td>\n",
       "      <td>30.0</td>\n",
       "      <td>italy</td>\n",
       "      <td>[unguentario?, indeterminada, indeterminada, c...</td>\n",
       "    </tr>\n",
       "    <tr>\n",
       "      <th>4</th>\n",
       "      <td>-30.0</td>\n",
       "      <td>50.0</td>\n",
       "      <td>iberianpeninsula</td>\n",
       "      <td>[tinaja, vaso cilindrico, tinaja, vaso cilindr...</td>\n",
       "    </tr>\n",
       "  </tbody>\n",
       "</table>\n",
       "</div>"
      ],
      "text/plain": [
       "   start_date  end_date         origin_h1  \\\n",
       "0       -80.0      -1.0  iberianpeninsula   \n",
       "1       -50.0      50.0  iberianpeninsula   \n",
       "2       -30.0      30.0  iberianpeninsula   \n",
       "3       -30.0      30.0             italy   \n",
       "4       -30.0      50.0  iberianpeninsula   \n",
       "\n",
       "                                  List_of_formatypes  \n",
       "0                                        [ovoide 4?]  \n",
       "1  [fuente, fuente, fuente, fuente, fuente, fuent...  \n",
       "2                                 [quesera, quesera]  \n",
       "3  [unguentario?, indeterminada, indeterminada, c...  \n",
       "4  [tinaja, vaso cilindrico, tinaja, vaso cilindr...  "
      ]
     },
     "execution_count": 6,
     "metadata": {},
     "output_type": "execute_result"
    }
   ],
   "source": [
    "df0 = data.groupby(['start_date', 'end_date', 'origin_h1'])['forma'].apply(lambda x: ','.join(x))\n",
    "df0 = df0.apply(lambda x: x.split(','))\n",
    "df0 = df0.reset_index()\n",
    "df0 = df0.rename(columns = {'forma':'List_of_formatypes'})\n",
    "df0.head()"
   ]
  },
  {
   "cell_type": "markdown",
   "metadata": {},
   "source": [
    "#### 9.2 Count the number of unique *forma types*"
   ]
  },
  {
   "cell_type": "code",
   "execution_count": 7,
   "metadata": {},
   "outputs": [],
   "source": [
    "count_gaul = year_object_count_df(data = df0[df0['origin_h1'] == 'gaul'],\n",
    "                                  lower_date = 'start_date',  \n",
    "                                  upper_date = 'end_date',\n",
    "                                  object_list = 'List_of_formatypes')  "
   ]
  },
  {
   "cell_type": "code",
   "execution_count": 8,
   "metadata": {},
   "outputs": [],
   "source": [
    "count_italy = year_object_count_df(data = df0[df0['origin_h1'] == 'italy'], \n",
    "                                   lower_date = 'start_date',  \n",
    "                                   upper_date = 'end_date',\n",
    "                                   object_list = 'List_of_formatypes') "
   ]
  },
  {
   "cell_type": "markdown",
   "metadata": {},
   "source": [
    "#### 9.3 Plot the graphs"
   ]
  },
  {
   "cell_type": "markdown",
   "metadata": {},
   "source": [
    "#### 9.3.1 Create a dictionary for plotting"
   ]
  },
  {
   "cell_type": "code",
   "execution_count": 9,
   "metadata": {},
   "outputs": [],
   "source": [
    "df_dictionary = {'Gaul': count_gaul, 'Italy': count_italy}"
   ]
  },
  {
   "cell_type": "markdown",
   "metadata": {},
   "source": [
    "#### 9.3.2 Plot and save"
   ]
  },
  {
   "cell_type": "code",
   "execution_count": 10,
   "metadata": {},
   "outputs": [
    {
     "name": "stderr",
     "output_type": "stream",
     "text": [
      "/tmp/ipykernel_36462/3953083715.py:39: UserWarning: FixedFormatter should only be used together with FixedLocator\n",
      "  ax.set_xticklabels([int(i) if i != 0 else 1 for i in ax.get_xticks()])\n"
     ]
    },
    {
     "data": {
      "image/png": "[encoded data removed]",
      "text/plain": [
       "<Figure size 1440x792 with 1 Axes>"
      ]
     },
     "metadata": {},
     "output_type": "display_data"
    }
   ],
   "source": [
    "sns.set(font_scale=1.7)\n",
    "\n",
    "#Remove squeres from background\n",
    "sns.set_style(style='white')  \n",
    "\n",
    "fig, ax = plt.subplots(figsize=(20, 11))\n",
    "\n",
    "#Calculate minimum and maximum Y values to define the cuff off further\n",
    "minimum, maximum = get_Y_range(df_dictionary)\n",
    "\n",
    "plot_graph(dicts_of_df = df_dictionary,\n",
    "           palette=['blue', 'pink'],\n",
    "           linestyle = 'dashed',\n",
    "           ax = ax)\n",
    "           \n",
    "\n",
    "# Cut off the range of Y value shown \n",
    "ax.set_xlim(minimum, maximum)\n",
    "\n",
    "# Remove 0 from Y axis\n",
    "ax.set_ylim(0, None)\n",
    "\n",
    "#Change background colour\n",
    "ax.set_facecolor(\"white\")  \n",
    "\n",
    "#Change Y values format \n",
    "# integers = '%.0f'\n",
    "# decimals = '%.1f', the number before 'f' defines how many values to show after dot\n",
    "ax.yaxis.set_major_formatter(FormatStrFormatter('%.1f'))  \n",
    "\n",
    "ax.set_ylabel(\"Forma Types Count\")\n",
    "ax.set_xlabel(\"Year\")\n",
    "\n",
    "#To hide values on axis\n",
    "#ax.axes.xaxis.set_ticks([])\n",
    "#ax.axes.yaxis.set_ticks([])\n",
    "\n",
    "# Make sure that if 0 is included on the x-axis it is turned into 1 instead\n",
    "ax.set_xticklabels([int(i) if i != 0 else 1 for i in ax.get_xticks()])\n",
    "\n",
    "ax.set_title(label = 'Count of Forma Types per Origin per Year', size=25, y=1.04, fontweight='bold')\n",
    "plt.tight_layout()\n",
    "\n",
    "\n",
    "# Save the graph\n",
    "plt.savefig('./formatypes_count.pdf')"
   ]
  },
  {
   "cell_type": "markdown",
   "metadata": {},
   "source": [
    "### 10. Show count of unique *Forma Types*  per *Origin_h2* per *Year* in *Forma* date range"
   ]
  },
  {
   "cell_type": "markdown",
   "metadata": {},
   "source": [
    "#### 10.1 Identify the list of *forma types* per *origin_h2* in *forma* date range. Save *forms* in a list."
   ]
  },
  {
   "cell_type": "code",
   "execution_count": 11,
   "metadata": {},
   "outputs": [
    {
     "data": {
      "text/html": [
       "<div>\n",
       "<style scoped>\n",
       "    .dataframe tbody tr th:only-of-type {\n",
       "        vertical-align: middle;\n",
       "    }\n",
       "\n",
       "    .dataframe tbody tr th {\n",
       "        vertical-align: top;\n",
       "    }\n",
       "\n",
       "    .dataframe thead th {\n",
       "        text-align: right;\n",
       "    }\n",
       "</style>\n",
       "<table border=\"1\" class=\"dataframe\">\n",
       "  <thead>\n",
       "    <tr style=\"text-align: right;\">\n",
       "      <th></th>\n",
       "      <th>start_date</th>\n",
       "      <th>end_date</th>\n",
       "      <th>origin_h2</th>\n",
       "      <th>List_of_formatypes</th>\n",
       "    </tr>\n",
       "  </thead>\n",
       "  <tbody>\n",
       "    <tr>\n",
       "      <th>0</th>\n",
       "      <td>-80.0</td>\n",
       "      <td>-1.0</td>\n",
       "      <td>betica guadalquivir</td>\n",
       "      <td>[ovoide 4?]</td>\n",
       "    </tr>\n",
       "    <tr>\n",
       "      <th>1</th>\n",
       "      <td>-50.0</td>\n",
       "      <td>50.0</td>\n",
       "      <td>local</td>\n",
       "      <td>[fuente, fuente, fuente, fuente, fuente, fuent...</td>\n",
       "    </tr>\n",
       "    <tr>\n",
       "      <th>2</th>\n",
       "      <td>-30.0</td>\n",
       "      <td>30.0</td>\n",
       "      <td>arezzo</td>\n",
       "      <td>[consp. 20, consp. 22, indeterminada, consp. 1...</td>\n",
       "    </tr>\n",
       "    <tr>\n",
       "      <th>3</th>\n",
       "      <td>-30.0</td>\n",
       "      <td>30.0</td>\n",
       "      <td>etruria</td>\n",
       "      <td>[indeterminada, indeterminada, indeterminada]</td>\n",
       "    </tr>\n",
       "    <tr>\n",
       "      <th>4</th>\n",
       "      <td>-30.0</td>\n",
       "      <td>30.0</td>\n",
       "      <td>local</td>\n",
       "      <td>[quesera, quesera]</td>\n",
       "    </tr>\n",
       "  </tbody>\n",
       "</table>\n",
       "</div>"
      ],
      "text/plain": [
       "   start_date  end_date            origin_h2  \\\n",
       "0       -80.0      -1.0  betica guadalquivir   \n",
       "1       -50.0      50.0                local   \n",
       "2       -30.0      30.0               arezzo   \n",
       "3       -30.0      30.0              etruria   \n",
       "4       -30.0      30.0                local   \n",
       "\n",
       "                                  List_of_formatypes  \n",
       "0                                        [ovoide 4?]  \n",
       "1  [fuente, fuente, fuente, fuente, fuente, fuent...  \n",
       "2  [consp. 20, consp. 22, indeterminada, consp. 1...  \n",
       "3      [indeterminada, indeterminada, indeterminada]  \n",
       "4                                 [quesera, quesera]  "
      ]
     },
     "execution_count": 11,
     "metadata": {},
     "output_type": "execute_result"
    }
   ],
   "source": [
    "df0 = data.groupby(['start_date', 'end_date', 'origin_h2'])['forma'].apply(lambda x: ','.join(x))\n",
    "df0 = df0.apply(lambda x: x.split(','))\n",
    "df0 = df0.reset_index()\n",
    "df0 = df0.rename(columns = {'forma':'List_of_formatypes'})\n",
    "df0.head()"
   ]
  },
  {
   "cell_type": "markdown",
   "metadata": {},
   "source": [
    "#### 10.2 Count the number of unique *forma types*"
   ]
  },
  {
   "cell_type": "code",
   "execution_count": 12,
   "metadata": {},
   "outputs": [],
   "source": [
    "count_arezzo = year_object_count_df(data = df0[df0['origin_h2'] == 'arezzo'],\n",
    "                                    lower_date = 'start_date',  \n",
    "                                    upper_date = 'end_date',\n",
    "                                    object_list = 'List_of_formatypes') "
   ]
  },
  {
   "cell_type": "code",
   "execution_count": 13,
   "metadata": {},
   "outputs": [],
   "source": [
    "count_etruria = year_object_count_df(data = df0[df0['origin_h2'] == 'etruria'],\n",
    "                                     lower_date = 'start_date',  \n",
    "                                     upper_date = 'end_date',\n",
    "                                     object_list = 'List_of_formatypes')  "
   ]
  },
  {
   "cell_type": "markdown",
   "metadata": {},
   "source": [
    "#### 10.3 Plot the graphs"
   ]
  },
  {
   "cell_type": "markdown",
   "metadata": {},
   "source": [
    "#### 10.3.1 Create a dictionary for plotting"
   ]
  },
  {
   "cell_type": "code",
   "execution_count": 14,
   "metadata": {},
   "outputs": [],
   "source": [
    "df_dictionary = {'Arezzo': count_arezzo, 'Etruria': count_etruria}"
   ]
  },
  {
   "cell_type": "markdown",
   "metadata": {},
   "source": [
    "#### 10.3.2 Plot and save"
   ]
  },
  {
   "cell_type": "code",
   "execution_count": 15,
   "metadata": {},
   "outputs": [
    {
     "name": "stderr",
     "output_type": "stream",
     "text": [
      "/tmp/ipykernel_36462/571662105.py:38: UserWarning: FixedFormatter should only be used together with FixedLocator\n",
      "  ax.set_xticklabels([int(i) if i != 0 else 1 for i in ax.get_xticks()])\n"
     ]
    },
    {
     "data": {
      "image/png": "[encoded data removed]",
      "text/plain": [
       "<Figure size 1440x792 with 1 Axes>"
      ]
     },
     "metadata": {},
     "output_type": "display_data"
    }
   ],
   "source": [
    "sns.set(font_scale=1.7)\n",
    "\n",
    "#Remove squeres from background\n",
    "sns.set_style(style='white')  \n",
    "\n",
    "fig, ax = plt.subplots(figsize=(20, 11))\n",
    "\n",
    "#Calculate minimum and maximum Y values to define the cuff off further\n",
    "minimum, maximum = get_Y_range(df_dictionary)\n",
    "\n",
    "plot_graph(dicts_of_df = df_dictionary,\n",
    "           palette=['blue', 'orange'],\n",
    "           ax = ax)\n",
    "           \n",
    "\n",
    "# Cut off the range of Y value shown \n",
    "ax.set_xlim(minimum, maximum)\n",
    "\n",
    "# Remove 0 from Y axis\n",
    "ax.set_ylim(0, None)\n",
    "\n",
    "#Change background colour\n",
    "ax.set_facecolor(\"white\")  \n",
    "\n",
    "#Change Y values format \n",
    "# integers = '%.0f'\n",
    "# decimals = '%.1f', the number before 'f' defines how many values to show after dot\n",
    "ax.yaxis.set_major_formatter(FormatStrFormatter('%.1f'))  \n",
    "\n",
    "ax.set_ylabel(\"Forma Types Count\")\n",
    "ax.set_xlabel(\"Year\")\n",
    "\n",
    "#To hide values on axis\n",
    "#ax.axes.xaxis.set_ticks([])\n",
    "#ax.axes.yaxis.set_ticks([])\n",
    "\n",
    "# Make sure that if 0 is included on the x-axis it is turned into 1 instead\n",
    "ax.set_xticklabels([int(i) if i != 0 else 1 for i in ax.get_xticks()])\n",
    "\n",
    "ax.set_title(label = 'Count of Forma Types per Origin per Year', size=25, y=1.04, fontweight='bold')\n",
    "plt.tight_layout()\n",
    "\n",
    "\n",
    "# Save the graph\n",
    "plt.savefig('./formatypes_count.pdf')"
   ]
  },
  {
   "cell_type": "markdown",
   "metadata": {},
   "source": [
    "### 11. Show count of unique *Forma Types*  per *Year*  per *Site* in *Forma* date range"
   ]
  },
  {
   "cell_type": "markdown",
   "metadata": {},
   "source": [
    "#### 11.1 Identify the list of *forma types* for a *site* in *forma* date range. Save *forms* in a list.\n",
    "\n",
    "**Note:** To consider *origin_h1*, put it as a label in the first line in a cell, `data.groupby(['site', 'start_date', 'end_date', 'origin_h1'])['forma'].apply(lambda x: ','.join(x))`."
   ]
  },
  {
   "cell_type": "code",
   "execution_count": 16,
   "metadata": {},
   "outputs": [
    {
     "data": {
      "text/html": [
       "<div>\n",
       "<style scoped>\n",
       "    .dataframe tbody tr th:only-of-type {\n",
       "        vertical-align: middle;\n",
       "    }\n",
       "\n",
       "    .dataframe tbody tr th {\n",
       "        vertical-align: top;\n",
       "    }\n",
       "\n",
       "    .dataframe thead th {\n",
       "        text-align: right;\n",
       "    }\n",
       "</style>\n",
       "<table border=\"1\" class=\"dataframe\">\n",
       "  <thead>\n",
       "    <tr style=\"text-align: right;\">\n",
       "      <th></th>\n",
       "      <th>site</th>\n",
       "      <th>start_date</th>\n",
       "      <th>end_date</th>\n",
       "      <th>List_of_formatypes</th>\n",
       "    </tr>\n",
       "  </thead>\n",
       "  <tbody>\n",
       "    <tr>\n",
       "      <th>0</th>\n",
       "      <td>armea</td>\n",
       "      <td>-50.0</td>\n",
       "      <td>50.0</td>\n",
       "      <td>[fuente]</td>\n",
       "    </tr>\n",
       "    <tr>\n",
       "      <th>1</th>\n",
       "      <td>armea</td>\n",
       "      <td>-30.0</td>\n",
       "      <td>30.0</td>\n",
       "      <td>[consp. 22.1.3., consp. 3.13., consp. b.1.5., ...</td>\n",
       "    </tr>\n",
       "    <tr>\n",
       "      <th>2</th>\n",
       "      <td>armea</td>\n",
       "      <td>-30.0</td>\n",
       "      <td>50.0</td>\n",
       "      <td>[tinaja, tinaja, vaso cilindrico, tinaja, tina...</td>\n",
       "    </tr>\n",
       "    <tr>\n",
       "      <th>3</th>\n",
       "      <td>armea</td>\n",
       "      <td>-30.0</td>\n",
       "      <td>200.0</td>\n",
       "      <td>[olla, tapadera, olla, tapadera, olla, olla, t...</td>\n",
       "    </tr>\n",
       "    <tr>\n",
       "      <th>4</th>\n",
       "      <td>armea</td>\n",
       "      <td>-20.0</td>\n",
       "      <td>80.0</td>\n",
       "      <td>[haltern 70, haltern 70, indeterminada, halter...</td>\n",
       "    </tr>\n",
       "  </tbody>\n",
       "</table>\n",
       "</div>"
      ],
      "text/plain": [
       "    site  start_date  end_date  \\\n",
       "0  armea       -50.0      50.0   \n",
       "1  armea       -30.0      30.0   \n",
       "2  armea       -30.0      50.0   \n",
       "3  armea       -30.0     200.0   \n",
       "4  armea       -20.0      80.0   \n",
       "\n",
       "                                  List_of_formatypes  \n",
       "0                                           [fuente]  \n",
       "1  [consp. 22.1.3., consp. 3.13., consp. b.1.5., ...  \n",
       "2  [tinaja, tinaja, vaso cilindrico, tinaja, tina...  \n",
       "3  [olla, tapadera, olla, tapadera, olla, olla, t...  \n",
       "4  [haltern 70, haltern 70, indeterminada, halter...  "
      ]
     },
     "execution_count": 16,
     "metadata": {},
     "output_type": "execute_result"
    }
   ],
   "source": [
    "df0 = data.groupby(['site', 'start_date', 'end_date'])['forma'].apply(lambda x: ','.join(x))\n",
    "df0 = df0.apply(lambda x: x.split(','))\n",
    "df0 = df0.reset_index()\n",
    "df0 = df0.rename(columns = {'forma':'List_of_formatypes'})\n",
    "df0.head()"
   ]
  },
  {
   "cell_type": "markdown",
   "metadata": {},
   "source": [
    "#### 11.2 Count the number of unique *forma types*"
   ]
  },
  {
   "cell_type": "code",
   "execution_count": 17,
   "metadata": {},
   "outputs": [],
   "source": [
    "count_armea = year_object_count_df(data = df0[df0['site'] == 'armea'],\n",
    "                                   lower_date = 'start_date',  \n",
    "                                   upper_date = 'end_date',\n",
    "                                   object_list = 'List_of_formatypes')  "
   ]
  },
  {
   "cell_type": "code",
   "execution_count": 18,
   "metadata": {},
   "outputs": [],
   "source": [
    "count_castromao = year_object_count_df(data = df0[df0['site'] == 'castromao'], \n",
    "                                       lower_date = 'start_date',  \n",
    "                                       upper_date = 'end_date',\n",
    "                                       object_list = 'List_of_formatypes') "
   ]
  },
  {
   "cell_type": "markdown",
   "metadata": {},
   "source": [
    "#### 11.3 Plot the graphs"
   ]
  },
  {
   "cell_type": "markdown",
   "metadata": {},
   "source": [
    "#### 11.3.1 Create a dictionary for plotting"
   ]
  },
  {
   "cell_type": "code",
   "execution_count": 19,
   "metadata": {},
   "outputs": [],
   "source": [
    "df_dictionary = {'Armea': count_armea, 'Castromao': count_castromao}"
   ]
  },
  {
   "cell_type": "markdown",
   "metadata": {},
   "source": [
    "#### 11.3.2 Plot and save"
   ]
  },
  {
   "cell_type": "code",
   "execution_count": 20,
   "metadata": {},
   "outputs": [
    {
     "name": "stderr",
     "output_type": "stream",
     "text": [
      "/tmp/ipykernel_36462/3878471570.py:38: UserWarning: FixedFormatter should only be used together with FixedLocator\n",
      "  ax.set_xticklabels([int(i) if i != 0 else 1 for i in ax.get_xticks()])\n"
     ]
    },
    {
     "data": {
      "image/png": "[encoded data removed]",
      "text/plain": [
       "<Figure size 1440x792 with 1 Axes>"
      ]
     },
     "metadata": {},
     "output_type": "display_data"
    }
   ],
   "source": [
    "sns.set(font_scale=1.7)\n",
    "\n",
    "#Remove squeres from background\n",
    "sns.set_style(style='white')  \n",
    "\n",
    "fig, ax = plt.subplots(figsize=(20, 11))\n",
    "\n",
    "#Calculate minimum and maximum Y values to define the cuff off further\n",
    "minimum, maximum = get_Y_range(df_dictionary)\n",
    "\n",
    "plot_graph(dicts_of_df = df_dictionary,\n",
    "           palette=['blue', 'orange'],\n",
    "           ax = ax)\n",
    "           \n",
    "\n",
    "# Cut off the range of Y value shown \n",
    "ax.set_xlim(minimum, maximum)\n",
    "\n",
    "# Remove 0 from Y axis\n",
    "ax.set_ylim(0, None)\n",
    "\n",
    "#Change background colour\n",
    "ax.set_facecolor(\"white\")  \n",
    "\n",
    "#Change Y values format \n",
    "# integers = '%.0f'\n",
    "# decimals = '%.1f', the number before 'f' defines how many values to show after dot\n",
    "ax.yaxis.set_major_formatter(FormatStrFormatter('%.1f'))  \n",
    "\n",
    "ax.set_ylabel(\"Forma Types Count\")\n",
    "ax.set_xlabel(\"Year\")\n",
    "\n",
    "#To hide values on axis\n",
    "#ax.axes.xaxis.set_ticks([])\n",
    "#ax.axes.yaxis.set_ticks([])\n",
    "\n",
    "# Make sure that if 0 is included on the x-axis it is turned into 1 instead\n",
    "ax.set_xticklabels([int(i) if i != 0 else 1 for i in ax.get_xticks()])\n",
    "\n",
    "ax.set_title(label = 'Count of Forma Types per Site per Year', size=25, y=1.04, fontweight='bold')\n",
    "plt.tight_layout()\n",
    "\n",
    "\n",
    "# Save the graph\n",
    "plt.savefig('./formatypes_count.pdf')"
   ]
  },
  {
   "cell_type": "markdown",
   "metadata": {},
   "source": [
    "### 12. Show count of unique *Forma Types*  per *Year*  per *Origin_h2* per *Site* in *Forma* date range"
   ]
  },
  {
   "cell_type": "markdown",
   "metadata": {},
   "source": [
    "#### 12.1 Identify the list of *forma types* per *origin_h2* for a *site* in *forma* date range. Save *forms* in a list."
   ]
  },
  {
   "cell_type": "code",
   "execution_count": 21,
   "metadata": {},
   "outputs": [
    {
     "data": {
      "text/html": [
       "<div>\n",
       "<style scoped>\n",
       "    .dataframe tbody tr th:only-of-type {\n",
       "        vertical-align: middle;\n",
       "    }\n",
       "\n",
       "    .dataframe tbody tr th {\n",
       "        vertical-align: top;\n",
       "    }\n",
       "\n",
       "    .dataframe thead th {\n",
       "        text-align: right;\n",
       "    }\n",
       "</style>\n",
       "<table border=\"1\" class=\"dataframe\">\n",
       "  <thead>\n",
       "    <tr style=\"text-align: right;\">\n",
       "      <th></th>\n",
       "      <th>site</th>\n",
       "      <th>start_date</th>\n",
       "      <th>end_date</th>\n",
       "      <th>origin_h2</th>\n",
       "      <th>List_of_formatypes</th>\n",
       "    </tr>\n",
       "  </thead>\n",
       "  <tbody>\n",
       "    <tr>\n",
       "      <th>0</th>\n",
       "      <td>armea</td>\n",
       "      <td>-50.0</td>\n",
       "      <td>50.0</td>\n",
       "      <td>local</td>\n",
       "      <td>[fuente]</td>\n",
       "    </tr>\n",
       "    <tr>\n",
       "      <th>1</th>\n",
       "      <td>armea</td>\n",
       "      <td>-30.0</td>\n",
       "      <td>30.0</td>\n",
       "      <td>arezzo</td>\n",
       "      <td>[consp. 22.1.3., consp. 3.13., consp. b.1.5., ...</td>\n",
       "    </tr>\n",
       "    <tr>\n",
       "      <th>2</th>\n",
       "      <td>armea</td>\n",
       "      <td>-30.0</td>\n",
       "      <td>50.0</td>\n",
       "      <td>local</td>\n",
       "      <td>[tinaja, tinaja, vaso cilindrico, tinaja, tina...</td>\n",
       "    </tr>\n",
       "    <tr>\n",
       "      <th>3</th>\n",
       "      <td>armea</td>\n",
       "      <td>-30.0</td>\n",
       "      <td>200.0</td>\n",
       "      <td>local</td>\n",
       "      <td>[olla, tapadera, olla, tapadera, olla, olla, t...</td>\n",
       "    </tr>\n",
       "    <tr>\n",
       "      <th>4</th>\n",
       "      <td>armea</td>\n",
       "      <td>-20.0</td>\n",
       "      <td>80.0</td>\n",
       "      <td>betica</td>\n",
       "      <td>[indeterminada]</td>\n",
       "    </tr>\n",
       "  </tbody>\n",
       "</table>\n",
       "</div>"
      ],
      "text/plain": [
       "    site  start_date  end_date origin_h2  \\\n",
       "0  armea       -50.0      50.0     local   \n",
       "1  armea       -30.0      30.0    arezzo   \n",
       "2  armea       -30.0      50.0     local   \n",
       "3  armea       -30.0     200.0     local   \n",
       "4  armea       -20.0      80.0    betica   \n",
       "\n",
       "                                  List_of_formatypes  \n",
       "0                                           [fuente]  \n",
       "1  [consp. 22.1.3., consp. 3.13., consp. b.1.5., ...  \n",
       "2  [tinaja, tinaja, vaso cilindrico, tinaja, tina...  \n",
       "3  [olla, tapadera, olla, tapadera, olla, olla, t...  \n",
       "4                                    [indeterminada]  "
      ]
     },
     "execution_count": 21,
     "metadata": {},
     "output_type": "execute_result"
    }
   ],
   "source": [
    "df0 = data.groupby(['site', 'start_date', 'end_date', 'origin_h2'])['forma'].apply(lambda x: ','.join(x))\n",
    "df0 = df0.apply(lambda x: x.split(','))\n",
    "df0 = df0.reset_index()\n",
    "df0 = df0.rename(columns = {'forma':'List_of_formatypes'})\n",
    "df0.head()"
   ]
  },
  {
   "cell_type": "markdown",
   "metadata": {},
   "source": [
    "#### 12.2 Count the number of unique *forma types*"
   ]
  },
  {
   "cell_type": "code",
   "execution_count": 22,
   "metadata": {},
   "outputs": [],
   "source": [
    "count_armea = year_object_count_df(data = df0[(df0['origin_h2'] == 'local') & (df0['site'] == 'armea')],\n",
    "                                   lower_date = 'start_date',  \n",
    "                                   upper_date = 'end_date',\n",
    "                                   object_list = 'List_of_formatypes')  "
   ]
  },
  {
   "cell_type": "markdown",
   "metadata": {},
   "source": [
    "#### 12.3 Plot the graphs"
   ]
  },
  {
   "cell_type": "markdown",
   "metadata": {},
   "source": [
    "#### 12.3.1 Create a dictionary for plotting"
   ]
  },
  {
   "cell_type": "code",
   "execution_count": 23,
   "metadata": {},
   "outputs": [],
   "source": [
    "df_dictionary = {'Armea': count_armea}"
   ]
  },
  {
   "cell_type": "markdown",
   "metadata": {},
   "source": [
    "#### 12.3.2 Plot and save"
   ]
  },
  {
   "cell_type": "code",
   "execution_count": 24,
   "metadata": {},
   "outputs": [
    {
     "name": "stderr",
     "output_type": "stream",
     "text": [
      "/tmp/ipykernel_36462/1218324349.py:38: UserWarning: FixedFormatter should only be used together with FixedLocator\n",
      "  ax.set_xticklabels([int(i) if i != 0 else 1 for i in ax.get_xticks()])\n"
     ]
    },
    {
     "data": {
      "image/png": "[encoded data removed]",
      "text/plain": [
       "<Figure size 1440x792 with 1 Axes>"
      ]
     },
     "metadata": {},
     "output_type": "display_data"
    }
   ],
   "source": [
    "sns.set(font_scale=1.7)\n",
    "\n",
    "#Remove squeres from background\n",
    "sns.set_style(style='white')  \n",
    "\n",
    "fig, ax = plt.subplots(figsize=(20, 11))\n",
    "\n",
    "#Calculate minimum and maximum Y values to define the cuff off further\n",
    "minimum, maximum = get_Y_range(df_dictionary)\n",
    "\n",
    "plot_graph(dicts_of_df = df_dictionary,\n",
    "           palette=['blue'],\n",
    "           ax = ax)\n",
    "           \n",
    "\n",
    "# Cut off the range of Y value shown \n",
    "ax.set_xlim(minimum, maximum)\n",
    "\n",
    "# Remove 0 from Y axis\n",
    "ax.set_ylim(0, None)\n",
    "\n",
    "#Change background colour\n",
    "ax.set_facecolor(\"white\")  \n",
    "\n",
    "#Change Y values format \n",
    "# integers = '%.0f'\n",
    "# decimals = '%.1f', the number before 'f' defines how many values to show after dot\n",
    "ax.yaxis.set_major_formatter(FormatStrFormatter('%.1f'))  \n",
    "\n",
    "ax.set_ylabel(\"Forma Types Count\")\n",
    "ax.set_xlabel(\"Year\")\n",
    "\n",
    "#To hide values on axis\n",
    "#ax.axes.xaxis.set_ticks([])\n",
    "#ax.axes.yaxis.set_ticks([])\n",
    "\n",
    "# Make sure that if 0 is included on the x-axis it is turned into 1 instead\n",
    "ax.set_xticklabels([int(i) if i != 0 else 1 for i in ax.get_xticks()])\n",
    "\n",
    "ax.set_title(label = 'Count of Forma Types per Site per Year', size=25, y=1.04, fontweight='bold')\n",
    "plt.tight_layout()\n",
    "\n",
    "\n",
    "# Save the graph\n",
    "plt.savefig('./formatypes_count.pdf')"
   ]
  }
 ],
 "metadata": {
  "interpreter": {
   "hash": "bbfd61b9771b25adb48756b02878e03699aa9c48f369525daaaa61fe69c4b1b3"
  },
  "kernelspec": {
   "display_name": "Python 3 (ipykernel)",
   "language": "python",
   "name": "python3"
  },
  "language_info": {
   "codemirror_mode": {
    "name": "ipython",
    "version": 3
   },
   "file_extension": ".py",
   "mimetype": "text/x-python",
   "name": "python",
   "nbconvert_exporter": "python",
   "pygments_lexer": "ipython3",
   "version": "3.9.7"
  }
 },
 "nbformat": 4,
 "nbformat_minor": 2
}
