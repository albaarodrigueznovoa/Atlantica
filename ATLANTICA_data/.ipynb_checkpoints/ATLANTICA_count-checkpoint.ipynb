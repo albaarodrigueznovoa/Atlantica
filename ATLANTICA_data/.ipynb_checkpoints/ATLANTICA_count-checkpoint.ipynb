{
 "cells": [
  {
   "cell_type": "markdown",
   "metadata": {},
   "source": [
    "## Notebook for plotting count per year\n",
    "\n",
    "The code in the current notebook can be used to plot the **count** of a certain variable in the dataset per year. \n",
    "\n",
    "The queries that can be answered using an adapted version of the following code include but are not limited to:\n",
    "\n",
    "* Show count of unique *clase* per *origin* per *year* in *forma* date range\n",
    "* Show count of *produccion*  per *year* in *forma* date range\n",
    "* Show count of unique *forma types*  per *year* in *forma* date range\n",
    "* Show count of unique *forma types*  per *year*  per *site* in *forma* date range"
   ]
  },
  {
   "cell_type": "markdown",
   "metadata": {},
   "source": [
    "### 1. Import packages"
   ]
  },
  {
   "cell_type": "code",
   "execution_count": 1,
   "metadata": {},
   "outputs": [],
   "source": [
    "import pandas as pd\n",
    "import seaborn as sns\n",
    "import matplotlib.pyplot as plt\n",
    "import numpy as np\n",
    "import regex as re\n",
    "sns.set()\n",
    "import pathlib\n",
    "from pathlib import Path\n",
    "import sys\n",
    "sys.path.append(\"../src\")\n",
    "from matplotlib.ticker import FormatStrFormatter\n",
    "from functions import preprocess, year_object_count_df, plot_graph, get_Y_range # module with all functions used for the task"
   ]
  },
  {
   "cell_type": "markdown",
   "metadata": {},
   "source": [
    "### 2. Read in data"
   ]
  },
  {
   "cell_type": "code",
   "execution_count": 2,
   "metadata": {},
   "outputs": [
    {
     "data": {
      "text/html": [
       "<div>\n",
       "<style scoped>\n",
       "    .dataframe tbody tr th:only-of-type {\n",
       "        vertical-align: middle;\n",
       "    }\n",
       "\n",
       "    .dataframe tbody tr th {\n",
       "        vertical-align: top;\n",
       "    }\n",
       "\n",
       "    .dataframe thead th {\n",
       "        text-align: right;\n",
       "    }\n",
       "</style>\n",
       "<table border=\"1\" class=\"dataframe\">\n",
       "  <thead>\n",
       "    <tr style=\"text-align: right;\">\n",
       "      <th></th>\n",
       "      <th>id</th>\n",
       "      <th>site</th>\n",
       "      <th>contexto</th>\n",
       "      <th>clase</th>\n",
       "      <th>produccion</th>\n",
       "      <th>origin_h1</th>\n",
       "      <th>origin_h2</th>\n",
       "      <th>forma</th>\n",
       "      <th>forma_h2</th>\n",
       "      <th>total fragmentd</th>\n",
       "      <th>complete</th>\n",
       "      <th>rims</th>\n",
       "      <th>necks</th>\n",
       "      <th>handles</th>\n",
       "      <th>wall</th>\n",
       "      <th>bases</th>\n",
       "      <th>mni</th>\n",
       "      <th>tni</th>\n",
       "      <th>start_date</th>\n",
       "      <th>end_date</th>\n",
       "    </tr>\n",
       "  </thead>\n",
       "  <tbody>\n",
       "    <tr>\n",
       "      <th>0</th>\n",
       "      <td>1</td>\n",
       "      <td>laias</td>\n",
       "      <td>1</td>\n",
       "      <td>anfora</td>\n",
       "      <td>betica guadalquivir</td>\n",
       "      <td>iberianpeninsula</td>\n",
       "      <td>betica guadalquivir</td>\n",
       "      <td>haltern 70?</td>\n",
       "      <td>maritime</td>\n",
       "      <td>19</td>\n",
       "      <td>NaN</td>\n",
       "      <td>NaN</td>\n",
       "      <td>NaN</td>\n",
       "      <td>NaN</td>\n",
       "      <td>19.0</td>\n",
       "      <td>NaN</td>\n",
       "      <td>5.0</td>\n",
       "      <td>5.0</td>\n",
       "      <td>-20.0</td>\n",
       "      <td>80.0</td>\n",
       "    </tr>\n",
       "    <tr>\n",
       "      <th>1</th>\n",
       "      <td>2</td>\n",
       "      <td>laias</td>\n",
       "      <td>1</td>\n",
       "      <td>vajilla fina</td>\n",
       "      <td>barniz negro italico</td>\n",
       "      <td>italy</td>\n",
       "      <td>unknown</td>\n",
       "      <td>unguentario?</td>\n",
       "      <td>NaN</td>\n",
       "      <td>3</td>\n",
       "      <td>NaN</td>\n",
       "      <td>NaN</td>\n",
       "      <td>NaN</td>\n",
       "      <td>NaN</td>\n",
       "      <td>3.0</td>\n",
       "      <td>NaN</td>\n",
       "      <td>2.0</td>\n",
       "      <td>2.0</td>\n",
       "      <td>-30.0</td>\n",
       "      <td>30.0</td>\n",
       "    </tr>\n",
       "    <tr>\n",
       "      <th>2</th>\n",
       "      <td>3</td>\n",
       "      <td>laias</td>\n",
       "      <td>1</td>\n",
       "      <td>vajilla fina</td>\n",
       "      <td>barniz negro italico</td>\n",
       "      <td>italy</td>\n",
       "      <td>unknown</td>\n",
       "      <td>indeterminada</td>\n",
       "      <td>NaN</td>\n",
       "      <td>1</td>\n",
       "      <td>NaN</td>\n",
       "      <td>NaN</td>\n",
       "      <td>NaN</td>\n",
       "      <td>NaN</td>\n",
       "      <td>1.0</td>\n",
       "      <td>NaN</td>\n",
       "      <td>1.0</td>\n",
       "      <td>1.0</td>\n",
       "      <td>-30.0</td>\n",
       "      <td>30.0</td>\n",
       "    </tr>\n",
       "    <tr>\n",
       "      <th>3</th>\n",
       "      <td>4</td>\n",
       "      <td>laias</td>\n",
       "      <td>1</td>\n",
       "      <td>ceramica comun</td>\n",
       "      <td>betica</td>\n",
       "      <td>iberianpeninsula</td>\n",
       "      <td>betica</td>\n",
       "      <td>olla</td>\n",
       "      <td>roman inspired</td>\n",
       "      <td>1</td>\n",
       "      <td>NaN</td>\n",
       "      <td>1.0</td>\n",
       "      <td>NaN</td>\n",
       "      <td>NaN</td>\n",
       "      <td>NaN</td>\n",
       "      <td>NaN</td>\n",
       "      <td>1.0</td>\n",
       "      <td>1.0</td>\n",
       "      <td>1.0</td>\n",
       "      <td>50.0</td>\n",
       "    </tr>\n",
       "    <tr>\n",
       "      <th>4</th>\n",
       "      <td>5</td>\n",
       "      <td>laias</td>\n",
       "      <td>1</td>\n",
       "      <td>ceramica comun</td>\n",
       "      <td>betica</td>\n",
       "      <td>iberianpeninsula</td>\n",
       "      <td>betica</td>\n",
       "      <td>indeterminada</td>\n",
       "      <td>roman inspired</td>\n",
       "      <td>5</td>\n",
       "      <td>NaN</td>\n",
       "      <td>NaN</td>\n",
       "      <td>NaN</td>\n",
       "      <td>NaN</td>\n",
       "      <td>5.0</td>\n",
       "      <td>NaN</td>\n",
       "      <td>1.0</td>\n",
       "      <td>1.0</td>\n",
       "      <td>1.0</td>\n",
       "      <td>50.0</td>\n",
       "    </tr>\n",
       "  </tbody>\n",
       "</table>\n",
       "</div>"
      ],
      "text/plain": [
       "   id   site contexto           clase            produccion         origin_h1  \\\n",
       "0   1  laias        1          anfora   betica guadalquivir  iberianpeninsula   \n",
       "1   2  laias        1    vajilla fina  barniz negro italico             italy   \n",
       "2   3  laias        1    vajilla fina  barniz negro italico             italy   \n",
       "3   4  laias        1  ceramica comun              betica    iberianpeninsula   \n",
       "4   5  laias        1  ceramica comun              betica    iberianpeninsula   \n",
       "\n",
       "             origin_h2          forma        forma_h2  total fragmentd  \\\n",
       "0  betica guadalquivir    haltern 70?        maritime               19   \n",
       "1              unknown   unguentario?             NaN                3   \n",
       "2              unknown  indeterminada             NaN                1   \n",
       "3               betica           olla  roman inspired                1   \n",
       "4               betica  indeterminada  roman inspired                5   \n",
       "\n",
       "   complete  rims  necks  handles  wall  bases  mni  tni  start_date  end_date  \n",
       "0       NaN   NaN    NaN      NaN  19.0    NaN  5.0  5.0       -20.0      80.0  \n",
       "1       NaN   NaN    NaN      NaN   3.0    NaN  2.0  2.0       -30.0      30.0  \n",
       "2       NaN   NaN    NaN      NaN   1.0    NaN  1.0  1.0       -30.0      30.0  \n",
       "3       NaN   1.0    NaN      NaN   NaN    NaN  1.0  1.0         1.0      50.0  \n",
       "4       NaN   NaN    NaN      NaN   5.0    NaN  1.0  1.0         1.0      50.0  "
      ]
     },
     "execution_count": 2,
     "metadata": {},
     "output_type": "execute_result"
    }
   ],
   "source": [
    "data = pd.read_excel('data/ATLANTICA_thesis_v0.2.xlsx')\n",
    "data.head()"
   ]
  },
  {
   "cell_type": "markdown",
   "metadata": {},
   "source": [
    "### 3. Prepare data"
   ]
  },
  {
   "cell_type": "markdown",
   "metadata": {},
   "source": [
    "#### 3.1 Check in which columns numeric values are of an object type\n",
    "#### 3.2 If found, convert objects into numeric values (float) \n",
    "This is essential for performing math operations with these variables"
   ]
  },
  {
   "cell_type": "code",
   "execution_count": 3,
   "metadata": {},
   "outputs": [
    {
     "name": "stdout",
     "output_type": "stream",
     "text": [
      "<class 'pandas.core.frame.DataFrame'>\n",
      "RangeIndex: 432 entries, 0 to 431\n",
      "Data columns (total 20 columns):\n",
      " #   Column           Non-Null Count  Dtype  \n",
      "---  ------           --------------  -----  \n",
      " 0   id               432 non-null    int64  \n",
      " 1   site             432 non-null    object \n",
      " 2   contexto         432 non-null    object \n",
      " 3   clase            432 non-null    object \n",
      " 4   produccion       432 non-null    object \n",
      " 5   origin_h1        432 non-null    object \n",
      " 6   origin_h2        432 non-null    object \n",
      " 7   forma            432 non-null    object \n",
      " 8   forma_h2         336 non-null    object \n",
      " 9   total fragmentd  432 non-null    int64  \n",
      " 10  complete         29 non-null     float64\n",
      " 11  rims             301 non-null    float64\n",
      " 12  necks            32 non-null     float64\n",
      " 13  handles          91 non-null     float64\n",
      " 14  wall             234 non-null    float64\n",
      " 15  bases            128 non-null    float64\n",
      " 16  mni              430 non-null    float64\n",
      " 17  tni              429 non-null    float64\n",
      " 18  start_date       384 non-null    float64\n",
      " 19  end_date         384 non-null    float64\n",
      "dtypes: float64(10), int64(2), object(8)\n",
      "memory usage: 67.6+ KB\n"
     ]
    }
   ],
   "source": [
    "data.info()"
   ]
  },
  {
   "cell_type": "markdown",
   "metadata": {},
   "source": [
    "#### 3.3 Clean text data (from punctuation, double spaces) and lowercase\n",
    "This is done in order to avoid inconsistency in names and thus avoiding errors. "
   ]
  },
  {
   "cell_type": "code",
   "execution_count": 3,
   "metadata": {},
   "outputs": [],
   "source": [
    "cols_for_preprocessing = ['site', 'clase', 'produccion','origin_h1', 'origin_h2', 'forma','forma_h2']\n",
    "\n",
    "for i in cols_for_preprocessing:\n",
    "    data[i] = preprocess(data[i])"
   ]
  },
  {
   "cell_type": "markdown",
   "metadata": {},
   "source": [
    "### 4. Create dataframes for plotting\n",
    "To begin with the data is grouped according to the query. \n",
    "\n",
    "In the below code, the first line is what needs alteration to fit the query. The use is most easily described by an example. \n",
    "\n",
    "**Show count of unique *clase*  per *origin* per *year* in *forma* date range**: For this query the following syntax should be used. \n",
    "`df = data.groupby(['forma', 'start_date', 'end_date', 'origin_h1'])['clase'].apply(lambda x: ','.join(x))`\n"
   ]
  },
  {
   "cell_type": "code",
   "execution_count": 4,
   "metadata": {},
   "outputs": [
    {
     "data": {
      "text/html": [
       "<div>\n",
       "<style scoped>\n",
       "    .dataframe tbody tr th:only-of-type {\n",
       "        vertical-align: middle;\n",
       "    }\n",
       "\n",
       "    .dataframe tbody tr th {\n",
       "        vertical-align: top;\n",
       "    }\n",
       "\n",
       "    .dataframe thead th {\n",
       "        text-align: right;\n",
       "    }\n",
       "</style>\n",
       "<table border=\"1\" class=\"dataframe\">\n",
       "  <thead>\n",
       "    <tr style=\"text-align: right;\">\n",
       "      <th></th>\n",
       "      <th>forma</th>\n",
       "      <th>start_date</th>\n",
       "      <th>end_date</th>\n",
       "      <th>origin_h1</th>\n",
       "      <th>List_of_clase</th>\n",
       "    </tr>\n",
       "  </thead>\n",
       "  <tbody>\n",
       "    <tr>\n",
       "      <th>0</th>\n",
       "      <td>anfora de fondo plano</td>\n",
       "      <td>20.0</td>\n",
       "      <td>150.0</td>\n",
       "      <td>iberianpeninsula</td>\n",
       "      <td>[anfora, anfora , anfora, anfora, anfora, anfo...</td>\n",
       "    </tr>\n",
       "    <tr>\n",
       "      <th>1</th>\n",
       "      <td>anfora de fondo plano</td>\n",
       "      <td>20.0</td>\n",
       "      <td>150.0</td>\n",
       "      <td>unknown</td>\n",
       "      <td>[anfora]</td>\n",
       "    </tr>\n",
       "    <tr>\n",
       "      <th>2</th>\n",
       "      <td>barrenho</td>\n",
       "      <td>-20.0</td>\n",
       "      <td>100.0</td>\n",
       "      <td>iberianpeninsula</td>\n",
       "      <td>[ceramica comun, ceramica comun, ceramica comu...</td>\n",
       "    </tr>\n",
       "    <tr>\n",
       "      <th>3</th>\n",
       "      <td>botella</td>\n",
       "      <td>30.0</td>\n",
       "      <td>200.0</td>\n",
       "      <td>iberianpeninsula</td>\n",
       "      <td>[ceramica comun, ceramica comun]</td>\n",
       "    </tr>\n",
       "    <tr>\n",
       "      <th>4</th>\n",
       "      <td>brac. 24/25</td>\n",
       "      <td>100.0</td>\n",
       "      <td>200.0</td>\n",
       "      <td>iberianpeninsula</td>\n",
       "      <td>[vajilla fina]</td>\n",
       "    </tr>\n",
       "  </tbody>\n",
       "</table>\n",
       "</div>"
      ],
      "text/plain": [
       "                   forma  start_date  end_date         origin_h1  \\\n",
       "0  anfora de fondo plano        20.0     150.0  iberianpeninsula   \n",
       "1  anfora de fondo plano        20.0     150.0           unknown   \n",
       "2               barrenho       -20.0     100.0  iberianpeninsula   \n",
       "3                botella        30.0     200.0  iberianpeninsula   \n",
       "4            brac. 24/25       100.0     200.0  iberianpeninsula   \n",
       "\n",
       "                                       List_of_clase  \n",
       "0  [anfora, anfora , anfora, anfora, anfora, anfo...  \n",
       "1                                           [anfora]  \n",
       "2  [ceramica comun, ceramica comun, ceramica comu...  \n",
       "3                   [ceramica comun, ceramica comun]  \n",
       "4                                     [vajilla fina]  "
      ]
     },
     "execution_count": 4,
     "metadata": {},
     "output_type": "execute_result"
    }
   ],
   "source": [
    "df0 = data.groupby(['forma', 'start_date', 'end_date', 'origin_h1'])['clase'].apply(lambda x: ','.join(x))\n",
    "df0 = df0.apply(lambda x: x.split(','))\n",
    "df0 = df0.reset_index()\n",
    "df0 = df0.rename(columns = {'clase':'List_of_clase'})\n",
    "df0.head()"
   ]
  },
  {
   "cell_type": "markdown",
   "metadata": {},
   "source": [
    "### 5. Create a dataframe for each level of the variable\n",
    "This needs to be done for all the levels of the variable, which should be included in the final plot. \n",
    "\n",
    "If for example, the goal is to plot three different origins, then three different count data frames should be made. \n",
    "\n",
    "In the following code, once again, it is only the first line that needs alteration.\n",
    "\n",
    "`count_df = year_object_count_df(df[df[' '] == ' ']`\n",
    "\n"
   ]
  },
  {
   "cell_type": "code",
   "execution_count": 5,
   "metadata": {},
   "outputs": [],
   "source": [
    "count_gaul = year_object_count_df(data = df0[df0['origin_h1'] == 'gaul'],\n",
    "                                  lower_date = 'start_date',  \n",
    "                                  upper_date = 'end_date',\n",
    "                                  object_list = 'List_of_clase')  "
   ]
  },
  {
   "cell_type": "code",
   "execution_count": 6,
   "metadata": {},
   "outputs": [],
   "source": [
    "count_italy = year_object_count_df(data = df0[df0['origin_h1'] == 'italy'], \n",
    "                                   lower_date = 'start_date',  \n",
    "                                   upper_date = 'end_date',\n",
    "                                   object_list = 'List_of_clase')  "
   ]
  },
  {
   "cell_type": "code",
   "execution_count": 7,
   "metadata": {},
   "outputs": [],
   "source": [
    "count_unknown = year_object_count_df(data = df0[df0['origin_h1'] == 'unknown'], \n",
    "                                    lower_date = 'start_date',  \n",
    "                                    upper_date = 'end_date',\n",
    "                                    object_list = 'List_of_clase') "
   ]
  },
  {
   "cell_type": "markdown",
   "metadata": {},
   "source": [
    "### 6. Plot the graphs"
   ]
  },
  {
   "cell_type": "markdown",
   "metadata": {},
   "source": [
    "#### 6.1. Create a dictionary for plotting\n",
    "Now a dictionary containing the above dataframes is made. The keys (what is incapsulated in '') are going to be the labels for the plot. The variables refered to, are the dataframes created just above. "
   ]
  },
  {
   "cell_type": "code",
   "execution_count": 8,
   "metadata": {},
   "outputs": [],
   "source": [
    "df_dictionary = {'Gaul': count_gaul, 'Italy': count_italy}"
   ]
  },
  {
   "cell_type": "code",
   "execution_count": 9,
   "metadata": {},
   "outputs": [],
   "source": [
    "df_dictionary2 = {'Gaul': count_gaul, 'Unknown': count_unknown}"
   ]
  },
  {
   "cell_type": "markdown",
   "metadata": {},
   "source": [
    "#### 6.2 Plot and save\n",
    "Here the data from the previously created count data frames are plotted. \n",
    "\n",
    "This is done using the function `plotgraph()`. \n",
    "\n",
    "To change the colour of lines, pass a list of strings with colour names to `palette` argument. \n",
    "\n",
    "To change the default `'solid'` line, pass f.ex., `'dashed'` to `linestyle` argument.o not show \n",
    "\n",
    "To hide values on axis uncomment `ax.axes.xaxis.set_ticks([])` for X and `ax.axes.yaxis.set_ticks([])` for Y.\n",
    "\n",
    "To plot a single line graph specify only 1 axes in this line `fig, ax = plt.subplots(figsize=(20, 11))` and use this `ax` variable as an input for `ax` argument in `plotgraph()`. \n",
    "To plot 2 and more graphs side by side:\n",
    "1. specify that many axes as graphs and the respective number of rows/columns of the subplot grid. F.ex., to plot 2 lie=ne graphs `fig, (ax1, ax2) = plt.subplots(nrows=1, ncols=2,figsize=(20, 11))`\n",
    "2. call `plot_graph()` on each `dictionary` and use the respective `ax` variable as an input for `ax` argument in `plotgraph()`.  \n",
    "F.ex., in `plot_graph(dicts_of_df = df_dictionary, palette=['red', 'yellow'], linestyle = 'dashed', ax = ax1)` the line graph for dic with Gaul and Italy will be refered as `ax1` and placed on the **right** side of the graph.\n",
    "\n",
    "**Note**: Remember to set labels, background colour, etc for both axes like in the example below."
   ]
  },
  {
   "cell_type": "code",
   "execution_count": 17,
   "metadata": {},
   "outputs": [
    {
     "name": "stderr",
     "output_type": "stream",
     "text": [
      "/tmp/ipykernel_21146/2388434301.py:39: UserWarning: FixedFormatter should only be used together with FixedLocator\n",
      "  ax.set_xticklabels([int(i) if i != 0 else 1 for i in ax.get_xticks()])\n"
     ]
    },
    {
     "data": {
      "image/png": "[encoded data removed]",
      "text/plain": [
       "<Figure size 1440x792 with 1 Axes>"
      ]
     },
     "metadata": {},
     "output_type": "display_data"
    }
   ],
   "source": [
    "sns.set(font_scale=1.7)\n",
    "\n",
    "#Remove squeres from background\n",
    "sns.set_style(style='white')  \n",
    "\n",
    "fig, ax = plt.subplots(figsize=(20, 11))\n",
    "\n",
    "#Calculate minimum and maximum Y values to define the cuff off further\n",
    "minimum, maximum = get_Y_range(df_dictionary)\n",
    "\n",
    "plot_graph(dicts_of_df = df_dictionary,\n",
    "           palette=['red', 'yellow'],  \n",
    "           linestyle = 'dashed',\n",
    "           ax = ax)\n",
    "           \n",
    "\n",
    "# Cut off the range of Y value shown \n",
    "ax.set_xlim(minimum, maximum)\n",
    "\n",
    "# Remove 0 from Y axis\n",
    "ax.set_ylim(0, None)\n",
    "\n",
    "#Change background colour\n",
    "ax.set_facecolor(\"white\")  \n",
    "\n",
    "#Change Y values format \n",
    "# integers = '%.0f'\n",
    "# decimals = '%.1f', the number before 'f' defines how many values to show after dot\n",
    "ax.yaxis.set_major_formatter(FormatStrFormatter('%.0f'))  \n",
    "\n",
    "ax.set_ylabel(\"Count\")\n",
    "ax.set_xlabel(\"Year\")\n",
    "\n",
    "#To hide values on axis\n",
    "#ax.axes.xaxis.set_ticks([])\n",
    "#ax.axes.yaxis.set_ticks([])\n",
    "\n",
    "# Make sure that if 0 is included on the x-axis it is turned into 1 instead\n",
    "ax.set_xticklabels([int(i) if i != 0 else 1 for i in ax.get_xticks()])\n",
    "\n",
    "ax.set_title(label = 'Count of Clase per Origin per Year', size=25, y=1.04, fontweight='bold')\n",
    "plt.tight_layout()\n",
    "\n",
    "\n",
    "\n",
    "# Save the graph\n",
    "plt.savefig('./fig.pdf')"
   ]
  },
  {
   "cell_type": "code",
   "execution_count": 11,
   "metadata": {},
   "outputs": [
    {
     "name": "stderr",
     "output_type": "stream",
     "text": [
      "/tmp/ipykernel_21146/1456840372.py:47: UserWarning: FixedFormatter should only be used together with FixedLocator\n",
      "  ax1.set_xticklabels([int(i) if i != 0 else 1 for i in ax1.get_xticks()])\n",
      "/tmp/ipykernel_21146/1456840372.py:50: UserWarning: FixedFormatter should only be used together with FixedLocator\n",
      "  ax1.set_xticklabels([int(i) if i != 0 else 1 for i in ax2.get_xticks()])\n"
     ]
    },
    {
     "data": {
      "image/png": "[encoded data removed]",
      "text/plain": [
       "<Figure size 1440x792 with 2 Axes>"
      ]
     },
     "metadata": {},
     "output_type": "display_data"
    }
   ],
   "source": [
    "sns.set(font_scale=1.7)\n",
    "\n",
    "#Remove squeres from background\n",
    "sns.set_style(style='white')  \n",
    "\n",
    "fig, (ax1, ax2)= plt.subplots(nrows=1, ncols=2, figsize=(20, 11))\n",
    "\n",
    "#Calculate minimum and maximum Y values \n",
    "minimum1, maximum1 = get_Y_range(df_dictionary)\n",
    "minimum2, maximum2 = get_Y_range(df_dictionary2)\n",
    "\n",
    "plot_graph(dicts_of_df = df_dictionary,\n",
    "           palette=['red', 'yellow', 'green'],\n",
    "           linestyle = 'dashed',\n",
    "           ax = ax1)\n",
    "           \n",
    "\n",
    "plot_graph(dicts_of_df = df_dictionary2,\n",
    "            palette=['blue', 'pink'],\n",
    "            linestyle = 'solid',\n",
    "            ax = ax2)\n",
    "\n",
    "# Cut off the range of Y value shown \n",
    "ax1.set_xlim(minimum1, maximum1)\n",
    "ax2.set_xlim(minimum2, maximum2)\n",
    "\n",
    "# Remove 0 from Y axis\n",
    "ax1.set_ylim(0, None)\n",
    "ax2.set_ylim(0, None)\n",
    "\n",
    "#Change background colour\n",
    "ax1.set_facecolor(\"white\")  \n",
    "ax2.set_facecolor(\"white\")\n",
    "\n",
    "#Change Y values format \n",
    "# integers = '%.0f'\n",
    "# decimals = '%.1f', the number before 'f' defines how many values to show after dot\n",
    "ax1.yaxis.set_major_formatter(FormatStrFormatter('%.0f'))  \n",
    "ax2.yaxis.set_major_formatter(FormatStrFormatter('%.1f'))\n",
    "\n",
    "ax1.set_ylabel(\"Count\")\n",
    "ax1.set_xlabel(\"Year\")\n",
    "\n",
    "ax2.set_xlabel(\"Year\")\n",
    "ax2.set_ylabel(\"Count\")\n",
    "\n",
    "\n",
    "#To hide values on axis\n",
    "#ax1.axes.xaxis.set_ticks([])\n",
    "#ax1.axes.yaxis.set_ticks([])\n",
    "#ax2.axes.xaxis.set_ticks([])\n",
    "#ax2.axes.yaxis.set_ticks([])\n",
    "\n",
    "\n",
    "# Make sure that if 0 is included on the x-axis it is turned into 1 instead\n",
    "ax1.set_xticklabels([int(i) if i != 0 else 1 for i in ax1.get_xticks()])\n",
    "ax1.set_title(label = 'Count of Clase per Origin per Year', size=25, y=1.04, fontweight='bold')\n",
    "\n",
    "ax1.set_xticklabels([int(i) if i != 0 else 1 for i in ax2.get_xticks()])\n",
    "ax2.set_title(label = 'Count of Clase per Origin per Year', size=25, y=1.04, fontweight='bold')\n",
    "plt.tight_layout()\n",
    "\n",
    "\n",
    "# Save the graph\n",
    "plt.savefig('./fig1.pdf')"
   ]
  }
 ],
 "metadata": {
  "interpreter": {
   "hash": "bbfd61b9771b25adb48756b02878e03699aa9c48f369525daaaa61fe69c4b1b3"
  },
  "kernelspec": {
   "display_name": "Python 3 (ipykernel)",
   "language": "python",
   "name": "python3"
  },
  "language_info": {
   "codemirror_mode": {
    "name": "ipython",
    "version": 3
   },
   "file_extension": ".py",
   "mimetype": "text/x-python",
   "name": "python",
   "nbconvert_exporter": "python",
   "pygments_lexer": "ipython3",
   "version": "3.9.7"
  }
 },
 "nbformat": 4,
 "nbformat_minor": 2
}
