{
 "cells": [
  {
   "cell_type": "markdown",
   "metadata": {},
   "source": [
    "## Notebook for plotting sum frequencies per year\n",
    "\n",
    "The code in the current notebook can be used to plot the summed frequency of a certain variable in a dataset per year. \n",
    "\n",
    "The queries that can be answered using an adapted version of the following code include but are not limited to:\n",
    "* Show sum of *frequency* per *origin* per *year* for the least specific level of origin (e.g. EM, Gaul, Italy)\n",
    "*  Show sum of *frequency* per *origin* per *year* for the specific level of *origin* (e.g., Frejus, Lyon, Switzerland)\n",
    "* Show sum *frequency* per *contents* per *year*\n",
    "\n",
    "The plotting of all the above examples can be found in the **RAAD_notebook**"
   ]
  },
  {
   "cell_type": "markdown",
   "metadata": {},
   "source": [
    "### 1. Import packages"
   ]
  },
  {
   "cell_type": "code",
   "execution_count": 1,
   "metadata": {},
   "outputs": [],
   "source": [
    "import pandas as pd\n",
    "import seaborn as sns\n",
    "import matplotlib.pyplot as plt\n",
    "import matplotlib as mpl\n",
    "from matplotlib import figure\n",
    "import numpy as np\n",
    "import regex as re\n",
    "sns.set()\n",
    "import pathlib\n",
    "from pathlib import Path\n",
    "import sys\n",
    "sys.path.append(\"../src\")\n",
    "from matplotlib.ticker import FormatStrFormatter\n",
    "from functions import sum_freq_per_year, year_freq_df, plot_graph, preprocess, get_Y_range # module with all functions used for the task"
   ]
  },
  {
   "cell_type": "markdown",
   "metadata": {},
   "source": [
    "### 2. Read in data"
   ]
  },
  {
   "cell_type": "code",
   "execution_count": 2,
   "metadata": {},
   "outputs": [],
   "source": [
    "data = pd.read_csv('RAAD_data_restructured.csv', usecols=[\n",
    "                                                     'site_number', 'RAAD_type_number', 'RAAD_form', 'origin',\n",
    "                                                     'contents', 'southampton_type_number', 'frequency', 'origin_h1',\n",
    "                                                     'origin_h2', 'raad_type_start_date', 'raad_type_end_date',\n",
    "                                                     'site_name_modern', 'site_name_acient', 'modern_country',\n",
    "                                                     'roman_province', 'lat', 'long', 'major_site_type', 'minor_site_type', \n",
    "                                                     'quantification_method', 'quantification_abbreviation','total_assemblage_size'\n",
    "                                                     ])\n",
    "data['origin_h2'] = data['origin_h2'].fillna('')"
   ]
  },
  {
   "cell_type": "markdown",
   "metadata": {},
   "source": [
    "### 3. Prepare data"
   ]
  },
  {
   "cell_type": "markdown",
   "metadata": {},
   "source": [
    "#### 3.1 Check in which columns numeric values are of an object type\n",
    "#### 3.2 If found, convert objects into numeric values (float) \n",
    "This is essential for performing math operations with these variables"
   ]
  },
  {
   "cell_type": "code",
   "execution_count": 12,
   "metadata": {},
   "outputs": [
    {
     "name": "stdout",
     "output_type": "stream",
     "text": [
      "<class 'pandas.core.frame.DataFrame'>\n",
      "RangeIndex: 1357 entries, 0 to 1356\n",
      "Data columns (total 22 columns):\n",
      " #   Column                       Non-Null Count  Dtype  \n",
      "---  ------                       --------------  -----  \n",
      " 0   site_number                  1357 non-null   int64  \n",
      " 1   RAAD_type_number             1357 non-null   int64  \n",
      " 2   RAAD_form                    1357 non-null   object \n",
      " 3   origin                       1357 non-null   object \n",
      " 4   contents                     1354 non-null   object \n",
      " 5   southampton_type_number      941 non-null    object \n",
      " 6   frequency                    1357 non-null   int64  \n",
      " 7   origin_h1                    1357 non-null   object \n",
      " 8   origin_h2                    915 non-null    object \n",
      " 9   raad_type_start_date         1157 non-null   float64\n",
      " 10  raad_type_end_date           1157 non-null   float64\n",
      " 11  site_name_modern             1357 non-null   object \n",
      " 12  site_name_acient             1008 non-null   object \n",
      " 13  modern_country               1357 non-null   object \n",
      " 14  roman_province               1357 non-null   object \n",
      " 15  lat                          1357 non-null   float64\n",
      " 16  long                         1357 non-null   float64\n",
      " 17  major_site_type              1357 non-null   object \n",
      " 18  minor_site_type              1357 non-null   object \n",
      " 19  quantification_method        1357 non-null   object \n",
      " 20  quantification_abbreviation  1357 non-null   object \n",
      " 21  total_assemblage_size        1357 non-null   int64  \n",
      "dtypes: float64(4), int64(4), object(14)\n",
      "memory usage: 233.4+ KB\n"
     ]
    }
   ],
   "source": [
    "data.info()"
   ]
  },
  {
   "cell_type": "markdown",
   "metadata": {},
   "source": [
    "#### 3.3 Clean text data (from punctuation, double spaces) and lowercase\n",
    "This is done in order to avoid inconsistency in names, etc. Thus, to avoid errors while counting\n",
    "\n",
    "The RAAD dataset is already pre-processed. For this reason, the following cell is commented. "
   ]
  },
  {
   "cell_type": "code",
   "execution_count": 19,
   "metadata": {},
   "outputs": [],
   "source": [
    "#data.columns\n",
    "\n",
    "#cols_for_preprocessing = [\n",
    "#    'RAAD_form', \n",
    "#    'origin', \n",
    "#    'contents',\n",
    "#    'origin_h1', \n",
    "#    'origin_h2', \n",
    "#    'site_name_modern',\n",
    "#    'site_name_acient', \n",
    "#    'modern_country', \n",
    "#    'roman_province',\n",
    "#    'major_site_type', \n",
    "#    'minor_site_type', \n",
    "#    'quantification_method',\n",
    "#    'quantification_abbreviation'\n",
    "#    ]\n",
    "\n",
    "#for i in cols_for_preprocessing:\n",
    "#    data[i] = preprocess(data[i])\n",
    "\n",
    "\n",
    "#data.head()"
   ]
  },
  {
   "cell_type": "markdown",
   "metadata": {},
   "source": [
    "### 4. Subset data (Optional)\n",
    "The code in the following chunks can be used to filter the data according to your wishes.\n",
    "\n",
    "**Note:** The analysis in the remaining chunks will be done on the subset of the data. If you wish to investigate the full data, do not run the chunks, or make sure the lines are commented out (# in the begining of each line that you do not want to run). If you have created a subset of the data and wish to return to looking into the full data set, run the chunk in section 2 (data = pd.read_csv(.....))"
   ]
  },
  {
   "cell_type": "markdown",
   "metadata": {},
   "source": [
    "#### 4.1 Subset according to quantification abbreviation\n",
    "The quntification_abbreviation variable has 4 levels:\n",
    "* 'total'\n",
    "* 'max'\n",
    "* 'mni'\n",
    "* 'rbh'\n",
    "\n",
    "Any of these can be inserted below, do only analyse data in which the quantification_abbreviation has a certain value."
   ]
  },
  {
   "cell_type": "code",
   "execution_count": 3,
   "metadata": {},
   "outputs": [],
   "source": [
    "# DATA ONLY INCLUDING ONE LEVEL OF QUANTIFICATION ABBREVIATION\n",
    "#data = data[data['quantification_abbreviation'] == 'max']\n",
    "\n",
    "# DATA INCLUDING TWO LEVELS OF QUANTIFICATION ABBREVIATION\n",
    "#data = data[(data['quantification_abbreviation'] == 'max') | (data['quantification_abbreviation'] == 'total')]"
   ]
  },
  {
   "cell_type": "markdown",
   "metadata": {},
   "source": [
    "#### 4.2 Subset according to major site type\n",
    "The major_site_type variable has 3 levels:\n",
    "* 'settlement'\n",
    "* 'villa'\n",
    "* 'military'\n",
    "* 'settlement military'\n",
    "\n",
    "Any of these can be inserted below, do only analyse data in which the major site type has a certain value."
   ]
  },
  {
   "cell_type": "code",
   "execution_count": 4,
   "metadata": {},
   "outputs": [],
   "source": [
    "# DATA ONLY INCLUDING ONE LEVEL OF MAJOR SITE TYPE\n",
    "#data = data[data['major_site_type'] == 'villa']\n",
    "\n",
    "# DATA INCLUDING TWO LEVELS OF MAJOR SITE TYPE\n",
    "#data = data[(data['major_site_type'] == 'villa') | (data['major_site_type'] == 'military')]"
   ]
  },
  {
   "cell_type": "markdown",
   "metadata": {},
   "source": [
    "#### 4.3 Check that the subsetting worked\n",
    "\n",
    "It is always a good idea to make sure, that the data includes the wished for elements before moving on. The following code chunks can be used to see which values the columns we used to subset from includes. The head() function can be used to show the first *n* rows of the data.\n",
    "\n",
    "**NOTE:** When you use the subsetted data to make further analysis in this notebook, make sure that the subsetted data you use, has the specified levels of certain variables you want to plot. For example, you cannot plot the frequency of of `origin_h1` if none of the remaining data has this value. "
   ]
  },
  {
   "cell_type": "code",
   "execution_count": 13,
   "metadata": {},
   "outputs": [
    {
     "data": {
      "text/plain": [
       "array(['settlement military', 'settlement', 'villa', 'military'],\n",
       "      dtype=object)"
      ]
     },
     "execution_count": 13,
     "metadata": {},
     "output_type": "execute_result"
    }
   ],
   "source": [
    "# Checking major site type\n",
    "data['major_site_type'].unique()"
   ]
  },
  {
   "cell_type": "code",
   "execution_count": 14,
   "metadata": {},
   "outputs": [
    {
     "data": {
      "text/plain": [
       "array(['total', 'max', 'mni', 'rbh'], dtype=object)"
      ]
     },
     "execution_count": 14,
     "metadata": {},
     "output_type": "execute_result"
    }
   ],
   "source": [
    "# Checking quantification abbreviation\n",
    "data['quantification_abbreviation'].unique()"
   ]
  },
  {
   "cell_type": "code",
   "execution_count": 3,
   "metadata": {},
   "outputs": [
    {
     "data": {
      "text/html": [
       "<div>\n",
       "<style scoped>\n",
       "    .dataframe tbody tr th:only-of-type {\n",
       "        vertical-align: middle;\n",
       "    }\n",
       "\n",
       "    .dataframe tbody tr th {\n",
       "        vertical-align: top;\n",
       "    }\n",
       "\n",
       "    .dataframe thead th {\n",
       "        text-align: right;\n",
       "    }\n",
       "</style>\n",
       "<table border=\"1\" class=\"dataframe\">\n",
       "  <thead>\n",
       "    <tr style=\"text-align: right;\">\n",
       "      <th></th>\n",
       "      <th>site_number</th>\n",
       "      <th>RAAD_type_number</th>\n",
       "      <th>RAAD_form</th>\n",
       "      <th>origin</th>\n",
       "      <th>contents</th>\n",
       "      <th>southampton_type_number</th>\n",
       "      <th>frequency</th>\n",
       "      <th>origin_h1</th>\n",
       "      <th>origin_h2</th>\n",
       "      <th>raad_type_start_date</th>\n",
       "      <th>...</th>\n",
       "      <th>site_name_acient</th>\n",
       "      <th>modern_country</th>\n",
       "      <th>roman_province</th>\n",
       "      <th>lat</th>\n",
       "      <th>long</th>\n",
       "      <th>major_site_type</th>\n",
       "      <th>minor_site_type</th>\n",
       "      <th>quantification_method</th>\n",
       "      <th>quantification_abbreviation</th>\n",
       "      <th>total_assemblage_size</th>\n",
       "    </tr>\n",
       "  </thead>\n",
       "  <tbody>\n",
       "    <tr>\n",
       "      <th>0</th>\n",
       "      <td>9</td>\n",
       "      <td>1</td>\n",
       "      <td>augst 48</td>\n",
       "      <td>em</td>\n",
       "      <td>unknown</td>\n",
       "      <td>NaN</td>\n",
       "      <td>1</td>\n",
       "      <td>em</td>\n",
       "      <td></td>\n",
       "      <td>NaN</td>\n",
       "      <td>...</td>\n",
       "      <td>augusta raurica</td>\n",
       "      <td>switzerland</td>\n",
       "      <td>germania superior</td>\n",
       "      <td>47.533512</td>\n",
       "      <td>7.71628</td>\n",
       "      <td>settlement military</td>\n",
       "      <td>colonia limitanei</td>\n",
       "      <td>total sherds</td>\n",
       "      <td>total</td>\n",
       "      <td>5633</td>\n",
       "    </tr>\n",
       "    <tr>\n",
       "      <th>1</th>\n",
       "      <td>9</td>\n",
       "      <td>2</td>\n",
       "      <td>augst 49</td>\n",
       "      <td>em</td>\n",
       "      <td>unknown</td>\n",
       "      <td>NaN</td>\n",
       "      <td>1</td>\n",
       "      <td>em</td>\n",
       "      <td></td>\n",
       "      <td>1.0</td>\n",
       "      <td>...</td>\n",
       "      <td>augusta raurica</td>\n",
       "      <td>switzerland</td>\n",
       "      <td>germania superior</td>\n",
       "      <td>47.533512</td>\n",
       "      <td>7.71628</td>\n",
       "      <td>settlement military</td>\n",
       "      <td>colonia limitanei</td>\n",
       "      <td>total sherds</td>\n",
       "      <td>total</td>\n",
       "      <td>5633</td>\n",
       "    </tr>\n",
       "    <tr>\n",
       "      <th>2</th>\n",
       "      <td>9</td>\n",
       "      <td>3</td>\n",
       "      <td>augst 55 agora f6566</td>\n",
       "      <td>em</td>\n",
       "      <td>wine</td>\n",
       "      <td>10</td>\n",
       "      <td>12</td>\n",
       "      <td>em</td>\n",
       "      <td></td>\n",
       "      <td>-50.0</td>\n",
       "      <td>...</td>\n",
       "      <td>augusta raurica</td>\n",
       "      <td>switzerland</td>\n",
       "      <td>germania superior</td>\n",
       "      <td>47.533512</td>\n",
       "      <td>7.71628</td>\n",
       "      <td>settlement military</td>\n",
       "      <td>colonia limitanei</td>\n",
       "      <td>total sherds</td>\n",
       "      <td>total</td>\n",
       "      <td>5633</td>\n",
       "    </tr>\n",
       "    <tr>\n",
       "      <th>3</th>\n",
       "      <td>9</td>\n",
       "      <td>4</td>\n",
       "      <td>augst 56</td>\n",
       "      <td>em</td>\n",
       "      <td>unknown</td>\n",
       "      <td>NaN</td>\n",
       "      <td>2</td>\n",
       "      <td>em</td>\n",
       "      <td></td>\n",
       "      <td>300.0</td>\n",
       "      <td>...</td>\n",
       "      <td>augusta raurica</td>\n",
       "      <td>switzerland</td>\n",
       "      <td>germania superior</td>\n",
       "      <td>47.533512</td>\n",
       "      <td>7.71628</td>\n",
       "      <td>settlement military</td>\n",
       "      <td>colonia limitanei</td>\n",
       "      <td>total sherds</td>\n",
       "      <td>total</td>\n",
       "      <td>5633</td>\n",
       "    </tr>\n",
       "    <tr>\n",
       "      <th>4</th>\n",
       "      <td>9</td>\n",
       "      <td>5</td>\n",
       "      <td>augst 57</td>\n",
       "      <td>em</td>\n",
       "      <td>unknown</td>\n",
       "      <td>NaN</td>\n",
       "      <td>1</td>\n",
       "      <td>em</td>\n",
       "      <td></td>\n",
       "      <td>400.0</td>\n",
       "      <td>...</td>\n",
       "      <td>augusta raurica</td>\n",
       "      <td>switzerland</td>\n",
       "      <td>germania superior</td>\n",
       "      <td>47.533512</td>\n",
       "      <td>7.71628</td>\n",
       "      <td>settlement military</td>\n",
       "      <td>colonia limitanei</td>\n",
       "      <td>total sherds</td>\n",
       "      <td>total</td>\n",
       "      <td>5633</td>\n",
       "    </tr>\n",
       "  </tbody>\n",
       "</table>\n",
       "<p>5 rows × 22 columns</p>\n",
       "</div>"
      ],
      "text/plain": [
       "   site_number  RAAD_type_number             RAAD_form origin contents  \\\n",
       "0            9                 1              augst 48     em  unknown   \n",
       "1            9                 2              augst 49     em  unknown   \n",
       "2            9                 3  augst 55 agora f6566     em     wine   \n",
       "3            9                 4              augst 56     em  unknown   \n",
       "4            9                 5              augst 57     em  unknown   \n",
       "\n",
       "  southampton_type_number  frequency origin_h1 origin_h2  \\\n",
       "0                     NaN          1        em             \n",
       "1                     NaN          1        em             \n",
       "2                      10         12        em             \n",
       "3                     NaN          2        em             \n",
       "4                     NaN          1        em             \n",
       "\n",
       "   raad_type_start_date  ...  site_name_acient modern_country  \\\n",
       "0                   NaN  ...   augusta raurica    switzerland   \n",
       "1                   1.0  ...   augusta raurica    switzerland   \n",
       "2                 -50.0  ...   augusta raurica    switzerland   \n",
       "3                 300.0  ...   augusta raurica    switzerland   \n",
       "4                 400.0  ...   augusta raurica    switzerland   \n",
       "\n",
       "      roman_province        lat     long      major_site_type  \\\n",
       "0  germania superior  47.533512  7.71628  settlement military   \n",
       "1  germania superior  47.533512  7.71628  settlement military   \n",
       "2  germania superior  47.533512  7.71628  settlement military   \n",
       "3  germania superior  47.533512  7.71628  settlement military   \n",
       "4  germania superior  47.533512  7.71628  settlement military   \n",
       "\n",
       "     minor_site_type quantification_method quantification_abbreviation  \\\n",
       "0  colonia limitanei          total sherds                       total   \n",
       "1  colonia limitanei          total sherds                       total   \n",
       "2  colonia limitanei          total sherds                       total   \n",
       "3  colonia limitanei          total sherds                       total   \n",
       "4  colonia limitanei          total sherds                       total   \n",
       "\n",
       "  total_assemblage_size  \n",
       "0                  5633  \n",
       "1                  5633  \n",
       "2                  5633  \n",
       "3                  5633  \n",
       "4                  5633  \n",
       "\n",
       "[5 rows x 22 columns]"
      ]
     },
     "execution_count": 3,
     "metadata": {},
     "output_type": "execute_result"
    }
   ],
   "source": [
    "data.head()"
   ]
  },
  {
   "cell_type": "markdown",
   "metadata": {},
   "source": [
    "#### 4.4 Filtering away certain values of data\n",
    "If for any reason, any data with a specific value in a certain column should be excluded from the analysis, the following code syntax can be used:\n",
    "\n",
    "```\n",
    "data = data[data['column_we_want_to_filter_by'] != 'value_it_should_not_have']\n",
    "```\n",
    "\n",
    "!= means not equal to. This signifies that we take all rows of the dataframe which does not have the value specified. \n"
   ]
  },
  {
   "cell_type": "code",
   "execution_count": 7,
   "metadata": {},
   "outputs": [],
   "source": [
    "# Example, filtering away all rows where RAAD form is 'unknown'\n",
    "#data = data[data['RAAD_form'] != 'unknown']"
   ]
  },
  {
   "cell_type": "markdown",
   "metadata": {},
   "source": [
    "### 5. Create dataframes for plotting\n",
    "To begin with, the data is grouped by the RAAD types, as well as the variable of interest. This grouping can e.g., be made by origin (both origin_h1 and origin_h2) or contents.\n",
    "\n",
    "In the below code, only alterations needs to be made in the first line to fit the query. Here it is specified which variable to group by. \n",
    "\n",
    "\n",
    "`df0 = data.groupby(['the_name_of_the_variable_you_want_to_group_by', 'RAAD_form', 'raad_type_start_date', 'raad_type_end_date'])['frequency'].sum()`"
   ]
  },
  {
   "cell_type": "code",
   "execution_count": 4,
   "metadata": {},
   "outputs": [
    {
     "data": {
      "text/html": [
       "<div>\n",
       "<style scoped>\n",
       "    .dataframe tbody tr th:only-of-type {\n",
       "        vertical-align: middle;\n",
       "    }\n",
       "\n",
       "    .dataframe tbody tr th {\n",
       "        vertical-align: top;\n",
       "    }\n",
       "\n",
       "    .dataframe thead th {\n",
       "        text-align: right;\n",
       "    }\n",
       "</style>\n",
       "<table border=\"1\" class=\"dataframe\">\n",
       "  <thead>\n",
       "    <tr style=\"text-align: right;\">\n",
       "      <th></th>\n",
       "      <th>origin_h1</th>\n",
       "      <th>RAAD_form</th>\n",
       "      <th>raad_type_start_date</th>\n",
       "      <th>raad_type_end_date</th>\n",
       "      <th>summed_freq</th>\n",
       "    </tr>\n",
       "  </thead>\n",
       "  <tbody>\n",
       "    <tr>\n",
       "      <th>0</th>\n",
       "      <td>em</td>\n",
       "      <td>ac2</td>\n",
       "      <td>1.0</td>\n",
       "      <td>200.0</td>\n",
       "      <td>1</td>\n",
       "    </tr>\n",
       "    <tr>\n",
       "      <th>1</th>\n",
       "      <td>em</td>\n",
       "      <td>augst 46</td>\n",
       "      <td>50.0</td>\n",
       "      <td>100.0</td>\n",
       "      <td>1</td>\n",
       "    </tr>\n",
       "    <tr>\n",
       "      <th>2</th>\n",
       "      <td>em</td>\n",
       "      <td>augst 47</td>\n",
       "      <td>150.0</td>\n",
       "      <td>300.0</td>\n",
       "      <td>8</td>\n",
       "    </tr>\n",
       "    <tr>\n",
       "      <th>3</th>\n",
       "      <td>em</td>\n",
       "      <td>augst 49</td>\n",
       "      <td>1.0</td>\n",
       "      <td>100.0</td>\n",
       "      <td>1</td>\n",
       "    </tr>\n",
       "    <tr>\n",
       "      <th>4</th>\n",
       "      <td>em</td>\n",
       "      <td>augst 55 agora f6566</td>\n",
       "      <td>-50.0</td>\n",
       "      <td>400.0</td>\n",
       "      <td>12</td>\n",
       "    </tr>\n",
       "  </tbody>\n",
       "</table>\n",
       "</div>"
      ],
      "text/plain": [
       "  origin_h1             RAAD_form  raad_type_start_date  raad_type_end_date  \\\n",
       "0        em                   ac2                   1.0               200.0   \n",
       "1        em              augst 46                  50.0               100.0   \n",
       "2        em              augst 47                 150.0               300.0   \n",
       "3        em              augst 49                   1.0               100.0   \n",
       "4        em  augst 55 agora f6566                 -50.0               400.0   \n",
       "\n",
       "   summed_freq  \n",
       "0            1  \n",
       "1            1  \n",
       "2            8  \n",
       "3            1  \n",
       "4           12  "
      ]
     },
     "execution_count": 4,
     "metadata": {},
     "output_type": "execute_result"
    }
   ],
   "source": [
    "df0 = data.groupby(['origin_h1', 'RAAD_form', 'raad_type_start_date', 'raad_type_end_date'])['frequency'].sum()\n",
    "df0 = df0.reset_index()\n",
    "df0 = df0.rename(columns = {'frequency':'summed_freq'})\n",
    "df0.head()"
   ]
  },
  {
   "cell_type": "markdown",
   "metadata": {},
   "source": [
    "The next chunk calculates the summed frequency per year. No need to alter anything here."
   ]
  },
  {
   "cell_type": "code",
   "execution_count": 5,
   "metadata": {},
   "outputs": [
    {
     "data": {
      "text/html": [
       "<div>\n",
       "<style scoped>\n",
       "    .dataframe tbody tr th:only-of-type {\n",
       "        vertical-align: middle;\n",
       "    }\n",
       "\n",
       "    .dataframe tbody tr th {\n",
       "        vertical-align: top;\n",
       "    }\n",
       "\n",
       "    .dataframe thead th {\n",
       "        text-align: right;\n",
       "    }\n",
       "</style>\n",
       "<table border=\"1\" class=\"dataframe\">\n",
       "  <thead>\n",
       "    <tr style=\"text-align: right;\">\n",
       "      <th></th>\n",
       "      <th>origin_h1</th>\n",
       "      <th>RAAD_form</th>\n",
       "      <th>raad_type_start_date</th>\n",
       "      <th>raad_type_end_date</th>\n",
       "      <th>summed_freq</th>\n",
       "      <th>Sum_freq_per_year</th>\n",
       "    </tr>\n",
       "  </thead>\n",
       "  <tbody>\n",
       "    <tr>\n",
       "      <th>0</th>\n",
       "      <td>em</td>\n",
       "      <td>ac2</td>\n",
       "      <td>1.0</td>\n",
       "      <td>200.0</td>\n",
       "      <td>1</td>\n",
       "      <td>0.005025</td>\n",
       "    </tr>\n",
       "    <tr>\n",
       "      <th>1</th>\n",
       "      <td>em</td>\n",
       "      <td>augst 46</td>\n",
       "      <td>50.0</td>\n",
       "      <td>100.0</td>\n",
       "      <td>1</td>\n",
       "      <td>0.020000</td>\n",
       "    </tr>\n",
       "    <tr>\n",
       "      <th>2</th>\n",
       "      <td>em</td>\n",
       "      <td>augst 47</td>\n",
       "      <td>150.0</td>\n",
       "      <td>300.0</td>\n",
       "      <td>8</td>\n",
       "      <td>0.053333</td>\n",
       "    </tr>\n",
       "    <tr>\n",
       "      <th>3</th>\n",
       "      <td>em</td>\n",
       "      <td>augst 49</td>\n",
       "      <td>1.0</td>\n",
       "      <td>100.0</td>\n",
       "      <td>1</td>\n",
       "      <td>0.010101</td>\n",
       "    </tr>\n",
       "    <tr>\n",
       "      <th>4</th>\n",
       "      <td>em</td>\n",
       "      <td>augst 55 agora f6566</td>\n",
       "      <td>-50.0</td>\n",
       "      <td>400.0</td>\n",
       "      <td>12</td>\n",
       "      <td>0.026667</td>\n",
       "    </tr>\n",
       "  </tbody>\n",
       "</table>\n",
       "</div>"
      ],
      "text/plain": [
       "  origin_h1             RAAD_form  raad_type_start_date  raad_type_end_date  \\\n",
       "0        em                   ac2                   1.0               200.0   \n",
       "1        em              augst 46                  50.0               100.0   \n",
       "2        em              augst 47                 150.0               300.0   \n",
       "3        em              augst 49                   1.0               100.0   \n",
       "4        em  augst 55 agora f6566                 -50.0               400.0   \n",
       "\n",
       "   summed_freq  Sum_freq_per_year  \n",
       "0            1           0.005025  \n",
       "1            1           0.020000  \n",
       "2            8           0.053333  \n",
       "3            1           0.010101  \n",
       "4           12           0.026667  "
      ]
     },
     "execution_count": 5,
     "metadata": {},
     "output_type": "execute_result"
    }
   ],
   "source": [
    "df1 = sum_freq_per_year(data = df0,\n",
    "                        sum_freq = 'summed_freq',\n",
    "                        lower_date = 'raad_type_start_date',\n",
    "                        upper_date = 'raad_type_end_date')\n",
    "\n",
    "df1.head()"
   ]
  },
  {
   "cell_type": "markdown",
   "metadata": {},
   "source": [
    "### 6. Create a dataframe for each level of the variable\n",
    "This needs to be done for all the levels of the variable that should be included in the final plot. \n",
    "\n",
    "If for example, you want three different origins (e.g., EM, Gaul, Italy), three different frequency data frames should be made. \n",
    "\n",
    "In the following code, once again, it is only the first line that needs alteration.\n",
    "\n",
    "`freq_df = year_freq_df(df1[df1[' '] == ' ']`\n",
    "\n",
    "It is also possible to plot a line, which sums of serveral levels of the variable. This can be done using the following syntax (make sure indentations match):\n",
    "```\n",
    "dataframe = year_freq_df(df1[(df1['origin_h1'] == 'em') | (df1['origin_h1'] == 'gaul')], \n",
    "                            lower_date = 'raad_type_start_date',\n",
    "                            upper_date = 'raad_type_end_date',\n",
    "                            sum_freq = 'Sum_freq_per_year')\n",
    "```\n"
   ]
  },
  {
   "cell_type": "code",
   "execution_count": 6,
   "metadata": {},
   "outputs": [],
   "source": [
    "em = year_freq_df(data = df1[df1['origin_h1'] == 'em'], \n",
    "                  lower_date = 'raad_type_start_date',\n",
    "                  upper_date = 'raad_type_end_date',\n",
    "                  sum_freq = 'Sum_freq_per_year')\n",
    "\n",
    "gaul = year_freq_df(data = df1[df1['origin_h1'] == 'gaul'], \n",
    "                    lower_date = 'raad_type_start_date',\n",
    "                    upper_date = 'raad_type_end_date',\n",
    "                    sum_freq = 'Sum_freq_per_year')\n",
    "\n",
    "north_africa = year_freq_df(data = df1[df1['origin_h1'] == 'northafrica'], \n",
    "                            lower_date = 'raad_type_start_date',\n",
    "                            upper_date = 'raad_type_end_date',\n",
    "                            sum_freq = 'Sum_freq_per_year')   \n"
   ]
  },
  {
   "cell_type": "markdown",
   "metadata": {},
   "source": [
    "### 7. Plot the graphs"
   ]
  },
  {
   "cell_type": "markdown",
   "metadata": {},
   "source": [
    "#### 7.1. Create a dictionary for plotting\n",
    "Now a dictionary containing the above dataframes is made. The keys (what is incapsulated in ' ') are going to be the labels for the plot. The variables refered to, are the dataframes created just above. "
   ]
  },
  {
   "cell_type": "code",
   "execution_count": 7,
   "metadata": {},
   "outputs": [],
   "source": [
    "df_dictionary = {'EM': em, 'Gaul': gaul, 'North Africa': north_africa}"
   ]
  },
  {
   "cell_type": "code",
   "execution_count": 8,
   "metadata": {},
   "outputs": [],
   "source": [
    "df_dictionary2 = {'EM': em, 'Gaul': gaul}"
   ]
  },
  {
   "cell_type": "markdown",
   "metadata": {},
   "source": [
    "#### 7.2. Plot and save\n",
    "\n",
    "Here the data from the previously created count data frames are plotted. \n",
    "\n",
    "This is done using the function `plotgraph()`. \n",
    "\n",
    "To change the colour of lines, pass a list of strings with colour names to `palette` argument. \n",
    "\n",
    "To change the default `'solid'` line, pass f.ex., `'dashed'` to `linestyle` argument.o not show \n",
    "\n",
    "To hide values on axis uncomment `ax.axes.xaxis.set_ticks([])` for X and `ax.axes.yaxis.set_ticks([])` for Y.\n",
    "\n",
    "To plot a single line graph specify only 1 axes in this line `fig, ax = plt.subplots(figsize=(20, 11))` and use this `ax` variable as an input for `ax` argument in `plotgraph()`. \n",
    "To plot 2 and more graphs side by side:\n",
    "1. specify that many axes as graphs and the respective number of rows/columns of the subplot grid. F.ex., to plot 2 lie=ne graphs `fig, (ax1, ax2) = plt.subplots(nrows=1, ncols=2,figsize=(20, 11))`\n",
    "2. call `plot_graph()` on each `dictionary` and use the respective `ax` variable as an input for `ax` argument in `plotgraph()`.  \n",
    "F.ex., in `plot_graph(dicts_of_df = df_dictionary, palette=['orange', 'green', 'red], linestyle = 'dashed', ax = ax1)` the line graph for dic with Gaul and Italy will be refered as `ax1` and placed on the **right** side of the graph.\n",
    "\n",
    "**Note**: Remember to set labels, background colour, etc for both axes like in the example below."
   ]
  },
  {
   "cell_type": "code",
   "execution_count": 11,
   "metadata": {},
   "outputs": [
    {
     "name": "stderr",
     "output_type": "stream",
     "text": [
      "/tmp/ipykernel_37565/145900288.py:38: UserWarning: FixedFormatter should only be used together with FixedLocator\n",
      "  ax.set_xticklabels([int(i) if i != 0 else 1 for i in ax.get_xticks()])\n"
     ]
    },
    {
     "data": {
      "image/png": "[encoded data removed]",
      "text/plain": [
       "<Figure size 1440x792 with 1 Axes>"
      ]
     },
     "metadata": {},
     "output_type": "display_data"
    }
   ],
   "source": [
    "sns.set(font_scale=1.7)\n",
    "\n",
    "#Remove squeres from background\n",
    "sns.set_style(style='white')  \n",
    "\n",
    "fig, ax = plt.subplots(figsize=(20, 11))\n",
    "\n",
    "#Calculate minimum and maximum Y values to define the cuff off further\n",
    "minimum, maximum = get_Y_range(df_dictionary)\n",
    "\n",
    "plot_graph(dicts_of_df = df_dictionary,\n",
    "           palette=['orange', 'blue', 'yellow'],  \n",
    "           ax = ax)\n",
    "           \n",
    "\n",
    "# Cut off the range of Y value shown \n",
    "ax.set_xlim(minimum, maximum)\n",
    "\n",
    "# Remove 0 from Y axis\n",
    "ax.set_ylim(0, None)\n",
    "\n",
    "#Change background colour\n",
    "ax.set_facecolor(\"white\")  \n",
    "\n",
    "#Change Y values format \n",
    "# integers = '%.0f'\n",
    "# decimals = '%.1f', the number before 'f' defines how many values to show after dot\n",
    "ax.yaxis.set_major_formatter(FormatStrFormatter('%.0f'))  \n",
    "\n",
    "ax.set_ylabel(\"Frequency\")\n",
    "ax.set_xlabel(\"Year\")\n",
    "\n",
    "#To hide values on axis\n",
    "#ax.axes.xaxis.set_ticks([])\n",
    "#ax.axes.yaxis.set_ticks([])\n",
    "\n",
    "# Make sure that if 0 is included on the x-axis it is turned into 1 instead\n",
    "ax.set_xticklabels([int(i) if i != 0 else 1 for i in ax.get_xticks()])\n",
    "\n",
    "ax.set_title(label = 'Sum Frequency per Origin per Year', size=25, y=1.04, fontweight='bold')\n",
    "plt.tight_layout()\n",
    "\n",
    "\n",
    "\n",
    "# Save the graph\n",
    "plt.savefig('./Frequency_per_year.pdf')\n"
   ]
  },
  {
   "cell_type": "code",
   "execution_count": 12,
   "metadata": {},
   "outputs": [
    {
     "name": "stderr",
     "output_type": "stream",
     "text": [
      "/tmp/ipykernel_37565/2805945381.py:56: UserWarning: FixedFormatter should only be used together with FixedLocator\n",
      "  ax1.set_xticklabels([int(i) if i != 0 else 1 for i in ax1.get_xticks()])\n",
      "/tmp/ipykernel_37565/2805945381.py:59: UserWarning: FixedFormatter should only be used together with FixedLocator\n",
      "  ax1.set_xticklabels([int(i) if i != 0 else 1 for i in ax2.get_xticks()])\n"
     ]
    },
    {
     "data": {
      "image/png": "[encoded data removed]",
      "text/plain": [
       "<Figure size 1440x792 with 2 Axes>"
      ]
     },
     "metadata": {},
     "output_type": "display_data"
    }
   ],
   "source": [
    "sns.set(font_scale=1.7)\n",
    "\n",
    "#Remove squeres from background\n",
    "sns.set_style(style='white')  \n",
    "\n",
    "fig, (ax1, ax2)= plt.subplots(nrows=1, ncols=2, figsize=(20, 11))\n",
    "\n",
    "#Calculate minimum and maximum Y values \n",
    "minimum1, maximum1 = get_Y_range(df_dictionary)\n",
    "minimum2, maximum2 = get_Y_range(df_dictionary2)\n",
    "\n",
    "plot_graph(dicts_of_df = df_dictionary,\n",
    "           palette=['yellow', 'green', 'red'],\n",
    "           linestyle = 'dashed',\n",
    "           ax = ax1)\n",
    "           \n",
    "\n",
    "plot_graph(dicts_of_df = df_dictionary2,\n",
    "            palette=['blue', 'pink'],\n",
    "            linestyle = 'solid',\n",
    "            ax = ax2)\n",
    "\n",
    "# Cut off the range of Y value shown \n",
    "ax1.set_xlim(minimum1, maximum1)\n",
    "ax2.set_xlim(minimum2, maximum2)\n",
    "\n",
    "# Remove 0 from Y axis\n",
    "ax1.set_ylim(0, None)\n",
    "ax2.set_ylim(0, None)\n",
    "\n",
    "#Change background colour\n",
    "ax1.set_facecolor(\"white\")  \n",
    "ax2.set_facecolor(\"white\")\n",
    "\n",
    "#Change Y values format \n",
    "# integers = '%.0f'\n",
    "# decimals = '%.1f', the number before 'f' defines how many values to show after dot\n",
    "ax1.yaxis.set_major_formatter(FormatStrFormatter('%.0f'))  \n",
    "ax2.yaxis.set_major_formatter(FormatStrFormatter('%.1f'))\n",
    "\n",
    "ax1.set_ylabel(\"Frequency\")\n",
    "ax1.set_xlabel(\"Year\")\n",
    "\n",
    "ax2.set_xlabel(\"Year\")\n",
    "ax2.set_ylabel(\"Frequency\")\n",
    "\n",
    "\n",
    "#To hide values on axis\n",
    "#ax1.axes.xaxis.set_ticks([])\n",
    "#ax1.axes.yaxis.set_ticks([])\n",
    "#ax2.axes.xaxis.set_ticks([])\n",
    "#ax2.axes.yaxis.set_ticks([])\n",
    "\n",
    "\n",
    "# Make sure that if 0 is included on the x-axis it is turned into 1 instead\n",
    "ax1.set_xticklabels([int(i) if i != 0 else 1 for i in ax1.get_xticks()])\n",
    "ax1.set_title(label = 'Sum Frequency per Origin per Year', size=25, y=1.04, fontweight='bold')\n",
    "\n",
    "ax1.set_xticklabels([int(i) if i != 0 else 1 for i in ax2.get_xticks()])\n",
    "ax2.set_title(label = 'Sum Frequency per Origin per Year', size=25, y=1.04, fontweight='bold')\n",
    "plt.tight_layout()\n",
    "\n",
    "\n",
    "# Save the graph\n",
    "plt.savefig('./Frequency_per_year.pdf')"
   ]
  }
 ],
 "metadata": {
  "interpreter": {
   "hash": "bbfd61b9771b25adb48756b02878e03699aa9c48f369525daaaa61fe69c4b1b3"
  },
  "kernelspec": {
   "display_name": "Python 3.9.7 64-bit ('methods3': conda)",
   "language": "python",
   "name": "python3"
  },
  "language_info": {
   "codemirror_mode": {
    "name": "ipython",
    "version": 3
   },
   "file_extension": ".py",
   "mimetype": "text/x-python",
   "name": "python",
   "nbconvert_exporter": "python",
   "pygments_lexer": "ipython3",
   "version": "3.8.10"
  },
  "orig_nbformat": 4
 },
 "nbformat": 4,
 "nbformat_minor": 2
}
