{
 "cells": [
  {
   "cell_type": "markdown",
   "metadata": {},
   "source": [
    "## **Sum Frequency of a RAAD Form per Year in Site Date Range**"
   ]
  },
  {
   "cell_type": "code",
   "execution_count": 1,
   "metadata": {},
   "outputs": [],
   "source": [
    "import pandas as pd\n",
    "import seaborn as sns\n",
    "import matplotlib.pyplot as plt\n",
    "import matplotlib as mpl\n",
    "from matplotlib import figure\n",
    "import numpy as np\n",
    "import regex as re\n",
    "sns.set()\n",
    "import pathlib\n",
    "from pathlib import Path\n",
    "\n",
    "import sys\n",
    "sys.path.append(\"../src\")\n",
    "from functions import*"
   ]
  },
  {
   "cell_type": "code",
   "execution_count": 2,
   "metadata": {},
   "outputs": [],
   "source": [
    "data = pd.read_csv('RAAD_data_restructured.csv')\n",
    "data['origin_h2'] = data['origin_h2'].fillna('')"
   ]
  },
  {
   "cell_type": "code",
   "execution_count": 12,
   "metadata": {},
   "outputs": [
    {
     "data": {
      "text/html": [
       "<div>\n",
       "<style scoped>\n",
       "    .dataframe tbody tr th:only-of-type {\n",
       "        vertical-align: middle;\n",
       "    }\n",
       "\n",
       "    .dataframe tbody tr th {\n",
       "        vertical-align: top;\n",
       "    }\n",
       "\n",
       "    .dataframe thead th {\n",
       "        text-align: right;\n",
       "    }\n",
       "</style>\n",
       "<table border=\"1\" class=\"dataframe\">\n",
       "  <thead>\n",
       "    <tr style=\"text-align: right;\">\n",
       "      <th></th>\n",
       "      <th>origin_h1</th>\n",
       "      <th>site_name_modern</th>\n",
       "      <th>RAAD_form</th>\n",
       "      <th>site_start_date</th>\n",
       "      <th>site_end_date</th>\n",
       "      <th>summed_freq</th>\n",
       "    </tr>\n",
       "  </thead>\n",
       "  <tbody>\n",
       "    <tr>\n",
       "      <th>0</th>\n",
       "      <td>em</td>\n",
       "      <td>aislingen</td>\n",
       "      <td>camulodunum 184rhodian</td>\n",
       "      <td>15</td>\n",
       "      <td>70</td>\n",
       "      <td>1</td>\n",
       "    </tr>\n",
       "    <tr>\n",
       "      <th>1</th>\n",
       "      <td>em</td>\n",
       "      <td>alphen aan den rijn</td>\n",
       "      <td>camulodunum 184rhodian</td>\n",
       "      <td>43</td>\n",
       "      <td>240</td>\n",
       "      <td>4</td>\n",
       "    </tr>\n",
       "    <tr>\n",
       "      <th>2</th>\n",
       "      <td>em</td>\n",
       "      <td>alphen aan den rijn</td>\n",
       "      <td>haltern 67cam 184</td>\n",
       "      <td>43</td>\n",
       "      <td>240</td>\n",
       "      <td>1</td>\n",
       "    </tr>\n",
       "    <tr>\n",
       "      <th>3</th>\n",
       "      <td>em</td>\n",
       "      <td>alzey</td>\n",
       "      <td>dressel 24</td>\n",
       "      <td>1</td>\n",
       "      <td>400</td>\n",
       "      <td>2</td>\n",
       "    </tr>\n",
       "    <tr>\n",
       "      <th>4</th>\n",
       "      <td>em</td>\n",
       "      <td>anreppen</td>\n",
       "      <td>camulodunum 184rhodian</td>\n",
       "      <td>4</td>\n",
       "      <td>9</td>\n",
       "      <td>22</td>\n",
       "    </tr>\n",
       "  </tbody>\n",
       "</table>\n",
       "</div>"
      ],
      "text/plain": [
       "  origin_h1     site_name_modern               RAAD_form  site_start_date  \\\n",
       "0        em            aislingen  camulodunum 184rhodian               15   \n",
       "1        em  alphen aan den rijn  camulodunum 184rhodian               43   \n",
       "2        em  alphen aan den rijn       haltern 67cam 184               43   \n",
       "3        em                alzey              dressel 24                1   \n",
       "4        em             anreppen  camulodunum 184rhodian                4   \n",
       "\n",
       "   site_end_date  summed_freq  \n",
       "0             70            1  \n",
       "1            240            4  \n",
       "2            240            1  \n",
       "3            400            2  \n",
       "4              9           22  "
      ]
     },
     "execution_count": 12,
     "metadata": {},
     "output_type": "execute_result"
    }
   ],
   "source": [
    "df0 = data.groupby(['origin_h1', 'site_name_modern', 'RAAD_form', 'site_start_date', 'site_end_date'])['frequency'].sum()\n",
    "df0 = df0.reset_index()\n",
    "df0 = df0.rename(columns = {'frequency':'summed_freq'})\n",
    "df0.head()"
   ]
  },
  {
   "cell_type": "code",
   "execution_count": 13,
   "metadata": {},
   "outputs": [
    {
     "data": {
      "text/html": [
       "<div>\n",
       "<style scoped>\n",
       "    .dataframe tbody tr th:only-of-type {\n",
       "        vertical-align: middle;\n",
       "    }\n",
       "\n",
       "    .dataframe tbody tr th {\n",
       "        vertical-align: top;\n",
       "    }\n",
       "\n",
       "    .dataframe thead th {\n",
       "        text-align: right;\n",
       "    }\n",
       "</style>\n",
       "<table border=\"1\" class=\"dataframe\">\n",
       "  <thead>\n",
       "    <tr style=\"text-align: right;\">\n",
       "      <th></th>\n",
       "      <th>origin_h1</th>\n",
       "      <th>site_name_modern</th>\n",
       "      <th>RAAD_form</th>\n",
       "      <th>site_start_date</th>\n",
       "      <th>site_end_date</th>\n",
       "      <th>summed_freq</th>\n",
       "      <th>Sum_freq_per_year</th>\n",
       "    </tr>\n",
       "  </thead>\n",
       "  <tbody>\n",
       "    <tr>\n",
       "      <th>0</th>\n",
       "      <td>em</td>\n",
       "      <td>aislingen</td>\n",
       "      <td>camulodunum 184rhodian</td>\n",
       "      <td>15</td>\n",
       "      <td>70</td>\n",
       "      <td>1</td>\n",
       "      <td>0.018182</td>\n",
       "    </tr>\n",
       "    <tr>\n",
       "      <th>1</th>\n",
       "      <td>em</td>\n",
       "      <td>alphen aan den rijn</td>\n",
       "      <td>camulodunum 184rhodian</td>\n",
       "      <td>43</td>\n",
       "      <td>240</td>\n",
       "      <td>4</td>\n",
       "      <td>0.020305</td>\n",
       "    </tr>\n",
       "    <tr>\n",
       "      <th>2</th>\n",
       "      <td>em</td>\n",
       "      <td>alphen aan den rijn</td>\n",
       "      <td>haltern 67cam 184</td>\n",
       "      <td>43</td>\n",
       "      <td>240</td>\n",
       "      <td>1</td>\n",
       "      <td>0.005076</td>\n",
       "    </tr>\n",
       "    <tr>\n",
       "      <th>3</th>\n",
       "      <td>em</td>\n",
       "      <td>alzey</td>\n",
       "      <td>dressel 24</td>\n",
       "      <td>1</td>\n",
       "      <td>400</td>\n",
       "      <td>2</td>\n",
       "      <td>0.005013</td>\n",
       "    </tr>\n",
       "    <tr>\n",
       "      <th>4</th>\n",
       "      <td>em</td>\n",
       "      <td>anreppen</td>\n",
       "      <td>camulodunum 184rhodian</td>\n",
       "      <td>4</td>\n",
       "      <td>9</td>\n",
       "      <td>22</td>\n",
       "      <td>4.400000</td>\n",
       "    </tr>\n",
       "  </tbody>\n",
       "</table>\n",
       "</div>"
      ],
      "text/plain": [
       "  origin_h1     site_name_modern               RAAD_form  site_start_date  \\\n",
       "0        em            aislingen  camulodunum 184rhodian               15   \n",
       "1        em  alphen aan den rijn  camulodunum 184rhodian               43   \n",
       "2        em  alphen aan den rijn       haltern 67cam 184               43   \n",
       "3        em                alzey              dressel 24                1   \n",
       "4        em             anreppen  camulodunum 184rhodian                4   \n",
       "\n",
       "   site_end_date  summed_freq  Sum_freq_per_year  \n",
       "0             70            1           0.018182  \n",
       "1            240            4           0.020305  \n",
       "2            240            1           0.005076  \n",
       "3            400            2           0.005013  \n",
       "4              9           22           4.400000  "
      ]
     },
     "execution_count": 13,
     "metadata": {},
     "output_type": "execute_result"
    }
   ],
   "source": [
    "df1 = sum_freq_per_year(df0,\n",
    "                        sum_freq = 'summed_freq',\n",
    "                        lower_date = 'site_start_date',\n",
    "                        upper_date = 'site_end_date')\n",
    "\n",
    "df1.head()"
   ]
  },
  {
   "cell_type": "code",
   "execution_count": 15,
   "metadata": {},
   "outputs": [
    {
     "data": {
      "text/plain": [
       "Year\n",
       "-100    0.175000\n",
       "-99     0.175000\n",
       "-98     0.175000\n",
       "-97     0.175000\n",
       "-96     0.175000\n",
       "-95     0.175000\n",
       "-94     0.175000\n",
       "-93     0.175000\n",
       "-92     0.175000\n",
       "-91     0.175000\n",
       "-90     0.175000\n",
       "-89     0.175000\n",
       "-88     0.175000\n",
       "-87     0.175000\n",
       "-86     0.175000\n",
       "-85     0.175000\n",
       "-84     0.175000\n",
       "-83     0.175000\n",
       "-82     0.175000\n",
       "-81     0.175000\n",
       "-80     0.183333\n",
       "-79     0.183333\n",
       "-78     0.183333\n",
       "-77     0.183333\n",
       "-76     0.183333\n",
       "-75     0.183333\n",
       "-74     0.183333\n",
       "-73     0.183333\n",
       "-72     0.183333\n",
       "-71     0.183333\n",
       "-70     0.183333\n",
       "-69     0.183333\n",
       "-68     0.183333\n",
       "-67     0.183333\n",
       "-66     0.183333\n",
       "-65     0.183333\n",
       "-64     0.183333\n",
       "-63     0.183333\n",
       "-62     0.183333\n",
       "-61     0.183333\n",
       "-60     0.183333\n",
       "-59     0.183333\n",
       "-58     0.183333\n",
       "-57     0.183333\n",
       "-56     0.183333\n",
       "-55     0.183333\n",
       "-54     0.183333\n",
       "-53     0.183333\n",
       "-52     0.183333\n",
       "-51     0.183333\n",
       "Name: Frequency, dtype: float64"
      ]
     },
     "execution_count": 15,
     "metadata": {},
     "output_type": "execute_result"
    }
   ],
   "source": [
    "gaul = year_freq_df(df1[df1['origin_h1'] == 'gaul'], \n",
    "                    lower_date = 'site_start_date',\n",
    "                    upper_date = 'site_end_date',\n",
    "                    sum_freq = 'Sum_freq_per_year')\n",
    "gaul.head(50)"
   ]
  },
  {
   "cell_type": "code",
   "execution_count": 16,
   "metadata": {},
   "outputs": [
    {
     "data": {
      "text/plain": [
       "Year\n",
       "-100    0.095000\n",
       "-99     0.095000\n",
       "-98     0.095000\n",
       "-97     0.095000\n",
       "-96     0.095000\n",
       "-95     0.095000\n",
       "-94     0.095000\n",
       "-93     0.095000\n",
       "-92     0.095000\n",
       "-91     0.095000\n",
       "-90     0.095000\n",
       "-89     0.095000\n",
       "-88     0.095000\n",
       "-87     0.095000\n",
       "-86     0.095000\n",
       "-85     0.095000\n",
       "-84     0.095000\n",
       "-83     0.095000\n",
       "-82     0.095000\n",
       "-81     0.095000\n",
       "-80     0.103333\n",
       "-79     0.103333\n",
       "-78     0.103333\n",
       "-77     0.103333\n",
       "-76     0.103333\n",
       "-75     0.103333\n",
       "-74     0.103333\n",
       "-73     0.103333\n",
       "-72     0.103333\n",
       "-71     0.103333\n",
       "-70     0.103333\n",
       "-69     0.103333\n",
       "-68     0.103333\n",
       "-67     0.103333\n",
       "-66     0.103333\n",
       "-65     0.103333\n",
       "-64     0.103333\n",
       "-63     0.103333\n",
       "-62     0.103333\n",
       "-61     0.103333\n",
       "-60     0.103333\n",
       "-59     0.103333\n",
       "-58     0.103333\n",
       "-57     0.103333\n",
       "-56     0.103333\n",
       "-55     0.103333\n",
       "-54     0.103333\n",
       "-53     0.103333\n",
       "-52     0.103333\n",
       "-51     0.103333\n",
       "Name: Frequency, dtype: float64"
      ]
     },
     "execution_count": 16,
     "metadata": {},
     "output_type": "execute_result"
    }
   ],
   "source": [
    "em = year_freq_df(df1[df1['origin_h1'] == 'em'], \n",
    "                  lower_date = 'site_start_date',\n",
    "                  upper_date = 'site_end_date',\n",
    "                  sum_freq = 'Sum_freq_per_year')\n",
    "em.head(50)"
   ]
  },
  {
   "cell_type": "code",
   "execution_count": 17,
   "metadata": {},
   "outputs": [],
   "source": [
    "df_dictionary = {'EM': em, 'Gaul': gaul}"
   ]
  },
  {
   "cell_type": "code",
   "execution_count": 18,
   "metadata": {},
   "outputs": [
    {
     "name": "stderr",
     "output_type": "stream",
     "text": [
      "/home/kate/Documents/work/minerva/sonata/Sonata-Code/RAAD_data/../functions.py:478: UserWarning: FixedFormatter should only be used together with FixedLocator\n",
      "  ax.set_xticklabels([int(i) if i != 0 else 1 for i in ax.get_xticks()])\n"
     ]
    },
    {
     "data": {
      "image/png": "[encoded data removed]",
      "text/plain": [
       "<Figure size 1440x792 with 1 Axes>"
      ]
     },
     "metadata": {},
     "output_type": "display_data"
    }
   ],
   "source": [
    "plot_graph(dicts_of_df = df_dictionary,\n",
    "           ylabel = 'Frequency', \n",
    "           xlabel = 'Year',\n",
    "           title = 'Sum Frequency per Origin per Year in Site Date Range', \n",
    "           filename = 'Frequency_per_year.pdf',\n",
    "           save_path = './')"
   ]
  }
 ],
 "metadata": {
  "interpreter": {
   "hash": "d6805e15886aab53026236d0c7a2691c0f3a4936a9fa243a37c54dfd5efd3ad7"
  },
  "kernelspec": {
   "display_name": "Python 3.8.10 ('myproject-o7xzvy_i')",
   "language": "python",
   "name": "python3"
  },
  "language_info": {
   "codemirror_mode": {
    "name": "ipython",
    "version": 3
   },
   "file_extension": ".py",
   "mimetype": "text/x-python",
   "name": "python",
   "nbconvert_exporter": "python",
   "pygments_lexer": "ipython3",
   "version": "3.8.10"
  },
  "orig_nbformat": 4
 },
 "nbformat": 4,
 "nbformat_minor": 2
}
