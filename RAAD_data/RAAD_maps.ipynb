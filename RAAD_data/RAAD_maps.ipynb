{
 "cells": [
  {
   "cell_type": "markdown",
   "id": "edd77778-565e-42b4-80cb-094ef484e508",
   "metadata": {},
   "source": [
    "## The notebook for plotting values and locations of interest on an interective map\n",
    "\n",
    "The queries that can be answered using an adapted version of the following code include but are not limited to:\n",
    "* Plot as dots on a spatial map all *'Site'* locations which have a certain origin and are dated between certain years\n",
    "* Show the summed *'Frequency'* for this period as the size/colour of the dot;\n",
    "* Determine for each *'Year'* the *'Sites'* on which there is evidence of an *'RAAD form'* with a certain *'Origin'*;\n",
    "* Scale dot size/colour with the count of RAAD form at a *'Site'*."
   ]
  },
  {
   "cell_type": "markdown",
   "id": "9ba95322-259f-4936-b358-070f6924544f",
   "metadata": {},
   "source": [
    "### 1. Import packages\n",
    "**Note**: Rememeber to always import functions from `functions.py` file\n",
    "\n",
    "If the packages from the `requirements.txt` are **absent**, they can be installed via `!pip` command\n",
    "\n",
    "One needs to do it only once. Example of installation is given below. The lines are commented with `#` symbol \n",
    "\n",
    "Run the cell where the packages are imported'. If an error of type `'no module named... is found'` occurs:\n",
    "\n",
    "1.  delete `#` before the corresponding package name; \n",
    "2.  run the cell."
   ]
  },
  {
   "cell_type": "code",
   "execution_count": 3,
   "id": "a4c982af",
   "metadata": {},
   "outputs": [],
   "source": [
    "# ! pip install pandas\n",
    "# ! pip install seaborn\n",
    "# ! pip install matplotlib\n",
    "# ! pip install numpy\n",
    "# ! pip install regex\n",
    "#! pip install geopandas\n",
    "#! pip install kaleido\n",
    "#! pip install plotly\n",
    "#! pip install pyproj"
   ]
  },
  {
   "cell_type": "code",
   "execution_count": 1,
   "id": "4527db31-e6df-4499-a30a-bf7b3cefb4c4",
   "metadata": {
    "execution": {
     "iopub.execute_input": "2021-12-23T13:50:40.329000Z",
     "iopub.status.busy": "2021-12-23T13:50:40.328551Z",
     "iopub.status.idle": "2021-12-23T13:50:41.384937Z",
     "shell.execute_reply": "2021-12-23T13:50:41.384335Z",
     "shell.execute_reply.started": "2021-12-23T13:50:40.328964Z"
    },
    "tags": []
   },
   "outputs": [],
   "source": [
    "import pandas as pd\n",
    "import seaborn as sns\n",
    "import matplotlib.pyplot as plt\n",
    "import numpy as np\n",
    "from matplotlib import cm\n",
    "import regex as re\n",
    "import geopandas\n",
    "import kaleido\n",
    "import plotly\n",
    "import plotly.express as px\n",
    "import plotly.io as pio\n",
    "import pyproj\n",
    "sns.set()\n",
    "import sys\n",
    "sys.path.append(\"../src\")\n",
    "from functions import freq_per_year, propor_to_map_range    # module with all functions used for the task"
   ]
  },
  {
   "cell_type": "markdown",
   "id": "2c0c858c-0534-42e6-ac48-8efa4077f441",
   "metadata": {},
   "source": [
    "### 2. Load data into pandas dataframe\n",
    "With `usecols = []`  one specifies which columns from a csv file to load (optional)"
   ]
  },
  {
   "cell_type": "code",
   "execution_count": 3,
   "id": "7430e85c-28be-413a-9be7-3c48385495d2",
   "metadata": {
    "execution": {
     "iopub.execute_input": "2021-12-23T13:50:44.493728Z",
     "iopub.status.busy": "2021-12-23T13:50:44.493367Z",
     "iopub.status.idle": "2021-12-23T13:50:44.558831Z",
     "shell.execute_reply": "2021-12-23T13:50:44.557843Z",
     "shell.execute_reply.started": "2021-12-23T13:50:44.493710Z"
    },
    "tags": []
   },
   "outputs": [
    {
     "data": {
      "text/html": [
       "<div>\n",
       "<style scoped>\n",
       "    .dataframe tbody tr th:only-of-type {\n",
       "        vertical-align: middle;\n",
       "    }\n",
       "\n",
       "    .dataframe tbody tr th {\n",
       "        vertical-align: top;\n",
       "    }\n",
       "\n",
       "    .dataframe thead th {\n",
       "        text-align: right;\n",
       "    }\n",
       "</style>\n",
       "<table border=\"1\" class=\"dataframe\">\n",
       "  <thead>\n",
       "    <tr style=\"text-align: right;\">\n",
       "      <th></th>\n",
       "      <th>RAAD_form</th>\n",
       "      <th>origin</th>\n",
       "      <th>frequency</th>\n",
       "      <th>origin_h1</th>\n",
       "      <th>origin_h2</th>\n",
       "      <th>raad_type_start_date</th>\n",
       "      <th>raad_type_end_date</th>\n",
       "      <th>site_name_modern</th>\n",
       "      <th>lat</th>\n",
       "      <th>long</th>\n",
       "    </tr>\n",
       "  </thead>\n",
       "  <tbody>\n",
       "    <tr>\n",
       "      <th>0</th>\n",
       "      <td>augst 48</td>\n",
       "      <td>em</td>\n",
       "      <td>1</td>\n",
       "      <td>em</td>\n",
       "      <td>NaN</td>\n",
       "      <td>NaN</td>\n",
       "      <td>NaN</td>\n",
       "      <td>augst</td>\n",
       "      <td>47.533512</td>\n",
       "      <td>7.71628</td>\n",
       "    </tr>\n",
       "    <tr>\n",
       "      <th>1</th>\n",
       "      <td>augst 49</td>\n",
       "      <td>em</td>\n",
       "      <td>1</td>\n",
       "      <td>em</td>\n",
       "      <td>NaN</td>\n",
       "      <td>1.0</td>\n",
       "      <td>100.0</td>\n",
       "      <td>augst</td>\n",
       "      <td>47.533512</td>\n",
       "      <td>7.71628</td>\n",
       "    </tr>\n",
       "    <tr>\n",
       "      <th>2</th>\n",
       "      <td>augst 55 agora f6566</td>\n",
       "      <td>em</td>\n",
       "      <td>12</td>\n",
       "      <td>em</td>\n",
       "      <td>NaN</td>\n",
       "      <td>-50.0</td>\n",
       "      <td>400.0</td>\n",
       "      <td>augst</td>\n",
       "      <td>47.533512</td>\n",
       "      <td>7.71628</td>\n",
       "    </tr>\n",
       "    <tr>\n",
       "      <th>3</th>\n",
       "      <td>augst 56</td>\n",
       "      <td>em</td>\n",
       "      <td>2</td>\n",
       "      <td>em</td>\n",
       "      <td>NaN</td>\n",
       "      <td>300.0</td>\n",
       "      <td>450.0</td>\n",
       "      <td>augst</td>\n",
       "      <td>47.533512</td>\n",
       "      <td>7.71628</td>\n",
       "    </tr>\n",
       "    <tr>\n",
       "      <th>4</th>\n",
       "      <td>augst 57</td>\n",
       "      <td>em</td>\n",
       "      <td>1</td>\n",
       "      <td>em</td>\n",
       "      <td>NaN</td>\n",
       "      <td>400.0</td>\n",
       "      <td>500.0</td>\n",
       "      <td>augst</td>\n",
       "      <td>47.533512</td>\n",
       "      <td>7.71628</td>\n",
       "    </tr>\n",
       "  </tbody>\n",
       "</table>\n",
       "</div>"
      ],
      "text/plain": [
       "              RAAD_form origin  frequency origin_h1 origin_h2  \\\n",
       "0              augst 48     em          1        em       NaN   \n",
       "1              augst 49     em          1        em       NaN   \n",
       "2  augst 55 agora f6566     em         12        em       NaN   \n",
       "3              augst 56     em          2        em       NaN   \n",
       "4              augst 57     em          1        em       NaN   \n",
       "\n",
       "   raad_type_start_date  raad_type_end_date site_name_modern        lat  \\\n",
       "0                   NaN                 NaN            augst  47.533512   \n",
       "1                   1.0               100.0            augst  47.533512   \n",
       "2                 -50.0               400.0            augst  47.533512   \n",
       "3                 300.0               450.0            augst  47.533512   \n",
       "4                 400.0               500.0            augst  47.533512   \n",
       "\n",
       "      long  \n",
       "0  7.71628  \n",
       "1  7.71628  \n",
       "2  7.71628  \n",
       "3  7.71628  \n",
       "4  7.71628  "
      ]
     },
     "execution_count": 3,
     "metadata": {},
     "output_type": "execute_result"
    }
   ],
   "source": [
    "df = pd.read_csv('RAAD_data_restructured.csv', usecols=[\n",
    "                                                  'RAAD_form','long', 'lat', 'origin', \n",
    "                                                  'origin_h1', 'origin_h2', 'raad_type_start_date', \n",
    "                                                  'raad_type_end_date', 'site_name_modern', 'frequency'\n",
    "                                                  ])\n",
    "df.head()"
   ]
  },
  {
   "cell_type": "markdown",
   "id": "c9c0a4bf-0218-48e1-9ffe-1f23e62e3ae0",
   "metadata": {},
   "source": [
    "### 3. Prepare data"
   ]
  },
  {
   "cell_type": "markdown",
   "id": "238c730d-06f2-439a-818c-8d74789618bc",
   "metadata": {},
   "source": [
    "#### 3.1 Check in which columns numeric values are of an object type\n",
    "#### 3.2 If found, convert objects into numeric values (float) \n",
    "This is essential for performing math operations with these variables"
   ]
  },
  {
   "cell_type": "code",
   "execution_count": 10,
   "id": "e6e71937-a038-4d07-befb-cc5084337129",
   "metadata": {
    "execution": {
     "iopub.execute_input": "2021-12-23T13:50:45.821355Z",
     "iopub.status.busy": "2021-12-23T13:50:45.820887Z",
     "iopub.status.idle": "2021-12-23T13:50:45.838282Z",
     "shell.execute_reply": "2021-12-23T13:50:45.837823Z",
     "shell.execute_reply.started": "2021-12-23T13:50:45.821321Z"
    },
    "tags": []
   },
   "outputs": [
    {
     "name": "stdout",
     "output_type": "stream",
     "text": [
      "<class 'pandas.core.frame.DataFrame'>\n",
      "RangeIndex: 1357 entries, 0 to 1356\n",
      "Data columns (total 8 columns):\n",
      " #   Column                Non-Null Count  Dtype  \n",
      "---  ------                --------------  -----  \n",
      " 0   RAAD_form             1357 non-null   object \n",
      " 1   origin                1357 non-null   object \n",
      " 2   origin_h1             1357 non-null   object \n",
      " 3   origin_h2             915 non-null    object \n",
      " 4   raad_type_start_date  1157 non-null   float64\n",
      " 5   raad_type_end_date    1157 non-null   float64\n",
      " 6   lat                   1357 non-null   float64\n",
      " 7   long                  1357 non-null   float64\n",
      "dtypes: float64(4), object(4)\n",
      "memory usage: 84.9+ KB\n"
     ]
    }
   ],
   "source": [
    "df.info()"
   ]
  },
  {
   "cell_type": "code",
   "execution_count": 4,
   "id": "87789971-d505-4510-92d4-2a86603a5e99",
   "metadata": {
    "execution": {
     "iopub.execute_input": "2021-12-23T13:50:46.368734Z",
     "iopub.status.busy": "2021-12-23T13:50:46.368172Z",
     "iopub.status.idle": "2021-12-23T13:50:46.383479Z",
     "shell.execute_reply": "2021-12-23T13:50:46.382830Z",
     "shell.execute_reply.started": "2021-12-23T13:50:46.368693Z"
    },
    "tags": []
   },
   "outputs": [],
   "source": [
    "# Invalid parsing will be set as NaN\n",
    "df['raad_type_end_date'] = pd.to_numeric(df['raad_type_end_date'], errors='coerce') \n",
    "df['raad_type_start_date'] = pd.to_numeric(df['raad_type_start_date'], errors='coerce') \n",
    "df['long'] = pd.to_numeric(df['long'], errors='coerce')"
   ]
  },
  {
   "cell_type": "markdown",
   "id": "cf5c430e-cc48-414d-ba6d-104d74b2a3c7",
   "metadata": {},
   "source": [
    "#### 3.3 Clean text data (from punctuation, double spaces) and lowercase\n",
    "This is done in order to avoid inconsistency in object names, etc. Thus, to avoid errors while counting. For the RAAD data this was already done in the `preparing_dataframe.ipynb`. See  `Sonata_data/sonata_maps.ipynb` for an example of how this is done. "
   ]
  },
  {
   "cell_type": "markdown",
   "id": "62931aa8-54db-4e75-a68d-1fd219338f99",
   "metadata": {},
   "source": [
    "### 4. Create the dataframe which inlcudes *'Sites'* only for a certain *'Origin'*"
   ]
  },
  {
   "cell_type": "code",
   "execution_count": 5,
   "id": "ca69b184-5522-4229-a16d-860457e21dc6",
   "metadata": {
    "execution": {
     "iopub.execute_input": "2021-12-23T13:50:50.033969Z",
     "iopub.status.busy": "2021-12-23T13:50:50.033585Z",
     "iopub.status.idle": "2021-12-23T13:50:50.057970Z",
     "shell.execute_reply": "2021-12-23T13:50:50.057552Z",
     "shell.execute_reply.started": "2021-12-23T13:50:50.033943Z"
    },
    "tags": []
   },
   "outputs": [
    {
     "data": {
      "text/html": [
       "<div>\n",
       "<style scoped>\n",
       "    .dataframe tbody tr th:only-of-type {\n",
       "        vertical-align: middle;\n",
       "    }\n",
       "\n",
       "    .dataframe tbody tr th {\n",
       "        vertical-align: top;\n",
       "    }\n",
       "\n",
       "    .dataframe thead th {\n",
       "        text-align: right;\n",
       "    }\n",
       "</style>\n",
       "<table border=\"1\" class=\"dataframe\">\n",
       "  <thead>\n",
       "    <tr style=\"text-align: right;\">\n",
       "      <th></th>\n",
       "      <th>RAAD_form</th>\n",
       "      <th>origin</th>\n",
       "      <th>frequency</th>\n",
       "      <th>origin_h1</th>\n",
       "      <th>origin_h2</th>\n",
       "      <th>raad_type_start_date</th>\n",
       "      <th>raad_type_end_date</th>\n",
       "      <th>site_name_modern</th>\n",
       "      <th>lat</th>\n",
       "      <th>long</th>\n",
       "    </tr>\n",
       "  </thead>\n",
       "  <tbody>\n",
       "    <tr>\n",
       "      <th>0</th>\n",
       "      <td>augst 48</td>\n",
       "      <td>em</td>\n",
       "      <td>1</td>\n",
       "      <td>em</td>\n",
       "      <td>NaN</td>\n",
       "      <td>NaN</td>\n",
       "      <td>NaN</td>\n",
       "      <td>augst</td>\n",
       "      <td>47.533512</td>\n",
       "      <td>7.71628</td>\n",
       "    </tr>\n",
       "    <tr>\n",
       "      <th>1</th>\n",
       "      <td>augst 49</td>\n",
       "      <td>em</td>\n",
       "      <td>1</td>\n",
       "      <td>em</td>\n",
       "      <td>NaN</td>\n",
       "      <td>1.0</td>\n",
       "      <td>100.0</td>\n",
       "      <td>augst</td>\n",
       "      <td>47.533512</td>\n",
       "      <td>7.71628</td>\n",
       "    </tr>\n",
       "    <tr>\n",
       "      <th>2</th>\n",
       "      <td>augst 55 agora f6566</td>\n",
       "      <td>em</td>\n",
       "      <td>12</td>\n",
       "      <td>em</td>\n",
       "      <td>NaN</td>\n",
       "      <td>-50.0</td>\n",
       "      <td>400.0</td>\n",
       "      <td>augst</td>\n",
       "      <td>47.533512</td>\n",
       "      <td>7.71628</td>\n",
       "    </tr>\n",
       "    <tr>\n",
       "      <th>3</th>\n",
       "      <td>augst 56</td>\n",
       "      <td>em</td>\n",
       "      <td>2</td>\n",
       "      <td>em</td>\n",
       "      <td>NaN</td>\n",
       "      <td>300.0</td>\n",
       "      <td>450.0</td>\n",
       "      <td>augst</td>\n",
       "      <td>47.533512</td>\n",
       "      <td>7.71628</td>\n",
       "    </tr>\n",
       "    <tr>\n",
       "      <th>4</th>\n",
       "      <td>augst 57</td>\n",
       "      <td>em</td>\n",
       "      <td>1</td>\n",
       "      <td>em</td>\n",
       "      <td>NaN</td>\n",
       "      <td>400.0</td>\n",
       "      <td>500.0</td>\n",
       "      <td>augst</td>\n",
       "      <td>47.533512</td>\n",
       "      <td>7.71628</td>\n",
       "    </tr>\n",
       "  </tbody>\n",
       "</table>\n",
       "</div>"
      ],
      "text/plain": [
       "              RAAD_form origin  frequency origin_h1 origin_h2  \\\n",
       "0              augst 48     em          1        em       NaN   \n",
       "1              augst 49     em          1        em       NaN   \n",
       "2  augst 55 agora f6566     em         12        em       NaN   \n",
       "3              augst 56     em          2        em       NaN   \n",
       "4              augst 57     em          1        em       NaN   \n",
       "\n",
       "   raad_type_start_date  raad_type_end_date site_name_modern        lat  \\\n",
       "0                   NaN                 NaN            augst  47.533512   \n",
       "1                   1.0               100.0            augst  47.533512   \n",
       "2                 -50.0               400.0            augst  47.533512   \n",
       "3                 300.0               450.0            augst  47.533512   \n",
       "4                 400.0               500.0            augst  47.533512   \n",
       "\n",
       "      long  \n",
       "0  7.71628  \n",
       "1  7.71628  \n",
       "2  7.71628  \n",
       "3  7.71628  \n",
       "4  7.71628  "
      ]
     },
     "execution_count": 5,
     "metadata": {},
     "output_type": "execute_result"
    }
   ],
   "source": [
    "em = df[df['origin_h1'] == 'em']\n",
    "em.head()"
   ]
  },
  {
   "cell_type": "markdown",
   "id": "11bc7b81-f980-43ba-8516-4441dc14c14e",
   "metadata": {
    "execution": {
     "iopub.execute_input": "2021-12-13T08:30:47.792170Z",
     "iopub.status.busy": "2021-12-13T08:30:47.791710Z",
     "iopub.status.idle": "2021-12-13T08:30:47.901038Z",
     "shell.execute_reply": "2021-12-13T08:30:47.899720Z",
     "shell.execute_reply.started": "2021-12-13T08:30:47.792122Z"
    },
    "tags": []
   },
   "source": [
    "### 5. Calculate *'Frequency'* per *'Year'* per *'Amphora type'*. Add the resulting values to the dataframe"
   ]
  },
  {
   "cell_type": "code",
   "execution_count": 6,
   "id": "d5bc1a72-96e5-43c7-bbcd-27ca153edc44",
   "metadata": {
    "execution": {
     "iopub.execute_input": "2021-12-23T13:50:51.317233Z",
     "iopub.status.busy": "2021-12-23T13:50:51.316799Z",
     "iopub.status.idle": "2021-12-23T13:50:51.462475Z",
     "shell.execute_reply": "2021-12-23T13:50:51.461877Z",
     "shell.execute_reply.started": "2021-12-23T13:50:51.317200Z"
    },
    "tags": []
   },
   "outputs": [
    {
     "name": "stderr",
     "output_type": "stream",
     "text": [
      "/home/kate/Documents/work/minerva/sonata/Sonata-Code/RAAD_data/../functions.py:77: SettingWithCopyWarning: \n",
      "A value is trying to be set on a copy of a slice from a DataFrame.\n",
      "Try using .loc[row_indexer,col_indexer] = value instead\n",
      "\n",
      "See the caveats in the documentation: https://pandas.pydata.org/pandas-docs/stable/user_guide/indexing.html#returning-a-view-versus-a-copy\n",
      "  data[freq_per_year] = data[freq] / (data[upper_date] - data[lower_date])\n"
     ]
    },
    {
     "data": {
      "text/html": [
       "<div>\n",
       "<style scoped>\n",
       "    .dataframe tbody tr th:only-of-type {\n",
       "        vertical-align: middle;\n",
       "    }\n",
       "\n",
       "    .dataframe tbody tr th {\n",
       "        vertical-align: top;\n",
       "    }\n",
       "\n",
       "    .dataframe thead th {\n",
       "        text-align: right;\n",
       "    }\n",
       "</style>\n",
       "<table border=\"1\" class=\"dataframe\">\n",
       "  <thead>\n",
       "    <tr style=\"text-align: right;\">\n",
       "      <th></th>\n",
       "      <th>RAAD_form</th>\n",
       "      <th>origin</th>\n",
       "      <th>frequency</th>\n",
       "      <th>origin_h1</th>\n",
       "      <th>origin_h2</th>\n",
       "      <th>raad_type_start_date</th>\n",
       "      <th>raad_type_end_date</th>\n",
       "      <th>site_name_modern</th>\n",
       "      <th>lat</th>\n",
       "      <th>long</th>\n",
       "      <th>Freq_per_year</th>\n",
       "    </tr>\n",
       "  </thead>\n",
       "  <tbody>\n",
       "    <tr>\n",
       "      <th>0</th>\n",
       "      <td>augst 48</td>\n",
       "      <td>em</td>\n",
       "      <td>1</td>\n",
       "      <td>em</td>\n",
       "      <td>NaN</td>\n",
       "      <td>NaN</td>\n",
       "      <td>NaN</td>\n",
       "      <td>augst</td>\n",
       "      <td>47.533512</td>\n",
       "      <td>7.71628</td>\n",
       "      <td>NaN</td>\n",
       "    </tr>\n",
       "    <tr>\n",
       "      <th>1</th>\n",
       "      <td>augst 49</td>\n",
       "      <td>em</td>\n",
       "      <td>1</td>\n",
       "      <td>em</td>\n",
       "      <td>NaN</td>\n",
       "      <td>1.0</td>\n",
       "      <td>100.0</td>\n",
       "      <td>augst</td>\n",
       "      <td>47.533512</td>\n",
       "      <td>7.71628</td>\n",
       "      <td>0.010101</td>\n",
       "    </tr>\n",
       "    <tr>\n",
       "      <th>2</th>\n",
       "      <td>augst 55 agora f6566</td>\n",
       "      <td>em</td>\n",
       "      <td>12</td>\n",
       "      <td>em</td>\n",
       "      <td>NaN</td>\n",
       "      <td>-50.0</td>\n",
       "      <td>400.0</td>\n",
       "      <td>augst</td>\n",
       "      <td>47.533512</td>\n",
       "      <td>7.71628</td>\n",
       "      <td>0.026667</td>\n",
       "    </tr>\n",
       "    <tr>\n",
       "      <th>3</th>\n",
       "      <td>augst 56</td>\n",
       "      <td>em</td>\n",
       "      <td>2</td>\n",
       "      <td>em</td>\n",
       "      <td>NaN</td>\n",
       "      <td>300.0</td>\n",
       "      <td>450.0</td>\n",
       "      <td>augst</td>\n",
       "      <td>47.533512</td>\n",
       "      <td>7.71628</td>\n",
       "      <td>0.013333</td>\n",
       "    </tr>\n",
       "    <tr>\n",
       "      <th>4</th>\n",
       "      <td>augst 57</td>\n",
       "      <td>em</td>\n",
       "      <td>1</td>\n",
       "      <td>em</td>\n",
       "      <td>NaN</td>\n",
       "      <td>400.0</td>\n",
       "      <td>500.0</td>\n",
       "      <td>augst</td>\n",
       "      <td>47.533512</td>\n",
       "      <td>7.71628</td>\n",
       "      <td>0.010000</td>\n",
       "    </tr>\n",
       "  </tbody>\n",
       "</table>\n",
       "</div>"
      ],
      "text/plain": [
       "              RAAD_form origin  frequency origin_h1 origin_h2  \\\n",
       "0              augst 48     em          1        em       NaN   \n",
       "1              augst 49     em          1        em       NaN   \n",
       "2  augst 55 agora f6566     em         12        em       NaN   \n",
       "3              augst 56     em          2        em       NaN   \n",
       "4              augst 57     em          1        em       NaN   \n",
       "\n",
       "   raad_type_start_date  raad_type_end_date site_name_modern        lat  \\\n",
       "0                   NaN                 NaN            augst  47.533512   \n",
       "1                   1.0               100.0            augst  47.533512   \n",
       "2                 -50.0               400.0            augst  47.533512   \n",
       "3                 300.0               450.0            augst  47.533512   \n",
       "4                 400.0               500.0            augst  47.533512   \n",
       "\n",
       "      long  Freq_per_year  \n",
       "0  7.71628            NaN  \n",
       "1  7.71628       0.010101  \n",
       "2  7.71628       0.026667  \n",
       "3  7.71628       0.013333  \n",
       "4  7.71628       0.010000  "
      ]
     },
     "execution_count": 6,
     "metadata": {},
     "output_type": "execute_result"
    }
   ],
   "source": [
    "em = freq_per_year(data = em,\n",
    "                   lower_date = 'raad_type_start_date',\n",
    "                   upper_date = 'raad_type_end_date',\n",
    "                   freq = 'frequency')\n",
    "\n",
    "em.head()"
   ]
  },
  {
   "cell_type": "markdown",
   "id": "2274f722",
   "metadata": {},
   "source": [
    "### 6. Calculate the proportion of '*Frequency*' to a given map period and add the results to the dataframe"
   ]
  },
  {
   "cell_type": "code",
   "execution_count": 7,
   "id": "ddebac8c-f0a8-4cb4-9927-c59512bf14df",
   "metadata": {
    "execution": {
     "iopub.execute_input": "2021-12-23T13:51:00.306686Z",
     "iopub.status.busy": "2021-12-23T13:51:00.306172Z",
     "iopub.status.idle": "2021-12-23T13:51:00.367899Z",
     "shell.execute_reply": "2021-12-23T13:51:00.366617Z",
     "shell.execute_reply.started": "2021-12-23T13:51:00.306645Z"
    },
    "tags": []
   },
   "outputs": [
    {
     "name": "stderr",
     "output_type": "stream",
     "text": [
      "/home/kate/Documents/work/minerva/sonata/Sonata-Code/RAAD_data/../functions.py:274: SettingWithCopyWarning: \n",
      "A value is trying to be set on a copy of a slice from a DataFrame.\n",
      "Try using .loc[row_indexer,col_indexer] = value instead\n",
      "\n",
      "See the caveats in the documentation: https://pandas.pydata.org/pandas-docs/stable/user_guide/indexing.html#returning-a-view-versus-a-copy\n",
      "  data[proportion] = 0\n",
      "/home/kate/Documents/work/minerva/sonata/Sonata-Code/RAAD_data/../functions.py:283: SettingWithCopyWarning: \n",
      "A value is trying to be set on a copy of a slice from a DataFrame\n",
      "\n",
      "See the caveats in the documentation: https://pandas.pydata.org/pandas-docs/stable/user_guide/indexing.html#returning-a-view-versus-a-copy\n",
      "  data[proportion].iloc[row] = data[freq_per_year].iloc[row] * date_range\n"
     ]
    },
    {
     "data": {
      "text/html": [
       "<div>\n",
       "<style scoped>\n",
       "    .dataframe tbody tr th:only-of-type {\n",
       "        vertical-align: middle;\n",
       "    }\n",
       "\n",
       "    .dataframe tbody tr th {\n",
       "        vertical-align: top;\n",
       "    }\n",
       "\n",
       "    .dataframe thead th {\n",
       "        text-align: right;\n",
       "    }\n",
       "</style>\n",
       "<table border=\"1\" class=\"dataframe\">\n",
       "  <thead>\n",
       "    <tr style=\"text-align: right;\">\n",
       "      <th></th>\n",
       "      <th>RAAD_form</th>\n",
       "      <th>origin</th>\n",
       "      <th>frequency</th>\n",
       "      <th>origin_h1</th>\n",
       "      <th>origin_h2</th>\n",
       "      <th>raad_type_start_date</th>\n",
       "      <th>raad_type_end_date</th>\n",
       "      <th>site_name_modern</th>\n",
       "      <th>lat</th>\n",
       "      <th>long</th>\n",
       "      <th>Freq_per_year</th>\n",
       "      <th>Proportion</th>\n",
       "    </tr>\n",
       "  </thead>\n",
       "  <tbody>\n",
       "    <tr>\n",
       "      <th>0</th>\n",
       "      <td>augst 48</td>\n",
       "      <td>em</td>\n",
       "      <td>1</td>\n",
       "      <td>em</td>\n",
       "      <td>NaN</td>\n",
       "      <td>NaN</td>\n",
       "      <td>NaN</td>\n",
       "      <td>augst</td>\n",
       "      <td>47.533512</td>\n",
       "      <td>7.71628</td>\n",
       "      <td>NaN</td>\n",
       "      <td>NaN</td>\n",
       "    </tr>\n",
       "    <tr>\n",
       "      <th>1</th>\n",
       "      <td>augst 49</td>\n",
       "      <td>em</td>\n",
       "      <td>1</td>\n",
       "      <td>em</td>\n",
       "      <td>NaN</td>\n",
       "      <td>1.0</td>\n",
       "      <td>100.0</td>\n",
       "      <td>augst</td>\n",
       "      <td>47.533512</td>\n",
       "      <td>7.71628</td>\n",
       "      <td>0.010101</td>\n",
       "      <td>1.0</td>\n",
       "    </tr>\n",
       "    <tr>\n",
       "      <th>2</th>\n",
       "      <td>augst 55 agora f6566</td>\n",
       "      <td>em</td>\n",
       "      <td>12</td>\n",
       "      <td>em</td>\n",
       "      <td>NaN</td>\n",
       "      <td>-50.0</td>\n",
       "      <td>400.0</td>\n",
       "      <td>augst</td>\n",
       "      <td>47.533512</td>\n",
       "      <td>7.71628</td>\n",
       "      <td>0.026667</td>\n",
       "      <td>8.0</td>\n",
       "    </tr>\n",
       "    <tr>\n",
       "      <th>3</th>\n",
       "      <td>augst 56</td>\n",
       "      <td>em</td>\n",
       "      <td>2</td>\n",
       "      <td>em</td>\n",
       "      <td>NaN</td>\n",
       "      <td>300.0</td>\n",
       "      <td>450.0</td>\n",
       "      <td>augst</td>\n",
       "      <td>47.533512</td>\n",
       "      <td>7.71628</td>\n",
       "      <td>0.013333</td>\n",
       "      <td>0.0</td>\n",
       "    </tr>\n",
       "    <tr>\n",
       "      <th>4</th>\n",
       "      <td>augst 57</td>\n",
       "      <td>em</td>\n",
       "      <td>1</td>\n",
       "      <td>em</td>\n",
       "      <td>NaN</td>\n",
       "      <td>400.0</td>\n",
       "      <td>500.0</td>\n",
       "      <td>augst</td>\n",
       "      <td>47.533512</td>\n",
       "      <td>7.71628</td>\n",
       "      <td>0.010000</td>\n",
       "      <td>0.0</td>\n",
       "    </tr>\n",
       "  </tbody>\n",
       "</table>\n",
       "</div>"
      ],
      "text/plain": [
       "              RAAD_form origin  frequency origin_h1 origin_h2  \\\n",
       "0              augst 48     em          1        em       NaN   \n",
       "1              augst 49     em          1        em       NaN   \n",
       "2  augst 55 agora f6566     em         12        em       NaN   \n",
       "3              augst 56     em          2        em       NaN   \n",
       "4              augst 57     em          1        em       NaN   \n",
       "\n",
       "   raad_type_start_date  raad_type_end_date site_name_modern        lat  \\\n",
       "0                   NaN                 NaN            augst  47.533512   \n",
       "1                   1.0               100.0            augst  47.533512   \n",
       "2                 -50.0               400.0            augst  47.533512   \n",
       "3                 300.0               450.0            augst  47.533512   \n",
       "4                 400.0               500.0            augst  47.533512   \n",
       "\n",
       "      long  Freq_per_year  Proportion  \n",
       "0  7.71628            NaN         NaN  \n",
       "1  7.71628       0.010101         1.0  \n",
       "2  7.71628       0.026667         8.0  \n",
       "3  7.71628       0.013333         0.0  \n",
       "4  7.71628       0.010000         0.0  "
      ]
     },
     "execution_count": 7,
     "metadata": {},
     "output_type": "execute_result"
    }
   ],
   "source": [
    "em = propor_to_map_range(data = em, \n",
    "                         map_lower_date = 0, \n",
    "                         map_upper_date = 300,\n",
    "                         object_lower_date = 'raad_type_start_date',          \n",
    "                         object_upper_date = 'raad_type_end_date',\n",
    "                         freq_per_year = 'Freq_per_year')\n",
    "\n",
    "em.head()"
   ]
  },
  {
   "cell_type": "markdown",
   "id": "da0b5346-537b-4e67-bf85-9206757bebfd",
   "metadata": {},
   "source": [
    "### 7. Create the datarfame containing only *'Sites'* with *'RAAD_form'* which fall within the map range (if proportion == 0, do not include)"
   ]
  },
  {
   "cell_type": "code",
   "execution_count": 8,
   "id": "3d6718b8-61f7-4061-ad08-8f311adb77ac",
   "metadata": {
    "execution": {
     "iopub.execute_input": "2021-12-20T09:38:27.073495Z",
     "iopub.status.busy": "2021-12-20T09:38:27.072838Z",
     "iopub.status.idle": "2021-12-20T09:38:27.104105Z",
     "shell.execute_reply": "2021-12-20T09:38:27.103583Z",
     "shell.execute_reply.started": "2021-12-20T09:38:27.073443Z"
    },
    "tags": []
   },
   "outputs": [
    {
     "data": {
      "text/html": [
       "<div>\n",
       "<style scoped>\n",
       "    .dataframe tbody tr th:only-of-type {\n",
       "        vertical-align: middle;\n",
       "    }\n",
       "\n",
       "    .dataframe tbody tr th {\n",
       "        vertical-align: top;\n",
       "    }\n",
       "\n",
       "    .dataframe thead th {\n",
       "        text-align: right;\n",
       "    }\n",
       "</style>\n",
       "<table border=\"1\" class=\"dataframe\">\n",
       "  <thead>\n",
       "    <tr style=\"text-align: right;\">\n",
       "      <th></th>\n",
       "      <th>RAAD_form</th>\n",
       "      <th>origin</th>\n",
       "      <th>frequency</th>\n",
       "      <th>origin_h1</th>\n",
       "      <th>origin_h2</th>\n",
       "      <th>raad_type_start_date</th>\n",
       "      <th>raad_type_end_date</th>\n",
       "      <th>site_name_modern</th>\n",
       "      <th>lat</th>\n",
       "      <th>long</th>\n",
       "      <th>Freq_per_year</th>\n",
       "      <th>Proportion</th>\n",
       "    </tr>\n",
       "  </thead>\n",
       "  <tbody>\n",
       "    <tr>\n",
       "      <th>1</th>\n",
       "      <td>augst 49</td>\n",
       "      <td>em</td>\n",
       "      <td>1</td>\n",
       "      <td>em</td>\n",
       "      <td>NaN</td>\n",
       "      <td>1.0</td>\n",
       "      <td>100.0</td>\n",
       "      <td>augst</td>\n",
       "      <td>47.533512</td>\n",
       "      <td>7.71628</td>\n",
       "      <td>0.010101</td>\n",
       "      <td>1.000000</td>\n",
       "    </tr>\n",
       "    <tr>\n",
       "      <th>2</th>\n",
       "      <td>augst 55 agora f6566</td>\n",
       "      <td>em</td>\n",
       "      <td>12</td>\n",
       "      <td>em</td>\n",
       "      <td>NaN</td>\n",
       "      <td>-50.0</td>\n",
       "      <td>400.0</td>\n",
       "      <td>augst</td>\n",
       "      <td>47.533512</td>\n",
       "      <td>7.71628</td>\n",
       "      <td>0.026667</td>\n",
       "      <td>8.000000</td>\n",
       "    </tr>\n",
       "    <tr>\n",
       "      <th>6</th>\n",
       "      <td>dressel 24</td>\n",
       "      <td>em</td>\n",
       "      <td>100</td>\n",
       "      <td>em</td>\n",
       "      <td>NaN</td>\n",
       "      <td>-100.0</td>\n",
       "      <td>200.0</td>\n",
       "      <td>augst</td>\n",
       "      <td>47.533512</td>\n",
       "      <td>7.71628</td>\n",
       "      <td>0.333333</td>\n",
       "      <td>66.666667</td>\n",
       "    </tr>\n",
       "    <tr>\n",
       "      <th>7</th>\n",
       "      <td>kapitan 1</td>\n",
       "      <td>em</td>\n",
       "      <td>7</td>\n",
       "      <td>em</td>\n",
       "      <td>NaN</td>\n",
       "      <td>75.0</td>\n",
       "      <td>200.0</td>\n",
       "      <td>augst</td>\n",
       "      <td>47.533512</td>\n",
       "      <td>7.71628</td>\n",
       "      <td>0.056000</td>\n",
       "      <td>7.000000</td>\n",
       "    </tr>\n",
       "    <tr>\n",
       "      <th>8</th>\n",
       "      <td>kapitan 2</td>\n",
       "      <td>em</td>\n",
       "      <td>1</td>\n",
       "      <td>em</td>\n",
       "      <td>NaN</td>\n",
       "      <td>200.0</td>\n",
       "      <td>400.0</td>\n",
       "      <td>augst</td>\n",
       "      <td>47.533512</td>\n",
       "      <td>7.71628</td>\n",
       "      <td>0.005000</td>\n",
       "      <td>0.500000</td>\n",
       "    </tr>\n",
       "  </tbody>\n",
       "</table>\n",
       "</div>"
      ],
      "text/plain": [
       "              RAAD_form origin  frequency origin_h1 origin_h2  \\\n",
       "1              augst 49     em          1        em       NaN   \n",
       "2  augst 55 agora f6566     em         12        em       NaN   \n",
       "6            dressel 24     em        100        em       NaN   \n",
       "7             kapitan 1     em          7        em       NaN   \n",
       "8             kapitan 2     em          1        em       NaN   \n",
       "\n",
       "   raad_type_start_date  raad_type_end_date site_name_modern        lat  \\\n",
       "1                   1.0               100.0            augst  47.533512   \n",
       "2                 -50.0               400.0            augst  47.533512   \n",
       "6                -100.0               200.0            augst  47.533512   \n",
       "7                  75.0               200.0            augst  47.533512   \n",
       "8                 200.0               400.0            augst  47.533512   \n",
       "\n",
       "      long  Freq_per_year  Proportion  \n",
       "1  7.71628       0.010101    1.000000  \n",
       "2  7.71628       0.026667    8.000000  \n",
       "6  7.71628       0.333333   66.666667  \n",
       "7  7.71628       0.056000    7.000000  \n",
       "8  7.71628       0.005000    0.500000  "
      ]
     },
     "execution_count": 8,
     "metadata": {},
     "output_type": "execute_result"
    }
   ],
   "source": [
    "em = em[em['Proportion'] > 0]\n",
    "\n",
    "em.head()"
   ]
  },
  {
   "cell_type": "markdown",
   "id": "f8774fe7-dd6c-4e45-9ee1-762439f255c4",
   "metadata": {},
   "source": [
    "### 8. Calculate summed RAAD *'Frequency'* per *'Site'*\n",
    "To that end, one needs to specify the variables on the basis of which the data will be grouped \n",
    "\n",
    "In the cell below, *'Proportion'*  values are grouped by *'site_name_modern'*, *'lat'* and *'long'*\n",
    "\n",
    "Then the grouped *'Proportion'* values are summed"
   ]
  },
  {
   "cell_type": "code",
   "execution_count": 9,
   "id": "4d6e3112-ecff-41e0-ac52-e6fb193ce20a",
   "metadata": {
    "execution": {
     "iopub.execute_input": "2021-12-20T09:38:29.852869Z",
     "iopub.status.busy": "2021-12-20T09:38:29.852225Z",
     "iopub.status.idle": "2021-12-20T09:38:29.874129Z",
     "shell.execute_reply": "2021-12-20T09:38:29.873528Z",
     "shell.execute_reply.started": "2021-12-20T09:38:29.852819Z"
    },
    "tags": []
   },
   "outputs": [
    {
     "data": {
      "text/html": [
       "<div>\n",
       "<style scoped>\n",
       "    .dataframe tbody tr th:only-of-type {\n",
       "        vertical-align: middle;\n",
       "    }\n",
       "\n",
       "    .dataframe tbody tr th {\n",
       "        vertical-align: top;\n",
       "    }\n",
       "\n",
       "    .dataframe thead th {\n",
       "        text-align: right;\n",
       "    }\n",
       "</style>\n",
       "<table border=\"1\" class=\"dataframe\">\n",
       "  <thead>\n",
       "    <tr style=\"text-align: right;\">\n",
       "      <th></th>\n",
       "      <th>site_name_modern</th>\n",
       "      <th>lat</th>\n",
       "      <th>long</th>\n",
       "      <th>Summed_freq</th>\n",
       "    </tr>\n",
       "  </thead>\n",
       "  <tbody>\n",
       "    <tr>\n",
       "      <th>0</th>\n",
       "      <td>aislingen</td>\n",
       "      <td>48.506039</td>\n",
       "      <td>10.455590</td>\n",
       "      <td>0.857143</td>\n",
       "    </tr>\n",
       "    <tr>\n",
       "      <th>1</th>\n",
       "      <td>alphen aan den rijn</td>\n",
       "      <td>52.127658</td>\n",
       "      <td>4.668851</td>\n",
       "      <td>4.285714</td>\n",
       "    </tr>\n",
       "    <tr>\n",
       "      <th>2</th>\n",
       "      <td>alzey</td>\n",
       "      <td>49.743052</td>\n",
       "      <td>8.114030</td>\n",
       "      <td>1.333333</td>\n",
       "    </tr>\n",
       "    <tr>\n",
       "      <th>3</th>\n",
       "      <td>anreppen</td>\n",
       "      <td>51.737960</td>\n",
       "      <td>8.593171</td>\n",
       "      <td>34.086310</td>\n",
       "    </tr>\n",
       "    <tr>\n",
       "      <th>4</th>\n",
       "      <td>augsburg</td>\n",
       "      <td>48.371441</td>\n",
       "      <td>10.898255</td>\n",
       "      <td>4.666667</td>\n",
       "    </tr>\n",
       "  </tbody>\n",
       "</table>\n",
       "</div>"
      ],
      "text/plain": [
       "      site_name_modern        lat       long  Summed_freq\n",
       "0            aislingen  48.506039  10.455590     0.857143\n",
       "1  alphen aan den rijn  52.127658   4.668851     4.285714\n",
       "2                alzey  49.743052   8.114030     1.333333\n",
       "3             anreppen  51.737960   8.593171    34.086310\n",
       "4             augsburg  48.371441  10.898255     4.666667"
      ]
     },
     "execution_count": 9,
     "metadata": {},
     "output_type": "execute_result"
    }
   ],
   "source": [
    "summed_frequency = em.groupby(['site_name_modern', 'lat', 'long'])['Proportion'].sum()        \n",
    "summed_frequency = summed_frequency.reset_index()\n",
    "summed_frequency = summed_frequency.rename(columns = {'Proportion':'Summed_freq'})\n",
    "summed_frequency.head()"
   ]
  },
  {
   "cell_type": "markdown",
   "id": "52daaed0-921f-46e8-ab97-a055888638c1",
   "metadata": {},
   "source": [
    "### 9. Count the number of unique *'Amphora types'* per *'Site'*\n",
    "In the cell below, *'RAAD_form'* are grouped by *'site_name_modern'* and then the unique number of *'site_name_modern'* is calculated\n"
   ]
  },
  {
   "cell_type": "code",
   "execution_count": 10,
   "id": "6e14ce3c-a996-424d-b915-5f87673f6fb1",
   "metadata": {
    "execution": {
     "iopub.execute_input": "2021-12-20T09:38:32.185679Z",
     "iopub.status.busy": "2021-12-20T09:38:32.185023Z",
     "iopub.status.idle": "2021-12-20T09:38:32.201662Z",
     "shell.execute_reply": "2021-12-20T09:38:32.200949Z",
     "shell.execute_reply.started": "2021-12-20T09:38:32.185629Z"
    },
    "tags": []
   },
   "outputs": [
    {
     "data": {
      "text/html": [
       "<div>\n",
       "<style scoped>\n",
       "    .dataframe tbody tr th:only-of-type {\n",
       "        vertical-align: middle;\n",
       "    }\n",
       "\n",
       "    .dataframe tbody tr th {\n",
       "        vertical-align: top;\n",
       "    }\n",
       "\n",
       "    .dataframe thead th {\n",
       "        text-align: right;\n",
       "    }\n",
       "</style>\n",
       "<table border=\"1\" class=\"dataframe\">\n",
       "  <thead>\n",
       "    <tr style=\"text-align: right;\">\n",
       "      <th></th>\n",
       "      <th>site_name_modern</th>\n",
       "      <th>RAAD_type_count</th>\n",
       "    </tr>\n",
       "  </thead>\n",
       "  <tbody>\n",
       "    <tr>\n",
       "      <th>0</th>\n",
       "      <td>aislingen</td>\n",
       "      <td>1</td>\n",
       "    </tr>\n",
       "    <tr>\n",
       "      <th>1</th>\n",
       "      <td>alphen aan den rijn</td>\n",
       "      <td>2</td>\n",
       "    </tr>\n",
       "    <tr>\n",
       "      <th>2</th>\n",
       "      <td>alzey</td>\n",
       "      <td>1</td>\n",
       "    </tr>\n",
       "    <tr>\n",
       "      <th>3</th>\n",
       "      <td>anreppen</td>\n",
       "      <td>4</td>\n",
       "    </tr>\n",
       "    <tr>\n",
       "      <th>4</th>\n",
       "      <td>augsburg</td>\n",
       "      <td>4</td>\n",
       "    </tr>\n",
       "  </tbody>\n",
       "</table>\n",
       "</div>"
      ],
      "text/plain": [
       "      site_name_modern  RAAD_type_count\n",
       "0            aislingen                1\n",
       "1  alphen aan den rijn                2\n",
       "2                alzey                1\n",
       "3             anreppen                4\n",
       "4             augsburg                4"
      ]
     },
     "execution_count": 10,
     "metadata": {},
     "output_type": "execute_result"
    }
   ],
   "source": [
    "RAAD_type_count = em.groupby('site_name_modern')['RAAD_form'].nunique()\n",
    "RAAD_type_count = RAAD_type_count.reset_index()\n",
    "RAAD_type_count = RAAD_type_count.rename(columns={'RAAD_form': 'RAAD_type_count'})\n",
    "RAAD_type_count.head()"
   ]
  },
  {
   "cell_type": "markdown",
   "id": "ac73201c-b610-41f1-a740-0b8e3777c436",
   "metadata": {},
   "source": [
    "### 10. Make a dataframe containing the data required for plotting, namely: \n",
    " - *'site_name_modern'* \n",
    " - Coordinates of the site\n",
    " - Summed frequencies\n",
    " - Unique RAAD type count values"
   ]
  },
  {
   "cell_type": "code",
   "execution_count": 11,
   "id": "a07f66b1-0ed7-43af-a90f-7ad76dffc527",
   "metadata": {
    "execution": {
     "iopub.execute_input": "2021-12-20T09:38:33.973867Z",
     "iopub.status.busy": "2021-12-20T09:38:33.973217Z",
     "iopub.status.idle": "2021-12-20T09:38:33.994949Z",
     "shell.execute_reply": "2021-12-20T09:38:33.994296Z",
     "shell.execute_reply.started": "2021-12-20T09:38:33.973817Z"
    },
    "tags": []
   },
   "outputs": [
    {
     "data": {
      "text/html": [
       "<div>\n",
       "<style scoped>\n",
       "    .dataframe tbody tr th:only-of-type {\n",
       "        vertical-align: middle;\n",
       "    }\n",
       "\n",
       "    .dataframe tbody tr th {\n",
       "        vertical-align: top;\n",
       "    }\n",
       "\n",
       "    .dataframe thead th {\n",
       "        text-align: right;\n",
       "    }\n",
       "</style>\n",
       "<table border=\"1\" class=\"dataframe\">\n",
       "  <thead>\n",
       "    <tr style=\"text-align: right;\">\n",
       "      <th></th>\n",
       "      <th>site_name_modern</th>\n",
       "      <th>lat</th>\n",
       "      <th>long</th>\n",
       "      <th>Summed_freq</th>\n",
       "      <th>RAAD_type_count</th>\n",
       "    </tr>\n",
       "  </thead>\n",
       "  <tbody>\n",
       "    <tr>\n",
       "      <th>0</th>\n",
       "      <td>aislingen</td>\n",
       "      <td>48.506039</td>\n",
       "      <td>10.455590</td>\n",
       "      <td>0.857143</td>\n",
       "      <td>1</td>\n",
       "    </tr>\n",
       "    <tr>\n",
       "      <th>1</th>\n",
       "      <td>alphen aan den rijn</td>\n",
       "      <td>52.127658</td>\n",
       "      <td>4.668851</td>\n",
       "      <td>4.285714</td>\n",
       "      <td>2</td>\n",
       "    </tr>\n",
       "    <tr>\n",
       "      <th>2</th>\n",
       "      <td>alzey</td>\n",
       "      <td>49.743052</td>\n",
       "      <td>8.114030</td>\n",
       "      <td>1.333333</td>\n",
       "      <td>1</td>\n",
       "    </tr>\n",
       "    <tr>\n",
       "      <th>3</th>\n",
       "      <td>anreppen</td>\n",
       "      <td>51.737960</td>\n",
       "      <td>8.593171</td>\n",
       "      <td>34.086310</td>\n",
       "      <td>4</td>\n",
       "    </tr>\n",
       "    <tr>\n",
       "      <th>4</th>\n",
       "      <td>augsburg</td>\n",
       "      <td>48.371441</td>\n",
       "      <td>10.898255</td>\n",
       "      <td>4.666667</td>\n",
       "      <td>4</td>\n",
       "    </tr>\n",
       "  </tbody>\n",
       "</table>\n",
       "</div>"
      ],
      "text/plain": [
       "      site_name_modern        lat       long  Summed_freq  RAAD_type_count\n",
       "0            aislingen  48.506039  10.455590     0.857143                1\n",
       "1  alphen aan den rijn  52.127658   4.668851     4.285714                2\n",
       "2                alzey  49.743052   8.114030     1.333333                1\n",
       "3             anreppen  51.737960   8.593171    34.086310                4\n",
       "4             augsburg  48.371441  10.898255     4.666667                4"
      ]
     },
     "execution_count": 11,
     "metadata": {},
     "output_type": "execute_result"
    }
   ],
   "source": [
    "em_map = pd.merge(summed_frequency, RAAD_type_count, on = 'site_name_modern')\n",
    "em_map.head()"
   ]
  },
  {
   "cell_type": "markdown",
   "id": "1531ee82-bc0d-4b16-b767-a54eabb22edf",
   "metadata": {},
   "source": [
    "### 11. Plot maps\n",
    "**Note:** Remember to change the title of the plot\n",
    "\n",
    "`color_continuous_scale = ['#1ed14b',  '#d63638']` <- for green to red (basically just find css for wanted colors)"
   ]
  },
  {
   "cell_type": "markdown",
   "id": "d55c8689-ca9e-49a3-8071-2ff61d8d2efd",
   "metadata": {},
   "source": [
    "#### 11.1 **All *'Site'* locations which have *'origin_h1'* == em and are dated between 0-300** \n",
    "#### The **dot size** is scaled by the summed *'Frequency'* per group of unique *'Sites'*"
   ]
  },
  {
   "cell_type": "code",
   "execution_count": 12,
   "id": "fc0e8e95-309e-43e7-8433-c240ff77e8c0",
   "metadata": {
    "execution": {
     "iopub.execute_input": "2021-12-20T10:13:38.508403Z",
     "iopub.status.busy": "2021-12-20T10:13:38.507908Z",
     "iopub.status.idle": "2021-12-20T10:13:38.562959Z",
     "shell.execute_reply": "2021-12-20T10:13:38.562415Z",
     "shell.execute_reply.started": "2021-12-20T10:13:38.508354Z"
    },
    "tags": []
   },
   "outputs": [
    {
     "data": {
      "application/vnd.plotly.v1+json": {
       "config": {
        "plotlyServerURL": "https://plot.ly"
       },
       "data": [
        {
         "geo": "geo",
         "hovertemplate": "RAAD_type_count=%{marker.size}<br>lat=%{lat}<br>long=%{lon}<extra></extra>",
         "lat": [
          48.506038998,
          52.127657695,
          49.743051605,
          51.737959859,
          48.371441002,
          47.533512464,
          46.88004,
          49.837124845,
          47.557421001,
          50.297153002,
          48.038963981,
          50.616667,
          48.034524228,
          46.857263278,
          46.857263278,
          47.608913642,
          49.899414048,
          46.198395674,
          48.385413715,
          49.921432406,
          50.239601003,
          50.086914048,
          50.085237086,
          50.099569,
          47.723790811,
          50.902961794,
          52.095782101,
          47.914490894,
          49.995114562,
          49.11559051,
          51.198427675,
          51.198427675,
          51.198427675,
          51.198427675,
          51.198427675,
          50.160026969,
          51.842865788,
          51.6139278,
          48.712669333,
          48.038963981,
          48.166461181,
          50.365459989,
          48.582042739,
          48.582042739,
          47.595611001,
          49.540277999,
          52.057731407,
          52.460391603,
          47.481828274,
          47.481828274,
          52.076157999,
          50.583029999
         ],
         "legendgroup": "",
         "lon": [
          10.455590001,
          4.6688508,
          8.114029556,
          8.593170904,
          10.898254999,
          7.716279517,
          7.04071,
          7.865673513,
          7.592573001,
          3.791744,
          7.545055911,
          5.133333001,
          7.577198561,
          9.526722777,
          9.526722777,
          8.295442415,
          8.846421452,
          6.142314761,
          5.484963602,
          8.481813097,
          8.865685994,
          8.448318019,
          8.449515873,
          8.540383001,
          10.311208742,
          6.972528456,
          5.0676188,
          10.916169981,
          8.267411466,
          6.174285331,
          6.695272731,
          6.695272731,
          6.695272731,
          6.695272731,
          6.695272731,
          8.647162809,
          5.854620562,
          7.5832674,
          11.454577377,
          7.545055911,
          8.627795857,
          8.766051012,
          7.745647847,
          7.745647847,
          7.120411001,
          5.859722,
          5.161012618,
          4.632448075,
          8.221169821,
          8.221169821,
          4.362540999,
          8.54225
         ],
         "marker": {
          "color": "#636efa",
          "size": [
           1,
           2,
           1,
           4,
           4,
           16,
           1,
           4,
           1,
           2,
           3,
           4,
           1,
           1,
           2,
           3,
           1,
           1,
           2,
           2,
           1,
           1,
           1,
           2,
           5,
           2,
           2,
           3,
           11,
           2,
           8,
           1,
           4,
           3,
           4,
           5,
           10,
           3,
           2,
           3,
           1,
           3,
           3,
           3,
           1,
           1,
           2,
           2,
           1,
           2,
           1,
           2
          ],
          "sizemode": "area",
          "sizeref": 0.04,
          "symbol": "circle"
         },
         "mode": "markers",
         "name": "",
         "showlegend": false,
         "type": "scattergeo"
        }
       ],
       "layout": {
        "geo": {
         "center": {
          "lat": 41.8719,
          "lon": 12.5674
         },
         "domain": {
          "x": [
           0,
           1
          ],
          "y": [
           0,
           1
          ]
         },
         "projection": {
          "scale": 6,
          "type": "mercator"
         },
         "scope": "europe"
        },
        "height": 1200,
        "legend": {
         "itemsizing": "constant",
         "tracegroupgap": 0
        },
        "margin": {
         "t": 60
        },
        "template": {
         "data": {
          "bar": [
           {
            "error_x": {
             "color": "#2a3f5f"
            },
            "error_y": {
             "color": "#2a3f5f"
            },
            "marker": {
             "line": {
              "color": "#E5ECF6",
              "width": 0.5
             },
             "pattern": {
              "fillmode": "overlay",
              "size": 10,
              "solidity": 0.2
             }
            },
            "type": "bar"
           }
          ],
          "barpolar": [
           {
            "marker": {
             "line": {
              "color": "#E5ECF6",
              "width": 0.5
             },
             "pattern": {
              "fillmode": "overlay",
              "size": 10,
              "solidity": 0.2
             }
            },
            "type": "barpolar"
           }
          ],
          "carpet": [
           {
            "aaxis": {
             "endlinecolor": "#2a3f5f",
             "gridcolor": "white",
             "linecolor": "white",
             "minorgridcolor": "white",
             "startlinecolor": "#2a3f5f"
            },
            "baxis": {
             "endlinecolor": "#2a3f5f",
             "gridcolor": "white",
             "linecolor": "white",
             "minorgridcolor": "white",
             "startlinecolor": "#2a3f5f"
            },
            "type": "carpet"
           }
          ],
          "choropleth": [
           {
            "colorbar": {
             "outlinewidth": 0,
             "ticks": ""
            },
            "type": "choropleth"
           }
          ],
          "contour": [
           {
            "colorbar": {
             "outlinewidth": 0,
             "ticks": ""
            },
            "colorscale": [
             [
              0,
              "#0d0887"
             ],
             [
              0.1111111111111111,
              "#46039f"
             ],
             [
              0.2222222222222222,
              "#7201a8"
             ],
             [
              0.3333333333333333,
              "#9c179e"
             ],
             [
              0.4444444444444444,
              "#bd3786"
             ],
             [
              0.5555555555555556,
              "#d8576b"
             ],
             [
              0.6666666666666666,
              "#ed7953"
             ],
             [
              0.7777777777777778,
              "#fb9f3a"
             ],
             [
              0.8888888888888888,
              "#fdca26"
             ],
             [
              1,
              "#f0f921"
             ]
            ],
            "type": "contour"
           }
          ],
          "contourcarpet": [
           {
            "colorbar": {
             "outlinewidth": 0,
             "ticks": ""
            },
            "type": "contourcarpet"
           }
          ],
          "heatmap": [
           {
            "colorbar": {
             "outlinewidth": 0,
             "ticks": ""
            },
            "colorscale": [
             [
              0,
              "#0d0887"
             ],
             [
              0.1111111111111111,
              "#46039f"
             ],
             [
              0.2222222222222222,
              "#7201a8"
             ],
             [
              0.3333333333333333,
              "#9c179e"
             ],
             [
              0.4444444444444444,
              "#bd3786"
             ],
             [
              0.5555555555555556,
              "#d8576b"
             ],
             [
              0.6666666666666666,
              "#ed7953"
             ],
             [
              0.7777777777777778,
              "#fb9f3a"
             ],
             [
              0.8888888888888888,
              "#fdca26"
             ],
             [
              1,
              "#f0f921"
             ]
            ],
            "type": "heatmap"
           }
          ],
          "heatmapgl": [
           {
            "colorbar": {
             "outlinewidth": 0,
             "ticks": ""
            },
            "colorscale": [
             [
              0,
              "#0d0887"
             ],
             [
              0.1111111111111111,
              "#46039f"
             ],
             [
              0.2222222222222222,
              "#7201a8"
             ],
             [
              0.3333333333333333,
              "#9c179e"
             ],
             [
              0.4444444444444444,
              "#bd3786"
             ],
             [
              0.5555555555555556,
              "#d8576b"
             ],
             [
              0.6666666666666666,
              "#ed7953"
             ],
             [
              0.7777777777777778,
              "#fb9f3a"
             ],
             [
              0.8888888888888888,
              "#fdca26"
             ],
             [
              1,
              "#f0f921"
             ]
            ],
            "type": "heatmapgl"
           }
          ],
          "histogram": [
           {
            "marker": {
             "pattern": {
              "fillmode": "overlay",
              "size": 10,
              "solidity": 0.2
             }
            },
            "type": "histogram"
           }
          ],
          "histogram2d": [
           {
            "colorbar": {
             "outlinewidth": 0,
             "ticks": ""
            },
            "colorscale": [
             [
              0,
              "#0d0887"
             ],
             [
              0.1111111111111111,
              "#46039f"
             ],
             [
              0.2222222222222222,
              "#7201a8"
             ],
             [
              0.3333333333333333,
              "#9c179e"
             ],
             [
              0.4444444444444444,
              "#bd3786"
             ],
             [
              0.5555555555555556,
              "#d8576b"
             ],
             [
              0.6666666666666666,
              "#ed7953"
             ],
             [
              0.7777777777777778,
              "#fb9f3a"
             ],
             [
              0.8888888888888888,
              "#fdca26"
             ],
             [
              1,
              "#f0f921"
             ]
            ],
            "type": "histogram2d"
           }
          ],
          "histogram2dcontour": [
           {
            "colorbar": {
             "outlinewidth": 0,
             "ticks": ""
            },
            "colorscale": [
             [
              0,
              "#0d0887"
             ],
             [
              0.1111111111111111,
              "#46039f"
             ],
             [
              0.2222222222222222,
              "#7201a8"
             ],
             [
              0.3333333333333333,
              "#9c179e"
             ],
             [
              0.4444444444444444,
              "#bd3786"
             ],
             [
              0.5555555555555556,
              "#d8576b"
             ],
             [
              0.6666666666666666,
              "#ed7953"
             ],
             [
              0.7777777777777778,
              "#fb9f3a"
             ],
             [
              0.8888888888888888,
              "#fdca26"
             ],
             [
              1,
              "#f0f921"
             ]
            ],
            "type": "histogram2dcontour"
           }
          ],
          "mesh3d": [
           {
            "colorbar": {
             "outlinewidth": 0,
             "ticks": ""
            },
            "type": "mesh3d"
           }
          ],
          "parcoords": [
           {
            "line": {
             "colorbar": {
              "outlinewidth": 0,
              "ticks": ""
             }
            },
            "type": "parcoords"
           }
          ],
          "pie": [
           {
            "automargin": true,
            "type": "pie"
           }
          ],
          "scatter": [
           {
            "marker": {
             "colorbar": {
              "outlinewidth": 0,
              "ticks": ""
             }
            },
            "type": "scatter"
           }
          ],
          "scatter3d": [
           {
            "line": {
             "colorbar": {
              "outlinewidth": 0,
              "ticks": ""
             }
            },
            "marker": {
             "colorbar": {
              "outlinewidth": 0,
              "ticks": ""
             }
            },
            "type": "scatter3d"
           }
          ],
          "scattercarpet": [
           {
            "marker": {
             "colorbar": {
              "outlinewidth": 0,
              "ticks": ""
             }
            },
            "type": "scattercarpet"
           }
          ],
          "scattergeo": [
           {
            "marker": {
             "colorbar": {
              "outlinewidth": 0,
              "ticks": ""
             }
            },
            "type": "scattergeo"
           }
          ],
          "scattergl": [
           {
            "marker": {
             "colorbar": {
              "outlinewidth": 0,
              "ticks": ""
             }
            },
            "type": "scattergl"
           }
          ],
          "scattermapbox": [
           {
            "marker": {
             "colorbar": {
              "outlinewidth": 0,
              "ticks": ""
             }
            },
            "type": "scattermapbox"
           }
          ],
          "scatterpolar": [
           {
            "marker": {
             "colorbar": {
              "outlinewidth": 0,
              "ticks": ""
             }
            },
            "type": "scatterpolar"
           }
          ],
          "scatterpolargl": [
           {
            "marker": {
             "colorbar": {
              "outlinewidth": 0,
              "ticks": ""
             }
            },
            "type": "scatterpolargl"
           }
          ],
          "scatterternary": [
           {
            "marker": {
             "colorbar": {
              "outlinewidth": 0,
              "ticks": ""
             }
            },
            "type": "scatterternary"
           }
          ],
          "surface": [
           {
            "colorbar": {
             "outlinewidth": 0,
             "ticks": ""
            },
            "colorscale": [
             [
              0,
              "#0d0887"
             ],
             [
              0.1111111111111111,
              "#46039f"
             ],
             [
              0.2222222222222222,
              "#7201a8"
             ],
             [
              0.3333333333333333,
              "#9c179e"
             ],
             [
              0.4444444444444444,
              "#bd3786"
             ],
             [
              0.5555555555555556,
              "#d8576b"
             ],
             [
              0.6666666666666666,
              "#ed7953"
             ],
             [
              0.7777777777777778,
              "#fb9f3a"
             ],
             [
              0.8888888888888888,
              "#fdca26"
             ],
             [
              1,
              "#f0f921"
             ]
            ],
            "type": "surface"
           }
          ],
          "table": [
           {
            "cells": {
             "fill": {
              "color": "#EBF0F8"
             },
             "line": {
              "color": "white"
             }
            },
            "header": {
             "fill": {
              "color": "#C8D4E3"
             },
             "line": {
              "color": "white"
             }
            },
            "type": "table"
           }
          ]
         },
         "layout": {
          "annotationdefaults": {
           "arrowcolor": "#2a3f5f",
           "arrowhead": 0,
           "arrowwidth": 1
          },
          "autotypenumbers": "strict",
          "coloraxis": {
           "colorbar": {
            "outlinewidth": 0,
            "ticks": ""
           }
          },
          "colorscale": {
           "diverging": [
            [
             0,
             "#8e0152"
            ],
            [
             0.1,
             "#c51b7d"
            ],
            [
             0.2,
             "#de77ae"
            ],
            [
             0.3,
             "#f1b6da"
            ],
            [
             0.4,
             "#fde0ef"
            ],
            [
             0.5,
             "#f7f7f7"
            ],
            [
             0.6,
             "#e6f5d0"
            ],
            [
             0.7,
             "#b8e186"
            ],
            [
             0.8,
             "#7fbc41"
            ],
            [
             0.9,
             "#4d9221"
            ],
            [
             1,
             "#276419"
            ]
           ],
           "sequential": [
            [
             0,
             "#0d0887"
            ],
            [
             0.1111111111111111,
             "#46039f"
            ],
            [
             0.2222222222222222,
             "#7201a8"
            ],
            [
             0.3333333333333333,
             "#9c179e"
            ],
            [
             0.4444444444444444,
             "#bd3786"
            ],
            [
             0.5555555555555556,
             "#d8576b"
            ],
            [
             0.6666666666666666,
             "#ed7953"
            ],
            [
             0.7777777777777778,
             "#fb9f3a"
            ],
            [
             0.8888888888888888,
             "#fdca26"
            ],
            [
             1,
             "#f0f921"
            ]
           ],
           "sequentialminus": [
            [
             0,
             "#0d0887"
            ],
            [
             0.1111111111111111,
             "#46039f"
            ],
            [
             0.2222222222222222,
             "#7201a8"
            ],
            [
             0.3333333333333333,
             "#9c179e"
            ],
            [
             0.4444444444444444,
             "#bd3786"
            ],
            [
             0.5555555555555556,
             "#d8576b"
            ],
            [
             0.6666666666666666,
             "#ed7953"
            ],
            [
             0.7777777777777778,
             "#fb9f3a"
            ],
            [
             0.8888888888888888,
             "#fdca26"
            ],
            [
             1,
             "#f0f921"
            ]
           ]
          },
          "colorway": [
           "#636efa",
           "#EF553B",
           "#00cc96",
           "#ab63fa",
           "#FFA15A",
           "#19d3f3",
           "#FF6692",
           "#B6E880",
           "#FF97FF",
           "#FECB52"
          ],
          "font": {
           "color": "#2a3f5f"
          },
          "geo": {
           "bgcolor": "white",
           "lakecolor": "white",
           "landcolor": "#E5ECF6",
           "showlakes": true,
           "showland": true,
           "subunitcolor": "white"
          },
          "hoverlabel": {
           "align": "left"
          },
          "hovermode": "closest",
          "mapbox": {
           "style": "light"
          },
          "paper_bgcolor": "white",
          "plot_bgcolor": "#E5ECF6",
          "polar": {
           "angularaxis": {
            "gridcolor": "white",
            "linecolor": "white",
            "ticks": ""
           },
           "bgcolor": "#E5ECF6",
           "radialaxis": {
            "gridcolor": "white",
            "linecolor": "white",
            "ticks": ""
           }
          },
          "scene": {
           "xaxis": {
            "backgroundcolor": "#E5ECF6",
            "gridcolor": "white",
            "gridwidth": 2,
            "linecolor": "white",
            "showbackground": true,
            "ticks": "",
            "zerolinecolor": "white"
           },
           "yaxis": {
            "backgroundcolor": "#E5ECF6",
            "gridcolor": "white",
            "gridwidth": 2,
            "linecolor": "white",
            "showbackground": true,
            "ticks": "",
            "zerolinecolor": "white"
           },
           "zaxis": {
            "backgroundcolor": "#E5ECF6",
            "gridcolor": "white",
            "gridwidth": 2,
            "linecolor": "white",
            "showbackground": true,
            "ticks": "",
            "zerolinecolor": "white"
           }
          },
          "shapedefaults": {
           "line": {
            "color": "#2a3f5f"
           }
          },
          "ternary": {
           "aaxis": {
            "gridcolor": "white",
            "linecolor": "white",
            "ticks": ""
           },
           "baxis": {
            "gridcolor": "white",
            "linecolor": "white",
            "ticks": ""
           },
           "bgcolor": "#E5ECF6",
           "caxis": {
            "gridcolor": "white",
            "linecolor": "white",
            "ticks": ""
           }
          },
          "title": {
           "x": 0.05
          },
          "xaxis": {
           "automargin": true,
           "gridcolor": "white",
           "linecolor": "white",
           "ticks": "",
           "title": {
            "standoff": 15
           },
           "zerolinecolor": "white",
           "zerolinewidth": 2
          },
          "yaxis": {
           "automargin": true,
           "gridcolor": "white",
           "linecolor": "white",
           "ticks": "",
           "title": {
            "standoff": 15
           },
           "zerolinecolor": "white",
           "zerolinewidth": 2
          }
         }
        },
        "title": {
         "font": {
          "size": 20
         },
         "text": "Summed Frequency per Site for Africa in Date Range 150–200",
         "x": 0.5
        }
       }
      }
     },
     "metadata": {},
     "output_type": "display_data"
    }
   ],
   "source": [
    "fig = px.scatter_geo(em_map,\n",
    "                     lat = em_map.lat,          # param for latitude coordinates\n",
    "                     lon = em_map.long,          # param for longitude\n",
    "                     height = 1200, \n",
    "                     #text = em_map['site_name_modern'],           # param to add labels to dots, better do not use\n",
    "                     size = em_map.RAAD_type_count,        # param for dot size scaling\n",
    "                     scope = 'europe',                     # param for resrticting a map to a specific continent\n",
    "                     projection = 'mercator')              # param for geographic projection\n",
    "                      \n",
    "\n",
    "    \n",
    "# centre map by lat and long of a country\n",
    "# set up a 'projection_scale' to zoom into the country \n",
    "\n",
    "fig.update_geos(projection_scale = 6, center_lat = 41.8719, center_lon = 12.5674)\n",
    "\n",
    "# title of the map, its potion (title_x) and font size can be set up\n",
    "fig.update_layout(title_text = 'Summed Frequency per Site for Africa in Date Range 150–200', \n",
    "                  title_x = 0.5, \n",
    "                  title_font_size = 20)\n",
    "   \n",
    "\n",
    "fig.write_image('fig1.pdf') # to save plot (any format, .pdf, .png, etc )   \n",
    "fig.show()"
   ]
  },
  {
   "cell_type": "markdown",
   "id": "56845b93-dab3-46fe-9ef0-481a117144b6",
   "metadata": {},
   "source": [
    "#### The **dot colour** is scaled by the sum frequency per group of unique *'Sites'*"
   ]
  },
  {
   "cell_type": "code",
   "execution_count": 13,
   "id": "c5ec3f9a-7de4-4b01-8088-0116e4640ef6",
   "metadata": {
    "execution": {
     "iopub.execute_input": "2021-12-20T10:14:12.613118Z",
     "iopub.status.busy": "2021-12-20T10:14:12.612516Z",
     "iopub.status.idle": "2021-12-20T10:14:12.668567Z",
     "shell.execute_reply": "2021-12-20T10:14:12.668018Z",
     "shell.execute_reply.started": "2021-12-20T10:14:12.613066Z"
    },
    "tags": []
   },
   "outputs": [
    {
     "data": {
      "application/vnd.plotly.v1+json": {
       "config": {
        "plotlyServerURL": "https://plot.ly"
       },
       "data": [
        {
         "geo": "geo",
         "hovertemplate": "lat=%{lat}<br>long=%{lon}<br>Summed_freq=%{marker.color}<extra></extra>",
         "lat": [
          48.506038998,
          52.127657695,
          49.743051605,
          51.737959859,
          48.371441002,
          47.533512464,
          46.88004,
          49.837124845,
          47.557421001,
          50.297153002,
          48.038963981,
          50.616667,
          48.034524228,
          46.857263278,
          46.857263278,
          47.608913642,
          49.899414048,
          46.198395674,
          48.385413715,
          49.921432406,
          50.239601003,
          50.086914048,
          50.085237086,
          50.099569,
          47.723790811,
          50.902961794,
          52.095782101,
          47.914490894,
          49.995114562,
          49.11559051,
          51.198427675,
          51.198427675,
          51.198427675,
          51.198427675,
          51.198427675,
          50.160026969,
          51.842865788,
          51.6139278,
          48.712669333,
          48.038963981,
          48.166461181,
          50.365459989,
          48.582042739,
          48.582042739,
          47.595611001,
          49.540277999,
          52.057731407,
          52.460391603,
          47.481828274,
          47.481828274,
          52.076157999,
          50.583029999
         ],
         "legendgroup": "",
         "lon": [
          10.455590001,
          4.6688508,
          8.114029556,
          8.593170904,
          10.898254999,
          7.716279517,
          7.04071,
          7.865673513,
          7.592573001,
          3.791744,
          7.545055911,
          5.133333001,
          7.577198561,
          9.526722777,
          9.526722777,
          8.295442415,
          8.846421452,
          6.142314761,
          5.484963602,
          8.481813097,
          8.865685994,
          8.448318019,
          8.449515873,
          8.540383001,
          10.311208742,
          6.972528456,
          5.0676188,
          10.916169981,
          8.267411466,
          6.174285331,
          6.695272731,
          6.695272731,
          6.695272731,
          6.695272731,
          6.695272731,
          8.647162809,
          5.854620562,
          7.5832674,
          11.454577377,
          7.545055911,
          8.627795857,
          8.766051012,
          7.745647847,
          7.745647847,
          7.120411001,
          5.859722,
          5.161012618,
          4.632448075,
          8.221169821,
          8.221169821,
          4.362540999,
          8.54225
         ],
         "marker": {
          "color": [
           0.8571428571428571,
           4.285714285714286,
           1.3333333333333335,
           34.086309523809526,
           4.666666666666667,
           227.96130952380952,
           3.75,
           4.791666666666667,
           0.8571428571428571,
           2.380952380952381,
           14.205357142857142,
           7.794642857142857,
           1,
           4,
           7.142857142857143,
           246.74404761904762,
           2,
           4.285714285714286,
           2.714285714285714,
           2.857142857142857,
           0.9999999999999999,
           1.3333333333333335,
           0.9999999999999999,
           5.0476190476190474,
           169.5595238095238,
           2.380952380952381,
           2.380952380952381,
           3.1279761904761907,
           172.91841485878018,
           3.9285714285714284,
           61.53814935064935,
           0.8571428571428571,
           4.127976190476191,
           4.595238095238095,
           7.556547619047619,
           5.7559523809523805,
           94.46387638149815,
           22.080357142857142,
           2.2708333333333335,
           3.9851190476190474,
           3.75,
           12.175595238095239,
           14.952380952380953,
           3.1666666666666665,
           0.8571428571428571,
           32.57142857142857,
           3.9285714285714284,
           26.285714285714285,
           1.3333333333333335,
           4.380952380952381,
           0.9999999999999999,
           63.90476190476191
          ],
          "coloraxis": "coloraxis",
          "symbol": "circle"
         },
         "mode": "markers",
         "name": "",
         "showlegend": false,
         "type": "scattergeo"
        }
       ],
       "layout": {
        "coloraxis": {
         "colorbar": {
          "len": 0.8,
          "title": {
           "text": " "
          },
          "xanchor": "center",
          "xpad": 192,
          "y": 0.6
         },
         "colorscale": [
          [
           0,
           "#1ed14b"
          ],
          [
           1,
           "#d63638"
          ]
         ]
        },
        "geo": {
         "center": {
          "lat": 41.8719,
          "lon": 12.5674
         },
         "domain": {
          "x": [
           0,
           1
          ],
          "y": [
           0,
           1
          ]
         },
         "projection": {
          "scale": 6,
          "type": "mercator"
         },
         "scope": "europe"
        },
        "height": 1200,
        "legend": {
         "tracegroupgap": 0
        },
        "margin": {
         "t": 60
        },
        "template": {
         "data": {
          "bar": [
           {
            "error_x": {
             "color": "#2a3f5f"
            },
            "error_y": {
             "color": "#2a3f5f"
            },
            "marker": {
             "line": {
              "color": "#E5ECF6",
              "width": 0.5
             },
             "pattern": {
              "fillmode": "overlay",
              "size": 10,
              "solidity": 0.2
             }
            },
            "type": "bar"
           }
          ],
          "barpolar": [
           {
            "marker": {
             "line": {
              "color": "#E5ECF6",
              "width": 0.5
             },
             "pattern": {
              "fillmode": "overlay",
              "size": 10,
              "solidity": 0.2
             }
            },
            "type": "barpolar"
           }
          ],
          "carpet": [
           {
            "aaxis": {
             "endlinecolor": "#2a3f5f",
             "gridcolor": "white",
             "linecolor": "white",
             "minorgridcolor": "white",
             "startlinecolor": "#2a3f5f"
            },
            "baxis": {
             "endlinecolor": "#2a3f5f",
             "gridcolor": "white",
             "linecolor": "white",
             "minorgridcolor": "white",
             "startlinecolor": "#2a3f5f"
            },
            "type": "carpet"
           }
          ],
          "choropleth": [
           {
            "colorbar": {
             "outlinewidth": 0,
             "ticks": ""
            },
            "type": "choropleth"
           }
          ],
          "contour": [
           {
            "colorbar": {
             "outlinewidth": 0,
             "ticks": ""
            },
            "colorscale": [
             [
              0,
              "#0d0887"
             ],
             [
              0.1111111111111111,
              "#46039f"
             ],
             [
              0.2222222222222222,
              "#7201a8"
             ],
             [
              0.3333333333333333,
              "#9c179e"
             ],
             [
              0.4444444444444444,
              "#bd3786"
             ],
             [
              0.5555555555555556,
              "#d8576b"
             ],
             [
              0.6666666666666666,
              "#ed7953"
             ],
             [
              0.7777777777777778,
              "#fb9f3a"
             ],
             [
              0.8888888888888888,
              "#fdca26"
             ],
             [
              1,
              "#f0f921"
             ]
            ],
            "type": "contour"
           }
          ],
          "contourcarpet": [
           {
            "colorbar": {
             "outlinewidth": 0,
             "ticks": ""
            },
            "type": "contourcarpet"
           }
          ],
          "heatmap": [
           {
            "colorbar": {
             "outlinewidth": 0,
             "ticks": ""
            },
            "colorscale": [
             [
              0,
              "#0d0887"
             ],
             [
              0.1111111111111111,
              "#46039f"
             ],
             [
              0.2222222222222222,
              "#7201a8"
             ],
             [
              0.3333333333333333,
              "#9c179e"
             ],
             [
              0.4444444444444444,
              "#bd3786"
             ],
             [
              0.5555555555555556,
              "#d8576b"
             ],
             [
              0.6666666666666666,
              "#ed7953"
             ],
             [
              0.7777777777777778,
              "#fb9f3a"
             ],
             [
              0.8888888888888888,
              "#fdca26"
             ],
             [
              1,
              "#f0f921"
             ]
            ],
            "type": "heatmap"
           }
          ],
          "heatmapgl": [
           {
            "colorbar": {
             "outlinewidth": 0,
             "ticks": ""
            },
            "colorscale": [
             [
              0,
              "#0d0887"
             ],
             [
              0.1111111111111111,
              "#46039f"
             ],
             [
              0.2222222222222222,
              "#7201a8"
             ],
             [
              0.3333333333333333,
              "#9c179e"
             ],
             [
              0.4444444444444444,
              "#bd3786"
             ],
             [
              0.5555555555555556,
              "#d8576b"
             ],
             [
              0.6666666666666666,
              "#ed7953"
             ],
             [
              0.7777777777777778,
              "#fb9f3a"
             ],
             [
              0.8888888888888888,
              "#fdca26"
             ],
             [
              1,
              "#f0f921"
             ]
            ],
            "type": "heatmapgl"
           }
          ],
          "histogram": [
           {
            "marker": {
             "pattern": {
              "fillmode": "overlay",
              "size": 10,
              "solidity": 0.2
             }
            },
            "type": "histogram"
           }
          ],
          "histogram2d": [
           {
            "colorbar": {
             "outlinewidth": 0,
             "ticks": ""
            },
            "colorscale": [
             [
              0,
              "#0d0887"
             ],
             [
              0.1111111111111111,
              "#46039f"
             ],
             [
              0.2222222222222222,
              "#7201a8"
             ],
             [
              0.3333333333333333,
              "#9c179e"
             ],
             [
              0.4444444444444444,
              "#bd3786"
             ],
             [
              0.5555555555555556,
              "#d8576b"
             ],
             [
              0.6666666666666666,
              "#ed7953"
             ],
             [
              0.7777777777777778,
              "#fb9f3a"
             ],
             [
              0.8888888888888888,
              "#fdca26"
             ],
             [
              1,
              "#f0f921"
             ]
            ],
            "type": "histogram2d"
           }
          ],
          "histogram2dcontour": [
           {
            "colorbar": {
             "outlinewidth": 0,
             "ticks": ""
            },
            "colorscale": [
             [
              0,
              "#0d0887"
             ],
             [
              0.1111111111111111,
              "#46039f"
             ],
             [
              0.2222222222222222,
              "#7201a8"
             ],
             [
              0.3333333333333333,
              "#9c179e"
             ],
             [
              0.4444444444444444,
              "#bd3786"
             ],
             [
              0.5555555555555556,
              "#d8576b"
             ],
             [
              0.6666666666666666,
              "#ed7953"
             ],
             [
              0.7777777777777778,
              "#fb9f3a"
             ],
             [
              0.8888888888888888,
              "#fdca26"
             ],
             [
              1,
              "#f0f921"
             ]
            ],
            "type": "histogram2dcontour"
           }
          ],
          "mesh3d": [
           {
            "colorbar": {
             "outlinewidth": 0,
             "ticks": ""
            },
            "type": "mesh3d"
           }
          ],
          "parcoords": [
           {
            "line": {
             "colorbar": {
              "outlinewidth": 0,
              "ticks": ""
             }
            },
            "type": "parcoords"
           }
          ],
          "pie": [
           {
            "automargin": true,
            "type": "pie"
           }
          ],
          "scatter": [
           {
            "marker": {
             "colorbar": {
              "outlinewidth": 0,
              "ticks": ""
             }
            },
            "type": "scatter"
           }
          ],
          "scatter3d": [
           {
            "line": {
             "colorbar": {
              "outlinewidth": 0,
              "ticks": ""
             }
            },
            "marker": {
             "colorbar": {
              "outlinewidth": 0,
              "ticks": ""
             }
            },
            "type": "scatter3d"
           }
          ],
          "scattercarpet": [
           {
            "marker": {
             "colorbar": {
              "outlinewidth": 0,
              "ticks": ""
             }
            },
            "type": "scattercarpet"
           }
          ],
          "scattergeo": [
           {
            "marker": {
             "colorbar": {
              "outlinewidth": 0,
              "ticks": ""
             }
            },
            "type": "scattergeo"
           }
          ],
          "scattergl": [
           {
            "marker": {
             "colorbar": {
              "outlinewidth": 0,
              "ticks": ""
             }
            },
            "type": "scattergl"
           }
          ],
          "scattermapbox": [
           {
            "marker": {
             "colorbar": {
              "outlinewidth": 0,
              "ticks": ""
             }
            },
            "type": "scattermapbox"
           }
          ],
          "scatterpolar": [
           {
            "marker": {
             "colorbar": {
              "outlinewidth": 0,
              "ticks": ""
             }
            },
            "type": "scatterpolar"
           }
          ],
          "scatterpolargl": [
           {
            "marker": {
             "colorbar": {
              "outlinewidth": 0,
              "ticks": ""
             }
            },
            "type": "scatterpolargl"
           }
          ],
          "scatterternary": [
           {
            "marker": {
             "colorbar": {
              "outlinewidth": 0,
              "ticks": ""
             }
            },
            "type": "scatterternary"
           }
          ],
          "surface": [
           {
            "colorbar": {
             "outlinewidth": 0,
             "ticks": ""
            },
            "colorscale": [
             [
              0,
              "#0d0887"
             ],
             [
              0.1111111111111111,
              "#46039f"
             ],
             [
              0.2222222222222222,
              "#7201a8"
             ],
             [
              0.3333333333333333,
              "#9c179e"
             ],
             [
              0.4444444444444444,
              "#bd3786"
             ],
             [
              0.5555555555555556,
              "#d8576b"
             ],
             [
              0.6666666666666666,
              "#ed7953"
             ],
             [
              0.7777777777777778,
              "#fb9f3a"
             ],
             [
              0.8888888888888888,
              "#fdca26"
             ],
             [
              1,
              "#f0f921"
             ]
            ],
            "type": "surface"
           }
          ],
          "table": [
           {
            "cells": {
             "fill": {
              "color": "#EBF0F8"
             },
             "line": {
              "color": "white"
             }
            },
            "header": {
             "fill": {
              "color": "#C8D4E3"
             },
             "line": {
              "color": "white"
             }
            },
            "type": "table"
           }
          ]
         },
         "layout": {
          "annotationdefaults": {
           "arrowcolor": "#2a3f5f",
           "arrowhead": 0,
           "arrowwidth": 1
          },
          "autotypenumbers": "strict",
          "coloraxis": {
           "colorbar": {
            "outlinewidth": 0,
            "ticks": ""
           }
          },
          "colorscale": {
           "diverging": [
            [
             0,
             "#8e0152"
            ],
            [
             0.1,
             "#c51b7d"
            ],
            [
             0.2,
             "#de77ae"
            ],
            [
             0.3,
             "#f1b6da"
            ],
            [
             0.4,
             "#fde0ef"
            ],
            [
             0.5,
             "#f7f7f7"
            ],
            [
             0.6,
             "#e6f5d0"
            ],
            [
             0.7,
             "#b8e186"
            ],
            [
             0.8,
             "#7fbc41"
            ],
            [
             0.9,
             "#4d9221"
            ],
            [
             1,
             "#276419"
            ]
           ],
           "sequential": [
            [
             0,
             "#0d0887"
            ],
            [
             0.1111111111111111,
             "#46039f"
            ],
            [
             0.2222222222222222,
             "#7201a8"
            ],
            [
             0.3333333333333333,
             "#9c179e"
            ],
            [
             0.4444444444444444,
             "#bd3786"
            ],
            [
             0.5555555555555556,
             "#d8576b"
            ],
            [
             0.6666666666666666,
             "#ed7953"
            ],
            [
             0.7777777777777778,
             "#fb9f3a"
            ],
            [
             0.8888888888888888,
             "#fdca26"
            ],
            [
             1,
             "#f0f921"
            ]
           ],
           "sequentialminus": [
            [
             0,
             "#0d0887"
            ],
            [
             0.1111111111111111,
             "#46039f"
            ],
            [
             0.2222222222222222,
             "#7201a8"
            ],
            [
             0.3333333333333333,
             "#9c179e"
            ],
            [
             0.4444444444444444,
             "#bd3786"
            ],
            [
             0.5555555555555556,
             "#d8576b"
            ],
            [
             0.6666666666666666,
             "#ed7953"
            ],
            [
             0.7777777777777778,
             "#fb9f3a"
            ],
            [
             0.8888888888888888,
             "#fdca26"
            ],
            [
             1,
             "#f0f921"
            ]
           ]
          },
          "colorway": [
           "#636efa",
           "#EF553B",
           "#00cc96",
           "#ab63fa",
           "#FFA15A",
           "#19d3f3",
           "#FF6692",
           "#B6E880",
           "#FF97FF",
           "#FECB52"
          ],
          "font": {
           "color": "#2a3f5f"
          },
          "geo": {
           "bgcolor": "white",
           "lakecolor": "white",
           "landcolor": "#E5ECF6",
           "showlakes": true,
           "showland": true,
           "subunitcolor": "white"
          },
          "hoverlabel": {
           "align": "left"
          },
          "hovermode": "closest",
          "mapbox": {
           "style": "light"
          },
          "paper_bgcolor": "white",
          "plot_bgcolor": "#E5ECF6",
          "polar": {
           "angularaxis": {
            "gridcolor": "white",
            "linecolor": "white",
            "ticks": ""
           },
           "bgcolor": "#E5ECF6",
           "radialaxis": {
            "gridcolor": "white",
            "linecolor": "white",
            "ticks": ""
           }
          },
          "scene": {
           "xaxis": {
            "backgroundcolor": "#E5ECF6",
            "gridcolor": "white",
            "gridwidth": 2,
            "linecolor": "white",
            "showbackground": true,
            "ticks": "",
            "zerolinecolor": "white"
           },
           "yaxis": {
            "backgroundcolor": "#E5ECF6",
            "gridcolor": "white",
            "gridwidth": 2,
            "linecolor": "white",
            "showbackground": true,
            "ticks": "",
            "zerolinecolor": "white"
           },
           "zaxis": {
            "backgroundcolor": "#E5ECF6",
            "gridcolor": "white",
            "gridwidth": 2,
            "linecolor": "white",
            "showbackground": true,
            "ticks": "",
            "zerolinecolor": "white"
           }
          },
          "shapedefaults": {
           "line": {
            "color": "#2a3f5f"
           }
          },
          "ternary": {
           "aaxis": {
            "gridcolor": "white",
            "linecolor": "white",
            "ticks": ""
           },
           "baxis": {
            "gridcolor": "white",
            "linecolor": "white",
            "ticks": ""
           },
           "bgcolor": "#E5ECF6",
           "caxis": {
            "gridcolor": "white",
            "linecolor": "white",
            "ticks": ""
           }
          },
          "title": {
           "x": 0.05
          },
          "xaxis": {
           "automargin": true,
           "gridcolor": "white",
           "linecolor": "white",
           "ticks": "",
           "title": {
            "standoff": 15
           },
           "zerolinecolor": "white",
           "zerolinewidth": 2
          },
          "yaxis": {
           "automargin": true,
           "gridcolor": "white",
           "linecolor": "white",
           "ticks": "",
           "title": {
            "standoff": 15
           },
           "zerolinecolor": "white",
           "zerolinewidth": 2
          }
         }
        },
        "title": {
         "font": {
          "size": 20
         },
         "text": "Summed Frequency per Site for EM in Date Range 0–300",
         "x": 0.43
        }
       }
      }
     },
     "metadata": {},
     "output_type": "display_data"
    }
   ],
   "source": [
    "fig = px.scatter_geo(em_map,\n",
    "                     lat = em_map.lat,\n",
    "                     lon = em_map.long,\n",
    "                     height = 1200,\n",
    "                     color = em_map.Summed_freq,\n",
    "                   #  text = em_map['site_name_modern'],                        # param to add labels to dots  \n",
    "                     scope = 'europe',  \n",
    "                     color_continuous_scale = ['#1ed14b',  '#d63638'],  # param for colourbar palette\n",
    "                     projection = 'mercator')         \n",
    "\n",
    "\n",
    "fig.update_geos(projection_scale = 6, center_lat = 41.8719, center_lon = 12.5674)\n",
    "\n",
    "\n",
    "fig.update_layout(title_text = 'Summed Frequency per Site for EM in Date Range 0–300', \n",
    "                  title_x = 0.43, \n",
    "                  title_font_size = 20, \n",
    "                  coloraxis_colorbar = dict(len = 0.80, y = 0.60, xanchor = 'center', xpad = 192, title = ' '))\n",
    "\n",
    "fig.write_image('fig2.pdf')\n",
    "fig.show()\n"
   ]
  },
  {
   "cell_type": "markdown",
   "id": "994977e6-735d-4fa1-aae4-eadff86f84c6",
   "metadata": {},
   "source": [
    "#### 12.2 **Show *'Sites'* at which there is evidence of *'Amphora types'* in a given *'Provenance'***\n"
   ]
  },
  {
   "cell_type": "code",
   "execution_count": 14,
   "id": "0acf494d-1e1f-4788-a7a6-0803db69a262",
   "metadata": {
    "execution": {
     "iopub.execute_input": "2021-12-20T10:07:52.085238Z",
     "iopub.status.busy": "2021-12-20T10:07:52.084557Z",
     "iopub.status.idle": "2021-12-20T10:07:52.137462Z",
     "shell.execute_reply": "2021-12-20T10:07:52.136902Z",
     "shell.execute_reply.started": "2021-12-20T10:07:52.085187Z"
    },
    "tags": []
   },
   "outputs": [
    {
     "data": {
      "application/vnd.plotly.v1+json": {
       "config": {
        "plotlyServerURL": "https://plot.ly"
       },
       "data": [
        {
         "geo": "geo",
         "hovertemplate": "lat=%{lat}<br>long=%{lon}<extra></extra>",
         "lat": [
          48.506038998,
          52.127657695,
          49.743051605,
          51.737959859,
          48.371441002,
          47.533512464,
          46.88004,
          49.837124845,
          47.557421001,
          50.297153002,
          48.038963981,
          50.616667,
          48.034524228,
          46.857263278,
          46.857263278,
          47.608913642,
          49.899414048,
          46.198395674,
          48.385413715,
          49.921432406,
          50.239601003,
          50.086914048,
          50.085237086,
          50.099569,
          47.723790811,
          50.902961794,
          52.095782101,
          47.914490894,
          49.995114562,
          49.11559051,
          51.198427675,
          51.198427675,
          51.198427675,
          51.198427675,
          51.198427675,
          50.160026969,
          51.842865788,
          51.6139278,
          48.712669333,
          48.038963981,
          48.166461181,
          50.365459989,
          48.582042739,
          48.582042739,
          47.595611001,
          49.540277999,
          52.057731407,
          52.460391603,
          47.481828274,
          47.481828274,
          52.076157999,
          50.583029999
         ],
         "legendgroup": "",
         "lon": [
          10.455590001,
          4.6688508,
          8.114029556,
          8.593170904,
          10.898254999,
          7.716279517,
          7.04071,
          7.865673513,
          7.592573001,
          3.791744,
          7.545055911,
          5.133333001,
          7.577198561,
          9.526722777,
          9.526722777,
          8.295442415,
          8.846421452,
          6.142314761,
          5.484963602,
          8.481813097,
          8.865685994,
          8.448318019,
          8.449515873,
          8.540383001,
          10.311208742,
          6.972528456,
          5.0676188,
          10.916169981,
          8.267411466,
          6.174285331,
          6.695272731,
          6.695272731,
          6.695272731,
          6.695272731,
          6.695272731,
          8.647162809,
          5.854620562,
          7.5832674,
          11.454577377,
          7.545055911,
          8.627795857,
          8.766051012,
          7.745647847,
          7.745647847,
          7.120411001,
          5.859722,
          5.161012618,
          4.632448075,
          8.221169821,
          8.221169821,
          4.362540999,
          8.54225
         ],
         "marker": {
          "color": "#636efa",
          "symbol": "circle"
         },
         "mode": "markers",
         "name": "",
         "showlegend": false,
         "type": "scattergeo"
        }
       ],
       "layout": {
        "geo": {
         "center": {
          "lat": 41.8719,
          "lon": 12.5674
         },
         "domain": {
          "x": [
           0,
           1
          ],
          "y": [
           0,
           1
          ]
         },
         "projection": {
          "scale": 6,
          "type": "mercator"
         },
         "scope": "europe"
        },
        "height": 1200,
        "legend": {
         "tracegroupgap": 0
        },
        "margin": {
         "t": 60
        },
        "template": {
         "data": {
          "bar": [
           {
            "error_x": {
             "color": "#2a3f5f"
            },
            "error_y": {
             "color": "#2a3f5f"
            },
            "marker": {
             "line": {
              "color": "#E5ECF6",
              "width": 0.5
             },
             "pattern": {
              "fillmode": "overlay",
              "size": 10,
              "solidity": 0.2
             }
            },
            "type": "bar"
           }
          ],
          "barpolar": [
           {
            "marker": {
             "line": {
              "color": "#E5ECF6",
              "width": 0.5
             },
             "pattern": {
              "fillmode": "overlay",
              "size": 10,
              "solidity": 0.2
             }
            },
            "type": "barpolar"
           }
          ],
          "carpet": [
           {
            "aaxis": {
             "endlinecolor": "#2a3f5f",
             "gridcolor": "white",
             "linecolor": "white",
             "minorgridcolor": "white",
             "startlinecolor": "#2a3f5f"
            },
            "baxis": {
             "endlinecolor": "#2a3f5f",
             "gridcolor": "white",
             "linecolor": "white",
             "minorgridcolor": "white",
             "startlinecolor": "#2a3f5f"
            },
            "type": "carpet"
           }
          ],
          "choropleth": [
           {
            "colorbar": {
             "outlinewidth": 0,
             "ticks": ""
            },
            "type": "choropleth"
           }
          ],
          "contour": [
           {
            "colorbar": {
             "outlinewidth": 0,
             "ticks": ""
            },
            "colorscale": [
             [
              0,
              "#0d0887"
             ],
             [
              0.1111111111111111,
              "#46039f"
             ],
             [
              0.2222222222222222,
              "#7201a8"
             ],
             [
              0.3333333333333333,
              "#9c179e"
             ],
             [
              0.4444444444444444,
              "#bd3786"
             ],
             [
              0.5555555555555556,
              "#d8576b"
             ],
             [
              0.6666666666666666,
              "#ed7953"
             ],
             [
              0.7777777777777778,
              "#fb9f3a"
             ],
             [
              0.8888888888888888,
              "#fdca26"
             ],
             [
              1,
              "#f0f921"
             ]
            ],
            "type": "contour"
           }
          ],
          "contourcarpet": [
           {
            "colorbar": {
             "outlinewidth": 0,
             "ticks": ""
            },
            "type": "contourcarpet"
           }
          ],
          "heatmap": [
           {
            "colorbar": {
             "outlinewidth": 0,
             "ticks": ""
            },
            "colorscale": [
             [
              0,
              "#0d0887"
             ],
             [
              0.1111111111111111,
              "#46039f"
             ],
             [
              0.2222222222222222,
              "#7201a8"
             ],
             [
              0.3333333333333333,
              "#9c179e"
             ],
             [
              0.4444444444444444,
              "#bd3786"
             ],
             [
              0.5555555555555556,
              "#d8576b"
             ],
             [
              0.6666666666666666,
              "#ed7953"
             ],
             [
              0.7777777777777778,
              "#fb9f3a"
             ],
             [
              0.8888888888888888,
              "#fdca26"
             ],
             [
              1,
              "#f0f921"
             ]
            ],
            "type": "heatmap"
           }
          ],
          "heatmapgl": [
           {
            "colorbar": {
             "outlinewidth": 0,
             "ticks": ""
            },
            "colorscale": [
             [
              0,
              "#0d0887"
             ],
             [
              0.1111111111111111,
              "#46039f"
             ],
             [
              0.2222222222222222,
              "#7201a8"
             ],
             [
              0.3333333333333333,
              "#9c179e"
             ],
             [
              0.4444444444444444,
              "#bd3786"
             ],
             [
              0.5555555555555556,
              "#d8576b"
             ],
             [
              0.6666666666666666,
              "#ed7953"
             ],
             [
              0.7777777777777778,
              "#fb9f3a"
             ],
             [
              0.8888888888888888,
              "#fdca26"
             ],
             [
              1,
              "#f0f921"
             ]
            ],
            "type": "heatmapgl"
           }
          ],
          "histogram": [
           {
            "marker": {
             "pattern": {
              "fillmode": "overlay",
              "size": 10,
              "solidity": 0.2
             }
            },
            "type": "histogram"
           }
          ],
          "histogram2d": [
           {
            "colorbar": {
             "outlinewidth": 0,
             "ticks": ""
            },
            "colorscale": [
             [
              0,
              "#0d0887"
             ],
             [
              0.1111111111111111,
              "#46039f"
             ],
             [
              0.2222222222222222,
              "#7201a8"
             ],
             [
              0.3333333333333333,
              "#9c179e"
             ],
             [
              0.4444444444444444,
              "#bd3786"
             ],
             [
              0.5555555555555556,
              "#d8576b"
             ],
             [
              0.6666666666666666,
              "#ed7953"
             ],
             [
              0.7777777777777778,
              "#fb9f3a"
             ],
             [
              0.8888888888888888,
              "#fdca26"
             ],
             [
              1,
              "#f0f921"
             ]
            ],
            "type": "histogram2d"
           }
          ],
          "histogram2dcontour": [
           {
            "colorbar": {
             "outlinewidth": 0,
             "ticks": ""
            },
            "colorscale": [
             [
              0,
              "#0d0887"
             ],
             [
              0.1111111111111111,
              "#46039f"
             ],
             [
              0.2222222222222222,
              "#7201a8"
             ],
             [
              0.3333333333333333,
              "#9c179e"
             ],
             [
              0.4444444444444444,
              "#bd3786"
             ],
             [
              0.5555555555555556,
              "#d8576b"
             ],
             [
              0.6666666666666666,
              "#ed7953"
             ],
             [
              0.7777777777777778,
              "#fb9f3a"
             ],
             [
              0.8888888888888888,
              "#fdca26"
             ],
             [
              1,
              "#f0f921"
             ]
            ],
            "type": "histogram2dcontour"
           }
          ],
          "mesh3d": [
           {
            "colorbar": {
             "outlinewidth": 0,
             "ticks": ""
            },
            "type": "mesh3d"
           }
          ],
          "parcoords": [
           {
            "line": {
             "colorbar": {
              "outlinewidth": 0,
              "ticks": ""
             }
            },
            "type": "parcoords"
           }
          ],
          "pie": [
           {
            "automargin": true,
            "type": "pie"
           }
          ],
          "scatter": [
           {
            "marker": {
             "colorbar": {
              "outlinewidth": 0,
              "ticks": ""
             }
            },
            "type": "scatter"
           }
          ],
          "scatter3d": [
           {
            "line": {
             "colorbar": {
              "outlinewidth": 0,
              "ticks": ""
             }
            },
            "marker": {
             "colorbar": {
              "outlinewidth": 0,
              "ticks": ""
             }
            },
            "type": "scatter3d"
           }
          ],
          "scattercarpet": [
           {
            "marker": {
             "colorbar": {
              "outlinewidth": 0,
              "ticks": ""
             }
            },
            "type": "scattercarpet"
           }
          ],
          "scattergeo": [
           {
            "marker": {
             "colorbar": {
              "outlinewidth": 0,
              "ticks": ""
             }
            },
            "type": "scattergeo"
           }
          ],
          "scattergl": [
           {
            "marker": {
             "colorbar": {
              "outlinewidth": 0,
              "ticks": ""
             }
            },
            "type": "scattergl"
           }
          ],
          "scattermapbox": [
           {
            "marker": {
             "colorbar": {
              "outlinewidth": 0,
              "ticks": ""
             }
            },
            "type": "scattermapbox"
           }
          ],
          "scatterpolar": [
           {
            "marker": {
             "colorbar": {
              "outlinewidth": 0,
              "ticks": ""
             }
            },
            "type": "scatterpolar"
           }
          ],
          "scatterpolargl": [
           {
            "marker": {
             "colorbar": {
              "outlinewidth": 0,
              "ticks": ""
             }
            },
            "type": "scatterpolargl"
           }
          ],
          "scatterternary": [
           {
            "marker": {
             "colorbar": {
              "outlinewidth": 0,
              "ticks": ""
             }
            },
            "type": "scatterternary"
           }
          ],
          "surface": [
           {
            "colorbar": {
             "outlinewidth": 0,
             "ticks": ""
            },
            "colorscale": [
             [
              0,
              "#0d0887"
             ],
             [
              0.1111111111111111,
              "#46039f"
             ],
             [
              0.2222222222222222,
              "#7201a8"
             ],
             [
              0.3333333333333333,
              "#9c179e"
             ],
             [
              0.4444444444444444,
              "#bd3786"
             ],
             [
              0.5555555555555556,
              "#d8576b"
             ],
             [
              0.6666666666666666,
              "#ed7953"
             ],
             [
              0.7777777777777778,
              "#fb9f3a"
             ],
             [
              0.8888888888888888,
              "#fdca26"
             ],
             [
              1,
              "#f0f921"
             ]
            ],
            "type": "surface"
           }
          ],
          "table": [
           {
            "cells": {
             "fill": {
              "color": "#EBF0F8"
             },
             "line": {
              "color": "white"
             }
            },
            "header": {
             "fill": {
              "color": "#C8D4E3"
             },
             "line": {
              "color": "white"
             }
            },
            "type": "table"
           }
          ]
         },
         "layout": {
          "annotationdefaults": {
           "arrowcolor": "#2a3f5f",
           "arrowhead": 0,
           "arrowwidth": 1
          },
          "autotypenumbers": "strict",
          "coloraxis": {
           "colorbar": {
            "outlinewidth": 0,
            "ticks": ""
           }
          },
          "colorscale": {
           "diverging": [
            [
             0,
             "#8e0152"
            ],
            [
             0.1,
             "#c51b7d"
            ],
            [
             0.2,
             "#de77ae"
            ],
            [
             0.3,
             "#f1b6da"
            ],
            [
             0.4,
             "#fde0ef"
            ],
            [
             0.5,
             "#f7f7f7"
            ],
            [
             0.6,
             "#e6f5d0"
            ],
            [
             0.7,
             "#b8e186"
            ],
            [
             0.8,
             "#7fbc41"
            ],
            [
             0.9,
             "#4d9221"
            ],
            [
             1,
             "#276419"
            ]
           ],
           "sequential": [
            [
             0,
             "#0d0887"
            ],
            [
             0.1111111111111111,
             "#46039f"
            ],
            [
             0.2222222222222222,
             "#7201a8"
            ],
            [
             0.3333333333333333,
             "#9c179e"
            ],
            [
             0.4444444444444444,
             "#bd3786"
            ],
            [
             0.5555555555555556,
             "#d8576b"
            ],
            [
             0.6666666666666666,
             "#ed7953"
            ],
            [
             0.7777777777777778,
             "#fb9f3a"
            ],
            [
             0.8888888888888888,
             "#fdca26"
            ],
            [
             1,
             "#f0f921"
            ]
           ],
           "sequentialminus": [
            [
             0,
             "#0d0887"
            ],
            [
             0.1111111111111111,
             "#46039f"
            ],
            [
             0.2222222222222222,
             "#7201a8"
            ],
            [
             0.3333333333333333,
             "#9c179e"
            ],
            [
             0.4444444444444444,
             "#bd3786"
            ],
            [
             0.5555555555555556,
             "#d8576b"
            ],
            [
             0.6666666666666666,
             "#ed7953"
            ],
            [
             0.7777777777777778,
             "#fb9f3a"
            ],
            [
             0.8888888888888888,
             "#fdca26"
            ],
            [
             1,
             "#f0f921"
            ]
           ]
          },
          "colorway": [
           "#636efa",
           "#EF553B",
           "#00cc96",
           "#ab63fa",
           "#FFA15A",
           "#19d3f3",
           "#FF6692",
           "#B6E880",
           "#FF97FF",
           "#FECB52"
          ],
          "font": {
           "color": "#2a3f5f"
          },
          "geo": {
           "bgcolor": "white",
           "lakecolor": "white",
           "landcolor": "#E5ECF6",
           "showlakes": true,
           "showland": true,
           "subunitcolor": "white"
          },
          "hoverlabel": {
           "align": "left"
          },
          "hovermode": "closest",
          "mapbox": {
           "style": "light"
          },
          "paper_bgcolor": "white",
          "plot_bgcolor": "#E5ECF6",
          "polar": {
           "angularaxis": {
            "gridcolor": "white",
            "linecolor": "white",
            "ticks": ""
           },
           "bgcolor": "#E5ECF6",
           "radialaxis": {
            "gridcolor": "white",
            "linecolor": "white",
            "ticks": ""
           }
          },
          "scene": {
           "xaxis": {
            "backgroundcolor": "#E5ECF6",
            "gridcolor": "white",
            "gridwidth": 2,
            "linecolor": "white",
            "showbackground": true,
            "ticks": "",
            "zerolinecolor": "white"
           },
           "yaxis": {
            "backgroundcolor": "#E5ECF6",
            "gridcolor": "white",
            "gridwidth": 2,
            "linecolor": "white",
            "showbackground": true,
            "ticks": "",
            "zerolinecolor": "white"
           },
           "zaxis": {
            "backgroundcolor": "#E5ECF6",
            "gridcolor": "white",
            "gridwidth": 2,
            "linecolor": "white",
            "showbackground": true,
            "ticks": "",
            "zerolinecolor": "white"
           }
          },
          "shapedefaults": {
           "line": {
            "color": "#2a3f5f"
           }
          },
          "ternary": {
           "aaxis": {
            "gridcolor": "white",
            "linecolor": "white",
            "ticks": ""
           },
           "baxis": {
            "gridcolor": "white",
            "linecolor": "white",
            "ticks": ""
           },
           "bgcolor": "#E5ECF6",
           "caxis": {
            "gridcolor": "white",
            "linecolor": "white",
            "ticks": ""
           }
          },
          "title": {
           "x": 0.05
          },
          "xaxis": {
           "automargin": true,
           "gridcolor": "white",
           "linecolor": "white",
           "ticks": "",
           "title": {
            "standoff": 15
           },
           "zerolinecolor": "white",
           "zerolinewidth": 2
          },
          "yaxis": {
           "automargin": true,
           "gridcolor": "white",
           "linecolor": "white",
           "ticks": "",
           "title": {
            "standoff": 15
           },
           "zerolinecolor": "white",
           "zerolinewidth": 2
          }
         }
        },
        "title": {
         "font": {
          "size": 20
         },
         "text": "Sites for EM in Date Range 0–300",
         "x": 0.5
        }
       }
      }
     },
     "metadata": {},
     "output_type": "display_data"
    }
   ],
   "source": [
    "fig = px.scatter_geo(em_map,\n",
    "                     lat = em_map.lat,\n",
    "                     lon = em_map.long,\n",
    "                     height = 1200, \n",
    "                     #text = em_map['site_name_modern'],           \n",
    "                     scope = 'europe',                    \n",
    "                     projection = 'mercator')      \n",
    "         \n",
    "        \n",
    "fig.update_geos(projection_scale = 6, center_lat = 41.8719, center_lon = 12.5674)\n",
    "\n",
    "fig.update_layout(title_text = 'Sites for EM in Date Range 0–300', \n",
    "                  title_x = 0.5, \n",
    "                  title_font_size = 20)    \n",
    "\n",
    "fig.write_image('fig3.pdf')\n",
    "fig.show()\n"
   ]
  },
  {
   "cell_type": "markdown",
   "id": "210db89f-733b-4b56-a272-e04d9cf63d0f",
   "metadata": {},
   "source": [
    "#### 12.3 **Scale the dot size/colour by (unique) *'Amphora types'* per *'Site'***"
   ]
  },
  {
   "cell_type": "code",
   "execution_count": 15,
   "id": "330c5ed4-87ed-4944-9c0e-117978297dd6",
   "metadata": {
    "execution": {
     "iopub.execute_input": "2021-12-20T10:08:00.265910Z",
     "iopub.status.busy": "2021-12-20T10:08:00.265434Z",
     "iopub.status.idle": "2021-12-20T10:08:00.319840Z",
     "shell.execute_reply": "2021-12-20T10:08:00.319280Z",
     "shell.execute_reply.started": "2021-12-20T10:08:00.265860Z"
    },
    "tags": []
   },
   "outputs": [
    {
     "data": {
      "application/vnd.plotly.v1+json": {
       "config": {
        "plotlyServerURL": "https://plot.ly"
       },
       "data": [
        {
         "geo": "geo",
         "hovertemplate": "RAAD_type_count=%{marker.size}<br>lat=%{lat}<br>long=%{lon}<extra></extra>",
         "lat": [
          48.506038998,
          52.127657695,
          49.743051605,
          51.737959859,
          48.371441002,
          47.533512464,
          46.88004,
          49.837124845,
          47.557421001,
          50.297153002,
          48.038963981,
          50.616667,
          48.034524228,
          46.857263278,
          46.857263278,
          47.608913642,
          49.899414048,
          46.198395674,
          48.385413715,
          49.921432406,
          50.239601003,
          50.086914048,
          50.085237086,
          50.099569,
          47.723790811,
          50.902961794,
          52.095782101,
          47.914490894,
          49.995114562,
          49.11559051,
          51.198427675,
          51.198427675,
          51.198427675,
          51.198427675,
          51.198427675,
          50.160026969,
          51.842865788,
          51.6139278,
          48.712669333,
          48.038963981,
          48.166461181,
          50.365459989,
          48.582042739,
          48.582042739,
          47.595611001,
          49.540277999,
          52.057731407,
          52.460391603,
          47.481828274,
          47.481828274,
          52.076157999,
          50.583029999
         ],
         "legendgroup": "",
         "lon": [
          10.455590001,
          4.6688508,
          8.114029556,
          8.593170904,
          10.898254999,
          7.716279517,
          7.04071,
          7.865673513,
          7.592573001,
          3.791744,
          7.545055911,
          5.133333001,
          7.577198561,
          9.526722777,
          9.526722777,
          8.295442415,
          8.846421452,
          6.142314761,
          5.484963602,
          8.481813097,
          8.865685994,
          8.448318019,
          8.449515873,
          8.540383001,
          10.311208742,
          6.972528456,
          5.0676188,
          10.916169981,
          8.267411466,
          6.174285331,
          6.695272731,
          6.695272731,
          6.695272731,
          6.695272731,
          6.695272731,
          8.647162809,
          5.854620562,
          7.5832674,
          11.454577377,
          7.545055911,
          8.627795857,
          8.766051012,
          7.745647847,
          7.745647847,
          7.120411001,
          5.859722,
          5.161012618,
          4.632448075,
          8.221169821,
          8.221169821,
          4.362540999,
          8.54225
         ],
         "marker": {
          "color": "#636efa",
          "size": [
           1,
           2,
           1,
           4,
           4,
           16,
           1,
           4,
           1,
           2,
           3,
           4,
           1,
           1,
           2,
           3,
           1,
           1,
           2,
           2,
           1,
           1,
           1,
           2,
           5,
           2,
           2,
           3,
           11,
           2,
           8,
           1,
           4,
           3,
           4,
           5,
           10,
           3,
           2,
           3,
           1,
           3,
           3,
           3,
           1,
           1,
           2,
           2,
           1,
           2,
           1,
           2
          ],
          "sizemode": "area",
          "sizeref": 0.04,
          "symbol": "circle"
         },
         "mode": "markers",
         "name": "",
         "showlegend": false,
         "type": "scattergeo"
        }
       ],
       "layout": {
        "geo": {
         "center": {
          "lat": 41.8719,
          "lon": 12.5674
         },
         "domain": {
          "x": [
           0,
           1
          ],
          "y": [
           0,
           1
          ]
         },
         "projection": {
          "scale": 6,
          "type": "mercator"
         },
         "scope": "europe"
        },
        "height": 1200,
        "legend": {
         "itemsizing": "constant",
         "tracegroupgap": 0
        },
        "margin": {
         "t": 60
        },
        "template": {
         "data": {
          "bar": [
           {
            "error_x": {
             "color": "#2a3f5f"
            },
            "error_y": {
             "color": "#2a3f5f"
            },
            "marker": {
             "line": {
              "color": "#E5ECF6",
              "width": 0.5
             },
             "pattern": {
              "fillmode": "overlay",
              "size": 10,
              "solidity": 0.2
             }
            },
            "type": "bar"
           }
          ],
          "barpolar": [
           {
            "marker": {
             "line": {
              "color": "#E5ECF6",
              "width": 0.5
             },
             "pattern": {
              "fillmode": "overlay",
              "size": 10,
              "solidity": 0.2
             }
            },
            "type": "barpolar"
           }
          ],
          "carpet": [
           {
            "aaxis": {
             "endlinecolor": "#2a3f5f",
             "gridcolor": "white",
             "linecolor": "white",
             "minorgridcolor": "white",
             "startlinecolor": "#2a3f5f"
            },
            "baxis": {
             "endlinecolor": "#2a3f5f",
             "gridcolor": "white",
             "linecolor": "white",
             "minorgridcolor": "white",
             "startlinecolor": "#2a3f5f"
            },
            "type": "carpet"
           }
          ],
          "choropleth": [
           {
            "colorbar": {
             "outlinewidth": 0,
             "ticks": ""
            },
            "type": "choropleth"
           }
          ],
          "contour": [
           {
            "colorbar": {
             "outlinewidth": 0,
             "ticks": ""
            },
            "colorscale": [
             [
              0,
              "#0d0887"
             ],
             [
              0.1111111111111111,
              "#46039f"
             ],
             [
              0.2222222222222222,
              "#7201a8"
             ],
             [
              0.3333333333333333,
              "#9c179e"
             ],
             [
              0.4444444444444444,
              "#bd3786"
             ],
             [
              0.5555555555555556,
              "#d8576b"
             ],
             [
              0.6666666666666666,
              "#ed7953"
             ],
             [
              0.7777777777777778,
              "#fb9f3a"
             ],
             [
              0.8888888888888888,
              "#fdca26"
             ],
             [
              1,
              "#f0f921"
             ]
            ],
            "type": "contour"
           }
          ],
          "contourcarpet": [
           {
            "colorbar": {
             "outlinewidth": 0,
             "ticks": ""
            },
            "type": "contourcarpet"
           }
          ],
          "heatmap": [
           {
            "colorbar": {
             "outlinewidth": 0,
             "ticks": ""
            },
            "colorscale": [
             [
              0,
              "#0d0887"
             ],
             [
              0.1111111111111111,
              "#46039f"
             ],
             [
              0.2222222222222222,
              "#7201a8"
             ],
             [
              0.3333333333333333,
              "#9c179e"
             ],
             [
              0.4444444444444444,
              "#bd3786"
             ],
             [
              0.5555555555555556,
              "#d8576b"
             ],
             [
              0.6666666666666666,
              "#ed7953"
             ],
             [
              0.7777777777777778,
              "#fb9f3a"
             ],
             [
              0.8888888888888888,
              "#fdca26"
             ],
             [
              1,
              "#f0f921"
             ]
            ],
            "type": "heatmap"
           }
          ],
          "heatmapgl": [
           {
            "colorbar": {
             "outlinewidth": 0,
             "ticks": ""
            },
            "colorscale": [
             [
              0,
              "#0d0887"
             ],
             [
              0.1111111111111111,
              "#46039f"
             ],
             [
              0.2222222222222222,
              "#7201a8"
             ],
             [
              0.3333333333333333,
              "#9c179e"
             ],
             [
              0.4444444444444444,
              "#bd3786"
             ],
             [
              0.5555555555555556,
              "#d8576b"
             ],
             [
              0.6666666666666666,
              "#ed7953"
             ],
             [
              0.7777777777777778,
              "#fb9f3a"
             ],
             [
              0.8888888888888888,
              "#fdca26"
             ],
             [
              1,
              "#f0f921"
             ]
            ],
            "type": "heatmapgl"
           }
          ],
          "histogram": [
           {
            "marker": {
             "pattern": {
              "fillmode": "overlay",
              "size": 10,
              "solidity": 0.2
             }
            },
            "type": "histogram"
           }
          ],
          "histogram2d": [
           {
            "colorbar": {
             "outlinewidth": 0,
             "ticks": ""
            },
            "colorscale": [
             [
              0,
              "#0d0887"
             ],
             [
              0.1111111111111111,
              "#46039f"
             ],
             [
              0.2222222222222222,
              "#7201a8"
             ],
             [
              0.3333333333333333,
              "#9c179e"
             ],
             [
              0.4444444444444444,
              "#bd3786"
             ],
             [
              0.5555555555555556,
              "#d8576b"
             ],
             [
              0.6666666666666666,
              "#ed7953"
             ],
             [
              0.7777777777777778,
              "#fb9f3a"
             ],
             [
              0.8888888888888888,
              "#fdca26"
             ],
             [
              1,
              "#f0f921"
             ]
            ],
            "type": "histogram2d"
           }
          ],
          "histogram2dcontour": [
           {
            "colorbar": {
             "outlinewidth": 0,
             "ticks": ""
            },
            "colorscale": [
             [
              0,
              "#0d0887"
             ],
             [
              0.1111111111111111,
              "#46039f"
             ],
             [
              0.2222222222222222,
              "#7201a8"
             ],
             [
              0.3333333333333333,
              "#9c179e"
             ],
             [
              0.4444444444444444,
              "#bd3786"
             ],
             [
              0.5555555555555556,
              "#d8576b"
             ],
             [
              0.6666666666666666,
              "#ed7953"
             ],
             [
              0.7777777777777778,
              "#fb9f3a"
             ],
             [
              0.8888888888888888,
              "#fdca26"
             ],
             [
              1,
              "#f0f921"
             ]
            ],
            "type": "histogram2dcontour"
           }
          ],
          "mesh3d": [
           {
            "colorbar": {
             "outlinewidth": 0,
             "ticks": ""
            },
            "type": "mesh3d"
           }
          ],
          "parcoords": [
           {
            "line": {
             "colorbar": {
              "outlinewidth": 0,
              "ticks": ""
             }
            },
            "type": "parcoords"
           }
          ],
          "pie": [
           {
            "automargin": true,
            "type": "pie"
           }
          ],
          "scatter": [
           {
            "marker": {
             "colorbar": {
              "outlinewidth": 0,
              "ticks": ""
             }
            },
            "type": "scatter"
           }
          ],
          "scatter3d": [
           {
            "line": {
             "colorbar": {
              "outlinewidth": 0,
              "ticks": ""
             }
            },
            "marker": {
             "colorbar": {
              "outlinewidth": 0,
              "ticks": ""
             }
            },
            "type": "scatter3d"
           }
          ],
          "scattercarpet": [
           {
            "marker": {
             "colorbar": {
              "outlinewidth": 0,
              "ticks": ""
             }
            },
            "type": "scattercarpet"
           }
          ],
          "scattergeo": [
           {
            "marker": {
             "colorbar": {
              "outlinewidth": 0,
              "ticks": ""
             }
            },
            "type": "scattergeo"
           }
          ],
          "scattergl": [
           {
            "marker": {
             "colorbar": {
              "outlinewidth": 0,
              "ticks": ""
             }
            },
            "type": "scattergl"
           }
          ],
          "scattermapbox": [
           {
            "marker": {
             "colorbar": {
              "outlinewidth": 0,
              "ticks": ""
             }
            },
            "type": "scattermapbox"
           }
          ],
          "scatterpolar": [
           {
            "marker": {
             "colorbar": {
              "outlinewidth": 0,
              "ticks": ""
             }
            },
            "type": "scatterpolar"
           }
          ],
          "scatterpolargl": [
           {
            "marker": {
             "colorbar": {
              "outlinewidth": 0,
              "ticks": ""
             }
            },
            "type": "scatterpolargl"
           }
          ],
          "scatterternary": [
           {
            "marker": {
             "colorbar": {
              "outlinewidth": 0,
              "ticks": ""
             }
            },
            "type": "scatterternary"
           }
          ],
          "surface": [
           {
            "colorbar": {
             "outlinewidth": 0,
             "ticks": ""
            },
            "colorscale": [
             [
              0,
              "#0d0887"
             ],
             [
              0.1111111111111111,
              "#46039f"
             ],
             [
              0.2222222222222222,
              "#7201a8"
             ],
             [
              0.3333333333333333,
              "#9c179e"
             ],
             [
              0.4444444444444444,
              "#bd3786"
             ],
             [
              0.5555555555555556,
              "#d8576b"
             ],
             [
              0.6666666666666666,
              "#ed7953"
             ],
             [
              0.7777777777777778,
              "#fb9f3a"
             ],
             [
              0.8888888888888888,
              "#fdca26"
             ],
             [
              1,
              "#f0f921"
             ]
            ],
            "type": "surface"
           }
          ],
          "table": [
           {
            "cells": {
             "fill": {
              "color": "#EBF0F8"
             },
             "line": {
              "color": "white"
             }
            },
            "header": {
             "fill": {
              "color": "#C8D4E3"
             },
             "line": {
              "color": "white"
             }
            },
            "type": "table"
           }
          ]
         },
         "layout": {
          "annotationdefaults": {
           "arrowcolor": "#2a3f5f",
           "arrowhead": 0,
           "arrowwidth": 1
          },
          "autotypenumbers": "strict",
          "coloraxis": {
           "colorbar": {
            "outlinewidth": 0,
            "ticks": ""
           }
          },
          "colorscale": {
           "diverging": [
            [
             0,
             "#8e0152"
            ],
            [
             0.1,
             "#c51b7d"
            ],
            [
             0.2,
             "#de77ae"
            ],
            [
             0.3,
             "#f1b6da"
            ],
            [
             0.4,
             "#fde0ef"
            ],
            [
             0.5,
             "#f7f7f7"
            ],
            [
             0.6,
             "#e6f5d0"
            ],
            [
             0.7,
             "#b8e186"
            ],
            [
             0.8,
             "#7fbc41"
            ],
            [
             0.9,
             "#4d9221"
            ],
            [
             1,
             "#276419"
            ]
           ],
           "sequential": [
            [
             0,
             "#0d0887"
            ],
            [
             0.1111111111111111,
             "#46039f"
            ],
            [
             0.2222222222222222,
             "#7201a8"
            ],
            [
             0.3333333333333333,
             "#9c179e"
            ],
            [
             0.4444444444444444,
             "#bd3786"
            ],
            [
             0.5555555555555556,
             "#d8576b"
            ],
            [
             0.6666666666666666,
             "#ed7953"
            ],
            [
             0.7777777777777778,
             "#fb9f3a"
            ],
            [
             0.8888888888888888,
             "#fdca26"
            ],
            [
             1,
             "#f0f921"
            ]
           ],
           "sequentialminus": [
            [
             0,
             "#0d0887"
            ],
            [
             0.1111111111111111,
             "#46039f"
            ],
            [
             0.2222222222222222,
             "#7201a8"
            ],
            [
             0.3333333333333333,
             "#9c179e"
            ],
            [
             0.4444444444444444,
             "#bd3786"
            ],
            [
             0.5555555555555556,
             "#d8576b"
            ],
            [
             0.6666666666666666,
             "#ed7953"
            ],
            [
             0.7777777777777778,
             "#fb9f3a"
            ],
            [
             0.8888888888888888,
             "#fdca26"
            ],
            [
             1,
             "#f0f921"
            ]
           ]
          },
          "colorway": [
           "#636efa",
           "#EF553B",
           "#00cc96",
           "#ab63fa",
           "#FFA15A",
           "#19d3f3",
           "#FF6692",
           "#B6E880",
           "#FF97FF",
           "#FECB52"
          ],
          "font": {
           "color": "#2a3f5f"
          },
          "geo": {
           "bgcolor": "white",
           "lakecolor": "white",
           "landcolor": "#E5ECF6",
           "showlakes": true,
           "showland": true,
           "subunitcolor": "white"
          },
          "hoverlabel": {
           "align": "left"
          },
          "hovermode": "closest",
          "mapbox": {
           "style": "light"
          },
          "paper_bgcolor": "white",
          "plot_bgcolor": "#E5ECF6",
          "polar": {
           "angularaxis": {
            "gridcolor": "white",
            "linecolor": "white",
            "ticks": ""
           },
           "bgcolor": "#E5ECF6",
           "radialaxis": {
            "gridcolor": "white",
            "linecolor": "white",
            "ticks": ""
           }
          },
          "scene": {
           "xaxis": {
            "backgroundcolor": "#E5ECF6",
            "gridcolor": "white",
            "gridwidth": 2,
            "linecolor": "white",
            "showbackground": true,
            "ticks": "",
            "zerolinecolor": "white"
           },
           "yaxis": {
            "backgroundcolor": "#E5ECF6",
            "gridcolor": "white",
            "gridwidth": 2,
            "linecolor": "white",
            "showbackground": true,
            "ticks": "",
            "zerolinecolor": "white"
           },
           "zaxis": {
            "backgroundcolor": "#E5ECF6",
            "gridcolor": "white",
            "gridwidth": 2,
            "linecolor": "white",
            "showbackground": true,
            "ticks": "",
            "zerolinecolor": "white"
           }
          },
          "shapedefaults": {
           "line": {
            "color": "#2a3f5f"
           }
          },
          "ternary": {
           "aaxis": {
            "gridcolor": "white",
            "linecolor": "white",
            "ticks": ""
           },
           "baxis": {
            "gridcolor": "white",
            "linecolor": "white",
            "ticks": ""
           },
           "bgcolor": "#E5ECF6",
           "caxis": {
            "gridcolor": "white",
            "linecolor": "white",
            "ticks": ""
           }
          },
          "title": {
           "x": 0.05
          },
          "xaxis": {
           "automargin": true,
           "gridcolor": "white",
           "linecolor": "white",
           "ticks": "",
           "title": {
            "standoff": 15
           },
           "zerolinecolor": "white",
           "zerolinewidth": 2
          },
          "yaxis": {
           "automargin": true,
           "gridcolor": "white",
           "linecolor": "white",
           "ticks": "",
           "title": {
            "standoff": 15
           },
           "zerolinecolor": "white",
           "zerolinewidth": 2
          }
         }
        },
        "title": {
         "font": {
          "size": 20
         },
         "text": "RAAD Type Count per Site for EM in Date Range 0–300",
         "x": 0.5
        }
       }
      }
     },
     "metadata": {},
     "output_type": "display_data"
    }
   ],
   "source": [
    "fig = px.scatter_geo(em_map,\n",
    "                     lat = em_map.lat,\n",
    "                     lon = em_map.long,\n",
    "                     height = 1200, \n",
    "                     size = em_map.RAAD_type_count,      \n",
    "                     #text = em_map['site_name_modern'],              \n",
    "                     scope = 'europe',                           \n",
    "                     projection = 'mercator')\n",
    "                                       \n",
    "\n",
    "fig.update_geos(projection_scale = 6, center_lat = 41.8719, center_lon = 12.5674)\n",
    "\n",
    "fig.update_layout(title_text = 'RAAD Type Count per Site for EM in Date Range 0–300', \n",
    "                  title_x = 0.5,\n",
    "                  title_font_size = 20)    \n",
    "\n",
    "fig.write_image('fig4.pdf')\n",
    "fig.show()"
   ]
  },
  {
   "cell_type": "code",
   "execution_count": 16,
   "id": "93bb9f7c-5b89-4ac4-8562-71129656b8e3",
   "metadata": {
    "execution": {
     "iopub.execute_input": "2021-12-20T10:08:05.556016Z",
     "iopub.status.busy": "2021-12-20T10:08:05.555455Z",
     "iopub.status.idle": "2021-12-20T10:08:05.749332Z",
     "shell.execute_reply": "2021-12-20T10:08:05.748756Z",
     "shell.execute_reply.started": "2021-12-20T10:08:05.555967Z"
    },
    "tags": []
   },
   "outputs": [
    {
     "data": {
      "application/vnd.plotly.v1+json": {
       "config": {
        "plotlyServerURL": "https://plot.ly"
       },
       "data": [
        {
         "geo": "geo",
         "hovertemplate": "lat=%{lat}<br>long=%{lon}<br>RAAD_type_count=%{marker.color}<extra></extra>",
         "lat": [
          48.506038998,
          52.127657695,
          49.743051605,
          51.737959859,
          48.371441002,
          47.533512464,
          46.88004,
          49.837124845,
          47.557421001,
          50.297153002,
          48.038963981,
          50.616667,
          48.034524228,
          46.857263278,
          46.857263278,
          47.608913642,
          49.899414048,
          46.198395674,
          48.385413715,
          49.921432406,
          50.239601003,
          50.086914048,
          50.085237086,
          50.099569,
          47.723790811,
          50.902961794,
          52.095782101,
          47.914490894,
          49.995114562,
          49.11559051,
          51.198427675,
          51.198427675,
          51.198427675,
          51.198427675,
          51.198427675,
          50.160026969,
          51.842865788,
          51.6139278,
          48.712669333,
          48.038963981,
          48.166461181,
          50.365459989,
          48.582042739,
          48.582042739,
          47.595611001,
          49.540277999,
          52.057731407,
          52.460391603,
          47.481828274,
          47.481828274,
          52.076157999,
          50.583029999
         ],
         "legendgroup": "",
         "lon": [
          10.455590001,
          4.6688508,
          8.114029556,
          8.593170904,
          10.898254999,
          7.716279517,
          7.04071,
          7.865673513,
          7.592573001,
          3.791744,
          7.545055911,
          5.133333001,
          7.577198561,
          9.526722777,
          9.526722777,
          8.295442415,
          8.846421452,
          6.142314761,
          5.484963602,
          8.481813097,
          8.865685994,
          8.448318019,
          8.449515873,
          8.540383001,
          10.311208742,
          6.972528456,
          5.0676188,
          10.916169981,
          8.267411466,
          6.174285331,
          6.695272731,
          6.695272731,
          6.695272731,
          6.695272731,
          6.695272731,
          8.647162809,
          5.854620562,
          7.5832674,
          11.454577377,
          7.545055911,
          8.627795857,
          8.766051012,
          7.745647847,
          7.745647847,
          7.120411001,
          5.859722,
          5.161012618,
          4.632448075,
          8.221169821,
          8.221169821,
          4.362540999,
          8.54225
         ],
         "marker": {
          "color": [
           1,
           2,
           1,
           4,
           4,
           16,
           1,
           4,
           1,
           2,
           3,
           4,
           1,
           1,
           2,
           3,
           1,
           1,
           2,
           2,
           1,
           1,
           1,
           2,
           5,
           2,
           2,
           3,
           11,
           2,
           8,
           1,
           4,
           3,
           4,
           5,
           10,
           3,
           2,
           3,
           1,
           3,
           3,
           3,
           1,
           1,
           2,
           2,
           1,
           2,
           1,
           2
          ],
          "coloraxis": "coloraxis",
          "symbol": "circle"
         },
         "mode": "markers",
         "name": "",
         "showlegend": false,
         "type": "scattergeo"
        }
       ],
       "layout": {
        "coloraxis": {
         "colorbar": {
          "len": 0.8,
          "title": {
           "text": " "
          },
          "xanchor": "center",
          "xpad": 192,
          "y": 0.6
         },
         "colorscale": [
          [
           0,
           "#1ed14b"
          ],
          [
           1,
           "#d63638"
          ]
         ]
        },
        "geo": {
         "center": {
          "lat": 41.8719,
          "lon": 12.5674
         },
         "domain": {
          "x": [
           0,
           1
          ],
          "y": [
           0,
           1
          ]
         },
         "projection": {
          "scale": 6,
          "type": "mercator"
         },
         "scope": "europe"
        },
        "height": 1200,
        "legend": {
         "tracegroupgap": 0
        },
        "margin": {
         "t": 60
        },
        "template": {
         "data": {
          "bar": [
           {
            "error_x": {
             "color": "#2a3f5f"
            },
            "error_y": {
             "color": "#2a3f5f"
            },
            "marker": {
             "line": {
              "color": "#E5ECF6",
              "width": 0.5
             },
             "pattern": {
              "fillmode": "overlay",
              "size": 10,
              "solidity": 0.2
             }
            },
            "type": "bar"
           }
          ],
          "barpolar": [
           {
            "marker": {
             "line": {
              "color": "#E5ECF6",
              "width": 0.5
             },
             "pattern": {
              "fillmode": "overlay",
              "size": 10,
              "solidity": 0.2
             }
            },
            "type": "barpolar"
           }
          ],
          "carpet": [
           {
            "aaxis": {
             "endlinecolor": "#2a3f5f",
             "gridcolor": "white",
             "linecolor": "white",
             "minorgridcolor": "white",
             "startlinecolor": "#2a3f5f"
            },
            "baxis": {
             "endlinecolor": "#2a3f5f",
             "gridcolor": "white",
             "linecolor": "white",
             "minorgridcolor": "white",
             "startlinecolor": "#2a3f5f"
            },
            "type": "carpet"
           }
          ],
          "choropleth": [
           {
            "colorbar": {
             "outlinewidth": 0,
             "ticks": ""
            },
            "type": "choropleth"
           }
          ],
          "contour": [
           {
            "colorbar": {
             "outlinewidth": 0,
             "ticks": ""
            },
            "colorscale": [
             [
              0,
              "#0d0887"
             ],
             [
              0.1111111111111111,
              "#46039f"
             ],
             [
              0.2222222222222222,
              "#7201a8"
             ],
             [
              0.3333333333333333,
              "#9c179e"
             ],
             [
              0.4444444444444444,
              "#bd3786"
             ],
             [
              0.5555555555555556,
              "#d8576b"
             ],
             [
              0.6666666666666666,
              "#ed7953"
             ],
             [
              0.7777777777777778,
              "#fb9f3a"
             ],
             [
              0.8888888888888888,
              "#fdca26"
             ],
             [
              1,
              "#f0f921"
             ]
            ],
            "type": "contour"
           }
          ],
          "contourcarpet": [
           {
            "colorbar": {
             "outlinewidth": 0,
             "ticks": ""
            },
            "type": "contourcarpet"
           }
          ],
          "heatmap": [
           {
            "colorbar": {
             "outlinewidth": 0,
             "ticks": ""
            },
            "colorscale": [
             [
              0,
              "#0d0887"
             ],
             [
              0.1111111111111111,
              "#46039f"
             ],
             [
              0.2222222222222222,
              "#7201a8"
             ],
             [
              0.3333333333333333,
              "#9c179e"
             ],
             [
              0.4444444444444444,
              "#bd3786"
             ],
             [
              0.5555555555555556,
              "#d8576b"
             ],
             [
              0.6666666666666666,
              "#ed7953"
             ],
             [
              0.7777777777777778,
              "#fb9f3a"
             ],
             [
              0.8888888888888888,
              "#fdca26"
             ],
             [
              1,
              "#f0f921"
             ]
            ],
            "type": "heatmap"
           }
          ],
          "heatmapgl": [
           {
            "colorbar": {
             "outlinewidth": 0,
             "ticks": ""
            },
            "colorscale": [
             [
              0,
              "#0d0887"
             ],
             [
              0.1111111111111111,
              "#46039f"
             ],
             [
              0.2222222222222222,
              "#7201a8"
             ],
             [
              0.3333333333333333,
              "#9c179e"
             ],
             [
              0.4444444444444444,
              "#bd3786"
             ],
             [
              0.5555555555555556,
              "#d8576b"
             ],
             [
              0.6666666666666666,
              "#ed7953"
             ],
             [
              0.7777777777777778,
              "#fb9f3a"
             ],
             [
              0.8888888888888888,
              "#fdca26"
             ],
             [
              1,
              "#f0f921"
             ]
            ],
            "type": "heatmapgl"
           }
          ],
          "histogram": [
           {
            "marker": {
             "pattern": {
              "fillmode": "overlay",
              "size": 10,
              "solidity": 0.2
             }
            },
            "type": "histogram"
           }
          ],
          "histogram2d": [
           {
            "colorbar": {
             "outlinewidth": 0,
             "ticks": ""
            },
            "colorscale": [
             [
              0,
              "#0d0887"
             ],
             [
              0.1111111111111111,
              "#46039f"
             ],
             [
              0.2222222222222222,
              "#7201a8"
             ],
             [
              0.3333333333333333,
              "#9c179e"
             ],
             [
              0.4444444444444444,
              "#bd3786"
             ],
             [
              0.5555555555555556,
              "#d8576b"
             ],
             [
              0.6666666666666666,
              "#ed7953"
             ],
             [
              0.7777777777777778,
              "#fb9f3a"
             ],
             [
              0.8888888888888888,
              "#fdca26"
             ],
             [
              1,
              "#f0f921"
             ]
            ],
            "type": "histogram2d"
           }
          ],
          "histogram2dcontour": [
           {
            "colorbar": {
             "outlinewidth": 0,
             "ticks": ""
            },
            "colorscale": [
             [
              0,
              "#0d0887"
             ],
             [
              0.1111111111111111,
              "#46039f"
             ],
             [
              0.2222222222222222,
              "#7201a8"
             ],
             [
              0.3333333333333333,
              "#9c179e"
             ],
             [
              0.4444444444444444,
              "#bd3786"
             ],
             [
              0.5555555555555556,
              "#d8576b"
             ],
             [
              0.6666666666666666,
              "#ed7953"
             ],
             [
              0.7777777777777778,
              "#fb9f3a"
             ],
             [
              0.8888888888888888,
              "#fdca26"
             ],
             [
              1,
              "#f0f921"
             ]
            ],
            "type": "histogram2dcontour"
           }
          ],
          "mesh3d": [
           {
            "colorbar": {
             "outlinewidth": 0,
             "ticks": ""
            },
            "type": "mesh3d"
           }
          ],
          "parcoords": [
           {
            "line": {
             "colorbar": {
              "outlinewidth": 0,
              "ticks": ""
             }
            },
            "type": "parcoords"
           }
          ],
          "pie": [
           {
            "automargin": true,
            "type": "pie"
           }
          ],
          "scatter": [
           {
            "marker": {
             "colorbar": {
              "outlinewidth": 0,
              "ticks": ""
             }
            },
            "type": "scatter"
           }
          ],
          "scatter3d": [
           {
            "line": {
             "colorbar": {
              "outlinewidth": 0,
              "ticks": ""
             }
            },
            "marker": {
             "colorbar": {
              "outlinewidth": 0,
              "ticks": ""
             }
            },
            "type": "scatter3d"
           }
          ],
          "scattercarpet": [
           {
            "marker": {
             "colorbar": {
              "outlinewidth": 0,
              "ticks": ""
             }
            },
            "type": "scattercarpet"
           }
          ],
          "scattergeo": [
           {
            "marker": {
             "colorbar": {
              "outlinewidth": 0,
              "ticks": ""
             }
            },
            "type": "scattergeo"
           }
          ],
          "scattergl": [
           {
            "marker": {
             "colorbar": {
              "outlinewidth": 0,
              "ticks": ""
             }
            },
            "type": "scattergl"
           }
          ],
          "scattermapbox": [
           {
            "marker": {
             "colorbar": {
              "outlinewidth": 0,
              "ticks": ""
             }
            },
            "type": "scattermapbox"
           }
          ],
          "scatterpolar": [
           {
            "marker": {
             "colorbar": {
              "outlinewidth": 0,
              "ticks": ""
             }
            },
            "type": "scatterpolar"
           }
          ],
          "scatterpolargl": [
           {
            "marker": {
             "colorbar": {
              "outlinewidth": 0,
              "ticks": ""
             }
            },
            "type": "scatterpolargl"
           }
          ],
          "scatterternary": [
           {
            "marker": {
             "colorbar": {
              "outlinewidth": 0,
              "ticks": ""
             }
            },
            "type": "scatterternary"
           }
          ],
          "surface": [
           {
            "colorbar": {
             "outlinewidth": 0,
             "ticks": ""
            },
            "colorscale": [
             [
              0,
              "#0d0887"
             ],
             [
              0.1111111111111111,
              "#46039f"
             ],
             [
              0.2222222222222222,
              "#7201a8"
             ],
             [
              0.3333333333333333,
              "#9c179e"
             ],
             [
              0.4444444444444444,
              "#bd3786"
             ],
             [
              0.5555555555555556,
              "#d8576b"
             ],
             [
              0.6666666666666666,
              "#ed7953"
             ],
             [
              0.7777777777777778,
              "#fb9f3a"
             ],
             [
              0.8888888888888888,
              "#fdca26"
             ],
             [
              1,
              "#f0f921"
             ]
            ],
            "type": "surface"
           }
          ],
          "table": [
           {
            "cells": {
             "fill": {
              "color": "#EBF0F8"
             },
             "line": {
              "color": "white"
             }
            },
            "header": {
             "fill": {
              "color": "#C8D4E3"
             },
             "line": {
              "color": "white"
             }
            },
            "type": "table"
           }
          ]
         },
         "layout": {
          "annotationdefaults": {
           "arrowcolor": "#2a3f5f",
           "arrowhead": 0,
           "arrowwidth": 1
          },
          "autotypenumbers": "strict",
          "coloraxis": {
           "colorbar": {
            "outlinewidth": 0,
            "ticks": ""
           }
          },
          "colorscale": {
           "diverging": [
            [
             0,
             "#8e0152"
            ],
            [
             0.1,
             "#c51b7d"
            ],
            [
             0.2,
             "#de77ae"
            ],
            [
             0.3,
             "#f1b6da"
            ],
            [
             0.4,
             "#fde0ef"
            ],
            [
             0.5,
             "#f7f7f7"
            ],
            [
             0.6,
             "#e6f5d0"
            ],
            [
             0.7,
             "#b8e186"
            ],
            [
             0.8,
             "#7fbc41"
            ],
            [
             0.9,
             "#4d9221"
            ],
            [
             1,
             "#276419"
            ]
           ],
           "sequential": [
            [
             0,
             "#0d0887"
            ],
            [
             0.1111111111111111,
             "#46039f"
            ],
            [
             0.2222222222222222,
             "#7201a8"
            ],
            [
             0.3333333333333333,
             "#9c179e"
            ],
            [
             0.4444444444444444,
             "#bd3786"
            ],
            [
             0.5555555555555556,
             "#d8576b"
            ],
            [
             0.6666666666666666,
             "#ed7953"
            ],
            [
             0.7777777777777778,
             "#fb9f3a"
            ],
            [
             0.8888888888888888,
             "#fdca26"
            ],
            [
             1,
             "#f0f921"
            ]
           ],
           "sequentialminus": [
            [
             0,
             "#0d0887"
            ],
            [
             0.1111111111111111,
             "#46039f"
            ],
            [
             0.2222222222222222,
             "#7201a8"
            ],
            [
             0.3333333333333333,
             "#9c179e"
            ],
            [
             0.4444444444444444,
             "#bd3786"
            ],
            [
             0.5555555555555556,
             "#d8576b"
            ],
            [
             0.6666666666666666,
             "#ed7953"
            ],
            [
             0.7777777777777778,
             "#fb9f3a"
            ],
            [
             0.8888888888888888,
             "#fdca26"
            ],
            [
             1,
             "#f0f921"
            ]
           ]
          },
          "colorway": [
           "#636efa",
           "#EF553B",
           "#00cc96",
           "#ab63fa",
           "#FFA15A",
           "#19d3f3",
           "#FF6692",
           "#B6E880",
           "#FF97FF",
           "#FECB52"
          ],
          "font": {
           "color": "#2a3f5f"
          },
          "geo": {
           "bgcolor": "white",
           "lakecolor": "white",
           "landcolor": "#E5ECF6",
           "showlakes": true,
           "showland": true,
           "subunitcolor": "white"
          },
          "hoverlabel": {
           "align": "left"
          },
          "hovermode": "closest",
          "mapbox": {
           "style": "light"
          },
          "paper_bgcolor": "white",
          "plot_bgcolor": "#E5ECF6",
          "polar": {
           "angularaxis": {
            "gridcolor": "white",
            "linecolor": "white",
            "ticks": ""
           },
           "bgcolor": "#E5ECF6",
           "radialaxis": {
            "gridcolor": "white",
            "linecolor": "white",
            "ticks": ""
           }
          },
          "scene": {
           "xaxis": {
            "backgroundcolor": "#E5ECF6",
            "gridcolor": "white",
            "gridwidth": 2,
            "linecolor": "white",
            "showbackground": true,
            "ticks": "",
            "zerolinecolor": "white"
           },
           "yaxis": {
            "backgroundcolor": "#E5ECF6",
            "gridcolor": "white",
            "gridwidth": 2,
            "linecolor": "white",
            "showbackground": true,
            "ticks": "",
            "zerolinecolor": "white"
           },
           "zaxis": {
            "backgroundcolor": "#E5ECF6",
            "gridcolor": "white",
            "gridwidth": 2,
            "linecolor": "white",
            "showbackground": true,
            "ticks": "",
            "zerolinecolor": "white"
           }
          },
          "shapedefaults": {
           "line": {
            "color": "#2a3f5f"
           }
          },
          "ternary": {
           "aaxis": {
            "gridcolor": "white",
            "linecolor": "white",
            "ticks": ""
           },
           "baxis": {
            "gridcolor": "white",
            "linecolor": "white",
            "ticks": ""
           },
           "bgcolor": "#E5ECF6",
           "caxis": {
            "gridcolor": "white",
            "linecolor": "white",
            "ticks": ""
           }
          },
          "title": {
           "x": 0.05
          },
          "xaxis": {
           "automargin": true,
           "gridcolor": "white",
           "linecolor": "white",
           "ticks": "",
           "title": {
            "standoff": 15
           },
           "zerolinecolor": "white",
           "zerolinewidth": 2
          },
          "yaxis": {
           "automargin": true,
           "gridcolor": "white",
           "linecolor": "white",
           "ticks": "",
           "title": {
            "standoff": 15
           },
           "zerolinecolor": "white",
           "zerolinewidth": 2
          }
         }
        },
        "title": {
         "font": {
          "size": 20
         },
         "text": "RAAD Form Count per Site for Africa in Date Range 150–200",
         "x": 0.5
        }
       }
      }
     },
     "metadata": {},
     "output_type": "display_data"
    }
   ],
   "source": [
    "fig = px.scatter_geo(em_map,\n",
    "                     lat = em_map.lat,\n",
    "                     lon = em_map.long,\n",
    "                     height = 1200,\n",
    "                     color = em_map.RAAD_type_count,\n",
    "                    # text = em_map['site_name_modern'],               \n",
    "                     scope = 'europe',  \n",
    "                     color_continuous_scale = ['#1ed14b',  '#d63638'],  \n",
    "                     projection = 'mercator')         \n",
    " \n",
    "\n",
    "fig.update_geos(projection_scale = 6, center_lat = 41.8719, center_lon = 12.5674)\n",
    "fig.update_layout(title_text = 'RAAD Form Count per Site for Africa in Date Range 150–200', \n",
    "                  title_x = 0.5, \n",
    "                  title_font_size = 20, \n",
    "                  coloraxis_colorbar=dict(len = 0.80, y = 0.60, xanchor = 'center', xpad = 192, title = ' '))\n",
    "\n",
    "fig.write_image('fig5.pdf')\n",
    "fig.show()"
   ]
  }
 ],
 "metadata": {
  "kernelspec": {
   "display_name": "Python 3 ",
   "language": "python",
   "name": "python3"
  },
  "language_info": {
   "codemirror_mode": {
    "name": "ipython",
    "version": 3
   },
   "file_extension": ".py",
   "mimetype": "text/x-python",
   "name": "python",
   "nbconvert_exporter": "python",
   "pygments_lexer": "ipython3",
   "version": "3.8.10"
  }
 },
 "nbformat": 4,
 "nbformat_minor": 5
}
