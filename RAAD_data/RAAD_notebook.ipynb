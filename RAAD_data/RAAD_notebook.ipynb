{
 "cells": [
  {
   "cell_type": "markdown",
   "metadata": {},
   "source": [
    "### 1. Import packages"
   ]
  },
  {
   "cell_type": "code",
   "execution_count": 2,
   "metadata": {},
   "outputs": [],
   "source": [
    "import pandas as pd\n",
    "import seaborn as sns\n",
    "import matplotlib.pyplot as plt\n",
    "import numpy as np\n",
    "import regex as re\n",
    "sns.set()\n",
    "import pathlib\n",
    "from pathlib import Path\n",
    "import sys\n",
    "sys.path.append(\"../src\")\n",
    "from matplotlib.ticker import FormatStrFormatter\n",
    "from functions import year_object_count_df, sum_freq_per_year, year_freq_df, plot_graph, preprocess, get_Y_range # module with all functions used for the task"
   ]
  },
  {
   "cell_type": "markdown",
   "metadata": {},
   "source": [
    "### 2. Read in data"
   ]
  },
  {
   "cell_type": "code",
   "execution_count": 3,
   "metadata": {},
   "outputs": [],
   "source": [
    "data = pd.read_csv('RAAD_data_restructured.csv')\n",
    "\n",
    "# changing empty origin_h2s to empty strings\n",
    "data['origin_h2'] = data['origin_h2'].fillna('')"
   ]
  },
  {
   "cell_type": "markdown",
   "metadata": {},
   "source": [
    "### 3. Prepare data"
   ]
  },
  {
   "cell_type": "markdown",
   "metadata": {},
   "source": [
    "#### 3.1 Check in which columns numeric values are of an object type\n",
    "#### 3.2 If found, convert objects into numeric values (float) \n",
    "This is essential for performing math operations with these variables"
   ]
  },
  {
   "cell_type": "code",
   "execution_count": 9,
   "metadata": {},
   "outputs": [
    {
     "name": "stdout",
     "output_type": "stream",
     "text": [
      "<class 'pandas.core.frame.DataFrame'>\n",
      "RangeIndex: 1357 entries, 0 to 1356\n",
      "Data columns (total 29 columns):\n",
      " #   Column                       Non-Null Count  Dtype  \n",
      "---  ------                       --------------  -----  \n",
      " 0   Unnamed: 0                   1357 non-null   int64  \n",
      " 1   site_number                  1357 non-null   int64  \n",
      " 2   RAAD_type_number             1357 non-null   int64  \n",
      " 3   RAAD_form                    1357 non-null   object \n",
      " 4   origin                       1357 non-null   object \n",
      " 5   contents                     1354 non-null   object \n",
      " 6   southampton_type_number      941 non-null    object \n",
      " 7   frequency                    1357 non-null   int64  \n",
      " 8   origin_h1                    1357 non-null   object \n",
      " 9   origin_h2                    1357 non-null   object \n",
      " 10  raad_type_start_date         1157 non-null   float64\n",
      " 11  raad_type_end_date           1157 non-null   float64\n",
      " 12  site_name_modern             1357 non-null   object \n",
      " 13  site_name_acient             1008 non-null   object \n",
      " 14  modern_country               1357 non-null   object \n",
      " 15  roman_province               1357 non-null   object \n",
      " 16  pleiades                     1267 non-null   float64\n",
      " 17  dare                         56 non-null     float64\n",
      " 18  vici                         34 non-null     float64\n",
      " 19  lat                          1357 non-null   float64\n",
      " 20  long                         1357 non-null   float64\n",
      " 21  major_site_type              1357 non-null   object \n",
      " 22  minor_site_type              1357 non-null   object \n",
      " 23  site_start_date              1357 non-null   int64  \n",
      " 24  site_end_date                1357 non-null   int64  \n",
      " 25  quantification_method        1357 non-null   object \n",
      " 26  quantification_abbreviation  1357 non-null   object \n",
      " 27  total_assemblage_size        1357 non-null   int64  \n",
      " 28  reference                    1357 non-null   object \n",
      "dtypes: float64(7), int64(7), object(15)\n",
      "memory usage: 307.6+ KB\n"
     ]
    }
   ],
   "source": [
    "data.info()"
   ]
  },
  {
   "cell_type": "markdown",
   "metadata": {},
   "source": [
    "#### 3.3 Clean text data (from punctuation, double spaces) and lowercase\n",
    "This is done in order to avoid inconsistency in names, etc. Thus, to avoid errors while counting\n",
    "\n",
    "The RAAD dataset is already pre-processed. For this reason, the following cell is commented. "
   ]
  },
  {
   "cell_type": "code",
   "execution_count": 4,
   "metadata": {},
   "outputs": [],
   "source": [
    "#data.columns\n",
    "\n",
    "#cols_for_preprocessing = [\n",
    "#    'RAAD_form', \n",
    "#    'origin', \n",
    "#    'contents',\n",
    "#    'origin_h1', \n",
    "#    'origin_h2', \n",
    "#    'site_name_modern',\n",
    "#    'site_name_acient', \n",
    "#    'modern_country', \n",
    "#    'roman_province',\n",
    "#    'major_site_type', \n",
    "#    'minor_site_type', \n",
    "#    'quantification_method',\n",
    "#    'quantification_abbreviation'\n",
    "#    ]\n",
    "\n",
    "#for i in cols_for_preprocessing:\n",
    "#    data[i] = preprocess(data[i])\n",
    "\n",
    "\n",
    "#data.head()"
   ]
  },
  {
   "cell_type": "markdown",
   "metadata": {},
   "source": [
    "### 4. Subset data (Optional)\n",
    "The code in the following chunks can be used to filter the data according to your wishes.\n",
    "\n",
    "**Note:** The analysis in the remaining chunks will be done on the subset of the data. If you wish to investigate the full data, do not run the chunk, or make sure the lines are commented out (# in the begining of each line that you do not want to run). If you have created a subset of the data and wish to return to looking into the full data set, run the chunk in section 2 (data = pd.read_csv(.....))"
   ]
  },
  {
   "cell_type": "markdown",
   "metadata": {},
   "source": [
    "#### 4.1 Subset according to quantification abbreviation\n",
    "The quntification_abbreviation variable has 4 levels:\n",
    "* 'total'\n",
    "* 'max'\n",
    "* 'mni'\n",
    "* 'rbh'\n",
    "\n",
    "Any of these can be inserted below, do only analyse data in which the quantification_abbreviation has a certain value."
   ]
  },
  {
   "cell_type": "code",
   "execution_count": 3,
   "metadata": {},
   "outputs": [],
   "source": [
    "# DATA ONLY INCLUDING ONE LEVEL OF QUANTIFICATION ABBREVIATION\n",
    "#data = data[data['quantification_abbreviation'] == 'max']\n",
    "\n",
    "# DATA INCLUDING TWO LEVELS OF QUANTIFICATION ABBREVIATION\n",
    "#data = data[(data['quantification_abbreviation'] == 'max') | (data['quantification_abbreviation'] == 'total')]"
   ]
  },
  {
   "cell_type": "markdown",
   "metadata": {},
   "source": [
    "#### 4.2 Subset according to major site type\n",
    "The major_site_type variable has 3 levels:\n",
    "* 'settlement'\n",
    "* 'villa'\n",
    "* 'military'\n",
    "* 'settlement military'\n",
    "\n",
    "Any of these can be inserted below, do only analyse data in which the major site type has a certain value."
   ]
  },
  {
   "cell_type": "code",
   "execution_count": 4,
   "metadata": {},
   "outputs": [],
   "source": [
    "# DATA ONLY INCLUDING ONE LEVEL OF MAJOR SITE TYPE\n",
    "#data = data[data['major_site_type'] == 'villa']\n",
    "\n",
    "# DATA INCLUDING TWO LEVELS OF MAJOR SITE TYPE\n",
    "#data = data[(data['major_site_type'] == 'villa') | (data['major_site_type'] == 'military')]"
   ]
  },
  {
   "cell_type": "markdown",
   "metadata": {},
   "source": [
    "#### 4.3 Check that the subsetting worked\n",
    "\n",
    "It is always a good idea to make sure, that the data includes the wished for elements before moving on. The following code chunks can be used to see which values the columns we used to subset from includes. The head() function can be used to show the first *n* rows of the data.\n",
    "\n",
    "**NOTE:** When you use the subsetted data to make further analysis in this notebook, make sure that the subsetted data you use, has the specified levels of certain variables you want to plot. For example, you cannot plot the frequency of of `origin_h1` if none of the remaining data has this value. "
   ]
  },
  {
   "cell_type": "code",
   "execution_count": 10,
   "metadata": {},
   "outputs": [
    {
     "data": {
      "text/plain": [
       "array(['settlement military', 'settlement', 'villa', 'military'],\n",
       "      dtype=object)"
      ]
     },
     "execution_count": 10,
     "metadata": {},
     "output_type": "execute_result"
    }
   ],
   "source": [
    "# Checking major site type\n",
    "data['major_site_type'].unique()"
   ]
  },
  {
   "cell_type": "code",
   "execution_count": 11,
   "metadata": {},
   "outputs": [
    {
     "data": {
      "text/plain": [
       "array(['total', 'max', 'mni', 'rbh'], dtype=object)"
      ]
     },
     "execution_count": 11,
     "metadata": {},
     "output_type": "execute_result"
    }
   ],
   "source": [
    "# Checking quantification abbreviation\n",
    "data['quantification_abbreviation'].unique()"
   ]
  },
  {
   "cell_type": "code",
   "execution_count": 4,
   "metadata": {},
   "outputs": [
    {
     "data": {
      "text/html": [
       "<div>\n",
       "<style scoped>\n",
       "    .dataframe tbody tr th:only-of-type {\n",
       "        vertical-align: middle;\n",
       "    }\n",
       "\n",
       "    .dataframe tbody tr th {\n",
       "        vertical-align: top;\n",
       "    }\n",
       "\n",
       "    .dataframe thead th {\n",
       "        text-align: right;\n",
       "    }\n",
       "</style>\n",
       "<table border=\"1\" class=\"dataframe\">\n",
       "  <thead>\n",
       "    <tr style=\"text-align: right;\">\n",
       "      <th></th>\n",
       "      <th>Unnamed: 0</th>\n",
       "      <th>site_number</th>\n",
       "      <th>RAAD_type_number</th>\n",
       "      <th>RAAD_form</th>\n",
       "      <th>origin</th>\n",
       "      <th>contents</th>\n",
       "      <th>southampton_type_number</th>\n",
       "      <th>frequency</th>\n",
       "      <th>origin_h1</th>\n",
       "      <th>origin_h2</th>\n",
       "      <th>...</th>\n",
       "      <th>lat</th>\n",
       "      <th>long</th>\n",
       "      <th>major_site_type</th>\n",
       "      <th>minor_site_type</th>\n",
       "      <th>site_start_date</th>\n",
       "      <th>site_end_date</th>\n",
       "      <th>quantification_method</th>\n",
       "      <th>quantification_abbreviation</th>\n",
       "      <th>total_assemblage_size</th>\n",
       "      <th>reference</th>\n",
       "    </tr>\n",
       "  </thead>\n",
       "  <tbody>\n",
       "    <tr>\n",
       "      <th>0</th>\n",
       "      <td>0</td>\n",
       "      <td>9</td>\n",
       "      <td>1</td>\n",
       "      <td>augst 48</td>\n",
       "      <td>em</td>\n",
       "      <td>unknown</td>\n",
       "      <td>NaN</td>\n",
       "      <td>1</td>\n",
       "      <td>em</td>\n",
       "      <td></td>\n",
       "      <td>...</td>\n",
       "      <td>47.533512</td>\n",
       "      <td>7.71628</td>\n",
       "      <td>settlement military</td>\n",
       "      <td>colonia limitanei</td>\n",
       "      <td>-10</td>\n",
       "      <td>450</td>\n",
       "      <td>total sherds</td>\n",
       "      <td>total</td>\n",
       "      <td>5633</td>\n",
       "      <td>martinkilcher s 1987 die rˆmischen amphoren au...</td>\n",
       "    </tr>\n",
       "    <tr>\n",
       "      <th>1</th>\n",
       "      <td>1</td>\n",
       "      <td>9</td>\n",
       "      <td>2</td>\n",
       "      <td>augst 49</td>\n",
       "      <td>em</td>\n",
       "      <td>unknown</td>\n",
       "      <td>NaN</td>\n",
       "      <td>1</td>\n",
       "      <td>em</td>\n",
       "      <td></td>\n",
       "      <td>...</td>\n",
       "      <td>47.533512</td>\n",
       "      <td>7.71628</td>\n",
       "      <td>settlement military</td>\n",
       "      <td>colonia limitanei</td>\n",
       "      <td>-10</td>\n",
       "      <td>450</td>\n",
       "      <td>total sherds</td>\n",
       "      <td>total</td>\n",
       "      <td>5633</td>\n",
       "      <td>martinkilcher s 1987 die rˆmischen amphoren au...</td>\n",
       "    </tr>\n",
       "    <tr>\n",
       "      <th>2</th>\n",
       "      <td>2</td>\n",
       "      <td>9</td>\n",
       "      <td>3</td>\n",
       "      <td>augst 55 agora f6566</td>\n",
       "      <td>em</td>\n",
       "      <td>wine</td>\n",
       "      <td>10</td>\n",
       "      <td>12</td>\n",
       "      <td>em</td>\n",
       "      <td></td>\n",
       "      <td>...</td>\n",
       "      <td>47.533512</td>\n",
       "      <td>7.71628</td>\n",
       "      <td>settlement military</td>\n",
       "      <td>colonia limitanei</td>\n",
       "      <td>-10</td>\n",
       "      <td>450</td>\n",
       "      <td>total sherds</td>\n",
       "      <td>total</td>\n",
       "      <td>5633</td>\n",
       "      <td>martinkilcher s 1987 die rˆmischen amphoren au...</td>\n",
       "    </tr>\n",
       "    <tr>\n",
       "      <th>3</th>\n",
       "      <td>3</td>\n",
       "      <td>9</td>\n",
       "      <td>4</td>\n",
       "      <td>augst 56</td>\n",
       "      <td>em</td>\n",
       "      <td>unknown</td>\n",
       "      <td>NaN</td>\n",
       "      <td>2</td>\n",
       "      <td>em</td>\n",
       "      <td></td>\n",
       "      <td>...</td>\n",
       "      <td>47.533512</td>\n",
       "      <td>7.71628</td>\n",
       "      <td>settlement military</td>\n",
       "      <td>colonia limitanei</td>\n",
       "      <td>-10</td>\n",
       "      <td>450</td>\n",
       "      <td>total sherds</td>\n",
       "      <td>total</td>\n",
       "      <td>5633</td>\n",
       "      <td>martinkilcher s 1987 die rˆmischen amphoren au...</td>\n",
       "    </tr>\n",
       "    <tr>\n",
       "      <th>4</th>\n",
       "      <td>4</td>\n",
       "      <td>9</td>\n",
       "      <td>5</td>\n",
       "      <td>augst 57</td>\n",
       "      <td>em</td>\n",
       "      <td>unknown</td>\n",
       "      <td>NaN</td>\n",
       "      <td>1</td>\n",
       "      <td>em</td>\n",
       "      <td></td>\n",
       "      <td>...</td>\n",
       "      <td>47.533512</td>\n",
       "      <td>7.71628</td>\n",
       "      <td>settlement military</td>\n",
       "      <td>colonia limitanei</td>\n",
       "      <td>-10</td>\n",
       "      <td>450</td>\n",
       "      <td>total sherds</td>\n",
       "      <td>total</td>\n",
       "      <td>5633</td>\n",
       "      <td>martinkilcher s 1987 die rˆmischen amphoren au...</td>\n",
       "    </tr>\n",
       "  </tbody>\n",
       "</table>\n",
       "<p>5 rows × 29 columns</p>\n",
       "</div>"
      ],
      "text/plain": [
       "   Unnamed: 0  site_number  RAAD_type_number             RAAD_form origin  \\\n",
       "0           0            9                 1              augst 48     em   \n",
       "1           1            9                 2              augst 49     em   \n",
       "2           2            9                 3  augst 55 agora f6566     em   \n",
       "3           3            9                 4              augst 56     em   \n",
       "4           4            9                 5              augst 57     em   \n",
       "\n",
       "  contents southampton_type_number  frequency origin_h1 origin_h2  ...  \\\n",
       "0  unknown                     NaN          1        em            ...   \n",
       "1  unknown                     NaN          1        em            ...   \n",
       "2     wine                      10         12        em            ...   \n",
       "3  unknown                     NaN          2        em            ...   \n",
       "4  unknown                     NaN          1        em            ...   \n",
       "\n",
       "         lat     long      major_site_type    minor_site_type site_start_date  \\\n",
       "0  47.533512  7.71628  settlement military  colonia limitanei             -10   \n",
       "1  47.533512  7.71628  settlement military  colonia limitanei             -10   \n",
       "2  47.533512  7.71628  settlement military  colonia limitanei             -10   \n",
       "3  47.533512  7.71628  settlement military  colonia limitanei             -10   \n",
       "4  47.533512  7.71628  settlement military  colonia limitanei             -10   \n",
       "\n",
       "  site_end_date  quantification_method  quantification_abbreviation  \\\n",
       "0           450           total sherds                        total   \n",
       "1           450           total sherds                        total   \n",
       "2           450           total sherds                        total   \n",
       "3           450           total sherds                        total   \n",
       "4           450           total sherds                        total   \n",
       "\n",
       "   total_assemblage_size                                          reference  \n",
       "0                   5633  martinkilcher s 1987 die rˆmischen amphoren au...  \n",
       "1                   5633  martinkilcher s 1987 die rˆmischen amphoren au...  \n",
       "2                   5633  martinkilcher s 1987 die rˆmischen amphoren au...  \n",
       "3                   5633  martinkilcher s 1987 die rˆmischen amphoren au...  \n",
       "4                   5633  martinkilcher s 1987 die rˆmischen amphoren au...  \n",
       "\n",
       "[5 rows x 29 columns]"
      ]
     },
     "execution_count": 4,
     "metadata": {},
     "output_type": "execute_result"
    }
   ],
   "source": [
    "data.head()"
   ]
  },
  {
   "cell_type": "markdown",
   "metadata": {},
   "source": [
    "#### 4.4 Filtering away certain values of data\n",
    "If for any reason, any data with a specific value in a certain column should be excluded from the analysis, the following code syntax can be used:\n",
    "\n",
    "```\n",
    "data = data[data['column_we_want_to_filter_by'] != 'value_it_should_not_have']\n",
    "```\n",
    "\n",
    "!= means not equal to. This signifies that we take all rows of the dataframe which does not have the value specified. \n"
   ]
  },
  {
   "cell_type": "code",
   "execution_count": null,
   "metadata": {},
   "outputs": [],
   "source": [
    "# Example, filtering away all rows where RAAD form is 'unknown'\n",
    "#data = data[data['RAAD_form'] != 'unknown']"
   ]
  },
  {
   "cell_type": "markdown",
   "metadata": {},
   "source": [
    "### 5. Show count of *site* per *origin* per *year* in RAAD type date range"
   ]
  },
  {
   "cell_type": "markdown",
   "metadata": {},
   "source": [
    "#### 5.1 Identify the list of (non unique) *'Sites'* per *'RAAD form'* per *'origin'*"
   ]
  },
  {
   "cell_type": "code",
   "execution_count": 5,
   "metadata": {},
   "outputs": [
    {
     "data": {
      "text/html": [
       "<div>\n",
       "<style scoped>\n",
       "    .dataframe tbody tr th:only-of-type {\n",
       "        vertical-align: middle;\n",
       "    }\n",
       "\n",
       "    .dataframe tbody tr th {\n",
       "        vertical-align: top;\n",
       "    }\n",
       "\n",
       "    .dataframe thead th {\n",
       "        text-align: right;\n",
       "    }\n",
       "</style>\n",
       "<table border=\"1\" class=\"dataframe\">\n",
       "  <thead>\n",
       "    <tr style=\"text-align: right;\">\n",
       "      <th></th>\n",
       "      <th>RAAD_form</th>\n",
       "      <th>raad_type_start_date</th>\n",
       "      <th>raad_type_end_date</th>\n",
       "      <th>origin_h1</th>\n",
       "      <th>List_of_sites</th>\n",
       "    </tr>\n",
       "  </thead>\n",
       "  <tbody>\n",
       "    <tr>\n",
       "      <th>0</th>\n",
       "      <td>ac2</td>\n",
       "      <td>1.0</td>\n",
       "      <td>200.0</td>\n",
       "      <td>em</td>\n",
       "      <td>[neuss book]</td>\n",
       "    </tr>\n",
       "    <tr>\n",
       "      <th>1</th>\n",
       "      <td>africana i</td>\n",
       "      <td>150.0</td>\n",
       "      <td>300.0</td>\n",
       "      <td>northafrica</td>\n",
       "      <td>[augst, dieburg, groﬂgerau, mainz, strasbourg ...</td>\n",
       "    </tr>\n",
       "    <tr>\n",
       "      <th>2</th>\n",
       "      <td>africana ii</td>\n",
       "      <td>150.0</td>\n",
       "      <td>300.0</td>\n",
       "      <td>northafrica</td>\n",
       "      <td>[augst, bad kreuznach, mainz, bavay]</td>\n",
       "    </tr>\n",
       "    <tr>\n",
       "      <th>3</th>\n",
       "      <td>africana iia grande keay 24</td>\n",
       "      <td>150.0</td>\n",
       "      <td>300.0</td>\n",
       "      <td>northafrica</td>\n",
       "      <td>[mainz, strasbourg lhomme de fer, trier kaiser...</td>\n",
       "    </tr>\n",
       "    <tr>\n",
       "      <th>4</th>\n",
       "      <td>africana iic</td>\n",
       "      <td>250.0</td>\n",
       "      <td>300.0</td>\n",
       "      <td>northafrica</td>\n",
       "      <td>[strasbourg lhomme de fer]</td>\n",
       "    </tr>\n",
       "  </tbody>\n",
       "</table>\n",
       "</div>"
      ],
      "text/plain": [
       "                     RAAD_form  raad_type_start_date  raad_type_end_date  \\\n",
       "0                          ac2                   1.0               200.0   \n",
       "1                   africana i                 150.0               300.0   \n",
       "2                  africana ii                 150.0               300.0   \n",
       "3  africana iia grande keay 24                 150.0               300.0   \n",
       "4                 africana iic                 250.0               300.0   \n",
       "\n",
       "     origin_h1                                      List_of_sites  \n",
       "0           em                                       [neuss book]  \n",
       "1  northafrica  [augst, dieburg, groﬂgerau, mainz, strasbourg ...  \n",
       "2  northafrica               [augst, bad kreuznach, mainz, bavay]  \n",
       "3  northafrica  [mainz, strasbourg lhomme de fer, trier kaiser...  \n",
       "4  northafrica                         [strasbourg lhomme de fer]  "
      ]
     },
     "execution_count": 5,
     "metadata": {},
     "output_type": "execute_result"
    }
   ],
   "source": [
    "df = data.groupby(['RAAD_form', 'raad_type_start_date', 'raad_type_end_date', 'origin_h1'])['site_name_modern'].apply(lambda x: ','.join(x))\n",
    "df = df.apply(lambda x: x.split(','))\n",
    "df = df.reset_index()\n",
    "df = df.rename(columns = {'site_name_modern':'List_of_sites'})\n",
    "df.head()"
   ]
  },
  {
   "cell_type": "markdown",
   "metadata": {},
   "source": [
    "#### 5.2 Count sites per origin per year\n",
    "This needs to be done for all the levels of origin that should be included in the final plot. If for example, you want three different origins (e.g., EM, Gaul, Italy), three different frequency site_count data frames should be made. "
   ]
  },
  {
   "cell_type": "code",
   "execution_count": 6,
   "metadata": {},
   "outputs": [],
   "source": [
    "em = year_object_count_df(data = df[df['origin_h1'] == 'em'], \n",
    "                          lower_date = 'raad_type_start_date',  \n",
    "                          upper_date = 'raad_type_end_date',\n",
    "                          object_list = 'List_of_sites')    "
   ]
  },
  {
   "cell_type": "code",
   "execution_count": 7,
   "metadata": {},
   "outputs": [],
   "source": [
    "northafrica = year_object_count_df(data = df[df['origin_h1'] == 'northafrica'], \n",
    "                                   lower_date = 'raad_type_start_date',  \n",
    "                                   upper_date = 'raad_type_end_date',\n",
    "                                   object_list = 'List_of_sites')    "
   ]
  },
  {
   "cell_type": "markdown",
   "metadata": {},
   "source": [
    "### 6. Plot the graphs"
   ]
  },
  {
   "cell_type": "markdown",
   "metadata": {},
   "source": [
    "#### 6.1 Create a dictionary for plotting\n",
    "Now a dictionary containing the above dataframes is made. The keys (what is incapsulated in '') are going to be the labels for the plot. The variables refered to, are the dataframes created just above. "
   ]
  },
  {
   "cell_type": "code",
   "execution_count": 8,
   "metadata": {},
   "outputs": [],
   "source": [
    "df_dictionary = {'EM': em, 'North Africa': northafrica}"
   ]
  },
  {
   "cell_type": "markdown",
   "metadata": {},
   "source": [
    "### 6.2 Plot and save\n",
    "\n",
    "Here the data from the previously created count data frames are plotted. \n",
    "\n",
    "This is done using the function `plotgraph()`. \n",
    "\n",
    "To change the colour of lines, pass a list of strings with colour names to `palette` argument. \n",
    "\n",
    "To change the default `'solid'` line, pass f.ex., `'dashed'` to `linestyle` argument.o not show \n",
    "\n",
    "To hide values on axis uncomment `ax.axes.xaxis.set_ticks([])` for X and `ax.axes.yaxis.set_ticks([])` for Y.\n",
    "\n",
    "To plot a single line graph specify only 1 axes in this line `fig, ax = plt.subplots(figsize=(20, 11))` and use this `ax` variable as an input for `ax` argument in `plotgraph()`. \n",
    "To plot 2 and more graphs side by side:\n",
    "1. specify that many axes as graphs and the respective number of rows/columns of the subplot grid. F.ex., to plot 2 lie=ne graphs `fig, (ax1, ax2) = plt.subplots(nrows=1, ncols=2,figsize=(20, 11))`\n",
    "2. call `plot_graph()` on each `dictionary` and use the respective `ax` variable as an input for `ax` argument in `plotgraph()`.  \n",
    "F.ex., in `plot_graph(dicts_of_df = df_dictionary, palette=['yellow', 'green'], linestyle = 'dashed', ax = ax1)` the line graph for dic with Gaul and Italy will be refered as `ax1` and placed on the **right** side of the graph.\n",
    "\n",
    "**Note**: Remember to set labels, background colour, etc for both axes like in the example below."
   ]
  },
  {
   "cell_type": "code",
   "execution_count": 9,
   "metadata": {},
   "outputs": [
    {
     "name": "stderr",
     "output_type": "stream",
     "text": [
      "/tmp/ipykernel_37811/2301688302.py:38: UserWarning: FixedFormatter should only be used together with FixedLocator\n",
      "  ax.set_xticklabels([int(i) if i != 0 else 1 for i in ax.get_xticks()])\n"
     ]
    },
    {
     "data": {
      "image/png": "[encoded data removed]",
      "text/plain": [
       "<Figure size 1440x792 with 1 Axes>"
      ]
     },
     "metadata": {},
     "output_type": "display_data"
    }
   ],
   "source": [
    "sns.set(font_scale=1.7)\n",
    "\n",
    "#Remove squeres from background\n",
    "sns.set_style(style='white')  \n",
    "\n",
    "fig, ax = plt.subplots(figsize=(20, 11))\n",
    "\n",
    "#Calculate minimum and maximum Y values to define the cuff off further\n",
    "minimum, maximum = get_Y_range(df_dictionary)\n",
    "\n",
    "plot_graph(dicts_of_df = df_dictionary,\n",
    "           palette=['yellow', 'green'],  \n",
    "           ax = ax)\n",
    "           \n",
    "\n",
    "# Cut off the range of Y value shown \n",
    "ax.set_xlim(minimum, maximum)\n",
    "\n",
    "# Remove 0 from Y axis\n",
    "ax.set_ylim(0, None)\n",
    "\n",
    "#Change background colour\n",
    "ax.set_facecolor(\"white\")  \n",
    "\n",
    "#Change Y values format \n",
    "# integers = '%.0f'\n",
    "# decimals = '%.1f', the number before 'f' defines how many values to show after dot\n",
    "ax.yaxis.set_major_formatter(FormatStrFormatter('%.0f'))  \n",
    "\n",
    "ax.set_ylabel(\"Site Count\")\n",
    "ax.set_xlabel(\"Year\")\n",
    "\n",
    "#To hide values on axis\n",
    "#ax.axes.xaxis.set_ticks([])\n",
    "#ax.axes.yaxis.set_ticks([])\n",
    "\n",
    "# Make sure that if 0 is included on the x-axis it is turned into 1 instead\n",
    "ax.set_xticklabels([int(i) if i != 0 else 1 for i in ax.get_xticks()])\n",
    "\n",
    "ax.set_title(label = 'Count of Sites per Origin per Year', size=25, y=1.04, fontweight='bold')\n",
    "plt.tight_layout()\n",
    "\n",
    "\n",
    "\n",
    "# Save the graph\n",
    "plt.savefig('./site_count.pdf')"
   ]
  },
  {
   "cell_type": "markdown",
   "metadata": {},
   "source": [
    "### 7. Show sum of *Frequency* per *origin* per *year* for the least specific level of origin (e.g. EM, Gaul, Italy)"
   ]
  },
  {
   "cell_type": "markdown",
   "metadata": {},
   "source": [
    "#### 7.1 Group *RAAD form* by *origin* and sum frequencies"
   ]
  },
  {
   "cell_type": "code",
   "execution_count": 10,
   "metadata": {},
   "outputs": [
    {
     "data": {
      "text/html": [
       "<div>\n",
       "<style scoped>\n",
       "    .dataframe tbody tr th:only-of-type {\n",
       "        vertical-align: middle;\n",
       "    }\n",
       "\n",
       "    .dataframe tbody tr th {\n",
       "        vertical-align: top;\n",
       "    }\n",
       "\n",
       "    .dataframe thead th {\n",
       "        text-align: right;\n",
       "    }\n",
       "</style>\n",
       "<table border=\"1\" class=\"dataframe\">\n",
       "  <thead>\n",
       "    <tr style=\"text-align: right;\">\n",
       "      <th></th>\n",
       "      <th>origin_h1</th>\n",
       "      <th>RAAD_form</th>\n",
       "      <th>raad_type_start_date</th>\n",
       "      <th>raad_type_end_date</th>\n",
       "      <th>summed_freq</th>\n",
       "    </tr>\n",
       "  </thead>\n",
       "  <tbody>\n",
       "    <tr>\n",
       "      <th>0</th>\n",
       "      <td>em</td>\n",
       "      <td>ac2</td>\n",
       "      <td>1.0</td>\n",
       "      <td>200.0</td>\n",
       "      <td>1</td>\n",
       "    </tr>\n",
       "    <tr>\n",
       "      <th>1</th>\n",
       "      <td>em</td>\n",
       "      <td>augst 46</td>\n",
       "      <td>50.0</td>\n",
       "      <td>100.0</td>\n",
       "      <td>1</td>\n",
       "    </tr>\n",
       "    <tr>\n",
       "      <th>2</th>\n",
       "      <td>em</td>\n",
       "      <td>augst 47</td>\n",
       "      <td>150.0</td>\n",
       "      <td>300.0</td>\n",
       "      <td>8</td>\n",
       "    </tr>\n",
       "    <tr>\n",
       "      <th>3</th>\n",
       "      <td>em</td>\n",
       "      <td>augst 49</td>\n",
       "      <td>1.0</td>\n",
       "      <td>100.0</td>\n",
       "      <td>1</td>\n",
       "    </tr>\n",
       "    <tr>\n",
       "      <th>4</th>\n",
       "      <td>em</td>\n",
       "      <td>augst 55 agora f6566</td>\n",
       "      <td>-50.0</td>\n",
       "      <td>400.0</td>\n",
       "      <td>12</td>\n",
       "    </tr>\n",
       "  </tbody>\n",
       "</table>\n",
       "</div>"
      ],
      "text/plain": [
       "  origin_h1             RAAD_form  raad_type_start_date  raad_type_end_date  \\\n",
       "0        em                   ac2                   1.0               200.0   \n",
       "1        em              augst 46                  50.0               100.0   \n",
       "2        em              augst 47                 150.0               300.0   \n",
       "3        em              augst 49                   1.0               100.0   \n",
       "4        em  augst 55 agora f6566                 -50.0               400.0   \n",
       "\n",
       "   summed_freq  \n",
       "0            1  \n",
       "1            1  \n",
       "2            8  \n",
       "3            1  \n",
       "4           12  "
      ]
     },
     "execution_count": 10,
     "metadata": {},
     "output_type": "execute_result"
    }
   ],
   "source": [
    "df0 = data.groupby(['origin_h1', 'RAAD_form', 'raad_type_start_date', 'raad_type_end_date'])['frequency'].sum()\n",
    "df0 = df0.reset_index()\n",
    "df0 = df0.rename(columns = {'frequency':'summed_freq'})\n",
    "df0.head()"
   ]
  },
  {
   "cell_type": "markdown",
   "metadata": {},
   "source": [
    "#### 7.2 Calculate *raad form* frequency per year"
   ]
  },
  {
   "cell_type": "code",
   "execution_count": 11,
   "metadata": {},
   "outputs": [
    {
     "data": {
      "text/html": [
       "<div>\n",
       "<style scoped>\n",
       "    .dataframe tbody tr th:only-of-type {\n",
       "        vertical-align: middle;\n",
       "    }\n",
       "\n",
       "    .dataframe tbody tr th {\n",
       "        vertical-align: top;\n",
       "    }\n",
       "\n",
       "    .dataframe thead th {\n",
       "        text-align: right;\n",
       "    }\n",
       "</style>\n",
       "<table border=\"1\" class=\"dataframe\">\n",
       "  <thead>\n",
       "    <tr style=\"text-align: right;\">\n",
       "      <th></th>\n",
       "      <th>origin_h1</th>\n",
       "      <th>RAAD_form</th>\n",
       "      <th>raad_type_start_date</th>\n",
       "      <th>raad_type_end_date</th>\n",
       "      <th>summed_freq</th>\n",
       "      <th>Sum_freq_per_year</th>\n",
       "    </tr>\n",
       "  </thead>\n",
       "  <tbody>\n",
       "    <tr>\n",
       "      <th>0</th>\n",
       "      <td>em</td>\n",
       "      <td>ac2</td>\n",
       "      <td>1.0</td>\n",
       "      <td>200.0</td>\n",
       "      <td>1</td>\n",
       "      <td>0.005025</td>\n",
       "    </tr>\n",
       "    <tr>\n",
       "      <th>1</th>\n",
       "      <td>em</td>\n",
       "      <td>augst 46</td>\n",
       "      <td>50.0</td>\n",
       "      <td>100.0</td>\n",
       "      <td>1</td>\n",
       "      <td>0.020000</td>\n",
       "    </tr>\n",
       "    <tr>\n",
       "      <th>2</th>\n",
       "      <td>em</td>\n",
       "      <td>augst 47</td>\n",
       "      <td>150.0</td>\n",
       "      <td>300.0</td>\n",
       "      <td>8</td>\n",
       "      <td>0.053333</td>\n",
       "    </tr>\n",
       "    <tr>\n",
       "      <th>3</th>\n",
       "      <td>em</td>\n",
       "      <td>augst 49</td>\n",
       "      <td>1.0</td>\n",
       "      <td>100.0</td>\n",
       "      <td>1</td>\n",
       "      <td>0.010101</td>\n",
       "    </tr>\n",
       "    <tr>\n",
       "      <th>4</th>\n",
       "      <td>em</td>\n",
       "      <td>augst 55 agora f6566</td>\n",
       "      <td>-50.0</td>\n",
       "      <td>400.0</td>\n",
       "      <td>12</td>\n",
       "      <td>0.026667</td>\n",
       "    </tr>\n",
       "  </tbody>\n",
       "</table>\n",
       "</div>"
      ],
      "text/plain": [
       "  origin_h1             RAAD_form  raad_type_start_date  raad_type_end_date  \\\n",
       "0        em                   ac2                   1.0               200.0   \n",
       "1        em              augst 46                  50.0               100.0   \n",
       "2        em              augst 47                 150.0               300.0   \n",
       "3        em              augst 49                   1.0               100.0   \n",
       "4        em  augst 55 agora f6566                 -50.0               400.0   \n",
       "\n",
       "   summed_freq  Sum_freq_per_year  \n",
       "0            1           0.005025  \n",
       "1            1           0.020000  \n",
       "2            8           0.053333  \n",
       "3            1           0.010101  \n",
       "4           12           0.026667  "
      ]
     },
     "execution_count": 11,
     "metadata": {},
     "output_type": "execute_result"
    }
   ],
   "source": [
    "df1 = sum_freq_per_year(data = df0,\n",
    "                        sum_freq = 'summed_freq',\n",
    "                        lower_date = 'raad_type_start_date',\n",
    "                        upper_date = 'raad_type_end_date')\n",
    "\n",
    "df1.head()"
   ]
  },
  {
   "cell_type": "markdown",
   "metadata": {},
   "source": [
    "#### 7.3 Create a two-column dataframe with years and frequency values\n",
    "This needs to be done for all the levels of origin that should be included in the final plot. If for example, you want three different origins (e.g., EM, Gaul, Italy), three different frequency data frames should be made. \n",
    "\n",
    "It is also possible to plot a line, which sums of serveral levels of the variable. This can be done using the following syntax:\n",
    "\n",
    "`freq_df = year_freq_df(df1[(df1['origin_h1'] == 'em') | (df1['origin_h1'] == 'gaul')]`\n"
   ]
  },
  {
   "cell_type": "code",
   "execution_count": 12,
   "metadata": {},
   "outputs": [],
   "source": [
    "freq_em = year_freq_df(data = df1[df1['origin_h1'] == 'em'],     # param for specifying the origin \n",
    "                       lower_date = 'raad_type_start_date',\n",
    "                       upper_date = 'raad_type_end_date',\n",
    "                       sum_freq = 'Sum_freq_per_year')   "
   ]
  },
  {
   "cell_type": "code",
   "execution_count": 13,
   "metadata": {},
   "outputs": [],
   "source": [
    "freq_gaul = year_freq_df(data = df1[df1['origin_h1'] == 'gaul'],     # param for specifying the origin \n",
    "                         lower_date = 'raad_type_start_date',\n",
    "                         upper_date = 'raad_type_end_date',\n",
    "                         sum_freq = 'Sum_freq_per_year')   "
   ]
  },
  {
   "cell_type": "markdown",
   "metadata": {},
   "source": [
    "#### 7.4 Plot the graphs"
   ]
  },
  {
   "cell_type": "markdown",
   "metadata": {},
   "source": [
    "#### 7.4.1 Create a dictionary for plotting"
   ]
  },
  {
   "cell_type": "code",
   "execution_count": 14,
   "metadata": {},
   "outputs": [],
   "source": [
    "df_dictionary = {'EM': freq_em, 'Gaul': freq_gaul}"
   ]
  },
  {
   "cell_type": "markdown",
   "metadata": {},
   "source": [
    "#### 7.4.2 Plot and save"
   ]
  },
  {
   "cell_type": "code",
   "execution_count": 15,
   "metadata": {},
   "outputs": [
    {
     "name": "stderr",
     "output_type": "stream",
     "text": [
      "/tmp/ipykernel_37811/4094909811.py:38: UserWarning: FixedFormatter should only be used together with FixedLocator\n",
      "  ax.set_xticklabels([int(i) if i != 0 else 1 for i in ax.get_xticks()])\n"
     ]
    },
    {
     "data": {
      "image/png": "[encoded data removed]",
      "text/plain": [
       "<Figure size 1440x792 with 1 Axes>"
      ]
     },
     "metadata": {},
     "output_type": "display_data"
    }
   ],
   "source": [
    "sns.set(font_scale=1.7)\n",
    "\n",
    "#Remove squeres from background\n",
    "sns.set_style(style='white')  \n",
    "\n",
    "fig, ax = plt.subplots(figsize=(20, 11))\n",
    "\n",
    "#Calculate minimum and maximum Y values to define the cuff off further\n",
    "minimum, maximum = get_Y_range(df_dictionary)\n",
    "\n",
    "plot_graph(dicts_of_df = df_dictionary,\n",
    "           palette=['yellow', 'green'],  \n",
    "           ax = ax)\n",
    "           \n",
    "\n",
    "# Cut off the range of Y value shown \n",
    "ax.set_xlim(minimum, maximum)\n",
    "\n",
    "# Remove 0 from Y axis\n",
    "ax.set_ylim(0, None)\n",
    "\n",
    "#Change background colour\n",
    "ax.set_facecolor(\"white\")  \n",
    "\n",
    "#Change Y values format \n",
    "# integers = '%.0f'\n",
    "# decimals = '%.1f', the number before 'f' defines how many values to show after dot\n",
    "ax.yaxis.set_major_formatter(FormatStrFormatter('%.0f'))  \n",
    "\n",
    "ax.set_ylabel(\"Frequency\")\n",
    "ax.set_xlabel(\"Year\")\n",
    "\n",
    "#To hide values on axis\n",
    "#ax.axes.xaxis.set_ticks([])\n",
    "#ax.axes.yaxis.set_ticks([])\n",
    "\n",
    "# Make sure that if 0 is included on the x-axis it is turned into 1 instead\n",
    "ax.set_xticklabels([int(i) if i != 0 else 1 for i in ax.get_xticks()])\n",
    "\n",
    "ax.set_title(label = 'Sum of Frequency per Origin per Year', size=25, y=1.04, fontweight='bold')\n",
    "plt.tight_layout()\n",
    "\n",
    "\n",
    "\n",
    "# Save the graph\n",
    "plt.savefig('./frequency_per_year.pdf')"
   ]
  },
  {
   "cell_type": "markdown",
   "metadata": {},
   "source": [
    "### 8. Show sum of *frequency* per *origin* per *year* for the specific level of *origin* (e.g., Frejus, Lyon, Switzerland) "
   ]
  },
  {
   "cell_type": "markdown",
   "metadata": {},
   "source": [
    "#### 8.1 Group *RAAD form* by *origin_h2* and sum frequencies"
   ]
  },
  {
   "cell_type": "code",
   "execution_count": 16,
   "metadata": {},
   "outputs": [
    {
     "data": {
      "text/html": [
       "<div>\n",
       "<style scoped>\n",
       "    .dataframe tbody tr th:only-of-type {\n",
       "        vertical-align: middle;\n",
       "    }\n",
       "\n",
       "    .dataframe tbody tr th {\n",
       "        vertical-align: top;\n",
       "    }\n",
       "\n",
       "    .dataframe thead th {\n",
       "        text-align: right;\n",
       "    }\n",
       "</style>\n",
       "<table border=\"1\" class=\"dataframe\">\n",
       "  <thead>\n",
       "    <tr style=\"text-align: right;\">\n",
       "      <th></th>\n",
       "      <th>origin_h2</th>\n",
       "      <th>RAAD_form</th>\n",
       "      <th>raad_type_start_date</th>\n",
       "      <th>raad_type_end_date</th>\n",
       "      <th>summed_freq</th>\n",
       "    </tr>\n",
       "  </thead>\n",
       "  <tbody>\n",
       "    <tr>\n",
       "      <th>0</th>\n",
       "      <td></td>\n",
       "      <td>africana i</td>\n",
       "      <td>150.0</td>\n",
       "      <td>300.0</td>\n",
       "      <td>20</td>\n",
       "    </tr>\n",
       "    <tr>\n",
       "      <th>1</th>\n",
       "      <td></td>\n",
       "      <td>africana ii</td>\n",
       "      <td>150.0</td>\n",
       "      <td>300.0</td>\n",
       "      <td>11</td>\n",
       "    </tr>\n",
       "    <tr>\n",
       "      <th>2</th>\n",
       "      <td></td>\n",
       "      <td>africana iia grande keay 24</td>\n",
       "      <td>150.0</td>\n",
       "      <td>300.0</td>\n",
       "      <td>5</td>\n",
       "    </tr>\n",
       "    <tr>\n",
       "      <th>3</th>\n",
       "      <td></td>\n",
       "      <td>africana iic</td>\n",
       "      <td>250.0</td>\n",
       "      <td>300.0</td>\n",
       "      <td>1</td>\n",
       "    </tr>\n",
       "    <tr>\n",
       "      <th>4</th>\n",
       "      <td></td>\n",
       "      <td>africana iiic keay 25</td>\n",
       "      <td>350.0</td>\n",
       "      <td>450.0</td>\n",
       "      <td>44</td>\n",
       "    </tr>\n",
       "  </tbody>\n",
       "</table>\n",
       "</div>"
      ],
      "text/plain": [
       "  origin_h2                    RAAD_form  raad_type_start_date  \\\n",
       "0                             africana i                 150.0   \n",
       "1                            africana ii                 150.0   \n",
       "2            africana iia grande keay 24                 150.0   \n",
       "3                           africana iic                 250.0   \n",
       "4                  africana iiic keay 25                 350.0   \n",
       "\n",
       "   raad_type_end_date  summed_freq  \n",
       "0               300.0           20  \n",
       "1               300.0           11  \n",
       "2               300.0            5  \n",
       "3               300.0            1  \n",
       "4               450.0           44  "
      ]
     },
     "execution_count": 16,
     "metadata": {},
     "output_type": "execute_result"
    }
   ],
   "source": [
    "df0 = data.groupby(['origin_h2', 'RAAD_form', 'raad_type_start_date', 'raad_type_end_date'])['frequency'].sum()\n",
    "df0 = df0.reset_index()\n",
    "df0 = df0.rename(columns = {'frequency':'summed_freq'})\n",
    "df0.head()"
   ]
  },
  {
   "cell_type": "markdown",
   "metadata": {},
   "source": [
    "#### 8.2 Calculate *raad form* frequency per year"
   ]
  },
  {
   "cell_type": "code",
   "execution_count": 17,
   "metadata": {},
   "outputs": [
    {
     "data": {
      "text/html": [
       "<div>\n",
       "<style scoped>\n",
       "    .dataframe tbody tr th:only-of-type {\n",
       "        vertical-align: middle;\n",
       "    }\n",
       "\n",
       "    .dataframe tbody tr th {\n",
       "        vertical-align: top;\n",
       "    }\n",
       "\n",
       "    .dataframe thead th {\n",
       "        text-align: right;\n",
       "    }\n",
       "</style>\n",
       "<table border=\"1\" class=\"dataframe\">\n",
       "  <thead>\n",
       "    <tr style=\"text-align: right;\">\n",
       "      <th></th>\n",
       "      <th>origin_h2</th>\n",
       "      <th>RAAD_form</th>\n",
       "      <th>raad_type_start_date</th>\n",
       "      <th>raad_type_end_date</th>\n",
       "      <th>summed_freq</th>\n",
       "      <th>Sum_freq_per_year</th>\n",
       "    </tr>\n",
       "  </thead>\n",
       "  <tbody>\n",
       "    <tr>\n",
       "      <th>0</th>\n",
       "      <td></td>\n",
       "      <td>africana i</td>\n",
       "      <td>150.0</td>\n",
       "      <td>300.0</td>\n",
       "      <td>20</td>\n",
       "      <td>0.133333</td>\n",
       "    </tr>\n",
       "    <tr>\n",
       "      <th>1</th>\n",
       "      <td></td>\n",
       "      <td>africana ii</td>\n",
       "      <td>150.0</td>\n",
       "      <td>300.0</td>\n",
       "      <td>11</td>\n",
       "      <td>0.073333</td>\n",
       "    </tr>\n",
       "    <tr>\n",
       "      <th>2</th>\n",
       "      <td></td>\n",
       "      <td>africana iia grande keay 24</td>\n",
       "      <td>150.0</td>\n",
       "      <td>300.0</td>\n",
       "      <td>5</td>\n",
       "      <td>0.033333</td>\n",
       "    </tr>\n",
       "    <tr>\n",
       "      <th>3</th>\n",
       "      <td></td>\n",
       "      <td>africana iic</td>\n",
       "      <td>250.0</td>\n",
       "      <td>300.0</td>\n",
       "      <td>1</td>\n",
       "      <td>0.020000</td>\n",
       "    </tr>\n",
       "    <tr>\n",
       "      <th>4</th>\n",
       "      <td></td>\n",
       "      <td>africana iiic keay 25</td>\n",
       "      <td>350.0</td>\n",
       "      <td>450.0</td>\n",
       "      <td>44</td>\n",
       "      <td>0.440000</td>\n",
       "    </tr>\n",
       "  </tbody>\n",
       "</table>\n",
       "</div>"
      ],
      "text/plain": [
       "  origin_h2                    RAAD_form  raad_type_start_date  \\\n",
       "0                             africana i                 150.0   \n",
       "1                            africana ii                 150.0   \n",
       "2            africana iia grande keay 24                 150.0   \n",
       "3                           africana iic                 250.0   \n",
       "4                  africana iiic keay 25                 350.0   \n",
       "\n",
       "   raad_type_end_date  summed_freq  Sum_freq_per_year  \n",
       "0               300.0           20           0.133333  \n",
       "1               300.0           11           0.073333  \n",
       "2               300.0            5           0.033333  \n",
       "3               300.0            1           0.020000  \n",
       "4               450.0           44           0.440000  "
      ]
     },
     "execution_count": 17,
     "metadata": {},
     "output_type": "execute_result"
    }
   ],
   "source": [
    "df1 = sum_freq_per_year(data = df0,\n",
    "                        sum_freq = 'summed_freq',\n",
    "                        lower_date = 'raad_type_start_date',\n",
    "                        upper_date = 'raad_type_end_date')\n",
    "\n",
    "df1.head()"
   ]
  },
  {
   "cell_type": "markdown",
   "metadata": {},
   "source": [
    "#### 8.3 Create a two-column data frame with years and frequency values\n",
    "This needs to be done for all the levels of origin that should be included in the final plot. If for example, you want three different origins (e.g., EM, Gaul, Italy), three different frequency data frames should be made. \n",
    "\n",
    "It is also possible to plot a line, which sums of serveral levels of the variable. This can be done using the following syntax:\n",
    "\n",
    "`freq_df = year_freq_df(df1[(df1['origin_h1'] == 'em') | (df1['origin_h1'] == 'gaul')]`"
   ]
  },
  {
   "cell_type": "code",
   "execution_count": 18,
   "metadata": {},
   "outputs": [],
   "source": [
    "freq_lyon = year_freq_df(data = df1[df1['origin_h2'] == 'lyon'],     # param for specifying the origin \n",
    "                         lower_date = 'raad_type_start_date',\n",
    "                         upper_date = 'raad_type_end_date',\n",
    "                         sum_freq = 'Sum_freq_per_year')   "
   ]
  },
  {
   "cell_type": "code",
   "execution_count": 19,
   "metadata": {},
   "outputs": [],
   "source": [
    "freq_frejus = year_freq_df(data = df1[df1['origin_h2'] == 'frejus'],     # param for specifying the origin \n",
    "                           lower_date = 'raad_type_start_date',\n",
    "                           upper_date = 'raad_type_end_date',\n",
    "                           sum_freq = 'Sum_freq_per_year')   "
   ]
  },
  {
   "cell_type": "markdown",
   "metadata": {},
   "source": [
    "### 8.4 Plot the graphs"
   ]
  },
  {
   "cell_type": "markdown",
   "metadata": {},
   "source": [
    "#### 8.4.1. Create a dictionary for plotting"
   ]
  },
  {
   "cell_type": "code",
   "execution_count": 20,
   "metadata": {},
   "outputs": [],
   "source": [
    "df_dictionary = {'Lyon': freq_lyon, 'Frejus': freq_frejus}"
   ]
  },
  {
   "cell_type": "markdown",
   "metadata": {},
   "source": [
    "#### 8.4.2. Plot and save"
   ]
  },
  {
   "cell_type": "code",
   "execution_count": 21,
   "metadata": {},
   "outputs": [
    {
     "name": "stderr",
     "output_type": "stream",
     "text": [
      "/tmp/ipykernel_37811/730129995.py:38: UserWarning: FixedFormatter should only be used together with FixedLocator\n",
      "  ax.set_xticklabels([int(i) if i != 0 else 1 for i in ax.get_xticks()])\n"
     ]
    },
    {
     "data": {
      "image/png": "[encoded data removed]",
      "text/plain": [
       "<Figure size 1440x792 with 1 Axes>"
      ]
     },
     "metadata": {},
     "output_type": "display_data"
    }
   ],
   "source": [
    "sns.set(font_scale=1.7)\n",
    "\n",
    "#Remove squeres from background\n",
    "sns.set_style(style='white')  \n",
    "\n",
    "fig, ax = plt.subplots(figsize=(20, 11))\n",
    "\n",
    "#Calculate minimum and maximum Y values to define the cuff off further\n",
    "minimum, maximum = get_Y_range(df_dictionary)\n",
    "\n",
    "plot_graph(dicts_of_df = df_dictionary,\n",
    "           palette=['yellow', 'green'],  \n",
    "           ax = ax)\n",
    "           \n",
    "\n",
    "# Cut off the range of Y value shown \n",
    "ax.set_xlim(minimum, maximum)\n",
    "\n",
    "# Remove 0 from Y axis\n",
    "ax.set_ylim(0, None)\n",
    "\n",
    "#Change background colour\n",
    "ax.set_facecolor(\"white\")  \n",
    "\n",
    "#Change Y values format \n",
    "# integers = '%.0f'\n",
    "# decimals = '%.1f', the number before 'f' defines how many values to show after dot\n",
    "ax.yaxis.set_major_formatter(FormatStrFormatter('%.0f'))  \n",
    "\n",
    "ax.set_ylabel(\"Frequency\")\n",
    "ax.set_xlabel(\"Year\")\n",
    "\n",
    "#To hide values on axis\n",
    "#ax.axes.xaxis.set_ticks([])\n",
    "#ax.axes.yaxis.set_ticks([])\n",
    "\n",
    "# Make sure that if 0 is included on the x-axis it is turned into 1 instead\n",
    "ax.set_xticklabels([int(i) if i != 0 else 1 for i in ax.get_xticks()])\n",
    "\n",
    "ax.set_title(label = 'Sum Frequency per Origin per Year for a Specific Level of Origin', size=25, y=1.04, fontweight='bold')\n",
    "plt.tight_layout()\n",
    "\n",
    "\n",
    "\n",
    "# Save the graph\n",
    "plt.savefig('./frequency_per_year.pdf')"
   ]
  },
  {
   "cell_type": "markdown",
   "metadata": {},
   "source": [
    "### 9. Show count of *'Site'* per *'Contents'* per *'Year'* in RAAD date range"
   ]
  },
  {
   "cell_type": "markdown",
   "metadata": {},
   "source": [
    "#### 9.1 To begin with a data frame is created with the counts"
   ]
  },
  {
   "cell_type": "code",
   "execution_count": 22,
   "metadata": {},
   "outputs": [
    {
     "data": {
      "text/html": [
       "<div>\n",
       "<style scoped>\n",
       "    .dataframe tbody tr th:only-of-type {\n",
       "        vertical-align: middle;\n",
       "    }\n",
       "\n",
       "    .dataframe tbody tr th {\n",
       "        vertical-align: top;\n",
       "    }\n",
       "\n",
       "    .dataframe thead th {\n",
       "        text-align: right;\n",
       "    }\n",
       "</style>\n",
       "<table border=\"1\" class=\"dataframe\">\n",
       "  <thead>\n",
       "    <tr style=\"text-align: right;\">\n",
       "      <th></th>\n",
       "      <th>RAAD_form</th>\n",
       "      <th>raad_type_start_date</th>\n",
       "      <th>raad_type_end_date</th>\n",
       "      <th>contents</th>\n",
       "      <th>List_of_sites</th>\n",
       "    </tr>\n",
       "  </thead>\n",
       "  <tbody>\n",
       "    <tr>\n",
       "      <th>0</th>\n",
       "      <td>ac2</td>\n",
       "      <td>1.0</td>\n",
       "      <td>200.0</td>\n",
       "      <td>wine</td>\n",
       "      <td>[neuss book]</td>\n",
       "    </tr>\n",
       "    <tr>\n",
       "      <th>1</th>\n",
       "      <td>africana i</td>\n",
       "      <td>150.0</td>\n",
       "      <td>300.0</td>\n",
       "      <td>olive oil</td>\n",
       "      <td>[augst, dieburg, groﬂgerau, mainz, strasbourg ...</td>\n",
       "    </tr>\n",
       "    <tr>\n",
       "      <th>2</th>\n",
       "      <td>africana ii</td>\n",
       "      <td>150.0</td>\n",
       "      <td>300.0</td>\n",
       "      <td>olive oil</td>\n",
       "      <td>[augst, bad kreuznach, mainz, bavay]</td>\n",
       "    </tr>\n",
       "    <tr>\n",
       "      <th>3</th>\n",
       "      <td>africana iia grande keay 24</td>\n",
       "      <td>150.0</td>\n",
       "      <td>300.0</td>\n",
       "      <td>wine or fishsauce</td>\n",
       "      <td>[mainz, strasbourg lhomme de fer, trier kaiser...</td>\n",
       "    </tr>\n",
       "    <tr>\n",
       "      <th>4</th>\n",
       "      <td>africana iic</td>\n",
       "      <td>250.0</td>\n",
       "      <td>300.0</td>\n",
       "      <td>fish sauce</td>\n",
       "      <td>[strasbourg lhomme de fer]</td>\n",
       "    </tr>\n",
       "  </tbody>\n",
       "</table>\n",
       "</div>"
      ],
      "text/plain": [
       "                     RAAD_form  raad_type_start_date  raad_type_end_date  \\\n",
       "0                          ac2                   1.0               200.0   \n",
       "1                   africana i                 150.0               300.0   \n",
       "2                  africana ii                 150.0               300.0   \n",
       "3  africana iia grande keay 24                 150.0               300.0   \n",
       "4                 africana iic                 250.0               300.0   \n",
       "\n",
       "            contents                                      List_of_sites  \n",
       "0               wine                                       [neuss book]  \n",
       "1          olive oil  [augst, dieburg, groﬂgerau, mainz, strasbourg ...  \n",
       "2          olive oil               [augst, bad kreuznach, mainz, bavay]  \n",
       "3  wine or fishsauce  [mainz, strasbourg lhomme de fer, trier kaiser...  \n",
       "4         fish sauce                         [strasbourg lhomme de fer]  "
      ]
     },
     "execution_count": 22,
     "metadata": {},
     "output_type": "execute_result"
    }
   ],
   "source": [
    "df0 = data.groupby(['RAAD_form', 'raad_type_start_date', 'raad_type_end_date', 'contents'])['site_name_modern'].apply(lambda x: ','.join(x))\n",
    "df0 = df0.apply(lambda x: x.split(','))\n",
    "df0 = df0.reset_index()\n",
    "df0 = df0.rename(columns = {'site_name_modern':'List_of_sites'})\n",
    "df0.head()"
   ]
  },
  {
   "cell_type": "markdown",
   "metadata": {},
   "source": [
    "#### 9.2 Count specific content types\n",
    "This needs to be done for all the levels of contents that should be included in the final plot. If for example, you want three different contents (e.g., Wine, Olive oil, Unknown), three different site_count data frames should be made. "
   ]
  },
  {
   "cell_type": "code",
   "execution_count": 23,
   "metadata": {},
   "outputs": [],
   "source": [
    "site_count_wine = year_object_count_df(data = df0[df0['contents'] == 'wine'], \n",
    "                                       lower_date = 'raad_type_start_date',  \n",
    "                                       upper_date = 'raad_type_end_date',\n",
    "                                       object_list = 'List_of_sites')   "
   ]
  },
  {
   "cell_type": "code",
   "execution_count": 24,
   "metadata": {},
   "outputs": [],
   "source": [
    "site_count_oil = year_object_count_df(data = df0[df0['contents'] == 'olive oil'], \n",
    "                                      lower_date = 'raad_type_start_date',  \n",
    "                                      upper_date = 'raad_type_end_date',\n",
    "                                      object_list = 'List_of_sites')   "
   ]
  },
  {
   "cell_type": "markdown",
   "metadata": {},
   "source": [
    "#### 9.3 Plot the graphs"
   ]
  },
  {
   "cell_type": "markdown",
   "metadata": {},
   "source": [
    "#### 9.3.1 Create a dictionary for plotting"
   ]
  },
  {
   "cell_type": "code",
   "execution_count": 25,
   "metadata": {},
   "outputs": [],
   "source": [
    "df_dictionary = {'Wine': site_count_wine, 'Olive oil': site_count_oil}"
   ]
  },
  {
   "cell_type": "markdown",
   "metadata": {},
   "source": [
    "#### 9.3.2. Plot and save"
   ]
  },
  {
   "cell_type": "code",
   "execution_count": 26,
   "metadata": {},
   "outputs": [
    {
     "name": "stderr",
     "output_type": "stream",
     "text": [
      "/tmp/ipykernel_37811/422829002.py:38: UserWarning: FixedFormatter should only be used together with FixedLocator\n",
      "  ax.set_xticklabels([int(i) if i != 0 else 1 for i in ax.get_xticks()])\n"
     ]
    },
    {
     "data": {
      "image/png": "[encoded data removed]",
      "text/plain": [
       "<Figure size 1440x792 with 1 Axes>"
      ]
     },
     "metadata": {},
     "output_type": "display_data"
    }
   ],
   "source": [
    "sns.set(font_scale=1.7)\n",
    "\n",
    "#Remove squeres from background\n",
    "sns.set_style(style='white')  \n",
    "\n",
    "fig, ax = plt.subplots(figsize=(20, 11))\n",
    "\n",
    "#Calculate minimum and maximum Y values to define the cuff off further\n",
    "minimum, maximum = get_Y_range(df_dictionary)\n",
    "\n",
    "plot_graph(dicts_of_df = df_dictionary,\n",
    "           palette=['yellow', 'green'],  \n",
    "           ax = ax)\n",
    "           \n",
    "\n",
    "# Cut off the range of Y value shown \n",
    "ax.set_xlim(minimum, maximum)\n",
    "\n",
    "# Remove 0 from Y axis\n",
    "ax.set_ylim(0, None)\n",
    "\n",
    "#Change background colour\n",
    "ax.set_facecolor(\"white\")  \n",
    "\n",
    "#Change Y values format \n",
    "# integers = '%.0f'\n",
    "# decimals = '%.1f', the number before 'f' defines how many values to show after dot\n",
    "ax.yaxis.set_major_formatter(FormatStrFormatter('%.0f'))  \n",
    "\n",
    "ax.set_ylabel(\"Site Count\")\n",
    "ax.set_xlabel(\"Year\")\n",
    "\n",
    "#To hide values on axis\n",
    "#ax.axes.xaxis.set_ticks([])\n",
    "#ax.axes.yaxis.set_ticks([])\n",
    "\n",
    "# Make sure that if 0 is included on the x-axis it is turned into 1 instead\n",
    "ax.set_xticklabels([int(i) if i != 0 else 1 for i in ax.get_xticks()])\n",
    "\n",
    "ax.set_title(label = 'Site Count per Contents per Year in RAAD Date Range', size=25, y=1.04, fontweight='bold')\n",
    "plt.tight_layout()\n",
    "\n",
    "\n",
    "\n",
    "# Save the graph\n",
    "plt.savefig('./site_count.pdf')"
   ]
  },
  {
   "cell_type": "markdown",
   "metadata": {},
   "source": [
    "### 10. Show sum *'Frequency'* per *'Contents'* per *'Year'*"
   ]
  },
  {
   "cell_type": "markdown",
   "metadata": {},
   "source": [
    "#### 10.1 To begin with the summed frequency is found"
   ]
  },
  {
   "cell_type": "code",
   "execution_count": 27,
   "metadata": {},
   "outputs": [
    {
     "data": {
      "text/html": [
       "<div>\n",
       "<style scoped>\n",
       "    .dataframe tbody tr th:only-of-type {\n",
       "        vertical-align: middle;\n",
       "    }\n",
       "\n",
       "    .dataframe tbody tr th {\n",
       "        vertical-align: top;\n",
       "    }\n",
       "\n",
       "    .dataframe thead th {\n",
       "        text-align: right;\n",
       "    }\n",
       "</style>\n",
       "<table border=\"1\" class=\"dataframe\">\n",
       "  <thead>\n",
       "    <tr style=\"text-align: right;\">\n",
       "      <th></th>\n",
       "      <th>contents</th>\n",
       "      <th>RAAD_form</th>\n",
       "      <th>raad_type_start_date</th>\n",
       "      <th>raad_type_end_date</th>\n",
       "      <th>Summed_freq</th>\n",
       "    </tr>\n",
       "  </thead>\n",
       "  <tbody>\n",
       "    <tr>\n",
       "      <th>0</th>\n",
       "      <td>alum</td>\n",
       "      <td>richborough 527 augst 43</td>\n",
       "      <td>-50.0</td>\n",
       "      <td>200.0</td>\n",
       "      <td>66</td>\n",
       "    </tr>\n",
       "    <tr>\n",
       "      <th>1</th>\n",
       "      <td>defrutum or olives</td>\n",
       "      <td>haltern 70</td>\n",
       "      <td>-80.0</td>\n",
       "      <td>200.0</td>\n",
       "      <td>1148</td>\n",
       "    </tr>\n",
       "    <tr>\n",
       "      <th>2</th>\n",
       "      <td>defrutumolives</td>\n",
       "      <td>ha 70 sim</td>\n",
       "      <td>20.0</td>\n",
       "      <td>150.0</td>\n",
       "      <td>83</td>\n",
       "    </tr>\n",
       "    <tr>\n",
       "      <th>3</th>\n",
       "      <td>defrutumolives</td>\n",
       "      <td>london 555augst 21haltern 70 sim</td>\n",
       "      <td>20.0</td>\n",
       "      <td>150.0</td>\n",
       "      <td>158</td>\n",
       "    </tr>\n",
       "    <tr>\n",
       "      <th>4</th>\n",
       "      <td>fish sauce</td>\n",
       "      <td>africana iic</td>\n",
       "      <td>250.0</td>\n",
       "      <td>300.0</td>\n",
       "      <td>1</td>\n",
       "    </tr>\n",
       "  </tbody>\n",
       "</table>\n",
       "</div>"
      ],
      "text/plain": [
       "             contents                         RAAD_form  raad_type_start_date  \\\n",
       "0                alum          richborough 527 augst 43                 -50.0   \n",
       "1  defrutum or olives                        haltern 70                 -80.0   \n",
       "2      defrutumolives                         ha 70 sim                  20.0   \n",
       "3      defrutumolives  london 555augst 21haltern 70 sim                  20.0   \n",
       "4          fish sauce                      africana iic                 250.0   \n",
       "\n",
       "   raad_type_end_date  Summed_freq  \n",
       "0               200.0           66  \n",
       "1               200.0         1148  \n",
       "2               150.0           83  \n",
       "3               150.0          158  \n",
       "4               300.0            1  "
      ]
     },
     "execution_count": 27,
     "metadata": {},
     "output_type": "execute_result"
    }
   ],
   "source": [
    "df0 = data.groupby(['contents', 'RAAD_form', 'raad_type_start_date', 'raad_type_end_date'])['frequency'].sum()\n",
    "df0 = df0.reset_index()\n",
    "df0 = df0.rename(columns = {'frequency':'Summed_freq'})\n",
    "df0.head()"
   ]
  },
  {
   "cell_type": "markdown",
   "metadata": {},
   "source": [
    "#### 10.2 Calculate of the summed frequency per year"
   ]
  },
  {
   "cell_type": "code",
   "execution_count": 28,
   "metadata": {},
   "outputs": [],
   "source": [
    "df1 = sum_freq_per_year(data = df0,\n",
    "                        sum_freq = 'Summed_freq',\n",
    "                        lower_date = 'raad_type_start_date',\n",
    "                        upper_date = 'raad_type_end_date')"
   ]
  },
  {
   "cell_type": "markdown",
   "metadata": {},
   "source": [
    "#### 10.3 Create frequency dataframe with information about a certain content type"
   ]
  },
  {
   "cell_type": "code",
   "execution_count": 29,
   "metadata": {},
   "outputs": [],
   "source": [
    "freq_wine = year_freq_df(data = df1[df1['contents'] == 'wine'],     \n",
    "                         lower_date = 'raad_type_start_date',\n",
    "                         upper_date = 'raad_type_end_date',\n",
    "                         sum_freq = 'Sum_freq_per_year')   "
   ]
  },
  {
   "cell_type": "code",
   "execution_count": 30,
   "metadata": {},
   "outputs": [],
   "source": [
    "freq_oil = year_freq_df(data = df1[df1['contents'] == 'olive oil'],     \n",
    "                        lower_date = 'raad_type_start_date',\n",
    "                        upper_date = 'raad_type_end_date',\n",
    "                        sum_freq = 'Sum_freq_per_year')   "
   ]
  },
  {
   "cell_type": "markdown",
   "metadata": {},
   "source": [
    "### 11. Plot the graphs"
   ]
  },
  {
   "cell_type": "markdown",
   "metadata": {},
   "source": [
    "#### 11.1. Create a dictionary for plotting"
   ]
  },
  {
   "cell_type": "code",
   "execution_count": 31,
   "metadata": {},
   "outputs": [],
   "source": [
    "df_dictionary = {'Wine': freq_wine, 'Olive oil': freq_oil}"
   ]
  },
  {
   "cell_type": "markdown",
   "metadata": {},
   "source": [
    "#### 11.2. Plot and save"
   ]
  },
  {
   "cell_type": "code",
   "execution_count": 32,
   "metadata": {},
   "outputs": [
    {
     "name": "stderr",
     "output_type": "stream",
     "text": [
      "/tmp/ipykernel_37811/2359439641.py:38: UserWarning: FixedFormatter should only be used together with FixedLocator\n",
      "  ax.set_xticklabels([int(i) if i != 0 else 1 for i in ax.get_xticks()])\n"
     ]
    },
    {
     "data": {
      "image/png": "[encoded data removed]",
      "text/plain": [
       "<Figure size 1440x792 with 1 Axes>"
      ]
     },
     "metadata": {},
     "output_type": "display_data"
    }
   ],
   "source": [
    "sns.set(font_scale=1.7)\n",
    "\n",
    "#Remove squeres from background\n",
    "sns.set_style(style='white')  \n",
    "\n",
    "fig, ax = plt.subplots(figsize=(20, 11))\n",
    "\n",
    "#Calculate minimum and maximum Y values to define the cuff off further\n",
    "minimum, maximum = get_Y_range(df_dictionary)\n",
    "\n",
    "plot_graph(dicts_of_df = df_dictionary,\n",
    "           palette=['yellow', 'green'],  \n",
    "           ax = ax)\n",
    "           \n",
    "\n",
    "# Cut off the range of Y value shown \n",
    "ax.set_xlim(minimum, maximum)\n",
    "\n",
    "# Remove 0 from Y axis\n",
    "ax.set_ylim(0, None)\n",
    "\n",
    "#Change background colour\n",
    "ax.set_facecolor(\"white\")  \n",
    "\n",
    "#Change Y values format \n",
    "# integers = '%.0f'\n",
    "# decimals = '%.1f', the number before 'f' defines how many values to show after dot\n",
    "ax.yaxis.set_major_formatter(FormatStrFormatter('%.0f'))  \n",
    "\n",
    "ax.set_ylabel(\"Frequency\")\n",
    "ax.set_xlabel(\"Year\")\n",
    "\n",
    "#To hide values on axis\n",
    "#ax.axes.xaxis.set_ticks([])\n",
    "#ax.axes.yaxis.set_ticks([])\n",
    "\n",
    "# Make sure that if 0 is included on the x-axis it is turned into 1 instead\n",
    "ax.set_xticklabels([int(i) if i != 0 else 1 for i in ax.get_xticks()])\n",
    "\n",
    "ax.set_title(label = 'Sum of Frequency per Contents per Year', size=25, y=1.04, fontweight='bold')\n",
    "plt.tight_layout()\n",
    "\n",
    "\n",
    "\n",
    "# Save the graph\n",
    "plt.savefig('./Frequency_per_year.pdf')"
   ]
  },
  {
   "cell_type": "markdown",
   "metadata": {},
   "source": [
    "### 12. Show count of unique *'RAAD type numbers'*  per *'Year'* in RAAD date range "
   ]
  },
  {
   "cell_type": "markdown",
   "metadata": {},
   "source": [
    "#### 12.1 Identify the list of RAAD type numbers per RAAD form"
   ]
  },
  {
   "cell_type": "code",
   "execution_count": 33,
   "metadata": {},
   "outputs": [
    {
     "data": {
      "text/html": [
       "<div>\n",
       "<style scoped>\n",
       "    .dataframe tbody tr th:only-of-type {\n",
       "        vertical-align: middle;\n",
       "    }\n",
       "\n",
       "    .dataframe tbody tr th {\n",
       "        vertical-align: top;\n",
       "    }\n",
       "\n",
       "    .dataframe thead th {\n",
       "        text-align: right;\n",
       "    }\n",
       "</style>\n",
       "<table border=\"1\" class=\"dataframe\">\n",
       "  <thead>\n",
       "    <tr style=\"text-align: right;\">\n",
       "      <th></th>\n",
       "      <th>RAAD_form</th>\n",
       "      <th>raad_type_start_date</th>\n",
       "      <th>raad_type_end_date</th>\n",
       "      <th>site_name_modern</th>\n",
       "      <th>List_of_numbers</th>\n",
       "    </tr>\n",
       "  </thead>\n",
       "  <tbody>\n",
       "    <tr>\n",
       "      <th>0</th>\n",
       "      <td>ac2</td>\n",
       "      <td>1.0</td>\n",
       "      <td>200.0</td>\n",
       "      <td>neuss book</td>\n",
       "      <td>[16]</td>\n",
       "    </tr>\n",
       "    <tr>\n",
       "      <th>1</th>\n",
       "      <td>africana i</td>\n",
       "      <td>150.0</td>\n",
       "      <td>300.0</td>\n",
       "      <td>augst</td>\n",
       "      <td>[166]</td>\n",
       "    </tr>\n",
       "    <tr>\n",
       "      <th>2</th>\n",
       "      <td>africana i</td>\n",
       "      <td>150.0</td>\n",
       "      <td>300.0</td>\n",
       "      <td>dieburg</td>\n",
       "      <td>[166]</td>\n",
       "    </tr>\n",
       "    <tr>\n",
       "      <th>3</th>\n",
       "      <td>africana i</td>\n",
       "      <td>150.0</td>\n",
       "      <td>300.0</td>\n",
       "      <td>groﬂgerau</td>\n",
       "      <td>[166]</td>\n",
       "    </tr>\n",
       "    <tr>\n",
       "      <th>4</th>\n",
       "      <td>africana i</td>\n",
       "      <td>150.0</td>\n",
       "      <td>300.0</td>\n",
       "      <td>mainz</td>\n",
       "      <td>[166]</td>\n",
       "    </tr>\n",
       "  </tbody>\n",
       "</table>\n",
       "</div>"
      ],
      "text/plain": [
       "    RAAD_form  raad_type_start_date  raad_type_end_date site_name_modern  \\\n",
       "0         ac2                   1.0               200.0       neuss book   \n",
       "1  africana i                 150.0               300.0            augst   \n",
       "2  africana i                 150.0               300.0          dieburg   \n",
       "3  africana i                 150.0               300.0        groﬂgerau   \n",
       "4  africana i                 150.0               300.0            mainz   \n",
       "\n",
       "  List_of_numbers  \n",
       "0            [16]  \n",
       "1           [166]  \n",
       "2           [166]  \n",
       "3           [166]  \n",
       "4           [166]  "
      ]
     },
     "execution_count": 33,
     "metadata": {},
     "output_type": "execute_result"
    }
   ],
   "source": [
    "df0 = data.groupby(['RAAD_form', 'raad_type_start_date', 'raad_type_end_date', 'site_name_modern'])['RAAD_type_number'].apply(list)\n",
    "df0 = df0.reset_index()\n",
    "df0 = df0.rename(columns = {'RAAD_type_number':'List_of_numbers'})\n",
    "df0.head()"
   ]
  },
  {
   "cell_type": "markdown",
   "metadata": {},
   "source": [
    "#### 12.2 Count the number of unique RAAD type numbers per Year in RAAD date range"
   ]
  },
  {
   "cell_type": "code",
   "execution_count": 34,
   "metadata": {},
   "outputs": [],
   "source": [
    "type_num_count = year_object_count_df(data = df0,  \n",
    "                                      lower_date = 'raad_type_start_date',  \n",
    "                                      upper_date = 'raad_type_end_date',\n",
    "                                      object_list = 'List_of_numbers')   "
   ]
  },
  {
   "cell_type": "markdown",
   "metadata": {},
   "source": [
    "#### 12.3 Create a dictionary for plotting"
   ]
  },
  {
   "cell_type": "code",
   "execution_count": 36,
   "metadata": {},
   "outputs": [],
   "source": [
    "df_dictionary = {'RAAD Type Number': type_num_count}"
   ]
  },
  {
   "cell_type": "markdown",
   "metadata": {},
   "source": [
    "#### 12.4 Plot and save"
   ]
  },
  {
   "cell_type": "code",
   "execution_count": 38,
   "metadata": {},
   "outputs": [
    {
     "name": "stderr",
     "output_type": "stream",
     "text": [
      "/tmp/ipykernel_37811/837784293.py:38: UserWarning: FixedFormatter should only be used together with FixedLocator\n",
      "  ax.set_xticklabels([int(i) if i != 0 else 1 for i in ax.get_xticks()])\n"
     ]
    },
    {
     "data": {
      "image/png": "[encoded data removed]",
      "text/plain": [
       "<Figure size 1440x792 with 1 Axes>"
      ]
     },
     "metadata": {},
     "output_type": "display_data"
    }
   ],
   "source": [
    "sns.set(font_scale=1.7)\n",
    "\n",
    "#Remove squeres from background\n",
    "sns.set_style(style='white')  \n",
    "\n",
    "fig, ax = plt.subplots(figsize=(20, 11))\n",
    "\n",
    "#Calculate minimum and maximum Y values to define the cuff off further\n",
    "minimum, maximum = get_Y_range(df_dictionary)\n",
    "\n",
    "plot_graph(dicts_of_df = df_dictionary,\n",
    "           palette=['black'],  \n",
    "           ax = ax)\n",
    "           \n",
    "\n",
    "# Cut off the range of Y value shown \n",
    "ax.set_xlim(minimum, maximum)\n",
    "\n",
    "# Remove 0 from Y axis\n",
    "ax.set_ylim(0, None)\n",
    "\n",
    "#Change background colour\n",
    "ax.set_facecolor(\"white\")  \n",
    "\n",
    "#Change Y values format \n",
    "# integers = '%.0f'\n",
    "# decimals = '%.1f', the number before 'f' defines how many values to show after dot\n",
    "ax.yaxis.set_major_formatter(FormatStrFormatter('%.0f'))  \n",
    "\n",
    "ax.set_ylabel(\"Count\")\n",
    "ax.set_xlabel(\"Year\")\n",
    "\n",
    "#To hide values on axis\n",
    "#ax.axes.xaxis.set_ticks([])\n",
    "#ax.axes.yaxis.set_ticks([])\n",
    "\n",
    "# Make sure that if 0 is included on the x-axis it is turned into 1 instead\n",
    "ax.set_xticklabels([int(i) if i != 0 else 1 for i in ax.get_xticks()])\n",
    "\n",
    "ax.set_title(label = 'RAAD Type Number Count per Year', size=25, y=1.04, fontweight='bold')\n",
    "plt.tight_layout()\n",
    "\n",
    "\n",
    "# Save the graph\n",
    "plt.savefig('./count_per_year.pdf')"
   ]
  },
  {
   "cell_type": "markdown",
   "metadata": {},
   "source": [
    "### 13. Show count of unique *'RAAD type numbers'*  per *'Year'* per *'Site'* in RAAD date range"
   ]
  },
  {
   "cell_type": "markdown",
   "metadata": {},
   "source": [
    "#### 13.1 Identify the list of RAAD type numbers per RAAD form per Site"
   ]
  },
  {
   "cell_type": "code",
   "execution_count": 39,
   "metadata": {},
   "outputs": [
    {
     "data": {
      "text/html": [
       "<div>\n",
       "<style scoped>\n",
       "    .dataframe tbody tr th:only-of-type {\n",
       "        vertical-align: middle;\n",
       "    }\n",
       "\n",
       "    .dataframe tbody tr th {\n",
       "        vertical-align: top;\n",
       "    }\n",
       "\n",
       "    .dataframe thead th {\n",
       "        text-align: right;\n",
       "    }\n",
       "</style>\n",
       "<table border=\"1\" class=\"dataframe\">\n",
       "  <thead>\n",
       "    <tr style=\"text-align: right;\">\n",
       "      <th></th>\n",
       "      <th>RAAD_form</th>\n",
       "      <th>raad_type_start_date</th>\n",
       "      <th>raad_type_end_date</th>\n",
       "      <th>site_name_modern</th>\n",
       "      <th>List_of_numbers</th>\n",
       "    </tr>\n",
       "  </thead>\n",
       "  <tbody>\n",
       "    <tr>\n",
       "      <th>0</th>\n",
       "      <td>ac2</td>\n",
       "      <td>1.0</td>\n",
       "      <td>200.0</td>\n",
       "      <td>neuss book</td>\n",
       "      <td>[16]</td>\n",
       "    </tr>\n",
       "    <tr>\n",
       "      <th>1</th>\n",
       "      <td>africana i</td>\n",
       "      <td>150.0</td>\n",
       "      <td>300.0</td>\n",
       "      <td>augst</td>\n",
       "      <td>[166]</td>\n",
       "    </tr>\n",
       "    <tr>\n",
       "      <th>2</th>\n",
       "      <td>africana i</td>\n",
       "      <td>150.0</td>\n",
       "      <td>300.0</td>\n",
       "      <td>dieburg</td>\n",
       "      <td>[166]</td>\n",
       "    </tr>\n",
       "    <tr>\n",
       "      <th>3</th>\n",
       "      <td>africana i</td>\n",
       "      <td>150.0</td>\n",
       "      <td>300.0</td>\n",
       "      <td>groﬂgerau</td>\n",
       "      <td>[166]</td>\n",
       "    </tr>\n",
       "    <tr>\n",
       "      <th>4</th>\n",
       "      <td>africana i</td>\n",
       "      <td>150.0</td>\n",
       "      <td>300.0</td>\n",
       "      <td>mainz</td>\n",
       "      <td>[166]</td>\n",
       "    </tr>\n",
       "  </tbody>\n",
       "</table>\n",
       "</div>"
      ],
      "text/plain": [
       "    RAAD_form  raad_type_start_date  raad_type_end_date site_name_modern  \\\n",
       "0         ac2                   1.0               200.0       neuss book   \n",
       "1  africana i                 150.0               300.0            augst   \n",
       "2  africana i                 150.0               300.0          dieburg   \n",
       "3  africana i                 150.0               300.0        groﬂgerau   \n",
       "4  africana i                 150.0               300.0            mainz   \n",
       "\n",
       "  List_of_numbers  \n",
       "0            [16]  \n",
       "1           [166]  \n",
       "2           [166]  \n",
       "3           [166]  \n",
       "4           [166]  "
      ]
     },
     "execution_count": 39,
     "metadata": {},
     "output_type": "execute_result"
    }
   ],
   "source": [
    "df0 = data.groupby(['RAAD_form', 'raad_type_start_date', 'raad_type_end_date', 'site_name_modern'])['RAAD_type_number'].apply(list)\n",
    "df0 = df0.reset_index()\n",
    "df0 = df0.rename(columns = {'RAAD_type_number':'List_of_numbers'})\n",
    "df0.head()\n"
   ]
  },
  {
   "cell_type": "markdown",
   "metadata": {},
   "source": [
    "#### 13.2 Count the number of unique RAAD type numbers per Year per certain Site"
   ]
  },
  {
   "cell_type": "code",
   "execution_count": 40,
   "metadata": {},
   "outputs": [],
   "source": [
    "type_num_count_mainz  = year_object_count_df(data = df0[df0['site_name_modern'] == 'mainz'],  \n",
    "                                             lower_date = 'raad_type_start_date',  \n",
    "                                             upper_date = 'raad_type_end_date',\n",
    "                                             object_list = 'List_of_numbers') "
   ]
  },
  {
   "cell_type": "markdown",
   "metadata": {},
   "source": [
    "#### 13.3 Create a dictionary for plotting"
   ]
  },
  {
   "cell_type": "code",
   "execution_count": 41,
   "metadata": {},
   "outputs": [],
   "source": [
    "df_dictionary = {'Mainz': type_num_count_mainz}"
   ]
  },
  {
   "cell_type": "markdown",
   "metadata": {},
   "source": [
    "#### 13.4 Plot and save"
   ]
  },
  {
   "cell_type": "code",
   "execution_count": 42,
   "metadata": {},
   "outputs": [
    {
     "name": "stderr",
     "output_type": "stream",
     "text": [
      "/tmp/ipykernel_37811/3082884803.py:38: UserWarning: FixedFormatter should only be used together with FixedLocator\n",
      "  ax.set_xticklabels([int(i) if i != 0 else 1 for i in ax.get_xticks()])\n"
     ]
    },
    {
     "data": {
      "image/png": "[encoded data removed]",
      "text/plain": [
       "<Figure size 1440x792 with 1 Axes>"
      ]
     },
     "metadata": {},
     "output_type": "display_data"
    }
   ],
   "source": [
    "sns.set(font_scale=1.7)\n",
    "\n",
    "#Remove squeres from background\n",
    "sns.set_style(style='white')  \n",
    "\n",
    "fig, ax = plt.subplots(figsize=(20, 11))\n",
    "\n",
    "#Calculate minimum and maximum Y values to define the cuff off further\n",
    "minimum, maximum = get_Y_range(df_dictionary)\n",
    "\n",
    "plot_graph(dicts_of_df = df_dictionary,\n",
    "           palette=['black'],  \n",
    "           ax = ax)\n",
    "           \n",
    "\n",
    "# Cut off the range of Y value shown \n",
    "ax.set_xlim(minimum, maximum)\n",
    "\n",
    "# Remove 0 from Y axis\n",
    "ax.set_ylim(0, None)\n",
    "\n",
    "#Change background colour\n",
    "ax.set_facecolor(\"white\")  \n",
    "\n",
    "#Change Y values format \n",
    "# integers = '%.0f'\n",
    "# decimals = '%.1f', the number before 'f' defines how many values to show after dot\n",
    "ax.yaxis.set_major_formatter(FormatStrFormatter('%.0f'))  \n",
    "\n",
    "ax.set_ylabel(\"Count\")\n",
    "ax.set_xlabel(\"Year\")\n",
    "\n",
    "#To hide values on axis\n",
    "#ax.axes.xaxis.set_ticks([])\n",
    "#ax.axes.yaxis.set_ticks([])\n",
    "\n",
    "# Make sure that if 0 is included on the x-axis it is turned into 1 instead\n",
    "ax.set_xticklabels([int(i) if i != 0 else 1 for i in ax.get_xticks()])\n",
    "\n",
    "ax.set_title(label = 'RAAD Type Number Count per Site per Year', size=25, y=1.04, fontweight='bold')\n",
    "plt.tight_layout()\n",
    "\n",
    "\n",
    "# Save the graph\n",
    "plt.savefig('./count_per_year.pdf')\n"
   ]
  },
  {
   "cell_type": "markdown",
   "metadata": {},
   "source": [
    "### 14. Plot frequency of blank origin_2 variable"
   ]
  },
  {
   "cell_type": "markdown",
   "metadata": {},
   "source": [
    "#### 14.1 Grouping data\n",
    "\n",
    "Notice that here we are grouping both by origin_h1 and origin_h2\n"
   ]
  },
  {
   "cell_type": "code",
   "execution_count": 43,
   "metadata": {},
   "outputs": [
    {
     "data": {
      "text/html": [
       "<div>\n",
       "<style scoped>\n",
       "    .dataframe tbody tr th:only-of-type {\n",
       "        vertical-align: middle;\n",
       "    }\n",
       "\n",
       "    .dataframe tbody tr th {\n",
       "        vertical-align: top;\n",
       "    }\n",
       "\n",
       "    .dataframe thead th {\n",
       "        text-align: right;\n",
       "    }\n",
       "</style>\n",
       "<table border=\"1\" class=\"dataframe\">\n",
       "  <thead>\n",
       "    <tr style=\"text-align: right;\">\n",
       "      <th></th>\n",
       "      <th>origin_h1</th>\n",
       "      <th>origin_h2</th>\n",
       "      <th>RAAD_form</th>\n",
       "      <th>raad_type_start_date</th>\n",
       "      <th>raad_type_end_date</th>\n",
       "      <th>summed_freq</th>\n",
       "    </tr>\n",
       "  </thead>\n",
       "  <tbody>\n",
       "    <tr>\n",
       "      <th>0</th>\n",
       "      <td>em</td>\n",
       "      <td></td>\n",
       "      <td>augst 49</td>\n",
       "      <td>1.0</td>\n",
       "      <td>100.0</td>\n",
       "      <td>1</td>\n",
       "    </tr>\n",
       "    <tr>\n",
       "      <th>1</th>\n",
       "      <td>em</td>\n",
       "      <td></td>\n",
       "      <td>augst 55 agora f6566</td>\n",
       "      <td>-50.0</td>\n",
       "      <td>400.0</td>\n",
       "      <td>12</td>\n",
       "    </tr>\n",
       "    <tr>\n",
       "      <th>2</th>\n",
       "      <td>em</td>\n",
       "      <td></td>\n",
       "      <td>augst 56</td>\n",
       "      <td>300.0</td>\n",
       "      <td>450.0</td>\n",
       "      <td>2</td>\n",
       "    </tr>\n",
       "    <tr>\n",
       "      <th>3</th>\n",
       "      <td>em</td>\n",
       "      <td></td>\n",
       "      <td>augst 57</td>\n",
       "      <td>400.0</td>\n",
       "      <td>500.0</td>\n",
       "      <td>1</td>\n",
       "    </tr>\n",
       "    <tr>\n",
       "      <th>4</th>\n",
       "      <td>em</td>\n",
       "      <td></td>\n",
       "      <td>augst 59</td>\n",
       "      <td>300.0</td>\n",
       "      <td>450.0</td>\n",
       "      <td>1</td>\n",
       "    </tr>\n",
       "  </tbody>\n",
       "</table>\n",
       "</div>"
      ],
      "text/plain": [
       "  origin_h1 origin_h2             RAAD_form  raad_type_start_date  \\\n",
       "0        em                        augst 49                   1.0   \n",
       "1        em            augst 55 agora f6566                 -50.0   \n",
       "2        em                        augst 56                 300.0   \n",
       "3        em                        augst 57                 400.0   \n",
       "4        em                        augst 59                 300.0   \n",
       "\n",
       "   raad_type_end_date  summed_freq  \n",
       "0               100.0            1  \n",
       "1               400.0           12  \n",
       "2               450.0            2  \n",
       "3               500.0            1  \n",
       "4               450.0            1  "
      ]
     },
     "execution_count": 43,
     "metadata": {},
     "output_type": "execute_result"
    }
   ],
   "source": [
    "df0 = data.groupby(['origin_h1','origin_h2', 'RAAD_form', 'raad_type_start_date', 'raad_type_end_date'])['frequency'].sum()\n",
    "df0 = df0.reset_index()\n",
    "df0 = df0.rename(columns = {'frequency':'summed_freq'})\n",
    "df0.head()"
   ]
  },
  {
   "cell_type": "markdown",
   "metadata": {},
   "source": [
    "The next chunk calculates the summed frequency per year. No need to alter anything here."
   ]
  },
  {
   "cell_type": "code",
   "execution_count": 44,
   "metadata": {},
   "outputs": [
    {
     "data": {
      "text/html": [
       "<div>\n",
       "<style scoped>\n",
       "    .dataframe tbody tr th:only-of-type {\n",
       "        vertical-align: middle;\n",
       "    }\n",
       "\n",
       "    .dataframe tbody tr th {\n",
       "        vertical-align: top;\n",
       "    }\n",
       "\n",
       "    .dataframe thead th {\n",
       "        text-align: right;\n",
       "    }\n",
       "</style>\n",
       "<table border=\"1\" class=\"dataframe\">\n",
       "  <thead>\n",
       "    <tr style=\"text-align: right;\">\n",
       "      <th></th>\n",
       "      <th>origin_h1</th>\n",
       "      <th>origin_h2</th>\n",
       "      <th>RAAD_form</th>\n",
       "      <th>raad_type_start_date</th>\n",
       "      <th>raad_type_end_date</th>\n",
       "      <th>summed_freq</th>\n",
       "      <th>Sum_freq_per_year</th>\n",
       "    </tr>\n",
       "  </thead>\n",
       "  <tbody>\n",
       "    <tr>\n",
       "      <th>0</th>\n",
       "      <td>em</td>\n",
       "      <td></td>\n",
       "      <td>augst 49</td>\n",
       "      <td>1.0</td>\n",
       "      <td>100.0</td>\n",
       "      <td>1</td>\n",
       "      <td>0.010101</td>\n",
       "    </tr>\n",
       "    <tr>\n",
       "      <th>1</th>\n",
       "      <td>em</td>\n",
       "      <td></td>\n",
       "      <td>augst 55 agora f6566</td>\n",
       "      <td>-50.0</td>\n",
       "      <td>400.0</td>\n",
       "      <td>12</td>\n",
       "      <td>0.026667</td>\n",
       "    </tr>\n",
       "    <tr>\n",
       "      <th>2</th>\n",
       "      <td>em</td>\n",
       "      <td></td>\n",
       "      <td>augst 56</td>\n",
       "      <td>300.0</td>\n",
       "      <td>450.0</td>\n",
       "      <td>2</td>\n",
       "      <td>0.013333</td>\n",
       "    </tr>\n",
       "    <tr>\n",
       "      <th>3</th>\n",
       "      <td>em</td>\n",
       "      <td></td>\n",
       "      <td>augst 57</td>\n",
       "      <td>400.0</td>\n",
       "      <td>500.0</td>\n",
       "      <td>1</td>\n",
       "      <td>0.010000</td>\n",
       "    </tr>\n",
       "    <tr>\n",
       "      <th>4</th>\n",
       "      <td>em</td>\n",
       "      <td></td>\n",
       "      <td>augst 59</td>\n",
       "      <td>300.0</td>\n",
       "      <td>450.0</td>\n",
       "      <td>1</td>\n",
       "      <td>0.006667</td>\n",
       "    </tr>\n",
       "  </tbody>\n",
       "</table>\n",
       "</div>"
      ],
      "text/plain": [
       "  origin_h1 origin_h2             RAAD_form  raad_type_start_date  \\\n",
       "0        em                        augst 49                   1.0   \n",
       "1        em            augst 55 agora f6566                 -50.0   \n",
       "2        em                        augst 56                 300.0   \n",
       "3        em                        augst 57                 400.0   \n",
       "4        em                        augst 59                 300.0   \n",
       "\n",
       "   raad_type_end_date  summed_freq  Sum_freq_per_year  \n",
       "0               100.0            1           0.010101  \n",
       "1               400.0           12           0.026667  \n",
       "2               450.0            2           0.013333  \n",
       "3               500.0            1           0.010000  \n",
       "4               450.0            1           0.006667  "
      ]
     },
     "execution_count": 44,
     "metadata": {},
     "output_type": "execute_result"
    }
   ],
   "source": [
    "df1 = sum_freq_per_year(data = df0,\n",
    "                        sum_freq = 'summed_freq',\n",
    "                        lower_date = 'raad_type_start_date',\n",
    "                        upper_date = 'raad_type_end_date')\n",
    "\n",
    "df1.head()"
   ]
  },
  {
   "cell_type": "markdown",
   "metadata": {},
   "source": [
    "#### 14.2 Create a dataframe for each level of the variable\n",
    "This needs to be done for all the levels of the variable that should be included in the final plot. In this example we are interested in plotting both according to origin_h1 and origin_h2. This is specified in the first line of code. Here we take the data where origin_h2 is empty and origin_h1 is 'gaul'."
   ]
  },
  {
   "cell_type": "code",
   "execution_count": 45,
   "metadata": {},
   "outputs": [],
   "source": [
    "Gaul_blank = year_freq_df(data = df1[(df1['origin_h2'] == '') & (df1['origin_h1']=='gaul')], \n",
    "                          lower_date = 'raad_type_start_date',\n",
    "                          upper_date = 'raad_type_end_date',\n",
    "                          sum_freq = 'Sum_freq_per_year')\n",
    "\n",
    "\n",
    "Adriatic = year_freq_df(data = df1[df1['origin_h2'] == 'adriatic'], \n",
    "                        lower_date = 'raad_type_start_date',\n",
    "                        upper_date = 'raad_type_end_date',\n",
    "                        sum_freq = 'Sum_freq_per_year')  "
   ]
  },
  {
   "cell_type": "code",
   "execution_count": 46,
   "metadata": {},
   "outputs": [],
   "source": [
    "df_dictionary = {'Southern Gaul': Gaul_blank, 'Adriatic': Adriatic}"
   ]
  },
  {
   "cell_type": "code",
   "execution_count": 48,
   "metadata": {},
   "outputs": [
    {
     "name": "stderr",
     "output_type": "stream",
     "text": [
      "/tmp/ipykernel_37811/584584527.py:38: UserWarning: FixedFormatter should only be used together with FixedLocator\n",
      "  ax.set_xticklabels([int(i) if i != 0 else 1 for i in ax.get_xticks()])\n"
     ]
    },
    {
     "data": {
      "image/png": "[encoded data removed]",
      "text/plain": [
       "<Figure size 1440x792 with 1 Axes>"
      ]
     },
     "metadata": {},
     "output_type": "display_data"
    }
   ],
   "source": [
    "sns.set(font_scale=1.7)\n",
    "\n",
    "#Remove squeres from background\n",
    "sns.set_style(style='white')  \n",
    "\n",
    "fig, ax = plt.subplots(figsize=(20, 11))\n",
    "\n",
    "#Calculate minimum and maximum Y values to define the cuff off further\n",
    "minimum, maximum = get_Y_range(df_dictionary)\n",
    "\n",
    "plot_graph(dicts_of_df = df_dictionary,\n",
    "           palette=['black', 'green'],  \n",
    "           ax = ax)\n",
    "           \n",
    "\n",
    "# Cut off the range of Y value shown \n",
    "ax.set_xlim(minimum, maximum)\n",
    "\n",
    "# Remove 0 from Y axis\n",
    "ax.set_ylim(0, None)\n",
    "\n",
    "#Change background colour\n",
    "ax.set_facecolor(\"white\")  \n",
    "\n",
    "#Change Y values format \n",
    "# integers = '%.0f'\n",
    "# decimals = '%.1f', the number before 'f' defines how many values to show after dot\n",
    "ax.yaxis.set_major_formatter(FormatStrFormatter('%.0f'))  \n",
    "\n",
    "ax.set_ylabel(\"Frequency\")\n",
    "ax.set_xlabel(\"Year\")\n",
    "\n",
    "#To hide values on axis\n",
    "#ax.axes.xaxis.set_ticks([])\n",
    "#ax.axes.yaxis.set_ticks([])\n",
    "\n",
    "# Make sure that if 0 is included on the x-axis it is turned into 1 instead\n",
    "ax.set_xticklabels([int(i) if i != 0 else 1 for i in ax.get_xticks()])\n",
    "\n",
    "ax.set_title(label = 'Sum Frequency per Origin per Year', size=25, y=1.04, fontweight='bold')\n",
    "plt.tight_layout()\n",
    "\n",
    "\n",
    "# Save the graph\n",
    "plt.savefig('./Frequency_per_year.pdf')\n"
   ]
  },
  {
   "cell_type": "markdown",
   "metadata": {},
   "source": [
    "### 15. Plot count of blank origin 2 variable"
   ]
  },
  {
   "cell_type": "markdown",
   "metadata": {},
   "source": [
    "#### 15.1 Creating dataframe\n",
    "To begin with the data is grouped according to the query. \n",
    "\n",
    "In the below code, the first line is what needs alteration to fit the query. The use is most easily described by an example. \n",
    "\n",
    "Notice that here we are grouping both by origin_h1 and origin_h2.\n"
   ]
  },
  {
   "cell_type": "code",
   "execution_count": 49,
   "metadata": {},
   "outputs": [
    {
     "data": {
      "text/html": [
       "<div>\n",
       "<style scoped>\n",
       "    .dataframe tbody tr th:only-of-type {\n",
       "        vertical-align: middle;\n",
       "    }\n",
       "\n",
       "    .dataframe tbody tr th {\n",
       "        vertical-align: top;\n",
       "    }\n",
       "\n",
       "    .dataframe thead th {\n",
       "        text-align: right;\n",
       "    }\n",
       "</style>\n",
       "<table border=\"1\" class=\"dataframe\">\n",
       "  <thead>\n",
       "    <tr style=\"text-align: right;\">\n",
       "      <th></th>\n",
       "      <th>RAAD_form</th>\n",
       "      <th>raad_type_start_date</th>\n",
       "      <th>raad_type_end_date</th>\n",
       "      <th>origin_h1</th>\n",
       "      <th>origin_h2</th>\n",
       "      <th>List_of_sites</th>\n",
       "    </tr>\n",
       "  </thead>\n",
       "  <tbody>\n",
       "    <tr>\n",
       "      <th>0</th>\n",
       "      <td>ac2</td>\n",
       "      <td>1.0</td>\n",
       "      <td>200.0</td>\n",
       "      <td>em</td>\n",
       "      <td>crete</td>\n",
       "      <td>[neuss book]</td>\n",
       "    </tr>\n",
       "    <tr>\n",
       "      <th>1</th>\n",
       "      <td>africana i</td>\n",
       "      <td>150.0</td>\n",
       "      <td>300.0</td>\n",
       "      <td>northafrica</td>\n",
       "      <td></td>\n",
       "      <td>[augst, dieburg, groﬂgerau, mainz, strasbourg ...</td>\n",
       "    </tr>\n",
       "    <tr>\n",
       "      <th>2</th>\n",
       "      <td>africana ii</td>\n",
       "      <td>150.0</td>\n",
       "      <td>300.0</td>\n",
       "      <td>northafrica</td>\n",
       "      <td></td>\n",
       "      <td>[augst, bad kreuznach, mainz, bavay]</td>\n",
       "    </tr>\n",
       "    <tr>\n",
       "      <th>3</th>\n",
       "      <td>africana iia grande keay 24</td>\n",
       "      <td>150.0</td>\n",
       "      <td>300.0</td>\n",
       "      <td>northafrica</td>\n",
       "      <td></td>\n",
       "      <td>[mainz, strasbourg lhomme de fer, trier kaiser...</td>\n",
       "    </tr>\n",
       "    <tr>\n",
       "      <th>4</th>\n",
       "      <td>africana iic</td>\n",
       "      <td>250.0</td>\n",
       "      <td>300.0</td>\n",
       "      <td>northafrica</td>\n",
       "      <td></td>\n",
       "      <td>[strasbourg lhomme de fer]</td>\n",
       "    </tr>\n",
       "  </tbody>\n",
       "</table>\n",
       "</div>"
      ],
      "text/plain": [
       "                     RAAD_form  raad_type_start_date  raad_type_end_date  \\\n",
       "0                          ac2                   1.0               200.0   \n",
       "1                   africana i                 150.0               300.0   \n",
       "2                  africana ii                 150.0               300.0   \n",
       "3  africana iia grande keay 24                 150.0               300.0   \n",
       "4                 africana iic                 250.0               300.0   \n",
       "\n",
       "     origin_h1 origin_h2                                      List_of_sites  \n",
       "0           em     crete                                       [neuss book]  \n",
       "1  northafrica            [augst, dieburg, groﬂgerau, mainz, strasbourg ...  \n",
       "2  northafrica                         [augst, bad kreuznach, mainz, bavay]  \n",
       "3  northafrica            [mainz, strasbourg lhomme de fer, trier kaiser...  \n",
       "4  northafrica                                   [strasbourg lhomme de fer]  "
      ]
     },
     "execution_count": 49,
     "metadata": {},
     "output_type": "execute_result"
    }
   ],
   "source": [
    "df = data.groupby(['RAAD_form', 'raad_type_start_date', 'raad_type_end_date', 'origin_h1', 'origin_h2'])['site_name_modern'].apply(lambda x: ','.join(x))\n",
    "df = df.apply(lambda x: x.split(','))\n",
    "df = df.reset_index()\n",
    "df = df.rename(columns = {'site_name_modern':'List_of_sites'})\n",
    "df.head()"
   ]
  },
  {
   "cell_type": "markdown",
   "metadata": {},
   "source": [
    "#### 15.2 Create a dataframe for each level of the variable\n",
    "This needs to be done for all the levels of the variable that should be included in the final plot. In this example we are interested in plotting both according to origin_h1 and origin_h2. This is specified in the first line of code. Here we take the data where origin_h2 is empty and origin_h1 is 'gaul'."
   ]
  },
  {
   "cell_type": "code",
   "execution_count": 50,
   "metadata": {},
   "outputs": [],
   "source": [
    "count_gaul= year_object_count_df(data = df[(df['origin_h2'] == '') & (df['origin_h1']=='gaul')], \n",
    "                                 lower_date = 'raad_type_start_date',  \n",
    "                                 upper_date = 'raad_type_end_date',\n",
    "                                 object_list = 'List_of_sites')  "
   ]
  },
  {
   "cell_type": "code",
   "execution_count": 51,
   "metadata": {},
   "outputs": [],
   "source": [
    "count_adriatic= year_object_count_df(data = df[df['origin_h2'] == 'adriatic'], \n",
    "                                     lower_date = 'raad_type_start_date',  \n",
    "                                     upper_date = 'raad_type_end_date',\n",
    "                                     object_list = 'List_of_sites')  "
   ]
  },
  {
   "cell_type": "markdown",
   "metadata": {},
   "source": [
    "#### 15.3 Plot the graphs\n",
    "To begin with we create a dictionary for plotting which contains the above dataframes is made. The keys (what is incapsulated in '') are going to be the labels for the plot. The variables refered to, are the dataframes created just above. "
   ]
  },
  {
   "cell_type": "code",
   "execution_count": 52,
   "metadata": {},
   "outputs": [],
   "source": [
    "df_dictionary = {'Southern Gaul': count_gaul, 'Adriatic': count_adriatic}"
   ]
  },
  {
   "cell_type": "markdown",
   "metadata": {},
   "source": [
    "Here the data from the previously created count data frames are plotted. \n",
    "\n",
    "This is done using the function `plotgraph()`. It needs you to specify the dictionary with the dataframes, xlabel, ylabel, title and optionally a path to where you want to save your plot. \n",
    "\n",
    "There are the following options for saving a plot:\n",
    "1. One can specify where to save the plot. The path should be provided in `save_path`. F.ex., to save the resulting plot in the current directory use `save_path = './'`. \n",
    "2. One can omit the path specification. In this case, the function automatically creates a folder called `'fig'` in the current directory and saves the file into it.\n",
    "\n",
    "**Note:** Don't forget to change the label."
   ]
  },
  {
   "cell_type": "code",
   "execution_count": 53,
   "metadata": {},
   "outputs": [
    {
     "name": "stderr",
     "output_type": "stream",
     "text": [
      "/tmp/ipykernel_37811/966161447.py:38: UserWarning: FixedFormatter should only be used together with FixedLocator\n",
      "  ax.set_xticklabels([int(i) if i != 0 else 1 for i in ax.get_xticks()])\n"
     ]
    },
    {
     "data": {
      "image/png": "[encoded data removed]",
      "text/plain": [
       "<Figure size 1440x792 with 1 Axes>"
      ]
     },
     "metadata": {},
     "output_type": "display_data"
    }
   ],
   "source": [
    "sns.set(font_scale=1.7)\n",
    "\n",
    "#Remove squeres from background\n",
    "sns.set_style(style='white')  \n",
    "\n",
    "fig, ax = plt.subplots(figsize=(20, 11))\n",
    "\n",
    "#Calculate minimum and maximum Y values to define the cuff off further\n",
    "minimum, maximum = get_Y_range(df_dictionary)\n",
    "\n",
    "plot_graph(dicts_of_df = df_dictionary,\n",
    "           palette=['black', 'green'],  \n",
    "           ax = ax)\n",
    "           \n",
    "\n",
    "# Cut off the range of Y value shown \n",
    "ax.set_xlim(minimum, maximum)\n",
    "\n",
    "# Remove 0 from Y axis\n",
    "ax.set_ylim(0, None)\n",
    "\n",
    "#Change background colour\n",
    "ax.set_facecolor(\"white\")  \n",
    "\n",
    "#Change Y values format \n",
    "# integers = '%.0f'\n",
    "# decimals = '%.1f', the number before 'f' defines how many values to show after dot\n",
    "ax.yaxis.set_major_formatter(FormatStrFormatter('%.0f'))  \n",
    "\n",
    "ax.set_ylabel(\"Site Count\")\n",
    "ax.set_xlabel(\"Year\")\n",
    "\n",
    "#To hide values on axis\n",
    "#ax.axes.xaxis.set_ticks([])\n",
    "#ax.axes.yaxis.set_ticks([])\n",
    "\n",
    "# Make sure that if 0 is included on the x-axis it is turned into 1 instead\n",
    "ax.set_xticklabels([int(i) if i != 0 else 1 for i in ax.get_xticks()])\n",
    "\n",
    "ax.set_title(label = 'Count of Sites per Origin per Year', size=25, y=1.04, fontweight='bold')\n",
    "plt.tight_layout()\n",
    "\n",
    "\n",
    "# Save the graph\n",
    "plt.savefig('./site_count.pdf')\n"
   ]
  }
 ],
 "metadata": {
  "interpreter": {
   "hash": "bbfd61b9771b25adb48756b02878e03699aa9c48f369525daaaa61fe69c4b1b3"
  },
  "kernelspec": {
   "display_name": "Python 3.9.7 64-bit ('methods3': conda)",
   "language": "python",
   "name": "python3"
  },
  "language_info": {
   "codemirror_mode": {
    "name": "ipython",
    "version": 3
   },
   "file_extension": ".py",
   "mimetype": "text/x-python",
   "name": "python",
   "nbconvert_exporter": "python",
   "pygments_lexer": "ipython3",
   "version": "3.8.10"
  },
  "orig_nbformat": 4
 },
 "nbformat": 4,
 "nbformat_minor": 2
}
